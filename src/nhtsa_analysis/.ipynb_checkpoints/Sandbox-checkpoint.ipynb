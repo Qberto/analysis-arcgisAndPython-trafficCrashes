{
 "cells": [
  {
   "cell_type": "markdown",
   "metadata": {},
   "source": [
    "FARS Documentation: https://crashstats.nhtsa.dot.gov/Api/Public/ViewPublication/812602"
   ]
  },
  {
   "cell_type": "code",
   "execution_count": 5,
   "metadata": {},
   "outputs": [],
   "source": [
    "fars_harm_ev_dict = {\n",
    "    \"1\": \"Rollover/Overturn\",\n",
    "    \"2\": \"Fire/Explosion\",\n",
    "    \"3\": \"Immersion\",\n",
    "    \"4\": \"Gas Inhalation\",\n",
    "    \"5\": \"Fell/Jumped from Vehicle\",\n",
    "    \"6\": \"Injured in Vehicle\",\n",
    "    \"7\": \"Other Non-Collision\",\n",
    "    \"8\": \"Pedestrian\",\n",
    "    \"9\": \"Pedalcyclist\",\n",
    "    \"10\": \"Railway Vehicle\",\n",
    "    \"11\": \"Live Animal\",\n",
    "    \"12\": \"Motor Vehicle in Transport\",\n",
    "    \"13\": \"Motor Vehicle in Transport on Other Roadway\",\n",
    "    \"14\": \"Parked Motor Vehicle (Not in Transport)\",\n",
    "    \"15\": \"Non-Motorist on Personal Conveyance\",\n",
    "    \"16\": \"Thrown or Falling Object\",\n",
    "    \"17\": \"Boulder\",\n",
    "    \"18\": \"Other Object (Not Fixed)\",\n",
    "    \"19\": \"Building\",\n",
    "    \"20\": \"Impact Attenuator/Crash Cushion\",\n",
    "    \"21\": \"Bridge Pier or Support\",\n",
    "    \"22\": \"Bridge Parapet End\",\n",
    "    \"23\": \"Bridge Rail\",\n",
    "    \"24\": \"Guardrail Face\",\n",
    "    \"25\": \"Concrete Traffic Barrier\",\n",
    "    \"26\": \"Other Traffic Barrier\",\n",
    "    \"27\": \"Highway/Traffic Sign Post\",\n",
    "    \"28\": \"Overhead Sign Support/Sign\",\n",
    "    \"29\": \"Luminary/Light Support\",\n",
    "    \"30\": \"Utility Pole/Light Support\",\n",
    "    \"31\": \"Post, Pole, or Other Supports\",\n",
    "    \"32\": \"Culvert\",\n",
    "    \"33\": \"Curb\",\n",
    "    \"34\": \"Ditch\",\n",
    "    \"35\": \"Embankment\",\n",
    "    \"36\": \"Embankment - Rock, Stone, or Concrete\",\n",
    "    \"37\": \"Embankment - Material Type Unknown\",\n",
    "    \"38\": \"Fence\",\n",
    "    \"39\": \"Wall\",\n",
    "    \"40\": \"Fire Hydrant\",\n",
    "    \"41\": \"Shrubbery\",\n",
    "    \"42\": \"Tree (Standing Only)\",\n",
    "    \"43\": \"Other Fixed Object\",\n",
    "    \"44\": \"Pavement Surface Irregularity (Ruts, Potholes, Grates, etc.)\",\n",
    "    \"45\": \"Working Motor Vehicle\",\n",
    "    \"46\": \"Traffic Signal Support\",\n",
    "    \"47\": \"Vehicle Occupant Struck or Run Over by Own Vehicle\",\n",
    "    \"48\": \"Snow Bank\",\n",
    "    \"49\": \"Ridden Animal or Animal-Drawn Conveyance\",\n",
    "    \"50\": \"Bridge Overhead Structure\",\n",
    "    \"51\": \"Jackknife\",\n",
    "    \"52\": \"Guardrail End\",\n",
    "    \"53\": \"Mail Box\",\n",
    "    \"54\": \"Motor Vehicle In-Transport Strikes or is Struck by Cargo, Persons or Objects Set-in-Motion from/by Another Motor Vehicle In-Transport\",\n",
    "    \"55\": \"Motor Vehicle in Motion Outside the Trafficway\",\n",
    "    \"57\": \"Cable Barrier\",\n",
    "    \"58\": \"Ground\",\n",
    "    \"59\": \"Traffic Sign Support\",\n",
    "    \"72\": \"Cargo/Equipment Loss or Shift (Harmful to This Vehicle)\",\n",
    "    \"73\": \"Object Had Fallen From Motor Vehicle In-Transport\",\n",
    "    \"74\": \"Road Vehicle on Rails\",\n",
    "    \"91\": \"Unknown Object Not Fixed\",\n",
    "    \"93\": \"Unknown Fixed Object\",\n",
    "    \"98\": \"Not Reported (2010 Only)\",\n",
    "    \"99\": \"Unknown\"\n",
    "}"
   ]
  },
  {
   "cell_type": "code",
   "execution_count": 1,
   "metadata": {},
   "outputs": [],
   "source": [
    "fars_allyears_fc = r\"D:\\\\5_Data\\\\Transportation\\\\Crashes\\\\FARS\\\\1_MultipleYears_FARS.gdb\\\\FARSaux_Accidents_Project\""
   ]
  },
  {
   "cell_type": "code",
   "execution_count": null,
   "metadata": {},
   "outputs": [],
   "source": []
  }
 ],
 "metadata": {
  "kernelspec": {
   "display_name": "Python 3",
   "language": "python",
   "name": "python3"
  },
  "language_info": {
   "codemirror_mode": {
    "name": "ipython",
    "version": 3
   },
   "file_extension": ".py",
   "mimetype": "text/x-python",
   "name": "python",
   "nbconvert_exporter": "python",
   "pygments_lexer": "ipython3",
   "version": "3.6.6"
  }
 },
 "nbformat": 4,
 "nbformat_minor": 2
}
