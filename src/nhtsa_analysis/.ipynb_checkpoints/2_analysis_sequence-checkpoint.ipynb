{
 "cells": [
  {
   "cell_type": "markdown",
   "metadata": {},
   "source": [
    "# <span style=\"color:Purple\">Spatial Analysis: </span>\n",
    "# <span>Using Fatal Accidents Data to Find Systemic Problems in US Interstates</span>"
   ]
  },
  {
   "cell_type": "markdown",
   "metadata": {},
   "source": [
    "This notebook is part of a series on performing spatial analysis in the domain of transportation safety. "
   ]
  },
  {
   "cell_type": "markdown",
   "metadata": {},
   "source": [
    "# <span style=\"color:Navy\">Notebook 2: </span><span> Analysis Workflow</span>"
   ]
  },
  {
   "cell_type": "markdown",
   "metadata": {},
   "source": [
    "Our analysis is in service of answering the question: \n",
    "##### <span style=\"color:Navy\">\"Where does the US interstate network exhibit the most significant patterns of systemic problems leading to fatal traffic accidents?\"</span>\n",
    "\n",
    "To this end, two datasets have been made available: A feature class of fatal traffic accidents on interstates in 2016, and a feature class of evenly segmented highway points with calculated crash rates. These two data sources form the basis for two types of analyses that will be executed, compared, evaluated, and refined. "
   ]
  },
  {
   "cell_type": "markdown",
   "metadata": {},
   "source": [
    "## Setup"
   ]
  },
  {
   "cell_type": "code",
   "execution_count": 1,
   "metadata": {},
   "outputs": [],
   "source": [
    "# importing required modules \n",
    "import os\n",
    "import arcgis\n",
    "from arcgis.features import GeoAccessor, GeoSeriesAccessor\n",
    "import arcpy\n",
    "import pandas as pd\n",
    "import zipfile"
   ]
  },
  {
   "cell_type": "code",
   "execution_count": 2,
   "metadata": {},
   "outputs": [],
   "source": [
    "# Set and Change directory to workspace\n",
    "root_dir = os.path.join(os.getcwd(), r\"../..\")\n",
    "workspace_dir = os.path.join(root_dir, \"workspace\")\n",
    "data_dir = os.path.join(root_dir, \"data\")"
   ]
  },
  {
   "cell_type": "code",
   "execution_count": 3,
   "metadata": {},
   "outputs": [
    {
     "name": "stdout",
     "output_type": "stream",
     "text": [
      "Enter password: ········\n"
     ]
    }
   ],
   "source": [
    "# Set output variables\n",
    "output_proj_path = r\"C:\\Users\\albe9057\\Desktop\\NHTSA_Pro_Project\"\n",
    "gis = arcgis.gis.GIS(\"https://esrifederal.maps.arcgis.com\", \"Anieto_esrifederal\")"
   ]
  },
  {
   "cell_type": "code",
   "execution_count": 4,
   "metadata": {},
   "outputs": [],
   "source": [
    "arcpy.env.overwriteOutput = True\n",
    "workspace_fgdb = arcpy.CreateFileGDB_management(workspace_dir, \"FARS_Workspace\").getOutput(0)\n",
    "arcpy.env.workspace = workspace_fgdb"
   ]
  },
  {
   "cell_type": "code",
   "execution_count": 5,
   "metadata": {},
   "outputs": [],
   "source": [
    "ohs_symb_lyr_path = os.path.join(workspace_dir, \"symbology_lyrs\\\\hpms_optimizedhotspots_symb_default.lyrx\")\n",
    "ohs_symb_lyrfile = arcpy.mp.LayerFile(ohs_symb_lyr_path)\n",
    "arcgispro_project_path = os.path.join(workspace_dir, \"fatal_accidents_spatial_analysis\\\\fatal_accidents_spatial_analysis.aprx\")"
   ]
  },
  {
   "cell_type": "code",
   "execution_count": 6,
   "metadata": {},
   "outputs": [],
   "source": [
    "# Unzip the template ArcGIS Pro Project to a specified file system location outside of the GitHub Repo\n",
    "zip_file = os.path.join(workspace_dir, \"fatal_accidents_spatial_analysis.zip\")\n",
    "unzipped_target_name = output_proj_path + \"\\\\fars_accidents_pro_proj\"\n",
    "\n",
    "zip_ref = zipfile.ZipFile(zip_file, 'r')\n",
    "zip_ref.extractall(unzipped_target_name)\n",
    "zip_ref.close()"
   ]
  },
  {
   "cell_type": "code",
   "execution_count": 7,
   "metadata": {},
   "outputs": [],
   "source": [
    "# Use a template Pro Project\n",
    "proj = arcpy.mp.ArcGISProject(unzipped_target_name + \"\\\\fatal_accidents_spatial_analysis\\\\fatal_accidents_spatial_analysis.aprx\")\n",
    "map_obj = proj.listMaps()[0]"
   ]
  },
  {
   "cell_type": "markdown",
   "metadata": {},
   "source": [
    "# 1. Gather Component Data"
   ]
  },
  {
   "cell_type": "markdown",
   "metadata": {},
   "source": [
    "Need two types of data: \n",
    "\n",
    "- A. Fatal accident location data \n",
    "- B. US Interstate with traffic volumes. "
   ]
  },
  {
   "cell_type": "markdown",
   "metadata": {},
   "source": [
    "## Unzip data container"
   ]
  },
  {
   "cell_type": "code",
   "execution_count": 8,
   "metadata": {},
   "outputs": [],
   "source": [
    "zip_file = os.path.join(data_dir, \"FARS2016_qced.zip\")\n",
    "unzipped_target_name = data_dir\n",
    "\n",
    "zip_ref = zipfile.ZipFile(os.path.join(data_dir, zip_file), 'r')\n",
    "zip_ref.extractall(unzipped_target_name)\n",
    "zip_ref.close()"
   ]
  },
  {
   "cell_type": "markdown",
   "metadata": {},
   "source": [
    "## Fatal accident location data"
   ]
  },
  {
   "cell_type": "code",
   "execution_count": 9,
   "metadata": {},
   "outputs": [],
   "source": [
    "fars_fc = r\"{0}/FARS2016_qced/Analysis_Inputs_2016.gdb/FARS_Interstates_2016\".format(data_dir)"
   ]
  },
  {
   "cell_type": "markdown",
   "metadata": {},
   "source": [
    "## US Interstate with traffic volumes (HPMS polylines and converted segments)"
   ]
  },
  {
   "cell_type": "code",
   "execution_count": 10,
   "metadata": {},
   "outputs": [],
   "source": [
    "hpms_lines_fc = r\"{0}/FARS2016_qced/Analysis_Inputs_2016.gdb/HPMS_InterstatePolylines_2016\".format(data_dir)\n",
    "hpms_points_fc = r\"{0}/FARS2016_qced/Analysis_Inputs_2016.gdb/HPMS_InterstatePoints_2016\".format(data_dir)"
   ]
  },
  {
   "cell_type": "markdown",
   "metadata": {},
   "source": [
    "## Verification of input paths"
   ]
  },
  {
   "cell_type": "code",
   "execution_count": 11,
   "metadata": {},
   "outputs": [],
   "source": [
    "datasets_to_verify = [fars_fc, hpms_lines_fc, hpms_points_fc]\n",
    "\n",
    "for dataset in datasets_to_verify:\n",
    "    if not arcpy.Exists(dataset):\n",
    "        raise Exception('Specified input could not be found! Input: {0}'.format(dataset))"
   ]
  },
  {
   "cell_type": "markdown",
   "metadata": {},
   "source": [
    "# 2. Analytic Workflows: "
   ]
  },
  {
   "cell_type": "markdown",
   "metadata": {},
   "source": [
    "## 2A. Crash Rate Workflow"
   ]
  },
  {
   "cell_type": "markdown",
   "metadata": {},
   "source": [
    "Baseline Analysis:\n",
    "\n",
    "\t1. Crash Rate data management (Taylor script)\n",
    "\t2. Incremental Spatial Autocorrelation\n",
    "\t3. Hot Spots\n",
    "    4. Density-based Clustering, to filter out low denominator issues"
   ]
  },
  {
   "cell_type": "markdown",
   "metadata": {},
   "source": [
    "### 1. Prepare state iteration"
   ]
  },
  {
   "cell_type": "code",
   "execution_count": 12,
   "metadata": {},
   "outputs": [],
   "source": [
    "# Convert feature classes to SEDFs\n",
    "hpms_sedf = pd.DataFrame.spatial.from_featureclass(hpms_points_fc)\n",
    "fars_sedf = pd.DataFrame.spatial.from_featureclass(fars_fc)"
   ]
  },
  {
   "cell_type": "code",
   "execution_count": 13,
   "metadata": {},
   "outputs": [],
   "source": [
    "hpms_state_field = 'State_Code'\n",
    "fars_state_field = 'STATE'\n",
    "hpms_analysis_field = \"Crash_Rate_FHWA\""
   ]
  },
  {
   "cell_type": "code",
   "execution_count": 14,
   "metadata": {},
   "outputs": [
    {
     "data": {
      "text/plain": [
       "51"
      ]
     },
     "execution_count": 14,
     "metadata": {},
     "output_type": "execute_result"
    }
   ],
   "source": [
    "# Create list of FARS states for iteration\n",
    "fars_states = fars_sedf[fars_state_field].unique().tolist()\n",
    "len(fars_states)"
   ]
  },
  {
   "cell_type": "code",
   "execution_count": 15,
   "metadata": {
    "scrolled": true
   },
   "outputs": [
    {
     "data": {
      "text/plain": [
       "52"
      ]
     },
     "execution_count": 15,
     "metadata": {},
     "output_type": "execute_result"
    }
   ],
   "source": [
    "# Create list of HPMS states for iteration\n",
    "hpms_states = hpms_sedf[hpms_state_field].unique().tolist()\n",
    "len(hpms_states)"
   ]
  },
  {
   "cell_type": "markdown",
   "metadata": {
    "heading_collapsed": true
   },
   "source": [
    "### 2a. Test Iteration"
   ]
  },
  {
   "cell_type": "code",
   "execution_count": null,
   "metadata": {
    "hidden": true
   },
   "outputs": [],
   "source": [
    "state_code = \"1\"\n",
    "fars_state_code = 5\n",
    "hpms_state_code = 5.0"
   ]
  },
  {
   "cell_type": "markdown",
   "metadata": {
    "heading_collapsed": true,
    "hidden": true
   },
   "source": [
    "#### Test Approach 1 - Using subset SEDFs -> Resulted in error from conversion of state SEDFs to FCs"
   ]
  },
  {
   "cell_type": "code",
   "execution_count": null,
   "metadata": {
    "hidden": true,
    "scrolled": true
   },
   "outputs": [],
   "source": [
    "# create subset dataframes\n",
    "test_hpms_sedf = hpms_sedf.loc[hpms_sedf[hpms_state_field] == hpms_state_code]\n",
    "test_hpms_sedf.head()"
   ]
  },
  {
   "cell_type": "code",
   "execution_count": null,
   "metadata": {
    "hidden": true,
    "scrolled": true
   },
   "outputs": [],
   "source": [
    "# create subset dataframes\n",
    "test_fars_sedf = fars_sedf.loc[fars_sedf[fars_state_field] == fars_state_code]\n",
    "test_fars_sedf.head()"
   ]
  },
  {
   "cell_type": "code",
   "execution_count": null,
   "metadata": {
    "hidden": true
   },
   "outputs": [],
   "source": [
    "# Convert subset dataframes to feature classes for arcpy functions\n",
    "fc_name = \"test_state_hpms\"\n",
    "test_hpms_sedf.spatial.to_featureclass(location=os.path.join(workspace_fgdb, fc_name))\n",
    "if arcpy.Exists(os.path.join(workspace_fgdb, fc_name)):\n",
    "    hpms_fc = os.path.join(workspace_fgdb, fc_name)\n",
    "else:\n",
    "    raise Exception(\"HPMS state subset could not be created! (State code: {0})\".format(hpms_state_code))"
   ]
  },
  {
   "cell_type": "markdown",
   "metadata": {
    "hidden": true
   },
   "source": [
    "#### Test Approach 2 - Using subset FCs and arcpy selections -> Result: Pending"
   ]
  },
  {
   "cell_type": "code",
   "execution_count": null,
   "metadata": {
    "hidden": true
   },
   "outputs": [],
   "source": [
    "# Create subset state feature class from original HPMS feature class\n",
    "out_name = \"test_state_hpms\"\n",
    "where_clause = \"{0} = {1}\".format(arcpy.AddFieldDelimiters(hpms_points_fc, hpms_state_field), state_code)\n",
    "hpms_state_fc = arcpy.Select_analysis(hpms_points_fc, out_name, where_clause).getOutput(0)\n",
    "if not arcpy.Exists(hpms_state_fc):\n",
    "    raise Exception(\"HPMS state subset could not be created! (State code: {0})\".format(hpms_state_code))\n",
    "else:\n",
    "    print(\"HPMS State FC created.\")"
   ]
  },
  {
   "cell_type": "code",
   "execution_count": null,
   "metadata": {
    "hidden": true
   },
   "outputs": [],
   "source": [
    "# Create subset state feature class from original FARS feature class\n",
    "out_name = \"test_state_fars\"\n",
    "where_clause = \"{0} = {1}\".format(arcpy.AddFieldDelimiters(fars_fc, fars_state_field), state_code)\n",
    "fars_state_fc = arcpy.Select_analysis(fars_fc, out_name, where_clause).getOutput(0)\n",
    "if not arcpy.Exists(fars_state_fc):\n",
    "    raise Exception(\"FARS state subset could not be created! (State code: {0})\".format(fars_state_code))\n",
    "else:\n",
    "    print(\"FARS State FC created.\")"
   ]
  },
  {
   "cell_type": "code",
   "execution_count": null,
   "metadata": {
    "hidden": true
   },
   "outputs": [],
   "source": [
    "# Run incremental spatial auto-correlation\n",
    "isa = arcpy.IncrementalSpatialAutocorrelation_stats(hpms_state_fc, hpms_analysis_field, 30, 750, None, Output_Table=os.path.join(workspace_fgdb, \"ISA_{0}\".format(state_code)), Output_Report_File=os.path.join(workspace_dir, \"ISA_{0}.pdf\".format(state_code)))\n",
    "isa_distance = isa.getOutput(2)\n",
    "print(\"ISA Distance: {0}\".format(isa_distance.split(\".\")[0]))"
   ]
  },
  {
   "cell_type": "code",
   "execution_count": null,
   "metadata": {
    "hidden": true
   },
   "outputs": [],
   "source": [
    "ohs = arcpy.OptimizedHotSpotAnalysis_stats(hpms_state_fc, \"OHS_{0}_DB{1}m\".format(state_code, str(isa_distance.split(\".\")[0])), hpms_analysis_field, Distance_Band=\"{0} Meters\".format(str(isa_distance)))"
   ]
  },
  {
   "cell_type": "code",
   "execution_count": null,
   "metadata": {
    "hidden": true
   },
   "outputs": [],
   "source": [
    "ohs.getOutput(0)"
   ]
  },
  {
   "cell_type": "code",
   "execution_count": null,
   "metadata": {
    "hidden": true
   },
   "outputs": [],
   "source": [
    "ohs.getOutput(0).split(\"\\\\\")[-1]"
   ]
  },
  {
   "cell_type": "markdown",
   "metadata": {
    "hidden": true
   },
   "source": [
    "##### Output 1: Published Feature Service"
   ]
  },
  {
   "cell_type": "code",
   "execution_count": null,
   "metadata": {
    "hidden": true
   },
   "outputs": [],
   "source": [
    "ohs_sedf = pd.DataFrame.spatial.from_featureclass(ohs.getOutput(0))\n",
    "ohs_sedf.head()"
   ]
  },
  {
   "cell_type": "code",
   "execution_count": null,
   "metadata": {
    "hidden": true
   },
   "outputs": [],
   "source": [
    "ohs_map = gis.map()\n",
    "ohs_map"
   ]
  },
  {
   "cell_type": "code",
   "execution_count": null,
   "metadata": {
    "hidden": true
   },
   "outputs": [],
   "source": [
    "ohs_sedf.spatial.plot(ohs_map, field='Gi_Bin', col='Gi_Bin', renderer_type='u', method='esriClassifyManual',\n",
    "                      cmap='Reds_r', \n",
    "                      alpha=0.75, line_width=0.5)"
   ]
  },
  {
   "cell_type": "markdown",
   "metadata": {
    "hidden": true
   },
   "source": [
    "##### Output 2: ArcGIS Pro Project with prepared layers"
   ]
  },
  {
   "attachments": {
    "image.png": {
     "image/png": "[encoded data removed]"
    }
   },
   "cell_type": "markdown",
   "metadata": {
    "hidden": true
   },
   "source": [
    "![image.png](attachment:image.png)"
   ]
  },
  {
   "cell_type": "code",
   "execution_count": null,
   "metadata": {
    "hidden": true
   },
   "outputs": [],
   "source": [
    "zip_file = os.path.join(workspace_dir, \"fatal_accidents_spatial_analysis.zip\")\n",
    "unzipped_target_name = output_proj_path + \"\\\\fars_accidents_pro_proj\"\n",
    "\n",
    "zip_ref = zipfile.ZipFile(zip_file, 'r')\n",
    "zip_ref.extractall(unzipped_target_name)\n",
    "zip_ref.close()"
   ]
  },
  {
   "cell_type": "code",
   "execution_count": null,
   "metadata": {
    "hidden": true
   },
   "outputs": [],
   "source": [
    "# Use a template Pro Project\n",
    "proj = arcpy.mp.ArcGISProject(unzipped_target_name + \"\\\\fatal_accidents_spatial_analysis\\\\fatal_accidents_spatial_analysis.aprx\")"
   ]
  },
  {
   "cell_type": "code",
   "execution_count": null,
   "metadata": {
    "hidden": true
   },
   "outputs": [],
   "source": [
    "# Load the OHS fc into the active map as a layer\n",
    "map_obj = proj.listMaps()[0]"
   ]
  },
  {
   "cell_type": "code",
   "execution_count": null,
   "metadata": {
    "hidden": true
   },
   "outputs": [],
   "source": [
    "for layer in map_obj.listLayers():\n",
    "    print(layer.name)"
   ]
  },
  {
   "cell_type": "code",
   "execution_count": null,
   "metadata": {
    "hidden": true
   },
   "outputs": [],
   "source": [
    "map_obj.addLayer(ohs_symb_lyrfile)"
   ]
  },
  {
   "cell_type": "code",
   "execution_count": null,
   "metadata": {
    "hidden": true
   },
   "outputs": [],
   "source": [
    "hotspots_map_layer = map_obj.listLayers(\"OHS*\")[0]\n",
    "hotspots_map_layer"
   ]
  },
  {
   "cell_type": "code",
   "execution_count": null,
   "metadata": {
    "hidden": true
   },
   "outputs": [],
   "source": [
    "hotspots_map_layer.name = \"HotSpots_State_{0}_DB_{1}m\".format(state_code, isa_distance.split(\".\")[0])"
   ]
  },
  {
   "cell_type": "code",
   "execution_count": null,
   "metadata": {
    "hidden": true
   },
   "outputs": [],
   "source": [
    "for layer in map_obj.listLayers():\n",
    "    print(layer.name)"
   ]
  },
  {
   "cell_type": "code",
   "execution_count": null,
   "metadata": {
    "hidden": true
   },
   "outputs": [],
   "source": [
    "connprop = hotspots_map_layer.connectionProperties\n",
    "connprop"
   ]
  },
  {
   "cell_type": "code",
   "execution_count": null,
   "metadata": {
    "hidden": true
   },
   "outputs": [],
   "source": [
    "new_conn_properties = {'connection_info': {'database': workspace_fgdb},\n",
    "                       'dataset': ohs.getOutput(0).split(\"\\\\\")[-1],\n",
    "                       'workspace_factory': 'File Geodatabase'}"
   ]
  },
  {
   "cell_type": "code",
   "execution_count": null,
   "metadata": {
    "hidden": true
   },
   "outputs": [],
   "source": [
    "hotspots_map_layer.updateConnectionProperties(hotspots_map_layer.connectionProperties, new_conn_properties)"
   ]
  },
  {
   "cell_type": "code",
   "execution_count": null,
   "metadata": {
    "hidden": true
   },
   "outputs": [],
   "source": [
    "hotspots_map_layer.connectionProperties"
   ]
  },
  {
   "cell_type": "code",
   "execution_count": null,
   "metadata": {
    "hidden": true
   },
   "outputs": [],
   "source": [
    "proj.save()"
   ]
  },
  {
   "cell_type": "code",
   "execution_count": null,
   "metadata": {
    "hidden": true
   },
   "outputs": [],
   "source": [
    "# Use ApplySymbologyFromLayer_management to apply official OHS symbology to state layer"
   ]
  },
  {
   "cell_type": "markdown",
   "metadata": {},
   "source": [
    "### 2. Start iteration"
   ]
  },
  {
   "cell_type": "code",
   "execution_count": 16,
   "metadata": {},
   "outputs": [],
   "source": [
    "iteration_omissions = [\"2\", \"15\", \"nan\"]"
   ]
  },
  {
   "cell_type": "code",
   "execution_count": 17,
   "metadata": {},
   "outputs": [],
   "source": [
    "isa_dict = {\n",
    "    \"default\":750,\n",
    "    \"6\":1500,\n",
    "    \"30\":1500,\n",
    "    \"48\":1500\n",
    "}"
   ]
  },
  {
   "cell_type": "code",
   "execution_count": null,
   "metadata": {},
   "outputs": [
    {
     "name": "stdout",
     "output_type": "stream",
     "text": [
      "\n",
      "Bypassing state 2...\n",
      "\n",
      "Processing state 4...\n",
      "\tCreating state subset inputs...\n",
      "\t\tHPMS State FC created.\n",
      "\t\tFARS State FC created.\n",
      "\tRunning Incremental Spatial Autocorrelation...\n",
      "\t\tISA Distance: 1935\n",
      "\tRunning Optimized Hot Spots analysis...\n",
      "\t\tOptimized Hot Spots analysis completed.\n",
      "\tAdding output to ArcGIS Pro Project...\n",
      "\t\tArcGIS Pro Project updated.\n",
      "\n",
      "Processing state 5...\n",
      "\tCreating state subset inputs...\n",
      "\t\tHPMS State FC created.\n",
      "\t\tFARS State FC created.\n",
      "\tRunning Incremental Spatial Autocorrelation...\n",
      "\t\tISA Distance: 923\n",
      "\tRunning Optimized Hot Spots analysis...\n",
      "\t\tOptimized Hot Spots analysis completed.\n",
      "\tAdding output to ArcGIS Pro Project...\n",
      "\t\tArcGIS Pro Project updated.\n",
      "\n",
      "Processing state 6...\n",
      "\tCreating state subset inputs...\n",
      "\t\tHPMS State FC created.\n",
      "\t\tFARS State FC created.\n",
      "\tRunning Incremental Spatial Autocorrelation...\n",
      "\t\tISA Distance: 5548\n",
      "\tRunning Optimized Hot Spots analysis...\n"
     ]
    }
   ],
   "source": [
    "# Container for states that couldn't be processed\n",
    "error_states = []\n",
    "\n",
    "# For each state...\n",
    "for state in hpms_states:\n",
    "    try:\n",
    "        state_code = str(state).split(\".\")[0]\n",
    "        if state_code in iteration_omissions:\n",
    "            print(\"\\nBypassing state {0}...\".format(state_code))\n",
    "            continue\n",
    "\n",
    "        print(\"\\nProcessing state {0}...\".format(state_code))\n",
    "\n",
    "        # Create subset state feature class from original HPMS feature class\n",
    "        print(\"\\tCreating state subset inputs...\")\n",
    "\n",
    "        out_name = \"state_{0}_hpms\".format(state_code)\n",
    "        where_clause = \"{0} = {1}\".format(arcpy.AddFieldDelimiters(hpms_points_fc, hpms_state_field), state_code)\n",
    "        hpms_state_fc = arcpy.Select_analysis(hpms_points_fc, out_name, where_clause).getOutput(0)\n",
    "        if not arcpy.Exists(hpms_state_fc):\n",
    "            raise Exception(\"HPMS state subset could not be created! (State code: {0})\".format(state_code))\n",
    "        else:\n",
    "            print(\"\\t\\tHPMS State FC created.\")\n",
    "\n",
    "        # Create subset state feature class from original FARS feature class\n",
    "        out_name = \"state_{0}_fars\".format(state_code)\n",
    "        where_clause = \"{0} = {1}\".format(arcpy.AddFieldDelimiters(fars_fc, fars_state_field), state_code)\n",
    "        fars_state_fc = arcpy.Select_analysis(fars_fc, out_name, where_clause).getOutput(0)\n",
    "        if not arcpy.Exists(fars_state_fc):\n",
    "            raise Exception(\"FARS state subset could not be created! (State code: {0})\".format(fars_state_code))\n",
    "        else:\n",
    "            print(\"\\t\\tFARS State FC created.\")\n",
    "\n",
    "        # Run incremental spatial auto-correlation\n",
    "        print(\"\\tRunning Incremental Spatial Autocorrelation...\")\n",
    "        if state_code in isa_dict:\n",
    "            starting_distance_band = isa_dict[state_code]\n",
    "        else:\n",
    "            starting_distance_band = isa_dict[\"default\"]\n",
    "        isa = arcpy.IncrementalSpatialAutocorrelation_stats(hpms_state_fc, hpms_analysis_field, 30, starting_distance_band, None, Output_Table=os.path.join(workspace_fgdb, \"ISA_{0}\".format(state_code)), Output_Report_File=os.path.join(workspace_dir, \"ISA_{0}.pdf\".format(state_code)))\n",
    "        isa_distance = isa.getOutput(2)\n",
    "        if isa_distance == \"\":\n",
    "            print(\"\\t\\tISA distance could not be produced from ISA. Defaulting to 1500 meters.\")\n",
    "            isa_distance = \"1500\"\n",
    "        print(\"\\t\\tISA Distance: {0}\".format(isa_distance.split(\".\")[0]))\n",
    "\n",
    "        # Run Optimized Hot Spots for state-specific neighborhood distance\n",
    "        print(\"\\tRunning Optimized Hot Spots analysis...\")\n",
    "        ohs = arcpy.OptimizedHotSpotAnalysis_stats(hpms_state_fc, \"OHS_{0}_DB{1}m\".format(state_code, str(isa_distance.split(\".\")[0])), hpms_analysis_field, Distance_Band=\"{0} Meters\".format(str(isa_distance)))\n",
    "        print(\"\\t\\tOptimized Hot Spots analysis completed.\")\n",
    "\n",
    "        # Add symbology layer to Pro Project\n",
    "        print(\"\\tAdding output to ArcGIS Pro Project...\")\n",
    "        map_obj.addLayer(ohs_symb_lyrfile)\n",
    "        hotspots_map_layer = map_obj.listLayers(\"OHS*\")[0]\n",
    "        hotspots_map_layer.name = \"HotSpots_State_{0}_DB_{1}m\".format(state_code, isa_distance.split(\".\")[0])\n",
    "        connprop = hotspots_map_layer.connectionProperties\n",
    "        new_conn_properties = {'connection_info': {'database': workspace_fgdb},\n",
    "                               'dataset': ohs.getOutput(0).split(\"\\\\\")[-1],\n",
    "                               'workspace_factory': 'File Geodatabase'}\n",
    "        hotspots_map_layer.updateConnectionProperties(hotspots_map_layer.connectionProperties, new_conn_properties)\n",
    "        proj.save()\n",
    "        print(\"\\t\\tArcGIS Pro Project updated.\")\n",
    "\n",
    "        # Run Density-based Clustering for FARS points state subset\n",
    "    \n",
    "    except Exception as e:\n",
    "        print(e)\n",
    "        print(\">>>> Error processing state {0}.\".format(state_code))\n",
    "        error_states.append(state)"
   ]
  },
  {
   "cell_type": "code",
   "execution_count": null,
   "metadata": {},
   "outputs": [],
   "source": [
    "# For each OHS cluster...\n",
    "\n",
    "    # Compute score\n",
    "    \n",
    "    # Score Component 1: Gi-ZScore\n",
    "    \n",
    "    # Score Component 2: Amount of accidents in OHS Cluster\n",
    "    \n",
    "    # Score Component 3: Dispersion of accidents in OHS Cluster "
   ]
  },
  {
   "cell_type": "markdown",
   "metadata": {},
   "source": [
    "### 3. Visualize and Review Outputs"
   ]
  },
  {
   "cell_type": "code",
   "execution_count": null,
   "metadata": {},
   "outputs": [],
   "source": [
    "# Convert sample state to spatially-enabled dataframe"
   ]
  },
  {
   "cell_type": "code",
   "execution_count": null,
   "metadata": {},
   "outputs": [],
   "source": [
    "# Plot the outputs "
   ]
  },
  {
   "cell_type": "markdown",
   "metadata": {},
   "source": [
    "## 2B. Highway Event Workflow"
   ]
  },
  {
   "cell_type": "markdown",
   "metadata": {},
   "source": [
    "Density-based Clustering First Approach:\n",
    "\n",
    "\t1. Start with spatial clusters from FARS\n",
    "    2. For each highway, identify problematic areas through spatial clustering of FARS events\n",
    "\t3. For each cluster, try to compare the factors:\n",
    "\t\ta. Traffic Flow (i.e. AADT)\n",
    "\t\tb. Sinuosity \n",
    "\t\tc. Speed Limits\n",
    "        d. Asphalt Type\n",
    "        e. Time\n",
    "        f. Visibility\n",
    "        g. Proximity of bars(?)\n",
    "        h. Weather"
   ]
  },
  {
   "cell_type": "code",
   "execution_count": null,
   "metadata": {},
   "outputs": [],
   "source": []
  },
  {
   "cell_type": "markdown",
   "metadata": {
    "heading_collapsed": true
   },
   "source": [
    "# >>>>> Construction Zone <<<<<"
   ]
  },
  {
   "cell_type": "code",
   "execution_count": null,
   "metadata": {
    "hidden": true
   },
   "outputs": [],
   "source": [
    "folder = os.listdir(data_dir)[1]\n",
    "folder"
   ]
  },
  {
   "cell_type": "code",
   "execution_count": null,
   "metadata": {
    "hidden": true
   },
   "outputs": [],
   "source": [
    "os.chdir(unzipped_files_list[1])\n",
    "glob.glob(\"accident*\")"
   ]
  },
  {
   "cell_type": "code",
   "execution_count": null,
   "metadata": {
    "hidden": true
   },
   "outputs": [],
   "source": [
    "os.getcwd()"
   ]
  },
  {
   "cell_type": "code",
   "execution_count": null,
   "metadata": {
    "hidden": true
   },
   "outputs": [],
   "source": [
    "os.path.join(os.getcwd(), glob.glob(\"accident*\")[0])"
   ]
  },
  {
   "cell_type": "code",
   "execution_count": null,
   "metadata": {
    "hidden": true
   },
   "outputs": [],
   "source": [
    "accident_table = os.path.join(os.getcwd(), glob.glob(\"accident*\")[0])\n",
    "\n",
    "file_extension = accident_table.split(\".\")[-1]"
   ]
  },
  {
   "cell_type": "code",
   "execution_count": null,
   "metadata": {
    "hidden": true
   },
   "outputs": [],
   "source": [
    "file_extension"
   ]
  },
  {
   "cell_type": "code",
   "execution_count": null,
   "metadata": {
    "hidden": true,
    "scrolled": true
   },
   "outputs": [],
   "source": [
    "accident_df = pd.DataFrame.from_csv(accident_table)\n",
    "accident_df"
   ]
  },
  {
   "cell_type": "code",
   "execution_count": null,
   "metadata": {
    "hidden": true,
    "scrolled": true
   },
   "outputs": [],
   "source": [
    "accident_df = Dbf5(accident_table).to_dataframe()\n",
    "accident_df"
   ]
  },
  {
   "cell_type": "code",
   "execution_count": null,
   "metadata": {
    "hidden": true,
    "scrolled": true
   },
   "outputs": [],
   "source": [
    "columns = accident_df.columns.tolist()\n",
    "columns"
   ]
  },
  {
   "cell_type": "code",
   "execution_count": null,
   "metadata": {
    "hidden": true
   },
   "outputs": [],
   "source": [
    "latitude = fuzzywuzzy.process.extractOne('LATITUDE', columns)[0]\n",
    "longitude = fuzzywuzzy.process.extractOne('LONGITUDE', columns)[0]"
   ]
  },
  {
   "cell_type": "code",
   "execution_count": null,
   "metadata": {
    "hidden": true
   },
   "outputs": [],
   "source": [
    "accident_sedf = accident_df.spatial.from_xy(accident_df, x_column=longitude, y_column=latitude)"
   ]
  },
  {
   "cell_type": "code",
   "execution_count": null,
   "metadata": {
    "hidden": true
   },
   "outputs": [],
   "source": [
    "year = accident_sedf.iloc[0]['YEAR'].astype('str').split(\".\")[0]\n",
    "year"
   ]
  },
  {
   "cell_type": "code",
   "execution_count": null,
   "metadata": {
    "hidden": true
   },
   "outputs": [],
   "source": [
    "fc = accident_sedf.spatial.to_featureclass(os.path.join(fars_fgdb, \"accident_{0}\".format(year)))"
   ]
  },
  {
   "cell_type": "code",
   "execution_count": null,
   "metadata": {
    "hidden": true
   },
   "outputs": [],
   "source": [
    "fars_fgdb"
   ]
  },
  {
   "cell_type": "code",
   "execution_count": null,
   "metadata": {
    "hidden": true
   },
   "outputs": [],
   "source": [
    "# Function from Taylor to transfer FARS to point HPMS\n",
    "import arcpy\n",
    "\n",
    "\n",
    "def uniqueList(layer, field):\n",
    "    with arcpy.da.SearchCursor(layer, [field]) as cursor:\n",
    "        new_set = sorted({row[0] for row in cursor})\n",
    "\n",
    "    new_list = [int(x) for x in new_set]\n",
    "\n",
    "    return new_list\n",
    "\n",
    "\n",
    "if __name__ == \"__main__\":\n",
    "\n",
    "    scratchDB = r'C:\\Temp\\python_temp.gdb'\n",
    "    memDB = str('in_memory')\n",
    "\n",
    "    arcpy.env.overwriteOutput = True\n",
    "    arcpy.env.workspace = scratchDB\n",
    "\n",
    "    # Create A Unique List of State Codes\n",
    "    state_list = uniqueList('HPMS_2016_F_SYSTEM_1', \"State_Code\")\n",
    "\n",
    "    # Loop Through Each State in List\n",
    "    for state in state_list:\n",
    "        print(\"\\nProcessing {0}...\".format(state))\n",
    "\n",
    "        # Prepare Expressions for Selection\n",
    "        hpmsStateExp = \"State_Code = {}\".format(state)\n",
    "        farsStateExp = \"STATE = {}\".format(state)\n",
    "\n",
    "        # Create Feature Layers\n",
    "        arcpy.MakeFeatureLayer_management('HPMS_2016_F_SYSTEM_1', 'HPMS_lyr')\n",
    "        arcpy.MakeFeatureLayer_management('FARS_2016_Filtered', 'FARS_2016_Filtered_lyr')\n",
    "\n",
    "        # Select Features by State\n",
    "        arcpy.SelectLayerByAttribute_management('HPMS_lyr', \"NEW_SELECTION\", hpmsStateExp)\n",
    "        arcpy.SelectLayerByAttribute_management('FARS_2016_Filtered_lyr', \"NEW_SELECTION\", farsStateExp)\n",
    "\n",
    "        # Copy the Selected Features to New Layers\n",
    "        arcpy.CopyFeatures_management('HPMS_lyr', memDB + \"/HPMS_{}\".format(state))\n",
    "        arcpy.CopyFeatures_management('FARS_2016_Filtered_lyr', memDB + \"/FARS_2016_Filtered_{}\".format(state))\n",
    "\n",
    "        # Create a Unique List of Route Numbers by State\n",
    "        int_list = uniqueList(memDB + \"/HPMS_{}\".format(state), \"ROUTE_NUMB\")\n",
    "\n",
    "        # Loop Through Each Route in List\n",
    "        for interstate in int_list:\n",
    "            print(\"\\tProcessing interstate {0}...\".format(interstate))\n",
    "\n",
    "            # Prepare Expressions for Selection\n",
    "            hpmsInterstateExp = \"ROUTE_NUMB = {}\".format(interstate)\n",
    "            farsInterstateExp = \"TWAY_ID LIKE '%I-{}%'\".format(interstate)\n",
    "\n",
    "            # Create Feature Layers\n",
    "            arcpy.MakeFeatureLayer_management(memDB + \"\\HPMS_{}\".format(state), \"HPMS_{}_lyr\".format(state))\n",
    "            arcpy.MakeFeatureLayer_management(memDB + '\\FARS_2016_Filtered_{}'.format(state), 'FARS_2016_Filtered_{}_lyr'.format(state))\n",
    "\n",
    "            # Setup Field Mappings\n",
    "            fieldmappings = arcpy.FieldMappings()\n",
    "            fieldmappings.addTable('HPMS_{}_lyr'.format(state))\n",
    "\n",
    "            # Select Features by Route\n",
    "            arcpy.SelectLayerByAttribute_management('HPMS_{}_lyr'.format(state), 'NEW SELECTION', hpmsInterstateExp)\n",
    "            arcpy.SelectLayerByAttribute_management('FARS_2016_Filtered_{}_lyr'.format(state), 'NEW SELECTION', farsInterstateExp)\n",
    "\n",
    "            # Copy Selected Features to New Layers\n",
    "            arcpy.CopyFeatures_management(\"HPMS_{}_lyr\".format(state), memDB + \"\\HPMS_{0}_{1}\".format(state, interstate))\n",
    "            arcpy.CopyFeatures_management('FARS_2016_Filtered_{}_lyr'.format(state), memDB + '\\FARS_2016_Filtered_{0}_{1}'.format(state, interstate))\n",
    "\n",
    "            # Dissolve Road Network to Single Feature\n",
    "            arcpy.management.Dissolve(memDB + \"\\HPMS_{0}_{1}\".format(state, interstate), memDB + \"\\HPMS_{0}_Dis_{1}\".format(state, interstate),\n",
    "                                      \"ROUTE_NUMB\", None, \"MULTI_PART\", \"DISSOLVE_LINES\")\n",
    "\n",
    "            # Generate Points Along Road Network at Consistent Lengths\n",
    "            arcpy.management.GeneratePointsAlongLines(memDB + \"\\HPMS_{0}_Dis_{1}\".format(state, interstate),\n",
    "                                                      memDB + \"\\HPMS_{0}_{1}_pts\".format(state, interstate), \"DISTANCE\",\n",
    "                                                      \"0.1 Miles\", None, None)\n",
    "\n",
    "            # Spatially Join Road Network Attribution to Point Dataset\n",
    "            arcpy.analysis.SpatialJoin(memDB + \"\\HPMS_{0}_{1}_pts\".format(state, interstate), \"HPMS_{}_lyr\".format(state),\n",
    "                                       memDB + \"\\HPMS_pts_sj_{0}_{1}\".format(state, interstate), \"JOIN_ONE_TO_ONE\", \"KEEP_ALL\",\n",
    "                                       fieldmappings, \"INTERSECT\")\n",
    "\n",
    "            # Add Crash Count Field to Road Point Dataset\n",
    "            arcpy.AddField_management(memDB + \"\\HPMS_pts_sj_{0}_{1}\".format(state, interstate), 'Crash_Count', 'SHORT', '', '', '', 'Crash Count')\n",
    "\n",
    "\n",
    "            # Run Near Analysis on Crash Dataset to Generate a Distance to Nearest Road Point\n",
    "            arcpy.Near_analysis(memDB + '\\FARS_2016_Filtered_{0}_{1}'.format(state, interstate), memDB + \"\\HPMS_pts_sj_{0}_{1}\".format(state, interstate),\n",
    "                                None, 'NO_LOCATION', \"NO_ANGLE\", \"GEODESIC\")\n",
    "\n",
    "            # Select All Crashes within Specified Distance\n",
    "            arcpy.MakeFeatureLayer_management(memDB + '\\FARS_2016_Filtered_{0}_{1}'.format(state, interstate), 'FARS_2016_Filtered_{0}_{1}_lyr'.format(state, interstate))\n",
    "            crashDistExp = \"NEAR_DIST < 1000\"\n",
    "            arcpy.SelectLayerByAttribute_management('FARS_2016_Filtered_{0}_{1}_lyr'.format(state, interstate), 'NEW_SELECTION', crashDistExp)\n",
    "\n",
    "            # Run Frequency Analysis to get Crash Total for each Road Point\n",
    "            arcpy.Frequency_analysis('FARS_2016_Filtered_{0}_{1}_lyr'.format(state, interstate), memDB + '\\FARS_2016_Filtered_{0}_{1}_freq'.format(state, interstate), 'NEAR_FID', None)\n",
    "\n",
    "            # Join Crash Totals to Road Point Dataset\n",
    "            arcpy.MakeFeatureLayer_management(memDB + \"\\HPMS_pts_sj_{0}_{1}\".format(state, interstate), 'HPMS_pts_sj_{0}_{1}_lyr'.format(state, interstate))\n",
    "            arcpy.AddJoin_management('HPMS_pts_sj_{0}_{1}_lyr'.format(state, interstate), 'OID', memDB + '\\FARS_2016_Filtered_{0}_{1}_freq'.format(state, interstate),\n",
    "                                     'NEAR_FID', 'KEEP_ALL')\n",
    "            farsFrequencyExp = '!FARS_2016_Filtered_{0}_{1}_freq.FREQUENCY!'.format(state, interstate)\n",
    "            arcpy.CalculateField_management('HPMS_pts_sj_{0}_{1}_lyr'.format(state, interstate), 'Crash_Count', farsFrequencyExp, 'PYTHON3',\n",
    "                                            None)\n",
    "            arcpy.RemoveJoin_management('HPMS_pts_sj_{0}_{1}_lyr'.format(state, interstate))\n",
    "\n",
    "        # Merge All Interstate Point Datasets\n",
    "        arcpy.env.workspace = memDB\n",
    "        mem_fcList = arcpy.ListFeatureClasses('HPMS_pts_sj_{0}_*'.format(state))\n",
    "        arcpy.Merge_management(mem_fcList, scratchDB + '\\HPMS_FARS_2016_{}'.format(state))\n",
    "\n",
    "        # Add Crash_Rate Fields to Merged Dataset\n",
    "        arcpy.env.workspace = scratchDB\n",
    "        arcpy.AddFields_management('HPMS_FARS_2016_{}'.format(state),\n",
    "                                   [['Crash_Rate_A', 'DOUBLE', 'Crash Rate A'],\n",
    "                                    ['Crash_Rate_B', 'DOUBLE', 'Crash Rate B'],\n",
    "                                    ['Crash_Rate_C', 'DOUBLE', 'Crash Rate C']])\n",
    "\n",
    "        # Calculate Each Crash_Rate\n",
    "        crashRateAExp = \"(!Crash_Count! * 100000000) / (!AADT_VN! * 365 * 1 * .10)\"\n",
    "        crashRateBExp = \"!Crash_Count! / (!AADT_VN! * .10)\"\n",
    "        crashRateCExp = \"!Crash_Count! / (!AADT_VN! / .10)\"\n",
    "        arcpy.CalculateFields_management(scratchDB + '\\HPMS_FARS_2016_{}'.format(state), 'PYTHON3',\n",
    "                                         [['Crash_Rate_A', crashRateAExp], ['Crash_Rate_B', crashRateBExp],\n",
    "                                          ['Crash_Rate_C', crashRateCExp]])\n",
    "\n",
    "        # Delete Any Fields Leftover from Previous Analyses\n",
    "        arcpy.DeleteField_management(scratchDB + '\\HPMS_FARS_2016_{}'.format(state), ['Join_Count', 'TARGET_FID'])\n",
    "\n",
    "        # Clear In Memory Database\n",
    "        arcpy.Delete_management(\"in_memory\")\n",
    "\n",
    "        print('HPMS_FARS_2016_{}'.format(state) + \" has completed.\")\n"
   ]
  }
 ],
 "metadata": {
  "kernelspec": {
   "display_name": "Python 3",
   "language": "python",
   "name": "python3"
  },
  "language_info": {
   "codemirror_mode": {
    "name": "ipython",
    "version": 3
   },
   "file_extension": ".py",
   "mimetype": "text/x-python",
   "name": "python",
   "nbconvert_exporter": "python",
   "pygments_lexer": "ipython3",
   "version": "3.6.6"
  }
 },
 "nbformat": 4,
 "nbformat_minor": 2
}
