{
 "cells": [
  {
   "cell_type": "markdown",
   "metadata": {},
   "source": [
    "# <span style=\"color:Purple\">Spatial Analysis for Transportation Safety: </span>\n",
    "# <span>Supplementing Network Screening with Spatial Analysis in ArcGIS</span>"
   ]
  },
  {
   "cell_type": "markdown",
   "metadata": {},
   "source": [
    "Author: Alberto Nieto, Esri\n",
    "\n",
    "Version: 1\n",
    "\n",
    "Last Changes: January 7, 2019 "
   ]
  },
  {
   "cell_type": "markdown",
   "metadata": {},
   "source": [
    "## Abstract"
   ]
  },
  {
   "cell_type": "markdown",
   "metadata": {},
   "source": [
    "Transportation safety continuously strives to answer the following question:\n",
    "\n",
    "##### <span style=\"color:Navy\">\"Where does the transportation network contain road segments with systemic problems leading to harmful traffic accidents, and what should we do about it?\"</span>\n",
    "\n",
    "The AASHTO Highway Safety Manual (HSM) created by the Federal Highway Administration (FHWA) helps state and local government agencies answer this question via a road safety management process that is characterized by four steps:\n",
    "\n",
    "1. Network Screening\n",
    "2. Diagnosis and Countermeasure Selection\n",
    "3. Economic Appraisal and Prioritization\n",
    "4. Safety Effectiveness Evaluation\n",
    "\n",
    "We propose that Spatial Analysis in ArcGIS can help supplement the function of Network Screening: the process for reviewing a transportation network to identify and rank sites from most likely to least likely to realize a reduction crash frequency with implementation of a countermeasure. \n",
    "\n",
    "Our proposal is not meant to replace or undermine the existing Network Screening procedure, but rather to provide an efficient and repeatable framework that can supplement it with insights and further information extracted through spatial analysis. The application and further use of this framework is recommended and meant to be further refined in collaboration with federal, state, and local agencies through actual application."
   ]
  },
  {
   "cell_type": "markdown",
   "metadata": {},
   "source": [
    "## Methodology"
   ]
  },
  {
   "cell_type": "markdown",
   "metadata": {},
   "source": [
    "The approach used in this framework can be described in three aspects:\n",
    "\n",
    "1. FHWA Network Screening (Highway Safety Manual / usRAP)\n",
    "2. Density-based Clustering Analysis\n",
    "3. Crash Rate Hot Spots Analysis"
   ]
  },
  {
   "cell_type": "markdown",
   "metadata": {},
   "source": [
    "### FHWA Network Screening (Highway Safety Manual / usRAP)\n",
    "\n",
    "Traditional Network Screening as described by the HSM can be peformed in GIS. A complete example of this workflow is described in the \"Crash Analysis\" solution template: https://solutions.arcgis.com/state-government/help/crash-analysis/. \n",
    "\n",
    "The example provided in the solution template focuses on the state of Maryland. Due to ease of data comparison and data availability, the comparison points for this analysis will also focus on Maryland. "
   ]
  },
  {
   "cell_type": "markdown",
   "metadata": {},
   "source": [
    "### Defining, Finding, and Describing Spatial Clusters of Accident Events\n",
    "**Abbreviated: Density-based Clustering and Descriptive Analysis**\n",
    "\n",
    "When considering the question of finding a \"systemic problem\" on the transportation network, a useful aspect to consider is the spatial distribution of problematic events, such as traffic accidents. A useful evaluation of which locations are more susceptible to systemic events is clustering of traffic accidents. The case is made that a cluster of traffic accident locations is highly suggestive of the presence of a systemic problem in the transportation network. \n",
    "\n",
    "Spatial clusters in point data can be found via the Density-based Clustering tool in ArcGIS: a geoprocessing and web-service enabled tool that processes point data and designates each event as either part of a cluster or \"noise\". The tool can leverage three algorithms to determine the definition of a cluster and assignment logic: DBSCAN, HDBSCAN, and OPTICS. This approach evaluates each algorithm and attempts to set a starting baseline for an analysis framework that can be repeated for most states in the United States. Further elaboration on the definition and designation of clusters is recommended for local agencies and continued use of this approach. \n",
    "\n",
    "Finding clusters is only useful to help find potentially dangerous locations (given a specific definition of a cluster), and the approach recommends an additional step: spatial and non-spatial measurements of the characteristics of each cluster of accidents to help rank each site. To this end, the following descriptive measurements are recorded for each site:\n",
    "\n",
    "#### Spatial:\n",
    "- Calculating the average distance between features (nearest neighbor index)\n",
    "- Counting the number of features within defined distances (Ripley's K-statistic)\n",
    "- Overlaying areas of equal size (quadrant analysis)\n",
    "- Cluster confidence (Density-based Clustering messaging)\n",
    "\n",
    "#### Aspatial: \n",
    "- Cluster harm event homogeneity: How similar is the harm cause of all the accidents in the cluster? \n",
    "- Road segment characteristics\n",
    "    - Road segment traffic volume\n",
    "    - Road segment sinuosity\n",
    "    - Road segment out-of-context curve\n",
    "    - Road segment speed limit\n",
    "    - Road segment guard\n",
    "    - Road segment signage\n",
    "- Temporal characteristics\n",
    "    - Seasonality of events\n",
    "    - Day of events\n",
    "    - Time of events"
   ]
  },
  {
   "cell_type": "markdown",
   "metadata": {},
   "source": [
    "### Finding Statistically Significant Clustering of High Crash Rates Across Highways\n",
    "**Abbreviated: Crash Rate Hot Spots Analysis**\n",
    "\n",
    "Spatial Statistics tools can be useful when attempting to measure the spatial distribution of phenomena and quantify the significance of clustering in high or low observations. The approach evaluated in this analysis generates a dataset of evenly segmented interstate segments with calculated crash rates, where crash rate is defined as the amount of evaluated crashes divided by the traffic flow in the segment. The crash rate formula applied is provided by FHWA: https://safety.fhwa.dot.gov/local_rural/training/fhwasa1109/app_c.cfm\n",
    "\n",
    "The goal of this analysis is to understand where a null hypothesis of random spatial distribution of crash rates can be proven false. In other words, we want to find where the clustering of high crash rate values in highway segments is statistically significant and worth further investigation. "
   ]
  },
  {
   "cell_type": "markdown",
   "metadata": {},
   "source": [
    "## Data"
   ]
  },
  {
   "cell_type": "markdown",
   "metadata": {},
   "source": [
    "The following datasets are used for a basic assessment of this workflow:\n",
    "\n",
    "- **Fatal Accident Crash locations in Maryland (Federal):**\n",
    "    - Source: NHTSA FARS\n",
    "    - Extent: Maryland\n",
    "    - Time: 2002 to 2016\n",
    "    - Crash Type: Fatal accidents\n",
    "    - Item: https://esrifederal.maps.arcgis.com/home/item.html?id=89116fe5f52e429f9f2eaace87084739\n",
    "    - REST Endpoint: https://services.arcgis.com/hRUr1F8lE8Jq2uJo/arcgis/rest/services/FARS_Accidents_in_Maryland_2002_to_2016/FeatureServer\n",
    "\n",
    "\n",
    "- **Accident Crash locations in Maryland (State):**\n",
    "    - Source: https://solutions.arcgis.com/local-government/help/crash-analysis/\n",
    "    - Extent: Maryland\n",
    "    - Time: 2010 to 2014\n",
    "    - Crash Type: All types\n",
    "    - Item: https://esrifederal.maps.arcgis.com/home/item.html?id=89116fe5f52e429f9f2eaace87084739\n",
    "    - REST Endpoint: https://services.arcgis.com/hRUr1F8lE8Jq2uJo/arcgis/rest/services/FARS_Accidents_in_Maryland_2002_to_2016/FeatureServer\n",
    "\n",
    "\n",
    "- **Roads: Maryland Interstate Polylines (HPMS AADT Segmentation)**\n",
    "    - Source: FHWA Highway Performance Management System (HPMS)\n",
    "    - Extent: Maryland\n",
    "    - Time: 2016 AADT\n",
    "    - Includes HPMS Polyline segments derived from AADT for Maryland\n",
    "    - Item: https://esrifederal.maps.arcgis.com/home/item.html?id=597913c0a2344684896e0c6d1e14040e\n",
    "    - REST Endpoint: https://services.arcgis.com/hRUr1F8lE8Jq2uJo/arcgis/rest/services/Maryland_Interstates_HPMS/FeatureServer\n",
    "    \n",
    "\n",
    "- **Roads: Maryland Interstate Points (0.1 Mile Segmentation)**\n",
    "    - Source: FHWA Highway Performance Management System (HPMS) and ArcGIS geoprocessing\n",
    "    - Extent: Maryland\n",
    "    - Time: 2016 AADT\n",
    "    - Includes HPMS point segments derived from AADT for Maryland with assigned crash rates from 2016 FARS.\n",
    "    - Item: https://esrifederal.maps.arcgis.com/home/item.html?id=af6515f1f1ed4ffaa6b5cda3e57aecdd\n",
    "    - REST Endpoint: https://services.arcgis.com/hRUr1F8lE8Jq2uJo/arcgis/rest/services/HPMS_Point_Segments_Maryland/FeatureServer\n",
    "\n",
    "\n",
    "- **Analyzed Roads: All Maryland Roads**\n",
    "    - Source: https://solutions.arcgis.com/local-government/help/crash-analysis/\n",
    "    - Extent: Maryland\n",
    "    - Time: 2010 to 2014 AADT\n",
    "    - Includes HSM/USRAP Crash Rate Risk outputs from Solution Template for all Maryland Roads\n",
    "    - Item: https://esrifederal.maps.arcgis.com/home/item.html?id=eafe5ab24b2747279b06c220125c4c22\n",
    "    - REST Endpoint: https://services.arcgis.com/hRUr1F8lE8Jq2uJo/arcgis/rest/services/Maryland_Crash_Rate_Risk/FeatureServer\n",
    "    \n",
    "\n",
    "- **Analyzed Roads: Maryland Interstates Result from Crash Analysis Solution**\n",
    "    - Source: https://solutions.arcgis.com/local-government/help/crash-analysis/\n",
    "    - Extent: Maryland\n",
    "    - Time: 2010 to 2014 AADT\n",
    "    - Includes HSM/USRAP Crash Rate Risk outputs from Solution Template for _just Maryland Interstates_.\n",
    "    - Item: https://esrifederal.maps.arcgis.com/home/item.html?id=eafe5ab24b2747279b06c220125c4c22\n",
    "    - REST Endpoint: https://services.arcgis.com/hRUr1F8lE8Jq2uJo/arcgis/rest/services/Maryland_Crash_Rate_Risk/FeatureServer"
   ]
  },
  {
   "cell_type": "markdown",
   "metadata": {},
   "source": [
    "The following code cells in this notebook are used to retrieve, examine, and confirm the availability of each dataset. "
   ]
  },
  {
   "cell_type": "markdown",
   "metadata": {},
   "source": [
    "### Preliminary Setup"
   ]
  },
  {
   "cell_type": "markdown",
   "metadata": {},
   "source": [
    "This segment of the notebook contains python code that accesses the needed modules and functions to perform our analysis. Any supplemental custom functions that are used in this process, such as a function to quickly plot a map and histogram, are also created and stored in this section."
   ]
  },
  {
   "cell_type": "markdown",
   "metadata": {},
   "source": [
    "#### Import the needed modules, including ArcPy, the ArcGIS API for Python, and other useful modules"
   ]
  },
  {
   "cell_type": "code",
   "execution_count": 1,
   "metadata": {},
   "outputs": [],
   "source": [
    "import arcpy\n",
    "arcpy.env.overwriteOutput = True\n",
    "import arcgis\n",
    "from arcgis import features\n",
    "import pandas as pd\n",
    "from arcgis.features import GeoAccessor, GeoSeriesAccessor\n",
    "from arcgis.geoenrichment import *\n",
    "from arcgis.geometry import project\n",
    "from arcgis.mapping import WebMap\n",
    "import os\n",
    "import time\n",
    "from IPython.display import display"
   ]
  },
  {
   "cell_type": "code",
   "execution_count": 2,
   "metadata": {},
   "outputs": [
    {
     "data": {
      "text/html": [
       "\n",
       "    <div class=\"bk-root\">\n",
       "        <a href=\"http://bokeh.pydata.org\" target=\"_blank\" class=\"bk-logo bk-logo-small bk-logo-notebook\"></a>\n",
       "        <span id=\"d1797821-b6f5-4f75-9451-642af555337c\">Loading BokehJS ...</span>\n",
       "    </div>"
      ]
     },
     "metadata": {},
     "output_type": "display_data"
    },
    {
     "data": {
      "application/javascript": [
       "\n",
       "(function(global) {\n",
       "  function now() {\n",
       "    return new Date();\n",
       "  }\n",
       "\n",
       "  var force = true;\n",
       "\n",
       "  if (typeof (window._bokeh_onload_callbacks) === \"undefined\" || force === true) {\n",
       "    window._bokeh_onload_callbacks = [];\n",
       "    window._bokeh_is_loading = undefined;\n",
       "  }\n",
       "\n",
       "\n",
       "  \n",
       "  if (typeof (window._bokeh_timeout) === \"undefined\" || force === true) {\n",
       "    window._bokeh_timeout = Date.now() + 5000;\n",
       "    window._bokeh_failed_load = false;\n",
       "  }\n",
       "\n",
       "  var NB_LOAD_WARNING = {'data': {'text/html':\n",
       "     \"<div style='background-color: #fdd'>\\n\"+\n",
       "     \"<p>\\n\"+\n",
       "     \"BokehJS does not appear to have successfully loaded. If loading BokehJS from CDN, this \\n\"+\n",
       "     \"may be due to a slow or bad network connection. Possible fixes:\\n\"+\n",
       "     \"</p>\\n\"+\n",
       "     \"<ul>\\n\"+\n",
       "     \"<li>re-rerun `output_notebook()` to attempt to load from CDN again, or</li>\\n\"+\n",
       "     \"<li>use INLINE resources instead, as so:</li>\\n\"+\n",
       "     \"</ul>\\n\"+\n",
       "     \"<code>\\n\"+\n",
       "     \"from bokeh.resources import INLINE\\n\"+\n",
       "     \"output_notebook(resources=INLINE)\\n\"+\n",
       "     \"</code>\\n\"+\n",
       "     \"</div>\"}};\n",
       "\n",
       "  function display_loaded() {\n",
       "    if (window.Bokeh !== undefined) {\n",
       "      var el = document.getElementById(\"d1797821-b6f5-4f75-9451-642af555337c\");\n",
       "      el.textContent = \"BokehJS \" + Bokeh.version + \" successfully loaded.\";\n",
       "    } else if (Date.now() < window._bokeh_timeout) {\n",
       "      setTimeout(display_loaded, 100)\n",
       "    }\n",
       "  }\n",
       "\n",
       "  function run_callbacks() {\n",
       "    window._bokeh_onload_callbacks.forEach(function(callback) { callback() });\n",
       "    delete window._bokeh_onload_callbacks\n",
       "    console.info(\"Bokeh: all callbacks have finished\");\n",
       "  }\n",
       "\n",
       "  function load_libs(js_urls, callback) {\n",
       "    window._bokeh_onload_callbacks.push(callback);\n",
       "    if (window._bokeh_is_loading > 0) {\n",
       "      console.log(\"Bokeh: BokehJS is being loaded, scheduling callback at\", now());\n",
       "      return null;\n",
       "    }\n",
       "    if (js_urls == null || js_urls.length === 0) {\n",
       "      run_callbacks();\n",
       "      return null;\n",
       "    }\n",
       "    console.log(\"Bokeh: BokehJS not loaded, scheduling load and callback at\", now());\n",
       "    window._bokeh_is_loading = js_urls.length;\n",
       "    for (var i = 0; i < js_urls.length; i++) {\n",
       "      var url = js_urls[i];\n",
       "      var s = document.createElement('script');\n",
       "      s.src = url;\n",
       "      s.async = false;\n",
       "      s.onreadystatechange = s.onload = function() {\n",
       "        window._bokeh_is_loading--;\n",
       "        if (window._bokeh_is_loading === 0) {\n",
       "          console.log(\"Bokeh: all BokehJS libraries loaded\");\n",
       "          run_callbacks()\n",
       "        }\n",
       "      };\n",
       "      s.onerror = function() {\n",
       "        console.warn(\"failed to load library \" + url);\n",
       "      };\n",
       "      console.log(\"Bokeh: injecting script tag for BokehJS library: \", url);\n",
       "      document.getElementsByTagName(\"head\")[0].appendChild(s);\n",
       "    }\n",
       "  };var element = document.getElementById(\"d1797821-b6f5-4f75-9451-642af555337c\");\n",
       "  if (element == null) {\n",
       "    console.log(\"Bokeh: ERROR: autoload.js configured with elementid 'd1797821-b6f5-4f75-9451-642af555337c' but no matching script tag was found. \")\n",
       "    return false;\n",
       "  }\n",
       "\n",
       "  var js_urls = [\"https://cdn.pydata.org/bokeh/release/bokeh-0.12.5.min.js\", \"https://cdn.pydata.org/bokeh/release/bokeh-widgets-0.12.5.min.js\"];\n",
       "\n",
       "  var inline_js = [\n",
       "    function(Bokeh) {\n",
       "      Bokeh.set_log_level(\"info\");\n",
       "    },\n",
       "    \n",
       "    function(Bokeh) {\n",
       "      \n",
       "    },\n",
       "    \n",
       "    function(Bokeh) {\n",
       "      \n",
       "      document.getElementById(\"d1797821-b6f5-4f75-9451-642af555337c\").textContent = \"BokehJS is loading...\";\n",
       "    },\n",
       "    function(Bokeh) {\n",
       "      console.log(\"Bokeh: injecting CSS: https://cdn.pydata.org/bokeh/release/bokeh-0.12.5.min.css\");\n",
       "      Bokeh.embed.inject_css(\"https://cdn.pydata.org/bokeh/release/bokeh-0.12.5.min.css\");\n",
       "      console.log(\"Bokeh: injecting CSS: https://cdn.pydata.org/bokeh/release/bokeh-widgets-0.12.5.min.css\");\n",
       "      Bokeh.embed.inject_css(\"https://cdn.pydata.org/bokeh/release/bokeh-widgets-0.12.5.min.css\");\n",
       "    }\n",
       "  ];\n",
       "\n",
       "  function run_inline_js() {\n",
       "    \n",
       "    if ((window.Bokeh !== undefined) || (force === true)) {\n",
       "      for (var i = 0; i < inline_js.length; i++) {\n",
       "        inline_js[i](window.Bokeh);\n",
       "      }if (force === true) {\n",
       "        display_loaded();\n",
       "      }} else if (Date.now() < window._bokeh_timeout) {\n",
       "      setTimeout(run_inline_js, 100);\n",
       "    } else if (!window._bokeh_failed_load) {\n",
       "      console.log(\"Bokeh: BokehJS failed to load within specified timeout.\");\n",
       "      window._bokeh_failed_load = true;\n",
       "    } else if (force !== true) {\n",
       "      var cell = $(document.getElementById(\"d1797821-b6f5-4f75-9451-642af555337c\")).parents('.cell').data().cell;\n",
       "      cell.output_area.append_execute_result(NB_LOAD_WARNING)\n",
       "    }\n",
       "\n",
       "  }\n",
       "\n",
       "  if (window._bokeh_is_loading === 0) {\n",
       "    console.log(\"Bokeh: BokehJS loaded, going straight to plotting\");\n",
       "    run_inline_js();\n",
       "  } else {\n",
       "    load_libs(js_urls, function() {\n",
       "      console.log(\"Bokeh: BokehJS plotting callback run at\", now());\n",
       "      run_inline_js();\n",
       "    });\n",
       "  }\n",
       "}(this));"
      ]
     },
     "metadata": {},
     "output_type": "display_data"
    }
   ],
   "source": [
    "# Imports for plotting in Bokeh\n",
    "import numpy as np\n",
    "import bokeh\n",
    "from bokeh.io import output_notebook, output_file, show\n",
    "from bokeh.plotting import figure\n",
    "from bokeh.models import Legend, Range1d\n",
    "from bokeh.embed import file_html\n",
    "from bokeh.resources import CDN\n",
    "from bokeh.charts import Bar, Histogram, output_file, show  # For bar, histogram charts\n",
    "# Set bokeh to output plots in the notebook\n",
    "output_notebook()"
   ]
  },
  {
   "cell_type": "code",
   "execution_count": 3,
   "metadata": {},
   "outputs": [
    {
     "name": "stdout",
     "output_type": "stream",
     "text": [
      "Enter password: ········\n"
     ]
    }
   ],
   "source": [
    "# gis = arcgis.gis.GIS(\"home\", verify_cert=False)\n",
    "gis = arcgis.gis.GIS(\"https://esrifederal.maps.arcgis.com\", username=\"Anieto_esrifederal\", verify_cert=False)"
   ]
  },
  {
   "cell_type": "code",
   "execution_count": 4,
   "metadata": {},
   "outputs": [],
   "source": [
    "# Set and Change directory to workspace\n",
    "root_dir = os.path.join(os.getcwd(), r\"../..\")\n",
    "workspace_dir = os.path.join(root_dir, \"workspace\")\n",
    "data_dir = os.path.join(root_dir, \"data\")\n",
    "\n",
    "arcpy.env.overwriteOutput = True"
   ]
  },
  {
   "cell_type": "code",
   "execution_count": 5,
   "metadata": {},
   "outputs": [],
   "source": [
    "# Create a helper function that receives a spatially-enabled dataframe and column as input, and returns a map widget, symbolized layer, and bokeh histogram using the layer's colormap\n",
    "def create_map_and_histogram(map_location, sdf, column, method='esriClassifyNaturalBreaks', class_count=5, cmap='OrRd', alpha=0.8, plot_height=600, plot_width=600):\n",
    "    \"\"\"\n",
    "    create_map_and_histogram\n",
    "    inputs:\n",
    "        map_location: Location for the map widget. The entry will be geocoded and used as the starting extent for the map widget. Example: \"Pittsburgh\"\n",
    "        sdf: spatially-enabled dataframe that is plotted on a map and histogram\n",
    "        column: column to use for layer symbology and histogram\n",
    "    return: map widget, bokeh plot\n",
    "    \"\"\"\n",
    "    \n",
    "    # Create map\n",
    "    map_obj = gis.map(map_location)\n",
    "    sdf.spatial.plot(map_widget=map_obj, renderer_type='c', method=method, class_count=class_count, col=column, cmap=cmap, alpha=0.8)  \n",
    "    \n",
    "    # Extract the layer's class breaks and colors\n",
    "    class_breaks = map_obj.layers[0].layer.layerDefinition.drawingInfo.renderer.classBreakInfos\n",
    "    cbs_list = []\n",
    "    cmap_list = []\n",
    "    for cb in class_breaks:\n",
    "        cbs_list.append(cb.classMaxValue)\n",
    "        cmap_list.append('#%02x%02x%02x' % (cb.symbol.color[0], cb.symbol.color[1], cb.symbol.color[2]))\n",
    "    \n",
    "    # Create a histogram of salesvol values\n",
    "    hist, edges = np.histogram(sdf[column],\n",
    "                              bins=class_count)\n",
    "\n",
    "    # Put the information in a dataframe\n",
    "    hist_df = pd.DataFrame({column: hist,\n",
    "                            'left': edges[:-1],\n",
    "                            'right': edges[1:]})\n",
    "    \n",
    "    # Add colors to each hist_df record\n",
    "    hist_df['color'] = pd.Series(cmap_list)\n",
    "\n",
    "    # Create the blank plot\n",
    "    p = figure(plot_height = plot_height, plot_width = plot_width, \n",
    "               title = 'Histogram',\n",
    "               y_axis_label = 'Feature Count',\n",
    "               x_axis_label = column)\n",
    "\n",
    "    # Add a quad glyph\n",
    "    p.quad(bottom=0, top=hist_df[column], \n",
    "           left=hist_df['left'], right=hist_df['right'],\n",
    "           line_color='white', fill_color=hist_df['color'])\n",
    "\n",
    "    # Return outputs\n",
    "    return map_obj, p"
   ]
  },
  {
   "cell_type": "markdown",
   "metadata": {},
   "source": [
    "### Data Retrieval"
   ]
  },
  {
   "cell_type": "markdown",
   "metadata": {},
   "source": [
    "#### Crash Data:"
   ]
  },
  {
   "cell_type": "code",
   "execution_count": 6,
   "metadata": {},
   "outputs": [
    {
     "data": {
      "text/html": [
       "<div class=\"item_container\" style=\"height: auto; overflow: hidden; border: 1px solid #cfcfcf; border-radius: 2px; background: #f6fafa; line-height: 1.21429em; padding: 10px;\">\n",
       "                    <div class=\"item_left\" style=\"width: 210px; float: left;\">\n",
       "                       <a href='https://esrifederal.maps.arcgis.com/home/item.html?id=89116fe5f52e429f9f2eaace87084739' target='_blank'>\n",
       "                        <img src='data:image/png;base64,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' width='200' height='133' class=\"itemThumbnail\">\n",
       "                       </a>\n",
       "                    </div>\n",
       "\n",
       "                    <div class=\"item_right\"     style=\"float: none; width: auto; overflow: hidden;\">\n",
       "                        <a href='https://esrifederal.maps.arcgis.com/home/item.html?id=89116fe5f52e429f9f2eaace87084739' target='_blank'><b>Traffic Accidents in Maryland 2002 to 2016</b>\n",
       "                        </a>\n",
       "                        <br/>FARS Accidents in Maryland 2002 to 2016<img src='https://esrifederal.maps.arcgis.com/home/js/jsapi/esri/css/images/item_type_icons/featureshosted16.png' style=\"vertical-align:middle;\">Feature Layer Collection by albe9057@esri.com_esrifederal\n",
       "                        <br/>Last Modified: January 07, 2019\n",
       "                        <br/>0 comments, 7 views\n",
       "                    </div>\n",
       "                </div>\n",
       "                "
      ],
      "text/plain": [
       "<Item title:\"Traffic Accidents in Maryland 2002 to 2016\" type:Feature Layer Collection owner:albe9057@esri.com_esrifederal>"
      ]
     },
     "execution_count": 6,
     "metadata": {},
     "output_type": "execute_result"
    }
   ],
   "source": [
    "crashes_fars_item = gis.content.search(\"Traffic Accidents in Maryland 2002 to 2016\", item_type=\"Feature Service\")[0]\n",
    "crashes_fars_item"
   ]
  },
  {
   "cell_type": "code",
   "execution_count": 7,
   "metadata": {},
   "outputs": [
    {
     "data": {
      "text/html": [
       "<div class=\"item_container\" style=\"height: auto; overflow: hidden; border: 1px solid #cfcfcf; border-radius: 2px; background: #f6fafa; line-height: 1.21429em; padding: 10px;\">\n",
       "                    <div class=\"item_left\" style=\"width: 210px; float: left;\">\n",
       "                       <a href='https://esrifederal.maps.arcgis.com/home/item.html?id=fcbb57482ba449669d66b6b4a83d91a4' target='_blank'>\n",
       "                        <img src='data:image/png;base64,/9j/4AAQSkZJRgABAQEAAAAAAAD/2wBDAAgGBgcGBQgHBwcJCQgKDBQNDAsLDBkSEw8UHRofHh0aHBwgJC4nICIsIxwcKDcpLDAxNDQ0Hyc5PTgyPC4zNDL/2wBDAQkJCQwLDBgNDRgyIRwhMjIyMjIyMjIyMjIyMjIyMjIyMjIyMjIyMjIyMjIyMjIyMjIyMjIyMjIyMjIyMjIyMjL/wAARCACFAMgDAREAAhEBAxEB/8QAHwAAAQUBAQEBAQEAAAAAAAAAAAECAwQFBgcICQoL/8QAtRAAAgEDAwIEAwUFBAQAAAF9AQIDAAQRBRIhMUEGE1FhByJxFDKBkaEII0KxwRVS0fAkM2JyggkKFhcYGRolJicoKSo0NTY3ODk6Q0RFRkdISUpTVFVWV1hZWmNkZWZnaGlqc3R1dnd4eXqDhIWGh4iJipKTlJWWl5iZmqKjpKWmp6ipqrKztLW2t7i5usLDxMXGx8jJytLT1NXW19jZ2uHi4+Tl5ufo6erx8vP09fb3+Pn6/8QAHwEAAwEBAQEBAQEBAQAAAAAAAAECAwQFBgcICQoL/8QAtREAAgECBAQDBAcFBAQAAQJ3AAECAxEEBSExBhJBUQdhcRMiMoEIFEKRobHBCSMzUvAVYnLRChYkNOEl8RcYGRomJygpKjU2Nzg5OkNERUZHSElKU1RVVldYWVpjZGVmZ2hpanN0dXZ3eHl6goOEhYaHiImKkpOUlZaXmJmaoqOkpaanqKmqsrO0tba3uLm6wsPExcbHyMnK0tPU1dbX2Nna4uPk5ebn6Onq8vP09fb3+Pn6/9oADAMBAAIRAxEAPwD2R1DS4PrXanZHntXY2WJeSOMCnGTJlFFatSCSFN74qZOyHFXZcA2DArncrs3UbCZJBpMaFRmMoLfcAxxUNWRrGV3djoPLR9r7juPHem7pCjZy1NOsTcKAGudqMfahAzPRsxjr+NdCRyNlNmAlPtW6WhjfUnVSWJwDnkGueSszoi9CcLnrQhPUaeMiqJF528CkMEHzdKbBDyAeCKkYxuSWPOe9JaDequQS22eVFbRmYygEVqOrce1EqnYcYdy0AAMAVkaDJIww6VSdhNXIok2TCqk7omCtIkMPzk9anm0G46lW4ygIPc1rDUznoVq1My3arkHjmsajNaaJTEyOQ+cn1NY77GzVviG7RuyGJLcY60MSFIRcja4b2PekVoKzBcda0Ubmd+Ut20uW2E9eRWM42N6c76MtVmakF3KkcLBiMsMAetOKbYpNJamYzmOBVA+bHOO1dUY3ZxSdiuuc8itmZIuW5wvIrGa1NoEpbJ9qmxVw43daAANvYgdqgq9h4IHGRmmIWJfNZlYMAPbrUSlbY0hC+5KI0hjPZffmou2zRJRRXVhgnBAz0IrVGL3HE5HBpiGruJJyMZ6GkA+mIRUBcGhvQaWov40IGBg85OduPep9pyvQr2XMtSq9mqPwa0VfozN0Gh8XH+rUkg9cVMpp6NjjFrYmTBZlmA9eah+Rqv7xFI0ZYqrHaccgU1exLteyDK8h0JABHHWh67AnbRkToNqshJjY4weqmrhJp2ZE4Jq6F3NGqOp5U05q4oOxr9q5jrM+/G91+6VHvyDWlPcyq7FZwDya6VocrK5bngcVpYzuTJLswuCSegFY1GlqzWCb0JUdt+1xj3FYKtFuxq4NE2FA61dxWBOCQBnvkUr2Ks2O8tJHjycZGfqam7RfKnYmVykYVuHrJu70NFsIHwwMjD2qL2fvMZE8/wAxUqCtQ6rTJbESNMZVtoY/rW6q3SJ9mmPZYg2AxVgPwo9rZ2Y3BDWIDAA7sjtVqpFmbg+gqEkg4IqnJAovcYxYN798dDTSsKTuRliBgFuvc1yVpWehpF6DSSCCfzFYu/UoeDkblY5FUktw9CWN1f5ZyDnpmto1LvQS/vFgwRbANowuCK0uyuVFWWTMu4Y2fTrWkUYzl2G708iTBCk9iM5oadwi1ZkRAEYU/NyDj1rSzsZJq5duZ/LRQpALc5POBWMI8zOmc+VFLfuDFQN3v3rdx5Tl5uZ6jnUFThtxx1AxSi31HJLoQQoVJLDA960lJWM4ocGDSFtuDjA47V51WbnPlWx0x91XHE+h5FYx5ea3Qpt2FDFfmJ/CqlWsrR2BLqx6Tu2B2rNVJPcpMlR1xliWbtntWyq6D8yJ5zvznrWLqO4XEEoLZYZPpRzpvULiO4L4A4qZSTYmyWJ0wA2RjvWsJRe5SaHMpbPr2q5RuDQqJt5bH0ohC2rBIk3gOoYZ/GtY6g3YrRzrJlScN0rqlBo5FNMZK+FKgg47+lYuipSuae0sit5u0lVJI9TWrw0WjJV2mEdxvB3ZV1OCK86tT9nKx0RmpK5Z6gGoUmlYdupKlwwUrnIIxzVwqco7vYXerL/Su2M4y2MWrbjpAssUe3GehqPaKLNHHmSKNwGDZHbrXZSkmjlqJpkZlZ8Akn69qpQUdSXNy0Y/dgBRRbqFyVcL3yahlodt8+3OOOc1i3dGliGJizEg5xnNc8KXJJ32G5XHpH1JHPeueTSfuo0Ue4/ytxxWfLcqw0KVkwPTpSs09AJdjnkKeOtXyy7AQTIW6D8azkriYg+RcZ6UkAm3ecluabjcLAPlYfNTjFt6BsWvnHO/n0r0I0e7IdRkE0pXBHX1q4JTnydiZSaXMNhmc3C85H/1q39nGMdDKNSTkiq8pDtgAZNbqGmpi5WegnmZ6k0+UXMLmgY7nAdRkjqPUVyYmkpxNacrMmS48qXYzbNy5xs3V51NWdmdqHurMN4mb5eSPL6itZQXK7A431E3kDBzg9DWEVOn7y1M276CtOY1+XOfWlH3nvYbdkCku3TIbgkc16FKDh1MpPmK8iGJ8ZrtTujmasxuSeaYieCRc4c/jWdSF1oaQlZ6k7bkgLLggDoOCa4qk+TQ6ormVyBLhixCWhJx0yBXPeT3Zoki1bHem+QeWf7rEU4Qvqg0RbCJtEh71apq49NxyxoH3Ark9sVSik7j0HsFHGcE07AUTAzyHJwp4BHSsfZXYrEbWkpztwcVHs2noJxFe0YIpP3/AEFJ0mlfqHKQSRhSdw+7waz5WnoS13BZAg5JzXr0ovl1OaUlcqzS7pMjpW1Oko3fVmM5tsktZP8ASF/z2pzj7o6cveRXkBEjZ9a0WxnLcbVEjwwAxUtFXJFb0NZVIuUWi4uzNRVVo1IUZ9a8vlstj0lqi3GyiLcwA9atPS7GVZvKZcqvzHpUe0SWhDSZQaRFzuXJ6YNdNDD3XMzmqVLaEX2mQMMcAdAK7VTjYwc5XG7i5yepqrWFe49sKnXmpW43sNiGXGehpVL8rtuOnbm1LjrkbYVYr3xXFGKbvUOqV9oEEm+MgkHOOtW6KmtCOdxepKjCYYlk2nsMVKUoaJFXU92WRFJGQu9ivoahfFc1cLRsWUxtDN97HXFDLitNSA3BeYo7bRU3KHGGbnbMNvYY6UATq46ZIxRcRHJI64ZVGCcDNOK5mTKVtTLk3O7MzY56VdKnCPvS3OapKUnZFeVznGfrXZRjpzdznqS1sR44ya2Mya2Um4Q/56VnN+6zSmveQ1l3O3PeqTsiWrsYUIqkyWgXHeh3GrElSMsQXDRjGePSuatSuro6KVW2jL0lwBbg9jXJCPO+VnVOdo3Kvm5+9xnpmtHhox1MPatlOcnzScV3wty6HJPciyS1XsTe5LnaKncrYYW3YFO1hXuaFlalz5h6DpXLWqW91HVQp395mqiqq4ArlOwiNvDIQSOf51Sm1sS6cXqyGa1iRN6jockZqlOT0bIdOMdUidwTCGj57iotrqaN6XRA1yBhZAQfcdapQb2JdRLck8qKaPr071m4lpp6ogmlliTGUOeAQf6VDk0rg2QxyM5Pmdewz0rJSb3Fce85CqucKCMmt6Kk5eRnUkrFK4kSSXcoHFejCnbc45Tu9CvIuXznr2raL0MpLUackcjgUCJ7Unz064/+tWdT4WXS+JDWbLtj1qktBN6jDuxg1WgtRAMmhsSRIBipKQtIZIJWA25yvpXPKgnLmWjNFVaVmG5WOXJx6UoRnB2fUpuMldB5DP8AdUnPOKv2kIvcn2cpLYY8RVsgcenpWsZqSM5RaY1hkVSExFPYimxJmnaXPlRBSv4152IlyyO+hJcti39pRiBg1jzo3uQvqCqf+PeQ446U3NILky3CPEx2kAeop8ytcCFJZIUKhSQOh7CtFaepndwRnTzNM+WPSuyEFFHFUm5vUtWlxsjYN6VhXhqbUZ2VmVxMXf5j3zWnsoxjZGftG5XJsAqWAO/PX1ri9m4yujp5k4ledmwSR8oHSu5JJaHK23uVl5bIzW99DHqPfOOAeKSGxoBNNiRNbErcKpFRNXjcunpJEL/fP1q1sRLcUHsaPQYuBSAWgYUAFICRSDhRxUS0TZcdXYs+YVj2Z2gDk+1eNOo22dy0VisZoySVlU46gHrSp1JRkrMmUUx3kmVfMiGVxnivVp4iMtDmlRktUQkgHB6102MBQSOQaiUIyVpIqMmtUOWVwwJY/nUOhTtZIpVZ31ZOhdvm3Zrx6sZRkzsi7q5NDuJKHoauls7lIju7ngxR/d7mvQoUl8TOetV+yingqBnvXVe5zWHbtqY6ZNK12O9hA2DmnboK5Zt5Tk85zxXJKLjI6ISTQy4VwuT3PTFKi58zcgqJW0IFXJ4B5rolPkWpio82w4ghck49jRCrCfwjlCS3FZeARyKtMloIf+PhPX/61KXwscPiQk6hHOO5qoO6FNWZHjdg9KrYnceFGODU3HYSmAUgCmAoJByOtJ6gnYnKm5X92xV+49q8rEYblfMjtpzU15kcVjKzY81d2f7tcsYXZokXmWS1jcblJxxgYxXXRh79mKpJxjdGU+d+fWvWWx5r3JO1SURsfmFUtiXuaVvEzQBq8vFRcp6HfRXuAysnPI9zXMk07Gj0K7Rlt7jG0etelCThGMXucko8zclsRg/IR+VdHUy6EbgnjsKpEsQ/dzT6i6DQ2Dxmhq+4J22LUUMkzAsCV/nWM3GK0NoqUmXVtJE+7GAMYxXI6rb8jpVKyIJ7dt33QMcgVpScbsyqRkViMdjiukwH26gTqcc0pv3Sqa94huG3TN7HFXBWiZzd2MDYqrCTH5FIoKQDgARQAnFABQBZsVLSMB1xXNiXpY6cMtWy35bwZbIGBXBGnK+h0vTUpTztK2CxNejSpqKv1OKpUcnYrFPm5Oa6EzFoXtSGJgKd1PfQW2ppadJwUzzXJXjrc7MPLSw69lAfaGyT1rKnT5pXLrTSVjPDN5LDPBNdjgnJM41J8rRGM9600IF60hi7cii4WGFdnvTTuJqxq2rE2ymNxHg/Mdua4K+ktTvoNchY/ek8XQ/75FRZmt0MnjlC7nlBVVJxt7+tS7pqwpJNamaCXjOeea9A4NxYQftK/jRL4Rw+JEUsRR2JHBNVGV0RKNmQ4BFaXIsAOKLCuPBzUsocO9JjEpgFAF/TsKzsR0Ga4q7bnY7MPpFsW+ucL6Me1aUaepnWqmWHOa67HLckByKkoU4wKQDWBNNMTHI7R8qeaTSluNNx2EZix65Y0JWBu44KVXGDRe7HbQYc7h6UyRy9eaTGgxQA0jNMQ7e4GA5AqeWLd2iuZpWTEWSVT944puMWJSki3LePNAFJ9jXMqKVQ6JVnKBXjfa3tXQ0YJ2LUa5nUqCR61zuTZulZlCZt0rY6ZrrirI5pO7BRihghdopXCwtAx3QfWkA2mAUAW7KRB5kbEeYxGPpXJUj79zqpyXJYS7jWU5yQRWtKTRjUimVPJwv3s1tzGXKKBtGKL3C1hR6UmMUrilcdhMUxDRhT709xbEm5wOvFTZFXY0EbuelNiJnRXTegA9hUJtOzLaTV0QVoQGaQBTABSAXOAQRQAsYBkAPTNKWw47l0FUmQdc+9YJe7obX97UoMuHb610p6GDWooGTikApIB4oAbmgBGbnmmkJsMg8UBcTkGgB4OCDgZHQ+lS4p7lJtDsu46k0aINWKFYY6jPrSumOzQxlxzkZqkyWhOlMBDJ70conIaGOc07CuNJyc07CbFLk0WQXY5ST1pNFInjIOQTgVmy0MddrEVSdyWrDaYBQAUAKOeKQBhl5HBo0DUdbhjcqWNKduXQdO/NqK2A59c0LYb3GljTsTcbTAKAGlc00xNAFAouCQ6kMkij3fM33f51E5WKhG7J3RokJbg46YrKD5maTXLoVSxIxk4rexjcSmA0gk9aaYmgCADnrQ2CQu2lcLAIwc0cwco+OEvwBUymluVGDexK9nLGcEVCqxZcqUojfIfPAqudE8jJVs5WbkE/QVDqxRapSZK9gcfKp4qFW7lug+hG1jIMDBzVKsiXRkhRYSEcA5o9uh+wkRNaSKeatVEyHTaG7WAwetO6Jsx0GPtC8c0pfCOHxEUgxI31qo7Ey3G1QgoABSAcRzSuOwqplgM0NglcmigXGSc1m5stQRZjjVnVCPlz0rCcmdFOKI7kZUjPQ4rSkZ1dyjXSc4UASwxiQ4JxUSdkOKuy0tnGVByeTWLqs6FSjYf9jjZST2qPbSRfsI2JbeyjCHOTmlKrJsqNGKRZiiWNAAAT64rKUm2aRioqyJCAeopFFeNFdiSOhP41XM0iFFN3LNSWFABQAUANeNXX5hmmnYTinuUrm3RQCM1rCbMKtNLUoxDFwv410SfumEV7x//9k=' width='200' height='133' class=\"itemThumbnail\">\n",
       "                       </a>\n",
       "                    </div>\n",
       "\n",
       "                    <div class=\"item_right\"     style=\"float: none; width: auto; overflow: hidden;\">\n",
       "                        <a href='https://esrifederal.maps.arcgis.com/home/item.html?id=fcbb57482ba449669d66b6b4a83d91a4' target='_blank'><b>Maryland Crash Locations</b>\n",
       "                        </a>\n",
       "                        <br/>Layer containing the location of traffic crashes in Maryland roads from 2010 through 2014<img src='https://esrifederal.maps.arcgis.com/home/js/jsapi/esri/css/images/item_type_icons/featureshosted16.png' style=\"vertical-align:middle;\">Feature Layer Collection by albe9057@esri.com_esrifederal\n",
       "                        <br/>Last Modified: January 04, 2019\n",
       "                        <br/>0 comments, 4 views\n",
       "                    </div>\n",
       "                </div>\n",
       "                "
      ],
      "text/plain": [
       "<Item title:\"Maryland Crash Locations\" type:Feature Layer Collection owner:albe9057@esri.com_esrifederal>"
      ]
     },
     "execution_count": 7,
     "metadata": {},
     "output_type": "execute_result"
    }
   ],
   "source": [
    "crashes_maryland_item = gis.content.search(\"Maryland Crash Locations\", item_type=\"Feature Service\")[0]\n",
    "crashes_maryland_item"
   ]
  },
  {
   "cell_type": "markdown",
   "metadata": {},
   "source": [
    "#### Roadway Data:"
   ]
  },
  {
   "cell_type": "code",
   "execution_count": 8,
   "metadata": {},
   "outputs": [
    {
     "data": {
      "text/html": [
       "<div class=\"item_container\" style=\"height: auto; overflow: hidden; border: 1px solid #cfcfcf; border-radius: 2px; background: #f6fafa; line-height: 1.21429em; padding: 10px;\">\n",
       "                    <div class=\"item_left\" style=\"width: 210px; float: left;\">\n",
       "                       <a href='https://esrifederal.maps.arcgis.com/home/item.html?id=597913c0a2344684896e0c6d1e14040e' target='_blank'>\n",
       "                        <img src='data:image/png;base64,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' width='200' height='133' class=\"itemThumbnail\">\n",
       "                       </a>\n",
       "                    </div>\n",
       "\n",
       "                    <div class=\"item_right\"     style=\"float: none; width: auto; overflow: hidden;\">\n",
       "                        <a href='https://esrifederal.maps.arcgis.com/home/item.html?id=597913c0a2344684896e0c6d1e14040e' target='_blank'><b>Maryland_Interstates_HPMS</b>\n",
       "                        </a>\n",
       "                        <br/>Interstates in Maryland from HPMS<img src='https://esrifederal.maps.arcgis.com/home/js/jsapi/esri/css/images/item_type_icons/featureshosted16.png' style=\"vertical-align:middle;\">Feature Layer Collection by albe9057@esri.com_esrifederal\n",
       "                        <br/>Last Modified: January 07, 2019\n",
       "                        <br/>0 comments, 0 views\n",
       "                    </div>\n",
       "                </div>\n",
       "                "
      ],
      "text/plain": [
       "<Item title:\"Maryland_Interstates_HPMS\" type:Feature Layer Collection owner:albe9057@esri.com_esrifederal>"
      ]
     },
     "execution_count": 8,
     "metadata": {},
     "output_type": "execute_result"
    }
   ],
   "source": [
    "roads_maryland_interstate_polylines_item = gis.content.search(\"Maryland_Interstates_HPMS\", item_type=\"Feature Service\")[-1]\n",
    "roads_maryland_interstate_polylines_item"
   ]
  },
  {
   "cell_type": "code",
   "execution_count": 9,
   "metadata": {},
   "outputs": [
    {
     "data": {
      "text/html": [
       "<div class=\"item_container\" style=\"height: auto; overflow: hidden; border: 1px solid #cfcfcf; border-radius: 2px; background: #f6fafa; line-height: 1.21429em; padding: 10px;\">\n",
       "                    <div class=\"item_left\" style=\"width: 210px; float: left;\">\n",
       "                       <a href='https://esrifederal.maps.arcgis.com/home/item.html?id=af6515f1f1ed4ffaa6b5cda3e57aecdd' target='_blank'>\n",
       "                        <img src='data:image/png;base64,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' width='200' height='133' class=\"itemThumbnail\">\n",
       "                       </a>\n",
       "                    </div>\n",
       "\n",
       "                    <div class=\"item_right\"     style=\"float: none; width: auto; overflow: hidden;\">\n",
       "                        <a href='https://esrifederal.maps.arcgis.com/home/item.html?id=af6515f1f1ed4ffaa6b5cda3e57aecdd' target='_blank'><b>HPMS_Point_Segments_Maryland</b>\n",
       "                        </a>\n",
       "                        <br/>HPMS point segments for Maryland, segmented at 0.1 miles.<img src='https://esrifederal.maps.arcgis.com/home/js/jsapi/esri/css/images/item_type_icons/featureshosted16.png' style=\"vertical-align:middle;\">Feature Layer Collection by albe9057@esri.com_esrifederal\n",
       "                        <br/>Last Modified: January 07, 2019\n",
       "                        <br/>0 comments, 1 views\n",
       "                    </div>\n",
       "                </div>\n",
       "                "
      ],
      "text/plain": [
       "<Item title:\"HPMS_Point_Segments_Maryland\" type:Feature Layer Collection owner:albe9057@esri.com_esrifederal>"
      ]
     },
     "execution_count": 9,
     "metadata": {},
     "output_type": "execute_result"
    }
   ],
   "source": [
    "roads_maryland_interstate_points_item = gis.content.search(\"HPMS_Point_Segments_Maryland\", item_type=\"Feature Service\")[0]\n",
    "roads_maryland_interstate_points_item"
   ]
  },
  {
   "cell_type": "code",
   "execution_count": 10,
   "metadata": {},
   "outputs": [
    {
     "data": {
      "text/html": [
       "<div class=\"item_container\" style=\"height: auto; overflow: hidden; border: 1px solid #cfcfcf; border-radius: 2px; background: #f6fafa; line-height: 1.21429em; padding: 10px;\">\n",
       "                    <div class=\"item_left\" style=\"width: 210px; float: left;\">\n",
       "                       <a href='https://esrifederal.maps.arcgis.com/home/item.html?id=eafe5ab24b2747279b06c220125c4c22' target='_blank'>\n",
       "                        <img src='data:image/png;base64,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' width='200' height='133' class=\"itemThumbnail\">\n",
       "                       </a>\n",
       "                    </div>\n",
       "\n",
       "                    <div class=\"item_right\"     style=\"float: none; width: auto; overflow: hidden;\">\n",
       "                        <a href='https://esrifederal.maps.arcgis.com/home/item.html?id=eafe5ab24b2747279b06c220125c4c22' target='_blank'><b>Maryland Roads with Crash Rate Risk</b>\n",
       "                        </a>\n",
       "                        <br/>Result from Crash Rate Analysis for Maryland roads from 2010 through 2014<img src='https://esrifederal.maps.arcgis.com/home/js/jsapi/esri/css/images/item_type_icons/featureshosted16.png' style=\"vertical-align:middle;\">Feature Layer Collection by albe9057@esri.com_esrifederal\n",
       "                        <br/>Last Modified: January 07, 2019\n",
       "                        <br/>0 comments, 3 views\n",
       "                    </div>\n",
       "                </div>\n",
       "                "
      ],
      "text/plain": [
       "<Item title:\"Maryland Roads with Crash Rate Risk\" type:Feature Layer Collection owner:albe9057@esri.com_esrifederal>"
      ]
     },
     "execution_count": 10,
     "metadata": {},
     "output_type": "execute_result"
    }
   ],
   "source": [
    "analysisroads_allmd_item = gis.content.search(\"Maryland Roads with Crash Rate Risk\", item_type=\"Feature Service\")[0]\n",
    "analysisroads_allmd_item"
   ]
  },
  {
   "cell_type": "code",
   "execution_count": 11,
   "metadata": {},
   "outputs": [
    {
     "data": {
      "text/html": [
       "<div class=\"item_container\" style=\"height: auto; overflow: hidden; border: 1px solid #cfcfcf; border-radius: 2px; background: #f6fafa; line-height: 1.21429em; padding: 10px;\">\n",
       "                    <div class=\"item_left\" style=\"width: 210px; float: left;\">\n",
       "                       <a href='https://esrifederal.maps.arcgis.com/home/item.html?id=504a22d340314627afdb1a3e3f52ef2a' target='_blank'>\n",
       "                        <img src='data:image/png;base64,/9j/4AAQSkZJRgABAQEAAAAAAAD/2wBDAAgGBgcGBQgHBwcJCQgKDBQNDAsLDBkSEw8UHRofHh0aHBwgJC4nICIsIxwcKDcpLDAxNDQ0Hyc5PTgyPC4zNDL/2wBDAQkJCQwLDBgNDRgyIRwhMjIyMjIyMjIyMjIyMjIyMjIyMjIyMjIyMjIyMjIyMjIyMjIyMjIyMjIyMjIyMjIyMjL/wAARCACFAMgDAREAAhEBAxEB/8QAHwAAAQUBAQEBAQEAAAAAAAAAAAECAwQFBgcICQoL/8QAtRAAAgEDAwIEAwUFBAQAAAF9AQIDAAQRBRIhMUEGE1FhByJxFDKBkaEII0KxwRVS0fAkM2JyggkKFhcYGRolJicoKSo0NTY3ODk6Q0RFRkdISUpTVFVWV1hZWmNkZWZnaGlqc3R1dnd4eXqDhIWGh4iJipKTlJWWl5iZmqKjpKWmp6ipqrKztLW2t7i5usLDxMXGx8jJytLT1NXW19jZ2uHi4+Tl5ufo6erx8vP09fb3+Pn6/8QAHwEAAwEBAQEBAQEBAQAAAAAAAAECAwQFBgcICQoL/8QAtREAAgECBAQDBAcFBAQAAQJ3AAECAxEEBSExBhJBUQdhcRMiMoEIFEKRobHBCSMzUvAVYnLRChYkNOEl8RcYGRomJygpKjU2Nzg5OkNERUZHSElKU1RVVldYWVpjZGVmZ2hpanN0dXZ3eHl6goOEhYaHiImKkpOUlZaXmJmaoqOkpaanqKmqsrO0tba3uLm6wsPExcbHyMnK0tPU1dbX2Nna4uPk5ebn6Onq8vP09fb3+Pn6/9oADAMBAAIRAxEAPwD2SUYJVTyxFc72RHUcFWJgSPlQZx61OzGWUfzQc8enqK1jK49yOItLM5P3c4BHcDvWmxK1ZOO59TUli4FMCrNGiMSAST29KxmknoSyOI7ZM4PTAJ4qVowLY+UbjyewFaruMIlO4s5yfpV9A6kvGaBkZLKwwAVz60XFsNkOT1yKTemgmrsF5B61KKECtuzjj0pq4hykKoXAGOKbYxxBxgUegEZj5GB+NQ4iE5PynpSuwBPkfb2PStnZrmIXuysSlgoyak0I1fed+Bj+HNK+oD9qryAMnqcdabAM9qQEMjPnYpwT3Hale24IoBgWUmMYOMMFqOf3uVkNu1yV41yDt4J6AdanmkO7JvIRLVt65Zhj862hfqPoSJBEUIA2kDGc9KpsS2I4xbKojZ0ygAOX56fWog24plbaEg+zk53r6/f/APr1d2BDIqs5ABxnjk/jWTm7iuRlUZgEUnHvzU8zb0FcuJbrjLgg46bjW6uUKlvHz1x6bj/jRcAaOJMdc/7xobC5G6RYHX/vo1LkxXAQoTyDzz160eoJg0KDGO3uaTbHcaI4ynK8j3NDkxJjYkV5XBX5VwB/X+lTGTbBN3JPLVf4CcdDVczQ7gsCMOVwPrQm2FxWhj3Z28dODQ2FxhiXcDgAjgc0Rk72ZLv0F8qJuNoyPXtT1W407kq20WB8vbFMYvkRLzsFFwGGGJhgIOKXM+gXI4lWOSQBcYOM/hTa6gRKN6YIwQcj1FYqTvchKw0yFRkoSU9sD61aSvoUtWK9tbyYJsY8/eJCAHP1p+zjfZCcIvoWIDIY8DLJ1DE5JrOqpaJJtfL9bDhdaMjmgtQDJPbqx67jHuP14BrTm0u9Bt2BorUojJDCVONp2D9KUpCEfCrtzismIlswMbsDJ5zWlMaHoxMsh+YqTkYPXithX1JgzHsPfnpQPUMdffrSYIae5I6UkrsBCcnrSYwIBOM9qLARMhU/Kcn0pO1rEcrT0IYJH2jeMHJwfXms02Cb6loNkY5q73KGuuTgE0mgGuTEnGSScAU0gGJb7+Zvnb36fgKaYErAo27Ax3p76CempE18pZVgjebPUpjav1NRz/y6hzdtRhMrN+93kdli4A+pzk/54pWk9WLfdkgiTHWXP/XVv8aEkOyBAAzZDHDY65zxWmxViMfKgzWCIJIRkVa1YRQTcFZGLBemB2rUsVE8xAY5nRTjAAHApX6AP8mQsR57gdsAcUwI2yZsjkLnj3rJyvPl6hYZN8o4IJ74qZaMljsgQrCM72x+Xetqa0uD2LQGxcABeOgqmxoOSMjrSQxeD7UwGONwI3EAjHBpAUpbIYytzcrjjAf/AOtSuhPQkS3EbeYJpmPo75H5fhQ5aAx5k2nJIXPOM1NmK4ilN4JYEduaHoHUmLgEYFHMMaTnkHmk2AwLJIxPmkDsNoqt1qMeMoOWyfXFJ6bCK8kxEimVZNjZCqEJH1OKEpPUWr1YJexkqipKMnjMbD+nFdHIn6mbk1tsTA/Lk96zqpJqEQpttczHJ971FJR5VZ7spO7DbvaTA5DDj8qdkaFZwzMF/L/GsNtCLXCX7UpAtkiZQvRyRz+VaQSsUgP9omIhorYk543tgj8qqyGLArCZRJkEAnG7IHNGlgLm8b8danm1Ahjw8jsCcA4qVFSldrYEJPHllU+v50TjcTJN6rKgPYfjWsQY53U9GBzUyGOBwKdwI9/JPYcnFSncQx5R12v1x900pIY5mAXpzQmIj3gMq55I4yam9wQsiI+Ayg46ZFDbAiMUe77oz9KrcLXJVYBsH8qJLlZMZXFZs9OGpXKGmTawAVmb+6o/zilezE3YVH6mdlBHO0Hhfx71pGLteQlLWxUN0XlLKeOwBpRnZ6FNJqxMpJzkYxXfGTe5xSilsTqpYZHTtXO7Rld7s2inJabEwDLwcGs3rqbK60Gqds8gI4KqeO55o6FFWJnzvaJhnpyOBWMVqKxYU4jyVIY9QetaPayGOwxA/wA4pO9gGTRoI2cjkDqOoppAQiQh1z/dy2Ky6kllF2oAetarQoZIyu4G7oOxo6gVtiPOVcIx255Xnr657Z/WjmsxN62HRWdvCyskCBgcjaO/T/Gi4yX7ShO1iYz6Px+vQ/hUc6ejJ5kOJCpgd/0q9hseSAuc0mBHIU29vwNCaTFIiljWTaOQQdwPcVny3C1xWkX5tuCy8c03q9B7kYJxgvz/AHgBWdKMrtvf+tug7aWEBKON+GVjgN0/P/GtdYvUm1tydE3evuRVjaCR5I0woA96tQurpkOdnZox7qAu5fy928cnYpz+fNJq0PUE7yfkTadZ+UhLxhXzwAoHH4fjWtKiormkZVKrekTR2kH5lOPpWsp6e6zOMNfeROrgY4P4iuZxe7OpSQ/etIu5GrYuiWUjKDH5/wD16G9AI4m+cK2FI5x61EVbURL947uaNwGh5ckeThfXcKoZHI7SQuGQxgjrkUAV41uM52qSfmOP0rNWvoInMwAy8LgjqSP61eox6QxSFmaJepxkUJ3AjmjQPvQBHHCtjj6fSlNbENkkU+9AdmGHBUHoaIyTQ07ithlKleT2ND0GKCCuOhrN04t3e/3DuQRw3KnJmRx/tJzVpeYkhR8zbHjYED73GD9Of51EpW6MW7sOLdqnmTV4/wBfeVYiIQl12g9Nw9auErq9rAtyvKkcGJHCrF3O3O2r1uF9SNruykke389QqY3gcZz2z/ntQ4uWjFLXQvQXEcgby3VyvXaelUo3dgk7K4+Qhh71004WWpy1JpvQhRNqjP1qqcOVWJqT5nctRxggEHmsqk224s2pQVromC/Lg4rJKxsLtFA7EUuS8cYYjceSB2FADJD/AKQOcfKf6VL1AUxhl2nqfQ9KPIBVYoQjAezAcU/QB3XOeg/WgCrK5dlUZ+Y+naobJXcmh/1jnsMClHcaCQkqy9jTbYEfz20QfduQdQetUMeU3suSdo5xU21EMlVllDJjafvD+tDS2CxIBkg56jvQMVlA5BOaHYQgfHBovYLjJZ44PvbgSM8KTRbsBUjuopiAhfnplCP5inytIZMcK2TgE8ZxUKOtwHIcgBuSOCT3q+Rbtv5MTTaH8A4xz2I71rGjaN73M1U1sLtMZanFKVkwm7aoYccYznvmupX6nK7dB0a7m56CoqS5UVTjzMtKM84rk31OxCk4+vpTGJk9wPzouBXTL3jtkYQbQc9zyf6UW0EPYfvkIA7jNJWGQJZokuVeQ4O7lz/jSuBO/wAww2Np6mjzAjcmJNucoe/pTEyKABpmkxwPlB+lZrcCUNInCopHclsVaVhi7nZdrKoOexzUy7CYz5pmAz+7RunqRVPQZYIJb8KXURBMQv3jgE4BJxmp6jRUMMXmHNxKCOuJTVcwEyQxR7WSWV9vGDISPxocgJTwAanbQTQpKkc/nR6giIAyFokbDDgtjIFVFpsaY/CB8MMgUXAc2wvlRx6UKWrQ+gEZ+7jI7itac7N3MakG0MYEHmuqDjJXRzSUk7MSqIJ4lXZ7muWvq9TqopWJQw6c1nsbXAH5sj6Gn01FfUbOzCFiikvjjHrUlAqLFEFUYx/OnewmRsxMkeMck/yqdQRIBgc0AVXSMMFVT+LH/PepvYTkI8hUc8seBjvUObAnjiVIwAMVohjy23r0ovYCI/M3ykcHmhDRG6vEdyEkZyy+tN66ASLcIed6/QmlZoQ2Rlfn5WH1zUvcCGVVCb1QF1OcAdR6UN6aBK9roe/EX7lFz6Him1cZGZ7k5/cIOuCZO/5UOwAjSSRbZQkcpPAU7vxofZMT7Em4Qrj1obUUGiIEdhLwGbOc+1JSTGncDK6XYARzlPmHHHPHf60tpWJv7xPG7M3KFQPXHNUotuw3KyuPJyp+tdVGDg7M5qklJaDa6DAkiOCfpWVWN0bUpWbHqxcnAwPWolFRWpcZOT0DZMSSroB2yuf61g7t6m6t0FxKx/1i4A/u9T+dMY5VKr87An2GKmyAjk4MZ29G/oaaEOeQrgcZpN6A2Vy5LdMsewrJu7EOhi+YvIRuPAHpTUR2Jc44J49qu6EMZWbnLce9S22FgTgH6+lN6IEIoyxHYetNalIbPEJCMu6YORsOM09hlZLTy5AwllZsfxEH+lS5PqhD43LKCeT3qHowHCRiMhcj680vaNq6QXFVyx7ce/eqXM3qgHRnaxkkVVOMZDZ4/KqXdi82SEKeo+8aTCw0IkYIA57UKKQJWI5xsKSYJ2k7iOuCP8cVE97ky3uOypUMrAgjIOeDWylzxSElZ8y6kQu7UIzG5iwBk/N0qqblFhOKkh0M0M0vlrKpbGcA/wCfSuqVRJaHPGk29SVSFJDD2qpJtKxMWk2mSxH5PeuaqveOij8I9w7LgHZzye+Kg2HjAHsKQCYyeeKGrgRT9AADgMv8xTWgutiu6o20ksdp7E1ldiGQAht23Bbnk9qm7buBbTJq0MUqoGegFN2AY7YTceR2GcUNpC3AHEfPakxioVxxnHehDIizFmY8YYgDrxVSsBWEEQUBQ4A6Ykb/ABqee4DvIU54IBHIz1pON1rqFhBuD+Xk7T0Pf6UKy1QyXy8KpXgj8sVS8wAMJQVI46Mp/rTcdBbiwxPHAiM+9lGNx6ms4NNBa2gyS2Mk25XKtjBOT0/AitOmgnckayjKgOzyJ12ucj/P1qJwTd2JxT3HCNY1woAX0AxitIxTXuk83LvsRvGjqysilWGCCMgiuumrx1Rzzk1LRk0SKq7sAHPHtWc1eVjSm2o3FYqzDrimoyURSnFyJAqjJwAfUdaw82dCHZOcHkjvSGIzAFVBIJ5osA/PGcg0ARXI/wBGckAkc04gUyxwxKk4Gf8A61YbbEkqr8m4gCmm7DJQdgwaq4CO67SWOFAzk9qqwEf35Bg5A6+9ZNaiJgAQPWtFbYYzAPK0ttgKplSMbCkxPqIye/tVNXGEcqtIVCSAjnLIQPzqeSwA6SM5InZR6BRxT5kkAJE2R5s5ccnG0D+VNPsMa6TSDKXAQpkHA3A8cGraVriu72IxbXvzOt5gsOAYwKTY7Fq3t7hG3S3PmLjG3YBz9a56WvM1s3p/XqDJQf3p55FakkpGAOTSYEX7wMc4ZT0rSkurZnNteYyu44x5I8tRnms4p87fQ1k1yJdRvIxV6Mz1ROASMng+hrjk0jsih653nPXAqS0ObjB7A80xkcskcZwzYY0ARSzRSwOiSKxKnil1ANm0DmstiRQflAxn2o1QyN3Ctljjg9aT3ENWSMjDOpz1G4cmqHYcFUDCDC9AF4AqldgSqTgdPSm/ME7jZMoSe3ftQOwitkEd+9RJiZE7FXzsY+4FJDRG0fnHhpYyOODgGrjbYANryCZ5uDnAbiquhhFFJyu7IDcFuST70TvyqzEnqWFyhJY7hnOMe1YeyT+JtjuRtNIPmAbHYbR/jWmi0QiRMnluDmi5JOCNpBoWwyNmCrxW1Km5avYxqTUdFuRV2HKOVcvg9utRKXu6Fxj71mOkkXds8tyccELxWEZOLOiUVJEiMHQHBHqD2qJRs9Sk7qyGSTvHIwS3kkAAwVI688cn2H51JoSo7SKcxsn+9j+hp2AdtxjPJpMQjKCDjGaBlUSR5P70HHvWVuwhysAuc5B6GgQvB9/rQMAhBwQORnpVW0AcAR7Uk7APwGHPB9qtN2CxXuZWiZVIzwT0psadiKOQvKcJtKgdzzUPzJbJC24kHj37VNuwEF7MLRFckBydq5Bxn8KrYoZaXnnIQx3Pn7q88fpTUWwbS3LUYK5O0jcelXPRJEJpu5K/KYA6Vncu4KocbsfTNFtBCsAQKFuAvXnGAKNwI3A6iurDyuuU5q0VuMroMB4J2MfoKzcVdI0i3ytjg25xyR6VLjyxLUuaRJ1OAD7mseXqzW99EOC/OfpUGoqnI4/GmxIXIOMUDGtlsAdKmSbAr7VA6DntisxDsY/+tQAYAb60+gDv4iM8gdKetgHpnHNOIxu4ht5wF9fSna+qEZ02rwF+IpWxxwmcVM5dBNXJ47hJYwysfoRg1CaGhjRSM+VnZV3Z27QeMdP8+tapqxQ7/VSMWmLKRxHtHWrlB2TW5lzJtodCMb22bdxyBRVVopPcUWm9CTkn6VgaAZRlVC5LcDirSW47DycVL3EJuI47e1NOzEO5ye9LqMYw+WtsM7SsY1leNyOu05QzRYdxcEc1N+g/Mkjcr8rgj0rKcebVG0JcujJQ67wMjJGQM9awaa3OhNNXAYdzkHC8U7WQk7skPSkURqBknv7VKYFdRld2SCah6EDwvoSM0JjsIzbYy3XGTVW6BcfGQyCTHJAP51VhrYkzk0txkc2WhaMfLkYzUuXQVzB/slJfNLshYng+WOOazegNkkUbQlo2cNt6ELjFZyVmSzRi/wBWD14reOiRXQWAAr5mOTya7ZaRSRzbyfkTEYHFcMnd3OhKwdKSAaiYbcTktyatvWw7kpIyeKTYDOnNJCZHNMY8cZzjv61UlqNbDUm8zeNuMe/vWlBe+Z1fhFruOMKALK/KuOtcstXc64+6rAyKw5FTzuNrFOKluQgbZePTvWkXzq7IkuR2RKdyDCHBzkkjOaxcrs1irCM8u0/MnT+77fWkUPizs+Ygn1AxQkB//9k=' width='200' height='133' class=\"itemThumbnail\">\n",
       "                       </a>\n",
       "                    </div>\n",
       "\n",
       "                    <div class=\"item_right\"     style=\"float: none; width: auto; overflow: hidden;\">\n",
       "                        <a href='https://esrifederal.maps.arcgis.com/home/item.html?id=504a22d340314627afdb1a3e3f52ef2a' target='_blank'><b>Maryland Interstates with Crash Rate Risk</b>\n",
       "                        </a>\n",
       "                        <br/>Result from Crash Rate Analysis for Maryland interstates from 2010 through 2014<img src='https://esrifederal.maps.arcgis.com/home/js/jsapi/esri/css/images/item_type_icons/featureshosted16.png' style=\"vertical-align:middle;\">Feature Layer Collection by albe9057@esri.com_esrifederal\n",
       "                        <br/>Last Modified: January 07, 2019\n",
       "                        <br/>0 comments, 0 views\n",
       "                    </div>\n",
       "                </div>\n",
       "                "
      ],
      "text/plain": [
       "<Item title:\"Maryland Interstates with Crash Rate Risk\" type:Feature Layer Collection owner:albe9057@esri.com_esrifederal>"
      ]
     },
     "execution_count": 11,
     "metadata": {},
     "output_type": "execute_result"
    }
   ],
   "source": [
    "analysisroads_interstatesmd_item = gis.content.search(\"Maryland Interstates with Crash Rate Risk\", item_type=\"Feature Service\")[0]\n",
    "analysisroads_interstatesmd_item"
   ]
  },
  {
   "cell_type": "markdown",
   "metadata": {},
   "source": [
    "### Tabular Data Visualization"
   ]
  },
  {
   "cell_type": "markdown",
   "metadata": {},
   "source": [
    "To explore the tabular aspects of this dataset, we'll use a python module called Pandas, and a data object called a dataframe. Dataframes are very efficient ways to store and perform calculations on tabular data inside python. To maintain the spatial aspects of the dataframe, we'll use the concept of a spatially-enabled dataframe, which allows spatial operations and easy plotting on maps (using the Arcpy spatial engine if possible)"
   ]
  },
  {
   "cell_type": "markdown",
   "metadata": {},
   "source": [
    "#### Crashes Dataset"
   ]
  },
  {
   "cell_type": "code",
   "execution_count": 12,
   "metadata": {
    "scrolled": true
   },
   "outputs": [
    {
     "data": {
      "text/html": [
       "<div>\n",
       "<style scoped>\n",
       "    .dataframe tbody tr th:only-of-type {\n",
       "        vertical-align: middle;\n",
       "    }\n",
       "\n",
       "    .dataframe tbody tr th {\n",
       "        vertical-align: top;\n",
       "    }\n",
       "\n",
       "    .dataframe thead th {\n",
       "        text-align: right;\n",
       "    }\n",
       "</style>\n",
       "<table border=\"1\" class=\"dataframe\">\n",
       "  <thead>\n",
       "    <tr style=\"text-align: right;\">\n",
       "      <th></th>\n",
       "      <th>ALIGNMNT</th>\n",
       "      <th>ARR_HOUR</th>\n",
       "      <th>ARR_MIN</th>\n",
       "      <th>A_CRAINJ</th>\n",
       "      <th>A_CT</th>\n",
       "      <th>A_D15_19</th>\n",
       "      <th>A_D15_20</th>\n",
       "      <th>A_D16_19</th>\n",
       "      <th>A_D16_20</th>\n",
       "      <th>A_D16_24</th>\n",
       "      <th>...</th>\n",
       "      <th>WEATHER</th>\n",
       "      <th>WEATHER1</th>\n",
       "      <th>WEATHER2</th>\n",
       "      <th>WRK_ZONE</th>\n",
       "      <th>X</th>\n",
       "      <th>X_Y_VALID</th>\n",
       "      <th>Y</th>\n",
       "      <th>YEAR</th>\n",
       "      <th>YEAR_TEXT</th>\n",
       "      <th>latitude</th>\n",
       "    </tr>\n",
       "  </thead>\n",
       "  <tbody>\n",
       "    <tr>\n",
       "      <th>0</th>\n",
       "      <td>1</td>\n",
       "      <td>99</td>\n",
       "      <td>99</td>\n",
       "      <td>1</td>\n",
       "      <td>3</td>\n",
       "      <td>2</td>\n",
       "      <td>2</td>\n",
       "      <td>2</td>\n",
       "      <td>2</td>\n",
       "      <td>1</td>\n",
       "      <td>...</td>\n",
       "      <td>2</td>\n",
       "      <td>0</td>\n",
       "      <td>0</td>\n",
       "      <td>0</td>\n",
       "      <td>-76.110964</td>\n",
       "      <td>1</td>\n",
       "      <td>39.578481</td>\n",
       "      <td>2003</td>\n",
       "      <td>2003</td>\n",
       "      <td>39.578481</td>\n",
       "    </tr>\n",
       "    <tr>\n",
       "      <th>1</th>\n",
       "      <td>1</td>\n",
       "      <td>99</td>\n",
       "      <td>99</td>\n",
       "      <td>1</td>\n",
       "      <td>1</td>\n",
       "      <td>2</td>\n",
       "      <td>2</td>\n",
       "      <td>2</td>\n",
       "      <td>2</td>\n",
       "      <td>2</td>\n",
       "      <td>...</td>\n",
       "      <td>2</td>\n",
       "      <td>0</td>\n",
       "      <td>0</td>\n",
       "      <td>0</td>\n",
       "      <td>-76.286486</td>\n",
       "      <td>1</td>\n",
       "      <td>39.466642</td>\n",
       "      <td>2003</td>\n",
       "      <td>2003</td>\n",
       "      <td>39.466642</td>\n",
       "    </tr>\n",
       "    <tr>\n",
       "      <th>2</th>\n",
       "      <td>1</td>\n",
       "      <td>99</td>\n",
       "      <td>99</td>\n",
       "      <td>1</td>\n",
       "      <td>1</td>\n",
       "      <td>2</td>\n",
       "      <td>2</td>\n",
       "      <td>2</td>\n",
       "      <td>2</td>\n",
       "      <td>2</td>\n",
       "      <td>...</td>\n",
       "      <td>1</td>\n",
       "      <td>0</td>\n",
       "      <td>0</td>\n",
       "      <td>0</td>\n",
       "      <td>-77.166225</td>\n",
       "      <td>1</td>\n",
       "      <td>39.359514</td>\n",
       "      <td>2003</td>\n",
       "      <td>2003</td>\n",
       "      <td>39.359514</td>\n",
       "    </tr>\n",
       "    <tr>\n",
       "      <th>3</th>\n",
       "      <td>2</td>\n",
       "      <td>99</td>\n",
       "      <td>99</td>\n",
       "      <td>1</td>\n",
       "      <td>1</td>\n",
       "      <td>2</td>\n",
       "      <td>2</td>\n",
       "      <td>2</td>\n",
       "      <td>2</td>\n",
       "      <td>1</td>\n",
       "      <td>...</td>\n",
       "      <td>9</td>\n",
       "      <td>0</td>\n",
       "      <td>0</td>\n",
       "      <td>0</td>\n",
       "      <td>-76.639047</td>\n",
       "      <td>1</td>\n",
       "      <td>39.546289</td>\n",
       "      <td>2003</td>\n",
       "      <td>2003</td>\n",
       "      <td>39.546289</td>\n",
       "    </tr>\n",
       "    <tr>\n",
       "      <th>4</th>\n",
       "      <td>1</td>\n",
       "      <td>99</td>\n",
       "      <td>99</td>\n",
       "      <td>1</td>\n",
       "      <td>1</td>\n",
       "      <td>1</td>\n",
       "      <td>1</td>\n",
       "      <td>1</td>\n",
       "      <td>1</td>\n",
       "      <td>1</td>\n",
       "      <td>...</td>\n",
       "      <td>2</td>\n",
       "      <td>0</td>\n",
       "      <td>0</td>\n",
       "      <td>0</td>\n",
       "      <td>-76.807358</td>\n",
       "      <td>1</td>\n",
       "      <td>38.898033</td>\n",
       "      <td>2003</td>\n",
       "      <td>2003</td>\n",
       "      <td>38.898033</td>\n",
       "    </tr>\n",
       "  </tbody>\n",
       "</table>\n",
       "<p>5 rows × 115 columns</p>\n",
       "</div>"
      ],
      "text/plain": [
       "   ALIGNMNT  ARR_HOUR  ARR_MIN  A_CRAINJ  A_CT  A_D15_19  A_D15_20  A_D16_19  \\\n",
       "0         1        99       99         1     3         2         2         2   \n",
       "1         1        99       99         1     1         2         2         2   \n",
       "2         1        99       99         1     1         2         2         2   \n",
       "3         2        99       99         1     1         2         2         2   \n",
       "4         1        99       99         1     1         1         1         1   \n",
       "\n",
       "   A_D16_20  A_D16_24    ...      WEATHER  WEATHER1  WEATHER2  WRK_ZONE  \\\n",
       "0         2         1    ...            2         0         0         0   \n",
       "1         2         2    ...            2         0         0         0   \n",
       "2         2         2    ...            1         0         0         0   \n",
       "3         2         1    ...            9         0         0         0   \n",
       "4         1         1    ...            2         0         0         0   \n",
       "\n",
       "           X  X_Y_VALID          Y  YEAR  YEAR_TEXT   latitude  \n",
       "0 -76.110964          1  39.578481  2003       2003  39.578481  \n",
       "1 -76.286486          1  39.466642  2003       2003  39.466642  \n",
       "2 -77.166225          1  39.359514  2003       2003  39.359514  \n",
       "3 -76.639047          1  39.546289  2003       2003  39.546289  \n",
       "4 -76.807358          1  38.898033  2003       2003  38.898033  \n",
       "\n",
       "[5 rows x 115 columns]"
      ]
     },
     "execution_count": 12,
     "metadata": {},
     "output_type": "execute_result"
    }
   ],
   "source": [
    "# Convert the items into spatially-enabled dataframes\n",
    "crashes_fars_sedf = pd.DataFrame.spatial.from_layer(crashes_fars_item.layers[0])\n",
    "crashes_fars_sedf.head()"
   ]
  },
  {
   "cell_type": "code",
   "execution_count": 13,
   "metadata": {},
   "outputs": [
    {
     "data": {
      "text/plain": [
       "(7734, 115)"
      ]
     },
     "execution_count": 13,
     "metadata": {},
     "output_type": "execute_result"
    }
   ],
   "source": [
    "crashes_fars_sedf.shape"
   ]
  },
  {
   "cell_type": "markdown",
   "metadata": {},
   "source": [
    "Here's the basic view and shape (number of rows and columns) of our table. The table has several columns (115), so let's investigate the columns in the data a bit closer and keep only the ones we need to answer our question:"
   ]
  },
  {
   "cell_type": "code",
   "execution_count": 14,
   "metadata": {},
   "outputs": [
    {
     "data": {
      "text/plain": [
       "['ALIGNMNT',\n",
       " 'ARR_HOUR',\n",
       " 'ARR_MIN',\n",
       " 'A_CRAINJ',\n",
       " 'A_CT',\n",
       " 'A_D15_19',\n",
       " 'A_D15_20',\n",
       " 'A_D16_19',\n",
       " 'A_D16_20',\n",
       " 'A_D16_24',\n",
       " 'A_D21_24',\n",
       " 'A_D65PLS',\n",
       " 'A_DIST',\n",
       " 'A_DOW',\n",
       " 'A_DROWSY',\n",
       " 'A_HR',\n",
       " 'A_INTER',\n",
       " 'A_INTSEC',\n",
       " 'A_JUNC',\n",
       " 'A_LT',\n",
       " 'A_MANCOL',\n",
       " 'A_MC',\n",
       " 'A_PED',\n",
       " 'A_PEDAL',\n",
       " 'A_PEDAL_F',\n",
       " 'A_PED_F',\n",
       " 'A_POLPUR',\n",
       " 'A_POSBAC',\n",
       " 'A_RD',\n",
       " 'A_REGION',\n",
       " 'A_RELRD',\n",
       " 'A_ROADFC',\n",
       " 'A_ROLL',\n",
       " 'A_RU',\n",
       " 'A_SPCRA',\n",
       " 'A_TOD',\n",
       " 'BIA',\n",
       " 'CF1',\n",
       " 'CF2',\n",
       " 'CF3',\n",
       " 'CITY',\n",
       " 'COUNTY',\n",
       " 'C_M_ZONE',\n",
       " 'DATE',\n",
       " 'DATETIME',\n",
       " 'DATETIME_2',\n",
       " 'DAY',\n",
       " 'DAY_TEXT',\n",
       " 'DAY_WEEK',\n",
       " 'DRUNK_DR',\n",
       " 'FATALS',\n",
       " 'FUNC_SYS',\n",
       " 'HARM_EV',\n",
       " 'HIT_RUN',\n",
       " 'HOSP_HR',\n",
       " 'HOSP_MN',\n",
       " 'HOUR',\n",
       " 'HOUR_TEXT',\n",
       " 'INDIAN_RES',\n",
       " 'LGT_COND',\n",
       " 'LONGITUDE',\n",
       " 'MAN_COLL',\n",
       " 'MILEPT',\n",
       " 'MINUTE',\n",
       " 'MINUTE_TEXT',\n",
       " 'MONTH',\n",
       " 'MONTH_TEXT',\n",
       " 'NHS',\n",
       " 'NOT_HOUR',\n",
       " 'NOT_MIN',\n",
       " 'NO_LANES',\n",
       " 'OBJECTID',\n",
       " 'PAVE_TYP',\n",
       " 'PEDS',\n",
       " 'PERMVIT',\n",
       " 'PERNOTMVIT',\n",
       " 'PERSONS',\n",
       " 'PROFILE',\n",
       " 'PVH_INVL',\n",
       " 'RAIL',\n",
       " 'RD_OWNER',\n",
       " 'RELJCT1',\n",
       " 'RELJCT2',\n",
       " 'REL_JUNC',\n",
       " 'REL_ROAD',\n",
       " 'ROAD_FNC',\n",
       " 'ROUTE',\n",
       " 'RUR_URB',\n",
       " 'SCH_BUS',\n",
       " 'SHAPE',\n",
       " 'SPJ_INDIAN',\n",
       " 'SP_JUR',\n",
       " 'SP_LIMIT',\n",
       " 'STATE',\n",
       " 'ST_CASE',\n",
       " 'SUR_COND',\n",
       " 'TIME',\n",
       " 'TRAF_FLO',\n",
       " 'TRA_CONT',\n",
       " 'TWAY_ID',\n",
       " 'TWAY_ID2',\n",
       " 'TYP_INT',\n",
       " 'T_CONT_F',\n",
       " 'VE_FORMS',\n",
       " 'VE_TOTAL',\n",
       " 'WEATHER',\n",
       " 'WEATHER1',\n",
       " 'WEATHER2',\n",
       " 'WRK_ZONE',\n",
       " 'X',\n",
       " 'X_Y_VALID',\n",
       " 'Y',\n",
       " 'YEAR',\n",
       " 'YEAR_TEXT',\n",
       " 'latitude']"
      ]
     },
     "execution_count": 14,
     "metadata": {},
     "output_type": "execute_result"
    }
   ],
   "source": [
    "crashes_fars_sedf.columns.tolist()"
   ]
  },
  {
   "cell_type": "markdown",
   "metadata": {},
   "source": [
    "FARS Documentation: https://crashstats.nhtsa.dot.gov/Api/Public/ViewPublication/812602"
   ]
  },
  {
   "cell_type": "markdown",
   "metadata": {},
   "source": [
    "The full allotment of attributes in this table will be useful for several workflows, but for the purposes of this exercise, let's consider which aspects of the crash data we actually need: "
   ]
  },
  {
   "cell_type": "code",
   "execution_count": 15,
   "metadata": {},
   "outputs": [],
   "source": [
    "needed_fields = [\n",
    "    \"SHAPE\",\n",
    "    \"STATE\",\n",
    "    \"COUNTY\",\n",
    "    \"PERSONS\",\n",
    "    \"PEDS\",\n",
    "    \"ROAD_FNC\",\n",
    "    \"HARM_EV\", \n",
    "    \"MAN_COLL\", # Manner of collision (i.e. rear-end)\n",
    "    \"REL_ROAD\", # Relation to road (i.e. On roadway, shoulder)\n",
    "    \"LGT_COND\", # Light condition (i.e. Daylight, dark)\n",
    "    \"WEATHER\", \n",
    "    \"WEATHER1\",\n",
    "    \"WEATHER2\",\n",
    "    \"WRK_ZONE\",\n",
    "    \"FATALS\",\n",
    "    \"DAY_WEEK\",\n",
    "    \"DRUNK_DR\",\n",
    "    \"TWAY_ID\",\n",
    "    \"RAIL\",\n",
    "    \"latitude\",\n",
    "    \"LONGITUDE\",\n",
    "    \"A_RU\", # Land use (i.e. Rural/Urban)\n",
    "    \"A_RD\", # Involving a roadway departure\n",
    "    \"A_CT\", # Crash type\n",
    "    \"A_LT\", # Involving a large truck\n",
    "    \"A_MC\", # Involving a motorcycle\n",
    "    \"A_SPCRA\", # Involving speeding\n",
    "    \"A_PED\", # Involving a pedestrian\n",
    "    \"A_PEDAL\", # Involving a pedalcyclist\n",
    "    \"A_ROLL\", # Involving a rollover\n",
    "    \"A_POLPUR\", # Involving a police pursuit\n",
    "    \"A_POSBAC\", # Involving a driver with a positive BAC test result\n",
    "    \"A_D15_19\", # Crashes Involving a Young Driver (Aged 15-19)\n",
    "    \"A_D15_20\", # Crashes Involving a Young Driver (Aged 15-20)\n",
    "    \"A_D16_19\", # Crashes Involving a Young Driver (Aged 16-19)\n",
    "    \"A_D16_20\", # Crashes Involving a Young Driver (Aged 16-20)\n",
    "    \"A_D16_24\", # Crashes Involving a Young Driver (Aged 16-24)\n",
    "    \"A_D21_24\", # Crashes Involving a Young Driver (Aged 21-24)\n",
    "    \"A_D65PLS\", # Crashes Involving an Older Driver (Aged 65+)\n",
    "    \"A_DIST\", # Involving a distracted driver\n",
    "    \"A_DROWSY\", # Involving a drowsy driver\n",
    "    \"YEAR_TEXT\",\n",
    "    \"MONTH_TEXT\",\n",
    "    \"DAY_TEXT\",\n",
    "    \"HOUR_TEXT\",\n",
    "    \"MINUTE_TEXT\",\n",
    "    \"DATE\",\n",
    "    \"DATETIME_2\",\n",
    "]"
   ]
  },
  {
   "cell_type": "code",
   "execution_count": 16,
   "metadata": {},
   "outputs": [
    {
     "data": {
      "text/plain": [
       "(7734, 48)"
      ]
     },
     "execution_count": 16,
     "metadata": {},
     "output_type": "execute_result"
    }
   ],
   "source": [
    "# Select our data by the list of columns we need\n",
    "crashes_fars_sedf = crashes_fars_sedf[needed_fields]\n",
    "crashes_fars_sedf.shape"
   ]
  },
  {
   "cell_type": "markdown",
   "metadata": {},
   "source": [
    "We've parsed the data down to 47 columns. That helps us work with a smaller set of information for each crash. If we need to bring additional information on a future analysis, we simply need to add the corresponding attribute to the \"needed_fields\" list on the code cell above. \n",
    "\n",
    "We also need to query the records in this dataset for accidents that occurred on interstates between 2010 and 2014. The reason we're focusing on 2010 through 2014 is because we have a readily-available dataset of roads in Maryland with accurate traffic counts between 2010 and 2014 from the \"Crash Analysis\" solution template in ArcGIS, and we want to compare how the two proposed analyses workflows can supplement the existing approach. "
   ]
  },
  {
   "cell_type": "code",
   "execution_count": 17,
   "metadata": {},
   "outputs": [
    {
     "data": {
      "text/plain": [
       "(262, 48)"
      ]
     },
     "execution_count": 17,
     "metadata": {},
     "output_type": "execute_result"
    }
   ],
   "source": [
    "# Query for FARS crashes on Maryland interstates between 2010 and 2014\n",
    "query = (crashes_fars_sedf.YEAR_TEXT.isin([\"2010\", \"2011\", \"2012\", \"2013\", \"2014\"])) & (crashes_fars_sedf['ROAD_FNC'] == 11)\n",
    "crashes_q_sedf = crashes_fars_sedf[query]\n",
    "crashes_q_sedf.shape"
   ]
  },
  {
   "cell_type": "markdown",
   "metadata": {},
   "source": [
    "We are left with 262 fatal accidents in Maryland interstates between 2010 and 2014. Let's quickly confirm by plotting these on a map along with the Maryland Interstates."
   ]
  },
  {
   "cell_type": "markdown",
   "metadata": {},
   "source": [
    "### Map Data Visualization"
   ]
  },
  {
   "cell_type": "code",
   "execution_count": 18,
   "metadata": {},
   "outputs": [
    {
     "data": {
      "application/vnd.jupyter.widget-view+json": {
       "model_id": "b4c6fe6b80d3438aae03b5f67534cac8",
       "version_major": 2,
       "version_minor": 0
      },
      "text/plain": [
       "MapView(layout=Layout(height='400px', width='100%'))"
      ]
     },
     "metadata": {},
     "output_type": "display_data"
    },
    {
     "data": {
      "text/html": [
       "<div class=\"map-static-img-preview-1e6e2dbf-7d2a-4eb7-aeac-ddf5bf1d1bfb\"><img src=\"\"></img></div>"
      ],
      "text/plain": [
       "<IPython.core.display.HTML object>"
      ]
     },
     "metadata": {},
     "output_type": "display_data"
    }
   ],
   "source": [
    "verif_map = gis.map(\"Maryland\")\n",
    "verif_map"
   ]
  },
  {
   "cell_type": "code",
   "execution_count": 19,
   "metadata": {},
   "outputs": [
    {
     "name": "stderr",
     "output_type": "stream",
     "text": [
      "C:\\ProgramData\\Anaconda3\\lib\\site-packages\\arcgis\\features\\geo\\_accessor.py:2161: SettingWithCopyWarning: \n",
      "A value is trying to be set on a copy of a slice from a DataFrame.\n",
      "Try using .loc[row_indexer,col_indexer] = value instead\n",
      "\n",
      "See the caveats in the documentation: http://pandas.pydata.org/pandas-docs/stable/indexing.html#indexing-view-versus-copy\n",
      "  self._data['OBJECTID'] = list(range(1, self._data.shape[0] + 1))\n"
     ]
    },
    {
     "data": {
      "text/plain": [
       "True"
      ]
     },
     "execution_count": 19,
     "metadata": {},
     "output_type": "execute_result"
    }
   ],
   "source": [
    "verif_map.add_layer(roads_maryland_interstate_polylines_item)\n",
    "crashes_q_sedf.spatial.plot(map_widget=verif_map)"
   ]
  },
  {
   "cell_type": "markdown",
   "metadata": {},
   "source": [
    "## <span style=\"color:Navy\">Baseline: </span><span> FHWA Network Screening (Highway Safety Manual / usRAP) </span>"
   ]
  },
  {
   "cell_type": "markdown",
   "metadata": {},
   "source": [
    "The bulk of this analysis was performed in ArcGIS Pro using the \"Crash Analysis\" ArcGIS Solution Template found at https://solutions.arcgis.com/local-government/help/crash-analysis/. Outputs of this analysis for Maryland interstates from 2010 through 2014 are loaded into this notebook as a point of comparison. \n",
    "\n",
    "Further information can be found here: https://solutions.arcgis.com/local-government/help/crash-analysis/workflows/create-risk-maps/"
   ]
  },
  {
   "cell_type": "markdown",
   "metadata": {},
   "source": [
    "This analysis produced four output attributes that can be used to interpret how singificant accident issues are for each road segment. Let's start by visualizing the \"Crash Rate Risk\" which is derived from the crash rate for each segment: a calculation of the amount of accidents divided by the amount of traffic at each segment.  "
   ]
  },
  {
   "cell_type": "code",
   "execution_count": 20,
   "metadata": {},
   "outputs": [
    {
     "data": {
      "application/vnd.jupyter.widget-view+json": {
       "model_id": "0054c152c7f946d6b3d6b363abd00fb0",
       "version_major": 2,
       "version_minor": 0
      },
      "text/plain": [
       "MapView(layout=Layout(height='400px', width='100%'))"
      ]
     },
     "metadata": {},
     "output_type": "display_data"
    },
    {
     "data": {
      "text/html": [
       "<div class=\"map-static-img-preview-b17a13ad-4f88-430c-b6ba-483268720acc\"><img src=\"\"></img></div>"
      ],
      "text/plain": [
       "<IPython.core.display.HTML object>"
      ]
     },
     "metadata": {},
     "output_type": "display_data"
    }
   ],
   "source": [
    "fhwa_ns_map = gis.map(\"Maryland\")\n",
    "fhwa_ns_map.basemap = 'gray'\n",
    "fhwa_ns_map"
   ]
  },
  {
   "cell_type": "markdown",
   "metadata": {},
   "source": [
    "<img style=\"float:left\" src=\"data:image/jpeg;base64,/9j/4AAQSkZJRgABAQEAYABgAAD/4RD0RXhpZgAATU0AKgAAAAgABAE7AAIAAAAOAAAISodpAAQAAAABAAAIWJydAAEAAAAcAAAQ0OocAAcAAAgMAAAAPgAAAAAc6gAAAAgAAAAAAAAAAAAAAAAAAAAAAAAAAAAAAAAAAAAAAAAAAAAAAAAAAAAAAAAAAAAAAAAAAAAAAAAAAAAAAAAAAAAAAAAAAAAAAAAAAAAAAAAAAAAAAAAAAAAAAAAAAAAAAAAAAAAAAAAAAAAAAAAAAAAAAAAAAAAAAAAAAAAAAAAAAAAAAAAAAAAAAAAAAAAAAAAAAAAAAAAAAAAAAAAAAAAAAAAAAAAAAAAAAAAAAAAAAAAAAAAAAAAAAAAAAAAAAAAAAAAAAAAAAAAAAAAAAAAAAAAAAAAAAAAAAAAAAAAAAAAAAAAAAAAAAAAAAAAAAAAAAAAAAAAAAAAAAAAAAAAAAAAAAAAAAAAAAAAAAAAAAAAAAAAAAAAAAAAAAAAAAAAAAAAAAAAAAAAAAAAAAAAAAAAAAAAAAAAAAAAAAAAAAAAAAAAAAAAAAAAAAAAAAAAAAAAAAAAAAAAAAAAAAAAAAAAAAAAAAAAAAAAAAAAAAAAAAAAAAAAAAAAAAAAAAAAAAAAAAAAAAAAAAAAAAAAAAAAAAAAAAAAAAAAAAAAAAAAAAAAAAAAAAAAAAAAAAAAAAAAAAAAAAAAAAAAAAAAAAAAAAAAAAAAAAAAAAAAAAAAAAAAAAAAAAAAAAAAAAAAAAAAAAAAAAAAAAAAAAAAAAAAAAAAAAAAAAAAAAAAAAAAAAAAAAAAAAAAAAAAAAAAAAAAAAAAAAAAAAAAAAAAAAAAAAAAAAAAAAAAAAAAAAAAAAAAAAAAAAAAAAAAAAAAAAAAAAAAAAAAAAAAAAAAAAAAAAAAAAAAAAAAAAAAAAAAAAAAAAAAAAAAAAAAAAAAAAAAAAAAAAAAAAAAAAAAAAAAAAAAAAAAAAAAAAAAAAAAAAAAAAAAAAAAAAAAAAAAAAAAAAAAAAAAAAAAAAAAAAAAAAAAAAAAAAAAAAAAAAAAAAAAAAAAAAAAAAAAAAAAAAAAAAAAAAAAAAAAAAAAAAAAAAAAAAAAAAAAAAAAAAAAAAAAAAAAAAAAAAAAAAAAAAAAAAAAAAAAAAAAAAAAAAAAAAAAAAAAAAAAAAAAAAAAAAAAAAAAAAAAAAAAAAAAAAAAAAAAAAAAAAAAAAAAAAAAAAAAAAAAAAAAAAAAAAAAAAAAAAAAAAAAAAAAAAAAAAAAAAAAAAAAAAAAAAAAAAAAAAAAAAAAAAAAAAAAAAAAAAAAAAAAAAAAAAAAAAAAAAAAAAAAAAAAAAAAAAAAAAAAAAAAAAAAAAAAAAAAAAAAAAAAAAAAAAAAAAAAAAAAAAAAAAAAAAAAAAAAAAAAAAAAAAAAAAAAAAAAAAAAAAAAAAAAAAAAAAAAAAAAAAAAAAAAAAAAAAAAAAAAAAAAAAAAAAAAAAAAAAAAAAAAAAAAAAAAAAAAAAAAAAAAAAAAAAAAAAAAAAAAAAAAAAAAAAAAAAAAAAAAAAAAAAAAAAAAAAAAAAAAAAAAAAAAAAAAAAAAAAAAAAAAAAAAAAAAAAAAAAAAAAAAAAAAAAAAAAAAAAAAAAAAAAAAAAAAAAAAAAAAAAAAAAAAAAAAAAAAAAAAAAAAAAAAAAAAAAAAAAAAAAAAAAAAAAAAAAAAAAAAAAAAAAAAAAAAAAAAAAAAAAAAAAAAAAAAAAAAAAAAAAAAAAAAAAAAAAAAAAAAAAAAAAAAAAAAAAAAAAAAAAAAAAAAAAAAAAAAAAAAAAAAAAAAAAAAAAAAAAAAAAAAAAAAAAAAAAAAAAAAAAAAAAAAAAAAAAAAAAAAAAAAAAAAAAAAAAAAAAAAAAAAAAAAAAAAAAAAAAAAAAAAAAAAAAAAAAAAAAAAAAAAAAAAAAAAAAAAAAAAAAAAAAAAAAAAAAAAAAAAAAAAAAAAAAAAAAAAAAAAAAAAAAAAAAAAAAAAAAAAAAAAAAAAAAAAAAAAAAAAAAAAAAAAAAAAAAAAAAAAAAAAAAAAAAAAAAAAAAAAAAAAAAAAAAAAAAAAAAAAAAAAAAAAAAAAAAAAAAAAAAAAAAAAAAAAAAAAAAAAAAAAAAAAAAAAAAAAAAAAAAAAAAAAAAAAAAAAAAAAAAAAAAAAAAAAAAAAAAAAAAAAAAAAAAAAAAAAAAAAAAAAAAAAAAAAAAAAAAAAAAAAAAAAAAAAAAAAAAAAAAAAAAAAAAAAAAAAAAAAAAAAAAAAAAAAAAAAAAAAAAAAAAAAAAAAAAAAAAAAAAAAAAAAAAAAAAAAAAAAAAAAAAAAAAAAAAAAAAAAAAAAAAAAAAAAAAAAAAAAAAAAAAAAAAAAAAAAAAAAAAAAAAAAAAAAAAAAAAAAAAAAAAAAAAAAAAAAAAAAAAAAAAAAAAAAAAAAAAAAAAAAAAAAAAAAAAAAAAAAAAAAAAAAAAAAAAAAAAAAAAAAAAAAAAAAAAAAAAAAAAAAAAAAAAAAAAAAAAAAAAAAAAAAAAAAAAAAAAAAAAAAAAAAAAAAAAAAAAAAAAAAAAAAAAAAAAAAAAAAAAAAAAAAAAAAAAAAAAAAAAAAAAAAAAAAAAAAAAAAAAAAAAAAAAAAAAAAAAAAAAAAAAAAAAAAAAAAAAAAAAAAAAAAAAAAAAAAAAAAAAAAAAAAAAAAAAAAAAAAAAAAAAAAAAAAAAAAAAAAAAAAAAAAAAAAAAAAAAAAAAAAAAAAAAAAAAAAAAAAAAAAAAAAAAAAAAAAAAAAAAAAAAAAAAAAAAAAAAAAAAAAAAAAAAAAAAAAAAAAAAAAAAAAAAAAAAAAAAEFsYmVydG8gTmlldG8AAAWQAwACAAAAFAAAEKaQBAACAAAAFAAAELqSkQACAAAAAzgzAACSkgACAAAAAzgzAADqHAAHAAAIDAAACJoAAAAAHOoAAAAIAAAAAAAAAAAAAAAAAAAAAAAAAAAAAAAAAAAAAAAAAAAAAAAAAAAAAAAAAAAAAAAAAAAAAAAAAAAAAAAAAAAAAAAAAAAAAAAAAAAAAAAAAAAAAAAAAAAAAAAAAAAAAAAAAAAAAAAAAAAAAAAAAAAAAAAAAAAAAAAAAAAAAAAAAAAAAAAAAAAAAAAAAAAAAAAAAAAAAAAAAAAAAAAAAAAAAAAAAAAAAAAAAAAAAAAAAAAAAAAAAAAAAAAAAAAAAAAAAAAAAAAAAAAAAAAAAAAAAAAAAAAAAAAAAAAAAAAAAAAAAAAAAAAAAAAAAAAAAAAAAAAAAAAAAAAAAAAAAAAAAAAAAAAAAAAAAAAAAAAAAAAAAAAAAAAAAAAAAAAAAAAAAAAAAAAAAAAAAAAAAAAAAAAAAAAAAAAAAAAAAAAAAAAAAAAAAAAAAAAAAAAAAAAAAAAAAAAAAAAAAAAAAAAAAAAAAAAAAAAAAAAAAAAAAAAAAAAAAAAAAAAAAAAAAAAAAAAAAAAAAAAAAAAAAAAAAAAAAAAAAAAAAAAAAAAAAAAAAAAAAAAAAAAAAAAAAAAAAAAAAAAAAAAAAAAAAAAAAAAAAAAAAAAAAAAAAAAAAAAAAAAAAAAAAAAAAAAAAAAAAAAAAAAAAAAAAAAAAAAAAAAAAAAAAAAAAAAAAAAAAAAAAAAAAAAAAAAAAAAAAAAAAAAAAAAAAAAAAAAAAAAAAAAAAAAAAAAAAAAAAAAAAAAAAAAAAAAAAAAAAAAAAAAAAAAAAAAAAAAAAAAAAAAAAAAAAAAAAAAAAAAAAAAAAAAAAAAAAAAAAAAAAAAAAAAAAAAAAAAAAAAAAAAAAAAAAAAAAAAAAAAAAAAAAAAAAAAAAAAAAAAAAAAAAAAAAAAAAAAAAAAAAAAAAAAAAAAAAAAAAAAAAAAAAAAAAAAAAAAAAAAAAAAAAAAAAAAAAAAAAAAAAAAAAAAAAAAAAAAAAAAAAAAAAAAAAAAAAAAAAAAAAAAAAAAAAAAAAAAAAAAAAAAAAAAAAAAAAAAAAAAAAAAAAAAAAAAAAAAAAAAAAAAAAAAAAAAAAAAAAAAAAAAAAAAAAAAAAAAAAAAAAAAAAAAAAAAAAAAAAAAAAAAAAAAAAAAAAAAAAAAAAAAAAAAAAAAAAAAAAAAAAAAAAAAAAAAAAAAAAAAAAAAAAAAAAAAAAAAAAAAAAAAAAAAAAAAAAAAAAAAAAAAAAAAAAAAAAAAAAAAAAAAAAAAAAAAAAAAAAAAAAAAAAAAAAAAAAAAAAAAAAAAAAAAAAAAAAAAAAAAAAAAAAAAAAAAAAAAAAAAAAAAAAAAAAAAAAAAAAAAAAAAAAAAAAAAAAAAAAAAAAAAAAAAAAAAAAAAAAAAAAAAAAAAAAAAAAAAAAAAAAAAAAAAAAAAAAAAAAAAAAAAAAAAAAAAAAAAAAAAAAAAAAAAAAAAAAAAAAAAAAAAAAAAAAAAAAAAAAAAAAAAAAAAAAAAAAAAAAAAAAAAAAAAAAAAAAAAAAAAAAAAAAAAAAAAAAAAAAAAAAAAAAAAAAAAAAAAAAAAAAAAAAAAAAAAAAAAAAAAAAAAAAAAAAAAAAAAAAAAAAAAAAAAAAAAAAAAAAAAAAAAAAAAAAAAAAAAAAAAAAAAAAAAAAAAAAAAAAAAAAAAAAAAAAAAAAAAAAAAAAAAAAAAAAAAAAAAAAAAAAAAAAAAAAAAAAAAAAAAAAAAAAAAAAAAAAAAAAAAAAAAAAAAAAAAAAAAAAAAAAAAAAAAAAAAAAAAAAAAAAAAAAAAAAAAAAAAAAAAAAAAAAAAAAAAAAAAAAAAAAAAAAAAAAAAAAAAAAAAAAAAAAAAAAAAAAAAAAAAAAAAAAAAAAAAAAAAAAAAAAAAAAAAAAAAAAAAAAAAAAAAAAAAAAAAAAAAAAAAAAAAAAAAAAAAAAAAAAAAAAAAAAAAAAAAAAAAAAAAAAAAAAAAAAAAAAAAAAAAAAAAAAAAAAAAAAAAAAAAAAAAAAAAAAAAAAAAAAAAAAAAAAAAAAAAAAAAAAAAAAAAAAAAAAAAAAAAAAAAAAAAAAAAAAAAAAAAAAAAAAAAAAAAAAAAAAAAAAAAAAAAAAAAAAAAAAAAAAAAAAAAAAAAAAAAAAAAAAAAAAAAAAAAAAAAAAAAAAAAAAAAAAAAAAAAAAAAAAAAAAAAAAAAAAAAAAAAAAAAAAAAAAAAAAAAAAAAAAAAAAAAAAAAAAAAAAAAAAAAAAAAAAAAAAAAAAAAAAAAAAAAAAAAAAAAAAAAAAAAAAAAAAAAAAAAAAAAAAAAAAAAAAAAAAAAAAAAAAAAAAAAAAAAAAAAAAAAAAAAAAAAAAAAAAAAAAAAAAAAAAAAAAAAAAAAAAAAAAAAAAAAAAAAAAAAAAAAAAAAAAAAAAAAAAAAAAAAAAAAAAAAAAAAAAAAAAAAAAAAAAAAAAAAAAAAAAAAAAAAAAAAAAAAAAAAAAAAAAAAAAAAAAAAAAAAAAAAAAAAAAAAAAAAAAAAAAAAAAAAAAAAAAAAAAAAAAAAAAAAAAAAAAAAAAAAAAAAAAAAAAAAAAAAAAAAAAAAAAAAAAAAAAAAAAAAAAAAAAAAAAAAAAAAAAAAAAAAAAAAAAAAAAAAAAAAAAAAAAAAAAAAAAAAAAAAAAAAAAAAAAAAAAAAAAAAAAAAAAAAAAAAAAAAAAAAAAAAAAAAAAAAAAAAAAAAAAAAAAAAAAAAAAAAAAAAAAAAyMDE5OjAxOjA3IDE1OjUxOjAxADIwMTk6MDE6MDcgMTU6NTE6MDEAAABBAGwAYgBlAHIAdABvACAATgBpAGUAdABvAAAA/+ELIGh0dHA6Ly9ucy5hZG9iZS5jb20veGFwLzEuMC8APD94cGFja2V0IGJlZ2luPSfvu78nIGlkPSdXNU0wTXBDZWhpSHpyZVN6TlRjemtjOWQnPz4NCjx4OnhtcG1ldGEgeG1sbnM6eD0iYWRvYmU6bnM6bWV0YS8iPjxyZGY6UkRGIHhtbG5zOnJkZj0iaHR0cDovL3d3dy53My5vcmcvMTk5OS8wMi8yMi1yZGYtc3ludGF4LW5zIyI+PHJkZjpEZXNjcmlwdGlvbiByZGY6YWJvdXQ9InV1aWQ6ZmFmNWJkZDUtYmEzZC0xMWRhLWFkMzEtZDMzZDc1MTgyZjFiIiB4bWxuczpkYz0iaHR0cDovL3B1cmwub3JnL2RjL2VsZW1lbnRzLzEuMS8iLz48cmRmOkRlc2NyaXB0aW9uIHJkZjphYm91dD0idXVpZDpmYWY1YmRkNS1iYTNkLTExZGEtYWQzMS1kMzNkNzUxODJmMWIiIHhtbG5zOnhtcD0iaHR0cDovL25zLmFkb2JlLmNvbS94YXAvMS4wLyI+PHhtcDpDcmVhdGVEYXRlPjIwMTktMDEtMDdUMTU6NTE6MDEuODMwPC94bXA6Q3JlYXRlRGF0ZT48L3JkZjpEZXNjcmlwdGlvbj48cmRmOkRlc2NyaXB0aW9uIHJkZjphYm91dD0idXVpZDpmYWY1YmRkNS1iYTNkLTExZGEtYWQzMS1kMzNkNzUxODJmMWIiIHhtbG5zOmRjPSJodHRwOi8vcHVybC5vcmcvZGMvZWxlbWVudHMvMS4xLyI+PGRjOmNyZWF0b3I+PHJkZjpTZXEgeG1sbnM6cmRmPSJodHRwOi8vd3d3LnczLm9yZy8xOTk5LzAyLzIyLXJkZi1zeW50YXgtbnMjIj48cmRmOmxpPkFsYmVydG8gTmlldG88L3JkZjpsaT48L3JkZjpTZXE+DQoJCQk8L2RjOmNyZWF0b3I+PC9yZGY6RGVzY3JpcHRpb24+PC9yZGY6UkRGPjwveDp4bXBtZXRhPg0KICAgICAgICAgICAgICAgICAgICAgICAgICAgICAgICAgICAgICAgICAgICAgICAgICAgICAgICAgICAgICAgICAgICAgICAgICAgICAgICAgICAgICAgICAgICAgICAgICAgIAogICAgICAgICAgICAgICAgICAgICAgICAgICAgICAgICAgICAgICAgICAgICAgICAgICAgICAgICAgICAgICAgICAgICAgICAgICAgICAgICAgICAgICAgICAgICAgICAgICAgCiAgICAgICAgICAgICAgICAgICAgICAgICAgICAgICAgICAgICAgICAgICAgICAgICAgICAgICAgICAgICAgICAgICAgICAgICAgICAgICAgICAgICAgICAgICAgICAgICAgICAKICAgICAgICAgICAgICAgICAgICAgICAgICAgICAgICAgICAgICAgICAgICAgICAgICAgICAgICAgICAgICAgICAgICAgICAgICAgICAgICAgICAgICAgICAgICAgICAgICAgIAogICAgICAgICAgICAgICAgICAgICAgICAgICAgICAgICAgICAgICAgICAgICAgICAgICAgICAgICAgICAgICAgICAgICAgICAgICAgICAgICAgICAgICAgICAgICAgICAgICAgCiAgICAgICAgICAgICAgICAgICAgICAgICAgICAgICAgICAgICAgICAgICAgICAgICAgICAgICAgICAgICAgICAgICAgICAgICAgICAgICAgICAgICAgICAgICAgICAgICAgICAKICAgICAgICAgICAgICAgICAgICAgICAgICAgICAgICAgICAgICAgICAgICAgICAgICAgICAgICAgICAgICAgICAgICAgICAgICAgICAgICAgICAgICAgICAgICAgICAgICAgIAogICAgICAgICAgICAgICAgICAgICAgICAgICAgICAgICAgICAgICAgICAgICAgICAgICAgICAgICAgICAgICAgICAgICAgICAgICAgICAgICAgICAgICAgICAgICAgICAgICAgCiAgICAgICAgICAgICAgICAgICAgICAgICAgICAgICAgICAgICAgICAgICAgICAgICAgICAgICAgICAgICAgICAgICAgICAgICAgICAgICAgICAgICAgICAgICAgICAgICAgICAKICAgICAgICAgICAgICAgICAgICAgICAgICAgICAgICAgICAgICAgICAgICAgICAgICAgICAgICAgICAgICAgICAgICAgICAgICAgICAgICAgICAgICAgICAgICAgICAgICAgIAogICAgICAgICAgICAgICAgICAgICAgICAgICAgICAgICAgICAgICAgICAgICAgICAgICAgICAgICAgICAgICAgICAgICAgICAgICAgICAgICAgICAgICAgICAgICAgICAgICAgCiAgICAgICAgICAgICAgICAgICAgICAgICAgICAgICAgICAgICAgICAgICAgICAgICAgICAgICAgICAgICAgICAgICAgICAgICAgICAgICAgICAgICAgICAgICAgICAgICAgICAKICAgICAgICAgICAgICAgICAgICAgICAgICAgICAgICAgICAgICAgICAgICAgICAgICAgICAgICAgICAgICAgICAgICAgICAgICAgICAgICAgICAgICAgICAgICAgICAgICAgIAogICAgICAgICAgICAgICAgICAgICAgICAgICAgICAgICAgICAgICAgICAgICAgICAgICAgICAgICAgICAgICAgICAgICAgICAgICAgICAgICAgICAgICAgICAgICAgICAgICAgCiAgICAgICAgICAgICAgICAgICAgICAgICAgICAgICAgICAgICAgICAgICAgICAgICAgICAgICAgICAgICAgICAgICAgICAgICAgICAgICAgICAgICAgICAgICAgICAgICAgICAKICAgICAgICAgICAgICAgICAgICAgICAgICAgICAgICAgICAgICAgICAgICAgICAgICAgICAgICAgICAgICAgICAgICAgICAgICAgICAgICAgICAgICAgICAgICAgICAgICAgIAogICAgICAgICAgICAgICAgICAgICAgICAgICAgICAgICAgICAgICAgICAgICAgICAgICAgICAgICAgICAgICAgICAgICAgICAgICAgICAgICAgICAgICAgICAgICAgICAgICAgCiAgICAgICAgICAgICAgICAgICAgICAgICAgICAgICAgICAgICAgICAgICAgICAgICAgICAgICAgICAgICAgICAgICAgICAgICAgICAgICAgICAgICAgICAgICAgICAgICAgICAKICAgICAgICAgICAgICAgICAgICAgICAgICAgICAgICAgICAgICAgICAgICAgICAgICAgICAgICAgICAgICAgICAgICAgICAgICAgICAgICAgICAgICAgICAgICAgICAgICAgIAogICAgICAgICAgICAgICAgICAgICAgICAgICAgICAgICAgICAgICAgICAgICAgICAgICAgICAgICAgICAgICAgICAgICAgICAgICAgICAgICAgICAgICAgICAgICAgICAgICAgCiAgICAgICAgICAgICAgICAgICAgICAgICAgICA8P3hwYWNrZXQgZW5kPSd3Jz8+/9sAQwAHBQUGBQQHBgUGCAcHCAoRCwoJCQoVDxAMERgVGhkYFRgXGx4nIRsdJR0XGCIuIiUoKSssKxogLzMvKjInKisq/9sAQwEHCAgKCQoUCwsUKhwYHCoqKioqKioqKioqKioqKioqKioqKioqKioqKioqKioqKioqKioqKioqKioqKioqKioq/8AAEQgAmACcAwEiAAIRAQMRAf/EAB8AAAEFAQEBAQEBAAAAAAAAAAABAgMEBQYHCAkKC//EALUQAAIBAwMCBAMFBQQEAAABfQECAwAEEQUSITFBBhNRYQcicRQygZGhCCNCscEVUtHwJDNicoIJChYXGBkaJSYnKCkqNDU2Nzg5OkNERUZHSElKU1RVVldYWVpjZGVmZ2hpanN0dXZ3eHl6g4SFhoeIiYqSk5SVlpeYmZqio6Slpqeoqaqys7S1tre4ubrCw8TFxsfIycrS09TV1tfY2drh4uPk5ebn6Onq8fLz9PX29/j5+v/EAB8BAAMBAQEBAQEBAQEAAAAAAAABAgMEBQYHCAkKC//EALURAAIBAgQEAwQHBQQEAAECdwABAgMRBAUhMQYSQVEHYXETIjKBCBRCkaGxwQkjM1LwFWJy0QoWJDThJfEXGBkaJicoKSo1Njc4OTpDREVGR0hJSlNUVVZXWFlaY2RlZmdoaWpzdHV2d3h5eoKDhIWGh4iJipKTlJWWl5iZmqKjpKWmp6ipqrKztLW2t7i5usLDxMXGx8jJytLT1NXW19jZ2uLj5OXm5+jp6vLz9PX29/j5+v/aAAwDAQACEQMRAD8A991HVrPSliN7IwaZtsUUUTSySHGTtRAWOBycDgVNaXcV9apcW+/y3zjfGyMMHBBVgCDkdCKw9X83T/Fthq0lrcXFktrLbO1vE0rQszKwbYoLEHaRkA44zxWTfz6lcarq+pW1rq0tvFpiNZ2u+aBZJCZFb5Rg7sYOPvDjgHGDpcfU7iq1tqFrd3V1b28u+WzcRzrtI2MVDAZI54I6V5wg1uPS7zzLnV5Yob1ZIIfst8huk8obkDBmmjG7OCzEbhyMcVZfTtWiutW1O2g1O2uf7QsmihSSQqybYhJkDiUAZBJyBg9Oaa3t/Wtv8yelzttU1/T9Gkhjv3mDzK7okNtJMSqY3HCKcAZHJq7bXEN3axXNtIssMyB43U5DKRkEVy3i3TNT1HXNOOkTTWsqWd2BcJGGVWIj2qxIIAOD6Hjg1zt1catKumro+marpKWkVqscCw3RDjzMSKcMIwFAOS6sWByOMGktf69RvRXPS4biG4Dm3ljlEblH2MG2sOqnHQj0qHUtStdJsHvL+Ro4EKgssbOcswUAKoJOSQOBXnslhqWnx3dvYjVLeJ9Yka7k8u6mJhIYxsux1ZgTjcY2z03ZHFbep2N/P8NobQz3d5deZBiY27JMVE6ncUbcQQvPzZPGT3oWqT9PxDrb+tzdtvEml3fk+TcMGmuDarHJC6OJQpYqysoKnaM8gfrVy5v7azmtoriTY91J5UI2k7m2lscdOFPWuJt4dWs9RW1Zb/7QuqvJdX8cLFbqJoH8tztG04wilQMBlHHIrLe38Ry6faJpkF3cXtrfkxX14LkLN+4k+cxzZMWMgf3CxHbgHT7v0/r+mH/B/U9SorM8OlT4ftdgv1ITDDUS5nDd9xbknOenHpxitOm9GJahRRRSGFFFFABRRRQAUUUUAFFQXd9aWEIlv7qG2jLbQ80gQE+mT34NU/8AhJdC/wCg1p3/AIFJ/jUSqQi7NolyitGzTorPi8QaNNMkUOr2MkjsFREuUJYnoAM8mpdWvv7L0a9v/L837LA83l7tu7apOM846U1OMldO44tS+Et0VWm1C1tNPF7f3ENpBtUtJNIEVc9MscDvSJqlhJb+fHfWzQ+V5/mLMpXy/wC/nONvB56VWw1qWqKq3Op2FnDJLd3tvBHGFZ3llVVUMcKSSeM9vWoZdf0eDyvO1WxjM0XnRBrlB5iYzuXnkYBORxQBoUVm6Vr+naxoaataXMYtCm92eRf3WBkhyCQpA688ULr2nnzpjqGniyijDmcXanHzFTuHQDK4znk5GBijYDSorHTxJYtqEsRnt1s0tYrlb0zr5bCR2QDPTqvXPOa2KACiiigAooooAKKKKACiiigCC7sbS/hEV/aw3MYbcEmjDgH1we/Jqn/wjWhf9AXTv/ARP8K06KiVOEndpEuMXq0Z8Xh/RoZklh0ixjkRgyOlsgKkdCDjg07W7KTUvD+oWMBVZbm2khQuSFBZSBnHbmr1FChGKslYcUovRHN3Gn63eW2nyy2unx3Om3CyxQi7d45h5bIct5QKEbsjCt0qsfCV1KtsZJLZDLNK1/EmdhikkEjRpxzyoGSBkFjxnFdbRV9bj6WOKk8GXx0yEGeOa7t7xJVH2mWESRJGYkXzUG9DtO7IB5JHIOau2eg6jZ6hZSWMMFhEFC3hXUJLgyqC52bZI/m5bO/crcnqBg9RRRvuBzlrod+vw/m0Gf7MtwLN7SN0kZkYFCqscqCOvIwcepqO+8OXMt1LNDDbzD7HbQxRm5e3KSRSM24MqNjG4Y4OcYIxXT0Udbh0t/X9aHH/APCM602tWesXF1bXV5bWsUZjkYrHK4aTcThOCA42sF6g/KM12FFFAeYUUUUAFFFFABRRRQAUUUUAVr77d5A/s37P5u7n7Ru27cH075xVD/ipf+oV/wCRK2KK5qmH9pLm55L0ZLjcyof+Eg8+P7R/Zvlbhv2eZu255xnvim+LP+RM1n/rwm/9ANa9MlijuIXhnjWWKRSro6gqwPBBB6iqp0fZxa5m793cqPuu55zrE00vgu88Ml38yztZJpXzgm2RN8XPuSiH12PW3aa/rE2vNZWWniWwsjFFO2E3fNGrbtxlBGNwwBG2cHnnjqHs7aRZFkt4nWWPypAyAh05+U+o5PHTk1DLo+mT30V5Pp1pJdQgCKd4FLxgdNrEZGPaui+rFbRL+uhwt7q95dNa6pfDTblJNEvbqK1WMsqriM7JMsd44wSNueRgVuzeJrm3tr8iO3U2t5aW8SlSAVlEWe/X52xj0HWtpNC0iJ5nj0qyRpwwlZbdAZA33t3HOe+etOm0XSrm7S6uNMs5biMBUme3VnUA5ADEZGDzQv6++/8AwB/1+Rzg8Qa9NcReV/ZyQ3GpT6fEGikZk2GTEh+cA8RkFRjPXcOg09J1u+urOL7Rp0lzMLma2nltCixIY5Cm8h3DYIGcDcevtnWFjaLt22sI2SmZcRj5ZDnLj/aO489eT61JDBFbqywRJErMXYIoALE5J47knJNJf1/X3g/L+t/+AcZpWo38cx0zTJLW3luL3UZmnuomkUBJ8bQoZeTvznPAB4NPfxnfixjdLOFrie3iuoIhkh0wxlwc84CHB4++uffprnRtLvLfyLzTbOeHzDL5csCsu85JbBGMnJ568mrBtbdpklaCIyRoURygyqnGVB7A4HHsKOiH1bMZ9enbwrqusQJEVt1ne1yCQ6xggFuecspPGOMVnvqWsR3twtvaWM+ofYbeZpobY7trSyAjBkBcKoyBuGTnHXFdQLK1Wx+xLbQi12eX5AjGzZjG3b0xjtUV1pOnXqOl7p9rcK6qjLLCrhlU5UHI5AJJA7ZoF0/ryOOi1yeTxjB9jmgkl1DT7dBeSWzxwqRJMSDGW3BjggKWHOeeMHvKptpGmtAYW0+1MRjWExmBduxTlVxj7oPQdBVyn0DrcKKKKQBRRRQAjMqDLMFHuab50X/PRP8AvoU5lVxhlDD3FN8mL/nmn/fIrjrfW+f9zy2873/ApcvUBLGTgSKT/vVX1a+/svRb2/8AL837LA83l7tu7apOM846VYEUYORGoP8Au1U1uyk1Lw/qFjAyrLc20kKFyQoLKQM47c1dH6xyv21r9LX/AFH7t0ZV94vis/Bf9vLaNLJt4tA+G8wZDpnH8O1snHRScVrJq9gbqC0kvLaO9njEiWrTL5jDGchepHB5x2NYF74RubhdQSO4i8mezkW3hbO2O5kj8tnJ9MAds5d/Wmp4UuovEUl2yR3NvNJFKWOozwmFkRU/1SgpJjaCC2OuOwrq6sz1sv67Gjc+KbNdS+xWM9lcusE8krm7CpA0W35ZCAdv3uSemOhrU/tC0Ebs91br5bKkn70YRmxtUn1O4Y9cj1rjz4Q1eWyjtZF02JbbSrjTopInfdKXChXYbPlHy5IBbBJ5Oat3nhzVnluobX7Eba7uLW4klkmcOhi8sMoUIQciPg7h16UK39ev+Q/6/I3pNe0eKWSOXVbFJIlZ5Ea5QFFU4YkZ4AIIPoRVlL+zlsPt0d1A9psMn2hZAY9o6tu6Y9656HwrLG9o7C13Q6zNqEjAHLK/mbe33huT8uvAqcaBcr4S1fSg8IlvGuzCQTsUSs5XPHH3ucD160un9f1/ww9L2/rr/XzL669p586Y6hp4soow5nF2px8xU7h0AyuM55ORgYqFPEli2oSxGe3WzS1iuVvTOvlsJHZAM9Oq9c85qhfeHLmW6lmhht5h9jtoYozcvblJIpGbcGVGxjcMcHOMEYqt/wAIzrTa1Z6xcXVtdXltaxRmORiscrhpNxOE4IDjawXqD8ozT0uT0/ryOwooopDCiiigAooooAKKKKACis3Xf7c+wp/wjP8AZ/2rzBv/ALQ3+Xswc42c5zt9sZrA/wCLl/8AUqf+TNZyqcrtZnbRwntYc3tIr1dmdjRXKWf/AAsH7dB/aH/CM/ZfMXz/ACPtHmbM/NtzxnGcZ4zWp4s/5EzWf+vCb/0A01O6bsZ1sP7KSjzJ37O5r0V5trE00vgu88Ml38yztZJpXzgm2RN8XPuSiH12PW3aa/rE2vNZWWniWwsjFFO2E3fNGrbtxlBGNwwBG2cHnnjTuct9EzrqK85vdXvLprXVL4abcpJol7dRWqxllVcRnZJljvHGCRtzyMCt2bxNc29tfkR26m1vLS3iUqQCsoiz36/O2Meg60W/r52GdTRXHjxBr01xF5X9nJDcalPp8QaKRmTYZMSH5wDxGQVGM9dw6DT0nW766s4vtGnSXMwuZraeW0KLEhjkKbyHcNggZwNx6+2UtQen9f12Zu0VxGi6hqFjcqjC1fT7zWby22bGMoO6V927OMZXG3HvntUUfinUY/DQuNOj0uzWz0dL54XiYK5bcAiAMNijZ/tZyBx1o6X/AK2uO2tv63sd5RXDR6pqNhq+sX0AtTanULNJ43Ri7+ZHCh2kEBcbgeQ2enGMnodTv72PxBpunWf2dYrmKaWdpo2c7UKcLhhyQ5GTnHXnGCPRf12uJamxRXH6Prd81topkgtLDTrq1i2CG0ZkeRgcxqVf90AAMblIPTOeKX4d6jPf+HbaMiOK3tLeOERMh81m2g+YTnAQg8DBzjOe1O2r8gOvooopAFFFFABRVLVda0vQrVbnW9Ss9Ot3cRrLeTrEjMQSFBYgZwCcexrJ/wCFi+Cf+hw0D/waQ/8AxVAHR0yWKO4heGeNZYpFKujqCrA8EEHqKw7bx54QvLqK2tPFWiT3EziOKKLUYWeRicBQA2SSTgAVqatff2Xo17f+X5v2WB5vL3bd21ScZ5x0oGrt6Er2dtIsiyW8TrLH5UgZAQ6c/KfUcnjpyahl0fTJ76K8n060kuoQBFO8Cl4wOm1iMjHtUN5q32T+zAIN5v5xDy+PLzGz56c/dx+NA17T4LS1l1HUNPtmuY96f6WpRwBklGONwHrin1Fuh6aFpETzPHpVkjThhKy26AyBvvbuOc989adNoulXN2l1caZZy3EYCpM9urOoByAGIyMHmqtv4kspdYutOnnt7eWKZYoA86hrnMaPlVOM4344zVs6xpou57U6jaC4t0Mk0PnrviUYJZlzkDkcn1pASixtF27bWEbJTMuIx8shzlx/tHceevJ9akhgit1ZYIkiVmLsEUAFick8dyTkmshfF2hyapZ2MGp2s8l6rtC0VwjKdpAxkN1JJwB12t6Vcv8AV7Ox3xPeWcd35ZkSG4uRFuABOT1IX5W5wcAH0o6BuTixtBtxawjZKZlxGPlkOcuP9o7jk9eT61ia74Tj1mGG1iGnW1pHH5Qzp4eaJD94RPuAjyvH3TirmpeI7DT7S8K3NrNe2lq9ybNbhfMYKu7p1APrjvV61vre7LJFNG00aqZYlcFotwyAw7ZHrQFw/s+zKOptYSJGV3BjB3suNpPqRtXB7YHpUjQQvOkzxI0salUkKgsoOMgHsDgfkKkooAopomlRXUNzHplmlxAnlxSrboHjXBG1TjIGCeB61NDp1lbSJJb2dvE8cXkoyRKpWPOdgIHC57dKsUUAFFFFABRRRQBS1XRdL121W21vTbPUbdHEixXkCyorAEBgGBGcEjPuayf+FdeCf+hO0D/wVw//ABNdHRQBgW3gPwhZ3UVzaeFdEguIXEkUsWnQq8bA5DAhcggjIIrR1uyk1Lw/qFjAVWW5tpIULkhQWUgZx25q9RSeqsNOzuc03g3T7e60m40rTdOs5rOcSTSxQLGzr5bqQCq5PLA8+lcvrVjJ4f8AD7afLcaVPd3WjpYm3kmPnM6lgvkptzJuZ8Y+XBAPPSvTaKe4locpJ4VuJI9RZfswmuruznRznIWERZBOOvyPj69smq8XhC4iur5Z7SG/gmkuJI3k1W4i/wBbk7TEFKKfmI3rzjnGa7Oij+vy/wAhLRWOZs9I1yPUNMvb2W3uHt/PikV5ySkUhQrhxGPMICdwuc8njJl1fw/cahd6xNC0I+3aV9iiLk5V8yEk8cL869M9OldDRQNaf18zkrzw7qs39pW9o1va2t5ZyRuPtLSCeVowiuUMf7vGOSrHIHIJ6a3h3S7nRrF7GdopYUbdFOGJkk3ct5gwBkH+LPI7CteincVtLBRRRSGFFFFABRRRQAUUUUAFFNkjSaMpIMqeozVf+zbT/nl/48f8aALVV9RvY9N0y6vp1ZoraFpnCAFiFBJxnvxSx2VvDIHjjww6Hcaq+IbWa+8M6naWqeZPPaSxxpkDcxQgDJ46mk9hxtdXGReIbOa1024jWUpqMvkxjaAUfazEOM8Y2MD15rUrkbvQNRi1zSpNPiU2ZuBcXY3gGCUQum8AnkNuGQO657k1lweGNQGkXEEWkfZLz+zLi3urjzY/+JlM64VshstyC26TBG7Hc4p9RR1tfyPQqqLqMLavNpwV/OhgSdmwNpVmZQBznOUPb0rD0/w3JYapdrp2/S7a4s4A01r5ZYzqz7yQwYFiCuWIOfXNSXVvqema4b60sp9XE1glszLLEjiRGYhmBKDDbzkr0x92lLTYFqv68ia18VwX/wBmNhYXtyJoY55DGsY+zo5O0uC4J6Nwm48fTK2vimC51JbU2N5DHJcy2kV1II/Lklj3ZUYcsPuNglRnFY76HqFhp+l2mnWM39pWlvDEupwTokQAI3rIpYM6dSBtbrxg8h1joV/pd4dTjtJbqY390zWrXIKhJHYpLGGbajYwDjBIds803ZP7w6af1odFa63aXmrXmnReZ51oAXLLhXz12nvjgH0Jqpo3iiDWZYEFleWf2mD7RbNciPE6AgErsdsY3LwcHmsnTtC8QWNxpd5PPaTsryfa4Ybco4E3zPlzIQ219p4UZA49KueEvDcul6dYTanPcTXsFoIFilaMrbA4LKmwDOSBySx4HNC8/wCt/wDgB6GkmtrNq0llb2V1MkMgimukCeXE+0NtILbzwV5Ckc9euNOuavbK+fxNHPpmn3FnIZV+03onTyLiIL0aPduZ+gBKAjH3scHndO8Kaja6TdRS2N9JeOsYug8lqsN8FlDOAyYdiyhsGXsxBPJpLUGej0V51puiJql9cRQ6StvYw64jTWhdNsaC02lSFO0jcwBVSRyRyM1oWHhSWxnsLi1sUguINTnzKrLuS0IlCLnP3BlMJ29Bijp/Xl/mH9fn/l+J2tQXN7b2klvHcSbGuZfKiG0nc+0tjjpwp6+lee2Pg+/j0ie2nsr43krQC5leS1WK42zozOGj2yMcBiDJ82CR1PN678IiK/3Q6FBcWNvqy3EFsixYERtwr7FYgAeZgkcdM4PFNf1+Ad/66Hd0VzXh3TJrDXNScab9nt5mLi5uI4fPmcuSRvjYlkGeN4DDIHPbpaXQOoUUUUAFFFFABRRRQAUUUUAFFFFABRRRQAVFdWlvfWz297BFcQSDDxSoHVvqDwaKKAEtLO10+1W2sLaG2gTO2KGMIq5OTgDjrU1FFABRRRQAUUUUAf/Z\">"
   ]
  },
  {
   "cell_type": "code",
   "execution_count": 21,
   "metadata": {},
   "outputs": [],
   "source": [
    "fhwa_ns_map.add_layer(analysisroads_interstatesmd_item)"
   ]
  },
  {
   "cell_type": "markdown",
   "metadata": {},
   "source": [
    "The FHWA Network Screening workflow classified interstate road segments in Maryland as belonging to one of three classes with respect to crash rate risks:\n",
    "\n",
    "- Lowest risk\n",
    "- Medium-low risk\n",
    "- Medium risk\n",
    "\n",
    "Let's explore the distribution of the count of segments by each class through a simple plot. "
   ]
  },
  {
   "cell_type": "code",
   "execution_count": 22,
   "metadata": {},
   "outputs": [
    {
     "data": {
      "text/html": [
       "\n",
       "\n",
       "    <div class=\"bk-root\">\n",
       "        <div class=\"bk-plotdiv\" id=\"a43284b8-02ab-4eba-8900-9b2d6153ec73\"></div>\n",
       "    </div>\n",
       "<script type=\"text/javascript\">\n",
       "  \n",
       "  (function(global) {\n",
       "    function now() {\n",
       "      return new Date();\n",
       "    }\n",
       "  \n",
       "    var force = false;\n",
       "  \n",
       "    if (typeof (window._bokeh_onload_callbacks) === \"undefined\" || force === true) {\n",
       "      window._bokeh_onload_callbacks = [];\n",
       "      window._bokeh_is_loading = undefined;\n",
       "    }\n",
       "  \n",
       "  \n",
       "    \n",
       "    if (typeof (window._bokeh_timeout) === \"undefined\" || force === true) {\n",
       "      window._bokeh_timeout = Date.now() + 0;\n",
       "      window._bokeh_failed_load = false;\n",
       "    }\n",
       "  \n",
       "    var NB_LOAD_WARNING = {'data': {'text/html':\n",
       "       \"<div style='background-color: #fdd'>\\n\"+\n",
       "       \"<p>\\n\"+\n",
       "       \"BokehJS does not appear to have successfully loaded. If loading BokehJS from CDN, this \\n\"+\n",
       "       \"may be due to a slow or bad network connection. Possible fixes:\\n\"+\n",
       "       \"</p>\\n\"+\n",
       "       \"<ul>\\n\"+\n",
       "       \"<li>re-rerun `output_notebook()` to attempt to load from CDN again, or</li>\\n\"+\n",
       "       \"<li>use INLINE resources instead, as so:</li>\\n\"+\n",
       "       \"</ul>\\n\"+\n",
       "       \"<code>\\n\"+\n",
       "       \"from bokeh.resources import INLINE\\n\"+\n",
       "       \"output_notebook(resources=INLINE)\\n\"+\n",
       "       \"</code>\\n\"+\n",
       "       \"</div>\"}};\n",
       "  \n",
       "    function display_loaded() {\n",
       "      if (window.Bokeh !== undefined) {\n",
       "        var el = document.getElementById(\"a43284b8-02ab-4eba-8900-9b2d6153ec73\");\n",
       "        el.textContent = \"BokehJS \" + Bokeh.version + \" successfully loaded.\";\n",
       "      } else if (Date.now() < window._bokeh_timeout) {\n",
       "        setTimeout(display_loaded, 100)\n",
       "      }\n",
       "    }\n",
       "  \n",
       "    function run_callbacks() {\n",
       "      window._bokeh_onload_callbacks.forEach(function(callback) { callback() });\n",
       "      delete window._bokeh_onload_callbacks\n",
       "      console.info(\"Bokeh: all callbacks have finished\");\n",
       "    }\n",
       "  \n",
       "    function load_libs(js_urls, callback) {\n",
       "      window._bokeh_onload_callbacks.push(callback);\n",
       "      if (window._bokeh_is_loading > 0) {\n",
       "        console.log(\"Bokeh: BokehJS is being loaded, scheduling callback at\", now());\n",
       "        return null;\n",
       "      }\n",
       "      if (js_urls == null || js_urls.length === 0) {\n",
       "        run_callbacks();\n",
       "        return null;\n",
       "      }\n",
       "      console.log(\"Bokeh: BokehJS not loaded, scheduling load and callback at\", now());\n",
       "      window._bokeh_is_loading = js_urls.length;\n",
       "      for (var i = 0; i < js_urls.length; i++) {\n",
       "        var url = js_urls[i];\n",
       "        var s = document.createElement('script');\n",
       "        s.src = url;\n",
       "        s.async = false;\n",
       "        s.onreadystatechange = s.onload = function() {\n",
       "          window._bokeh_is_loading--;\n",
       "          if (window._bokeh_is_loading === 0) {\n",
       "            console.log(\"Bokeh: all BokehJS libraries loaded\");\n",
       "            run_callbacks()\n",
       "          }\n",
       "        };\n",
       "        s.onerror = function() {\n",
       "          console.warn(\"failed to load library \" + url);\n",
       "        };\n",
       "        console.log(\"Bokeh: injecting script tag for BokehJS library: \", url);\n",
       "        document.getElementsByTagName(\"head\")[0].appendChild(s);\n",
       "      }\n",
       "    };var element = document.getElementById(\"a43284b8-02ab-4eba-8900-9b2d6153ec73\");\n",
       "    if (element == null) {\n",
       "      console.log(\"Bokeh: ERROR: autoload.js configured with elementid 'a43284b8-02ab-4eba-8900-9b2d6153ec73' but no matching script tag was found. \")\n",
       "      return false;\n",
       "    }\n",
       "  \n",
       "    var js_urls = [];\n",
       "  \n",
       "    var inline_js = [\n",
       "      function(Bokeh) {\n",
       "        (function() {\n",
       "          var fn = function() {\n",
       "            var docs_json = {\"16865306-506d-4466-a225-e8e0bd4cd492\":{\"roots\":{\"references\":[{\"attributes\":{\"callback\":null,\"factors\":[\"Lowest risk\",\"Medium risk\",\"Medium-low risk\",\"None\"]},\"id\":\"1e9d8aa4-5c64-4254-b0d7-71678a8902d0\",\"type\":\"FactorRange\"},{\"attributes\":{\"callback\":null,\"column_names\":[\"x\",\"y\",\"width\",\"height\",\"color\",\"fill_alpha\",\"line_color\",\"line_alpha\",\"label\"],\"data\":{\"CRASH_RATE_RISK\":[\"Medium risk\"],\"chart_index\":[{\"CRASH_RATE_RISK\":\"Medium risk\"}],\"color\":[\"#f22c40\"],\"fill_alpha\":[0.8],\"height\":[19.0],\"label\":[{\"CRASH_RATE_RISK\":\"Medium risk\"}],\"line_alpha\":[1.0],\"line_color\":[\"white\"],\"width\":[0.8],\"x\":[\"Medium risk\"],\"y\":[9.5]}},\"id\":\"eca98e7f-36a3-419d-a1c7-33bc231d0ade\",\"type\":\"ColumnDataSource\"},{\"attributes\":{\"callback\":null,\"column_names\":[\"x\",\"y\",\"width\",\"height\",\"color\",\"fill_alpha\",\"line_color\",\"line_alpha\",\"label\"],\"data\":{\"CRASH_RATE_RISK\":[\"None\"],\"chart_index\":[{\"CRASH_RATE_RISK\":\"None\"}],\"color\":[\"#f22c40\"],\"fill_alpha\":[0.8],\"height\":[76.0],\"label\":[{\"CRASH_RATE_RISK\":\"None\"}],\"line_alpha\":[1.0],\"line_color\":[\"white\"],\"width\":[0.8],\"x\":[\"None\"],\"y\":[38.0]}},\"id\":\"0a0d8233-a42f-40e1-8209-f77b9e2d8acd\",\"type\":\"ColumnDataSource\"},{\"attributes\":{\"fill_alpha\":{\"field\":\"fill_alpha\"},\"fill_color\":{\"field\":\"color\"},\"height\":{\"field\":\"height\",\"units\":\"data\"},\"line_color\":{\"field\":\"line_color\"},\"width\":{\"field\":\"width\",\"units\":\"data\"},\"x\":{\"field\":\"x\"},\"y\":{\"field\":\"y\"}},\"id\":\"2ee1cd13-e27e-49de-abcf-0a89c1b8b785\",\"type\":\"Rect\"},{\"attributes\":{\"data_source\":{\"id\":\"40329272-99ae-4b59-abf2-556f4786ee40\",\"type\":\"ColumnDataSource\"},\"glyph\":{\"id\":\"4b95c3d0-2022-4be8-9bf1-69cb42bda921\",\"type\":\"Rect\"},\"hover_glyph\":null,\"muted_glyph\":null},\"id\":\"92e7edcd-c14b-4ee4-b4ea-89d00dcf913c\",\"type\":\"GlyphRenderer\"},{\"attributes\":{\"fill_alpha\":{\"field\":\"fill_alpha\"},\"fill_color\":{\"field\":\"color\"},\"height\":{\"field\":\"height\",\"units\":\"data\"},\"line_color\":{\"field\":\"line_color\"},\"width\":{\"field\":\"width\",\"units\":\"data\"},\"x\":{\"field\":\"x\"},\"y\":{\"field\":\"y\"}},\"id\":\"4b95c3d0-2022-4be8-9bf1-69cb42bda921\",\"type\":\"Rect\"},{\"attributes\":{\"callback\":null,\"column_names\":[\"x\",\"y\",\"width\",\"height\",\"color\",\"fill_alpha\",\"line_color\",\"line_alpha\",\"label\"],\"data\":{\"CRASH_RATE_RISK\":[\"Lowest risk\"],\"chart_index\":[{\"CRASH_RATE_RISK\":\"Lowest risk\"}],\"color\":[\"#f22c40\"],\"fill_alpha\":[0.8],\"height\":[43.0],\"label\":[{\"CRASH_RATE_RISK\":\"Lowest risk\"}],\"line_alpha\":[1.0],\"line_color\":[\"white\"],\"width\":[0.8],\"x\":[\"Lowest risk\"],\"y\":[21.5]}},\"id\":\"40329272-99ae-4b59-abf2-556f4786ee40\",\"type\":\"ColumnDataSource\"},{\"attributes\":{},\"id\":\"26b24cf5-f6a8-4286-b62b-4abd002db4d5\",\"type\":\"BasicTicker\"},{\"attributes\":{\"label\":{\"value\":\"Lowest risk\"},\"renderers\":[{\"id\":\"92e7edcd-c14b-4ee4-b4ea-89d00dcf913c\",\"type\":\"GlyphRenderer\"}]},\"id\":\"bccabf15-5f05-4803-bf54-402ddb140f6f\",\"type\":\"LegendItem\"},{\"attributes\":{\"callback\":null,\"end\":79.8},\"id\":\"04aaa105-2e01-40fc-b9bf-a77badd14543\",\"type\":\"Range1d\"},{\"attributes\":{\"items\":[{\"id\":\"bccabf15-5f05-4803-bf54-402ddb140f6f\",\"type\":\"LegendItem\"},{\"id\":\"f275246c-c08c-43c3-97b6-d558d8ffd747\",\"type\":\"LegendItem\"},{\"id\":\"6d647782-f7f3-4ee1-89f5-72cbe6beaa4f\",\"type\":\"LegendItem\"},{\"id\":\"a9813924-b340-4e76-a2d5-0c4b654bf81f\",\"type\":\"LegendItem\"}],\"location\":\"top_left\",\"plot\":{\"id\":\"51e36f8f-e5c4-4175-91d5-b2f6c008fa1b\",\"subtype\":\"Chart\",\"type\":\"Plot\"}},\"id\":\"af9dcb54-508d-4c16-88f5-1886044b0d25\",\"type\":\"Legend\"},{\"attributes\":{\"plot\":{\"id\":\"51e36f8f-e5c4-4175-91d5-b2f6c008fa1b\",\"subtype\":\"Chart\",\"type\":\"Plot\"}},\"id\":\"c325b750-417b-4270-a854-68e1980c6328\",\"type\":\"ResetTool\"},{\"attributes\":{\"data_source\":{\"id\":\"6e7d1c87-37fe-4252-9758-b4f65c36669b\",\"type\":\"ColumnDataSource\"},\"glyph\":{\"id\":\"2ee1cd13-e27e-49de-abcf-0a89c1b8b785\",\"type\":\"Rect\"},\"hover_glyph\":null,\"muted_glyph\":null},\"id\":\"7d4520ce-4cfa-4c2e-b136-18d541b9430e\",\"type\":\"GlyphRenderer\"},{\"attributes\":{\"plot\":{\"id\":\"51e36f8f-e5c4-4175-91d5-b2f6c008fa1b\",\"subtype\":\"Chart\",\"type\":\"Plot\"}},\"id\":\"78d2d9f6-a7ba-4e60-abba-de57dff183fc\",\"type\":\"HelpTool\"},{\"attributes\":{\"plot\":{\"id\":\"51e36f8f-e5c4-4175-91d5-b2f6c008fa1b\",\"subtype\":\"Chart\",\"type\":\"Plot\"}},\"id\":\"d4d5b2c6-858f-4789-969f-b9188a1094ac\",\"type\":\"SaveTool\"},{\"attributes\":{\"callback\":null,\"column_names\":[\"x\",\"y\",\"width\",\"height\",\"color\",\"fill_alpha\",\"line_color\",\"line_alpha\",\"label\"],\"data\":{\"CRASH_RATE_RISK\":[\"Medium-low risk\"],\"chart_index\":[{\"CRASH_RATE_RISK\":\"Medium-low risk\"}],\"color\":[\"#f22c40\"],\"fill_alpha\":[0.8],\"height\":[1.0],\"label\":[{\"CRASH_RATE_RISK\":\"Medium-low risk\"}],\"line_alpha\":[1.0],\"line_color\":[\"white\"],\"width\":[0.8],\"x\":[\"Medium-low risk\"],\"y\":[0.5]}},\"id\":\"6e7d1c87-37fe-4252-9758-b4f65c36669b\",\"type\":\"ColumnDataSource\"},{\"attributes\":{\"axis_label\":\"Crash_Rate_Risk\",\"formatter\":{\"id\":\"5e0c1b04-1db2-4c26-89f1-9c6e9a577d85\",\"type\":\"CategoricalTickFormatter\"},\"major_label_orientation\":0.7853981633974483,\"plot\":{\"id\":\"51e36f8f-e5c4-4175-91d5-b2f6c008fa1b\",\"subtype\":\"Chart\",\"type\":\"Plot\"},\"ticker\":{\"id\":\"766acb94-43ad-484b-8f66-602bfb2eaaae\",\"type\":\"CategoricalTicker\"}},\"id\":\"d5805384-abb0-4149-9a9e-d95b99c3df3d\",\"type\":\"CategoricalAxis\"},{\"attributes\":{\"overlay\":{\"id\":\"888ef374-90d7-4a65-ae9c-488284f6b52b\",\"type\":\"BoxAnnotation\"},\"plot\":{\"id\":\"51e36f8f-e5c4-4175-91d5-b2f6c008fa1b\",\"subtype\":\"Chart\",\"type\":\"Plot\"}},\"id\":\"0eafa24f-c05e-4a5b-9d2d-59c1278b9e01\",\"type\":\"BoxZoomTool\"},{\"attributes\":{\"fill_alpha\":{\"field\":\"fill_alpha\"},\"fill_color\":{\"field\":\"color\"},\"height\":{\"field\":\"height\",\"units\":\"data\"},\"line_color\":{\"field\":\"line_color\"},\"width\":{\"field\":\"width\",\"units\":\"data\"},\"x\":{\"field\":\"x\"},\"y\":{\"field\":\"y\"}},\"id\":\"a5972bbb-2877-418a-b022-2bd74c2000d3\",\"type\":\"Rect\"},{\"attributes\":{\"bottom_units\":\"screen\",\"fill_alpha\":{\"value\":0.5},\"fill_color\":{\"value\":\"lightgrey\"},\"left_units\":\"screen\",\"level\":\"overlay\",\"line_alpha\":{\"value\":1.0},\"line_color\":{\"value\":\"black\"},\"line_dash\":[4,4],\"line_width\":{\"value\":2},\"plot\":null,\"render_mode\":\"css\",\"right_units\":\"screen\",\"top_units\":\"screen\"},\"id\":\"888ef374-90d7-4a65-ae9c-488284f6b52b\",\"type\":\"BoxAnnotation\"},{\"attributes\":{\"dimension\":1,\"plot\":{\"id\":\"51e36f8f-e5c4-4175-91d5-b2f6c008fa1b\",\"subtype\":\"Chart\",\"type\":\"Plot\"},\"ticker\":{\"id\":\"26b24cf5-f6a8-4286-b62b-4abd002db4d5\",\"type\":\"BasicTicker\"}},\"id\":\"e4378d1f-1c10-4335-b585-be9557f0487f\",\"type\":\"Grid\"},{\"attributes\":{\"data_source\":{\"id\":\"eca98e7f-36a3-419d-a1c7-33bc231d0ade\",\"type\":\"ColumnDataSource\"},\"glyph\":{\"id\":\"a5972bbb-2877-418a-b022-2bd74c2000d3\",\"type\":\"Rect\"},\"hover_glyph\":null,\"muted_glyph\":null},\"id\":\"e7d84aac-ddb8-471f-823c-ee58f6a3aa77\",\"type\":\"GlyphRenderer\"},{\"attributes\":{\"label\":{\"value\":\"Medium-low risk\"},\"renderers\":[{\"id\":\"7d4520ce-4cfa-4c2e-b136-18d541b9430e\",\"type\":\"GlyphRenderer\"}]},\"id\":\"f275246c-c08c-43c3-97b6-d558d8ffd747\",\"type\":\"LegendItem\"},{\"attributes\":{},\"id\":\"a3589980-0650-4311-b4ed-42f88e1608f3\",\"type\":\"BasicTickFormatter\"},{\"attributes\":{\"fill_alpha\":{\"field\":\"fill_alpha\"},\"fill_color\":{\"field\":\"color\"},\"height\":{\"field\":\"height\",\"units\":\"data\"},\"line_color\":{\"field\":\"line_color\"},\"width\":{\"field\":\"width\",\"units\":\"data\"},\"x\":{\"field\":\"x\"},\"y\":{\"field\":\"y\"}},\"id\":\"6b72a91c-8716-448d-9417-782a18c31631\",\"type\":\"Rect\"},{\"attributes\":{\"label\":{\"value\":\"None\"},\"renderers\":[{\"id\":\"92c1952c-23ea-4c8f-bede-16df736cf14b\",\"type\":\"GlyphRenderer\"}]},\"id\":\"a9813924-b340-4e76-a2d5-0c4b654bf81f\",\"type\":\"LegendItem\"},{\"attributes\":{\"label\":{\"value\":\"Medium risk\"},\"renderers\":[{\"id\":\"e7d84aac-ddb8-471f-823c-ee58f6a3aa77\",\"type\":\"GlyphRenderer\"}]},\"id\":\"6d647782-f7f3-4ee1-89f5-72cbe6beaa4f\",\"type\":\"LegendItem\"},{\"attributes\":{\"below\":[{\"id\":\"d5805384-abb0-4149-9a9e-d95b99c3df3d\",\"type\":\"CategoricalAxis\"}],\"css_classes\":null,\"left\":[{\"id\":\"afe692f5-5795-463b-9d82-bd8b2b687535\",\"type\":\"LinearAxis\"}],\"renderers\":[{\"id\":\"888ef374-90d7-4a65-ae9c-488284f6b52b\",\"type\":\"BoxAnnotation\"},{\"id\":\"92e7edcd-c14b-4ee4-b4ea-89d00dcf913c\",\"type\":\"GlyphRenderer\"},{\"id\":\"7d4520ce-4cfa-4c2e-b136-18d541b9430e\",\"type\":\"GlyphRenderer\"},{\"id\":\"e7d84aac-ddb8-471f-823c-ee58f6a3aa77\",\"type\":\"GlyphRenderer\"},{\"id\":\"92c1952c-23ea-4c8f-bede-16df736cf14b\",\"type\":\"GlyphRenderer\"},{\"id\":\"af9dcb54-508d-4c16-88f5-1886044b0d25\",\"type\":\"Legend\"},{\"id\":\"d5805384-abb0-4149-9a9e-d95b99c3df3d\",\"type\":\"CategoricalAxis\"},{\"id\":\"afe692f5-5795-463b-9d82-bd8b2b687535\",\"type\":\"LinearAxis\"},{\"id\":\"e4378d1f-1c10-4335-b585-be9557f0487f\",\"type\":\"Grid\"}],\"title\":{\"id\":\"ceb7545f-9b87-433d-aa38-d5bffa32766b\",\"type\":\"Title\"},\"tool_events\":{\"id\":\"9739c6c0-feb0-4ddf-a166-82edaeae24f1\",\"type\":\"ToolEvents\"},\"toolbar\":{\"id\":\"39dbdf41-fc81-40a0-82aa-c71734b63a3d\",\"type\":\"Toolbar\"},\"x_mapper_type\":\"auto\",\"x_range\":{\"id\":\"1e9d8aa4-5c64-4254-b0d7-71678a8902d0\",\"type\":\"FactorRange\"},\"y_mapper_type\":\"auto\",\"y_range\":{\"id\":\"04aaa105-2e01-40fc-b9bf-a77badd14543\",\"type\":\"Range1d\"}},\"id\":\"51e36f8f-e5c4-4175-91d5-b2f6c008fa1b\",\"subtype\":\"Chart\",\"type\":\"Plot\"},{\"attributes\":{\"plot\":{\"id\":\"51e36f8f-e5c4-4175-91d5-b2f6c008fa1b\",\"subtype\":\"Chart\",\"type\":\"Plot\"}},\"id\":\"8c83d93e-e750-457e-bfaa-8c87a625b010\",\"type\":\"WheelZoomTool\"},{\"attributes\":{\"active_drag\":\"auto\",\"active_scroll\":\"auto\",\"active_tap\":\"auto\",\"tools\":[{\"id\":\"245988bd-69e4-43f0-9ce4-400bf47642f5\",\"type\":\"PanTool\"},{\"id\":\"8c83d93e-e750-457e-bfaa-8c87a625b010\",\"type\":\"WheelZoomTool\"},{\"id\":\"0eafa24f-c05e-4a5b-9d2d-59c1278b9e01\",\"type\":\"BoxZoomTool\"},{\"id\":\"d4d5b2c6-858f-4789-969f-b9188a1094ac\",\"type\":\"SaveTool\"},{\"id\":\"c325b750-417b-4270-a854-68e1980c6328\",\"type\":\"ResetTool\"},{\"id\":\"78d2d9f6-a7ba-4e60-abba-de57dff183fc\",\"type\":\"HelpTool\"}]},\"id\":\"39dbdf41-fc81-40a0-82aa-c71734b63a3d\",\"type\":\"Toolbar\"},{\"attributes\":{\"plot\":null,\"text\":\"Highway Segments by Crash Rate Risk\"},\"id\":\"ceb7545f-9b87-433d-aa38-d5bffa32766b\",\"type\":\"Title\"},{\"attributes\":{\"axis_label\":\"Count( Crash_Rate_Risk )\",\"formatter\":{\"id\":\"a3589980-0650-4311-b4ed-42f88e1608f3\",\"type\":\"BasicTickFormatter\"},\"plot\":{\"id\":\"51e36f8f-e5c4-4175-91d5-b2f6c008fa1b\",\"subtype\":\"Chart\",\"type\":\"Plot\"},\"ticker\":{\"id\":\"26b24cf5-f6a8-4286-b62b-4abd002db4d5\",\"type\":\"BasicTicker\"}},\"id\":\"afe692f5-5795-463b-9d82-bd8b2b687535\",\"type\":\"LinearAxis\"},{\"attributes\":{},\"id\":\"5e0c1b04-1db2-4c26-89f1-9c6e9a577d85\",\"type\":\"CategoricalTickFormatter\"},{\"attributes\":{\"plot\":{\"id\":\"51e36f8f-e5c4-4175-91d5-b2f6c008fa1b\",\"subtype\":\"Chart\",\"type\":\"Plot\"}},\"id\":\"245988bd-69e4-43f0-9ce4-400bf47642f5\",\"type\":\"PanTool\"},{\"attributes\":{\"data_source\":{\"id\":\"0a0d8233-a42f-40e1-8209-f77b9e2d8acd\",\"type\":\"ColumnDataSource\"},\"glyph\":{\"id\":\"6b72a91c-8716-448d-9417-782a18c31631\",\"type\":\"Rect\"},\"hover_glyph\":null,\"muted_glyph\":null},\"id\":\"92c1952c-23ea-4c8f-bede-16df736cf14b\",\"type\":\"GlyphRenderer\"},{\"attributes\":{},\"id\":\"9739c6c0-feb0-4ddf-a166-82edaeae24f1\",\"type\":\"ToolEvents\"},{\"attributes\":{},\"id\":\"766acb94-43ad-484b-8f66-602bfb2eaaae\",\"type\":\"CategoricalTicker\"}],\"root_ids\":[\"51e36f8f-e5c4-4175-91d5-b2f6c008fa1b\"]},\"title\":\"Bokeh Application\",\"version\":\"0.12.5\"}};\n",
       "            var render_items = [{\"docid\":\"16865306-506d-4466-a225-e8e0bd4cd492\",\"elementid\":\"a43284b8-02ab-4eba-8900-9b2d6153ec73\",\"modelid\":\"51e36f8f-e5c4-4175-91d5-b2f6c008fa1b\"}];\n",
       "            \n",
       "            Bokeh.embed.embed_items(docs_json, render_items);\n",
       "          };\n",
       "          if (document.readyState != \"loading\") fn();\n",
       "          else document.addEventListener(\"DOMContentLoaded\", fn);\n",
       "        })();\n",
       "      },\n",
       "      function(Bokeh) {\n",
       "      }\n",
       "    ];\n",
       "  \n",
       "    function run_inline_js() {\n",
       "      \n",
       "      if ((window.Bokeh !== undefined) || (force === true)) {\n",
       "        for (var i = 0; i < inline_js.length; i++) {\n",
       "          inline_js[i](window.Bokeh);\n",
       "        }if (force === true) {\n",
       "          display_loaded();\n",
       "        }} else if (Date.now() < window._bokeh_timeout) {\n",
       "        setTimeout(run_inline_js, 100);\n",
       "      } else if (!window._bokeh_failed_load) {\n",
       "        console.log(\"Bokeh: BokehJS failed to load within specified timeout.\");\n",
       "        window._bokeh_failed_load = true;\n",
       "      } else if (force !== true) {\n",
       "        var cell = $(document.getElementById(\"a43284b8-02ab-4eba-8900-9b2d6153ec73\")).parents('.cell').data().cell;\n",
       "        cell.output_area.append_execute_result(NB_LOAD_WARNING)\n",
       "      }\n",
       "  \n",
       "    }\n",
       "  \n",
       "    if (window._bokeh_is_loading === 0) {\n",
       "      console.log(\"Bokeh: BokehJS loaded, going straight to plotting\");\n",
       "      run_inline_js();\n",
       "    } else {\n",
       "      load_libs(js_urls, function() {\n",
       "        console.log(\"Bokeh: BokehJS plotting callback run at\", now());\n",
       "        run_inline_js();\n",
       "      });\n",
       "    }\n",
       "  }(this));\n",
       "</script>"
      ]
     },
     "metadata": {},
     "output_type": "display_data"
    }
   ],
   "source": [
    "fhwa_ns_sedf = pd.DataFrame.spatial.from_layer(analysisroads_interstatesmd_item.layers[0])\n",
    "p = Bar(fhwa_ns_sedf, 'CRASH_RATE_RISK', title=\"Highway Segments by Crash Rate Risk\")\n",
    "show(p)"
   ]
  },
  {
   "cell_type": "code",
   "execution_count": 23,
   "metadata": {},
   "outputs": [
    {
     "data": {
      "text/plain": [
       "count    139.000000\n",
       "mean       0.132674\n",
       "std        0.783361\n",
       "min        0.000000\n",
       "25%        0.000000\n",
       "50%        0.000000\n",
       "75%        0.000000\n",
       "max        8.353250\n",
       "Name: CRASH_RATE, dtype: float64"
      ]
     },
     "execution_count": 23,
     "metadata": {},
     "output_type": "execute_result"
    }
   ],
   "source": [
    "fhwa_ns_sedf.CRASH_RATE.describe()"
   ]
  },
  {
   "cell_type": "code",
   "execution_count": 24,
   "metadata": {
    "scrolled": true
   },
   "outputs": [
    {
     "data": {
      "text/html": [
       "\n",
       "\n",
       "    <div class=\"bk-root\">\n",
       "        <div class=\"bk-plotdiv\" id=\"12c75868-90ac-4db8-b1c3-e18a17b5b249\"></div>\n",
       "    </div>\n",
       "<script type=\"text/javascript\">\n",
       "  \n",
       "  (function(global) {\n",
       "    function now() {\n",
       "      return new Date();\n",
       "    }\n",
       "  \n",
       "    var force = false;\n",
       "  \n",
       "    if (typeof (window._bokeh_onload_callbacks) === \"undefined\" || force === true) {\n",
       "      window._bokeh_onload_callbacks = [];\n",
       "      window._bokeh_is_loading = undefined;\n",
       "    }\n",
       "  \n",
       "  \n",
       "    \n",
       "    if (typeof (window._bokeh_timeout) === \"undefined\" || force === true) {\n",
       "      window._bokeh_timeout = Date.now() + 0;\n",
       "      window._bokeh_failed_load = false;\n",
       "    }\n",
       "  \n",
       "    var NB_LOAD_WARNING = {'data': {'text/html':\n",
       "       \"<div style='background-color: #fdd'>\\n\"+\n",
       "       \"<p>\\n\"+\n",
       "       \"BokehJS does not appear to have successfully loaded. If loading BokehJS from CDN, this \\n\"+\n",
       "       \"may be due to a slow or bad network connection. Possible fixes:\\n\"+\n",
       "       \"</p>\\n\"+\n",
       "       \"<ul>\\n\"+\n",
       "       \"<li>re-rerun `output_notebook()` to attempt to load from CDN again, or</li>\\n\"+\n",
       "       \"<li>use INLINE resources instead, as so:</li>\\n\"+\n",
       "       \"</ul>\\n\"+\n",
       "       \"<code>\\n\"+\n",
       "       \"from bokeh.resources import INLINE\\n\"+\n",
       "       \"output_notebook(resources=INLINE)\\n\"+\n",
       "       \"</code>\\n\"+\n",
       "       \"</div>\"}};\n",
       "  \n",
       "    function display_loaded() {\n",
       "      if (window.Bokeh !== undefined) {\n",
       "        var el = document.getElementById(\"12c75868-90ac-4db8-b1c3-e18a17b5b249\");\n",
       "        el.textContent = \"BokehJS \" + Bokeh.version + \" successfully loaded.\";\n",
       "      } else if (Date.now() < window._bokeh_timeout) {\n",
       "        setTimeout(display_loaded, 100)\n",
       "      }\n",
       "    }\n",
       "  \n",
       "    function run_callbacks() {\n",
       "      window._bokeh_onload_callbacks.forEach(function(callback) { callback() });\n",
       "      delete window._bokeh_onload_callbacks\n",
       "      console.info(\"Bokeh: all callbacks have finished\");\n",
       "    }\n",
       "  \n",
       "    function load_libs(js_urls, callback) {\n",
       "      window._bokeh_onload_callbacks.push(callback);\n",
       "      if (window._bokeh_is_loading > 0) {\n",
       "        console.log(\"Bokeh: BokehJS is being loaded, scheduling callback at\", now());\n",
       "        return null;\n",
       "      }\n",
       "      if (js_urls == null || js_urls.length === 0) {\n",
       "        run_callbacks();\n",
       "        return null;\n",
       "      }\n",
       "      console.log(\"Bokeh: BokehJS not loaded, scheduling load and callback at\", now());\n",
       "      window._bokeh_is_loading = js_urls.length;\n",
       "      for (var i = 0; i < js_urls.length; i++) {\n",
       "        var url = js_urls[i];\n",
       "        var s = document.createElement('script');\n",
       "        s.src = url;\n",
       "        s.async = false;\n",
       "        s.onreadystatechange = s.onload = function() {\n",
       "          window._bokeh_is_loading--;\n",
       "          if (window._bokeh_is_loading === 0) {\n",
       "            console.log(\"Bokeh: all BokehJS libraries loaded\");\n",
       "            run_callbacks()\n",
       "          }\n",
       "        };\n",
       "        s.onerror = function() {\n",
       "          console.warn(\"failed to load library \" + url);\n",
       "        };\n",
       "        console.log(\"Bokeh: injecting script tag for BokehJS library: \", url);\n",
       "        document.getElementsByTagName(\"head\")[0].appendChild(s);\n",
       "      }\n",
       "    };var element = document.getElementById(\"12c75868-90ac-4db8-b1c3-e18a17b5b249\");\n",
       "    if (element == null) {\n",
       "      console.log(\"Bokeh: ERROR: autoload.js configured with elementid '12c75868-90ac-4db8-b1c3-e18a17b5b249' but no matching script tag was found. \")\n",
       "      return false;\n",
       "    }\n",
       "  \n",
       "    var js_urls = [];\n",
       "  \n",
       "    var inline_js = [\n",
       "      function(Bokeh) {\n",
       "        (function() {\n",
       "          var fn = function() {\n",
       "            var docs_json = {\"35565cab-2878-4d6c-b175-a080b1bbe404\":{\"roots\":{\"references\":[{\"attributes\":{\"fill_alpha\":{\"field\":\"fill_alpha\"},\"fill_color\":{\"field\":\"color\"},\"height\":{\"field\":\"height\",\"units\":\"data\"},\"line_color\":{\"field\":\"line_color\"},\"width\":{\"field\":\"width\",\"units\":\"data\"},\"x\":{\"field\":\"x\"},\"y\":{\"field\":\"y\"}},\"id\":\"49a810e2-abee-4165-a444-397ca3218f4f\",\"type\":\"Rect\"},{\"attributes\":{\"fill_alpha\":{\"field\":\"fill_alpha\"},\"fill_color\":{\"field\":\"color\"},\"height\":{\"field\":\"height\",\"units\":\"data\"},\"line_color\":{\"field\":\"line_color\"},\"width\":{\"field\":\"width\",\"units\":\"data\"},\"x\":{\"field\":\"x\"},\"y\":{\"field\":\"y\"}},\"id\":\"af16e257-e7c0-46ac-9aae-b8b86f26a1f2\",\"type\":\"Rect\"},{\"attributes\":{\"fill_alpha\":{\"field\":\"fill_alpha\"},\"fill_color\":{\"field\":\"color\"},\"height\":{\"field\":\"height\",\"units\":\"data\"},\"line_color\":{\"field\":\"line_color\"},\"width\":{\"field\":\"width\",\"units\":\"data\"},\"x\":{\"field\":\"x\"},\"y\":{\"field\":\"y\"}},\"id\":\"add66d6b-52bd-4923-b4c5-c00e4fecef85\",\"type\":\"Rect\"},{\"attributes\":{\"callback\":null,\"end\":4.100000157894737,\"start\":-0.10000015789473685},\"id\":\"df925be0-9276-4292-a884-9b86d6818cb6\",\"type\":\"Range1d\"},{\"attributes\":{\"fill_alpha\":{\"field\":\"fill_alpha\"},\"fill_color\":{\"field\":\"color\"},\"height\":{\"field\":\"height\",\"units\":\"data\"},\"line_color\":{\"field\":\"line_color\"},\"width\":{\"field\":\"width\",\"units\":\"data\"},\"x\":{\"field\":\"x\"},\"y\":{\"field\":\"y\"}},\"id\":\"f612fbe4-52de-415d-97c5-52bf4df72501\",\"type\":\"Rect\"},{\"attributes\":{\"below\":[{\"id\":\"9ed0a6c7-a370-42ec-a552-73f04c77446a\",\"type\":\"LinearAxis\"}],\"css_classes\":null,\"left\":[{\"id\":\"8092a9ec-fb12-400f-895b-7ef9463ac1a8\",\"type\":\"LinearAxis\"}],\"renderers\":[{\"id\":\"365ad90d-f980-4fb4-9c93-fcd0bc7df0dc\",\"type\":\"BoxAnnotation\"},{\"id\":\"c0a37d6c-0e23-4f69-8a46-f2a5571826cb\",\"type\":\"GlyphRenderer\"},{\"id\":\"a56db6a2-36ac-4234-bd81-09a7723d8db8\",\"type\":\"GlyphRenderer\"},{\"id\":\"305145af-1906-4994-92a9-1e459c4f1b2c\",\"type\":\"GlyphRenderer\"},{\"id\":\"11dddc70-e80e-48aa-9b2a-ef993215fa20\",\"type\":\"GlyphRenderer\"},{\"id\":\"cf4a3d6d-6c9b-4bb8-b16f-a63c6381a32a\",\"type\":\"GlyphRenderer\"},{\"id\":\"e0adbdcd-8030-4ebc-846d-7ea013cdbad6\",\"type\":\"GlyphRenderer\"},{\"id\":\"0cfa2d11-3386-4bfd-b23b-d67a6ed7201b\",\"type\":\"GlyphRenderer\"},{\"id\":\"76e855a3-dd8a-4e4b-a12a-5ba949052d8b\",\"type\":\"GlyphRenderer\"},{\"id\":\"350b2d40-d034-4949-9107-1c8498539923\",\"type\":\"GlyphRenderer\"},{\"id\":\"feab212e-99ce-4274-a0da-72ae8dcea675\",\"type\":\"GlyphRenderer\"},{\"id\":\"99f09fce-3415-4c10-841e-61d2682997ca\",\"type\":\"GlyphRenderer\"},{\"id\":\"32886b81-0ce4-4e0d-8198-f41e5fe76d85\",\"type\":\"GlyphRenderer\"},{\"id\":\"9b25f643-dab5-4389-9c0e-346f30d80b03\",\"type\":\"GlyphRenderer\"},{\"id\":\"654e1ab1-28df-48c4-b0f4-cc54f5c65207\",\"type\":\"GlyphRenderer\"},{\"id\":\"27593ba8-0c00-4c6e-abc7-cbdb0dfefe7a\",\"type\":\"GlyphRenderer\"},{\"id\":\"4c3bafff-38a4-4bc2-814a-56fc9b23a75e\",\"type\":\"GlyphRenderer\"},{\"id\":\"fd0418bc-422a-4e99-8d5e-e79d1101d1e9\",\"type\":\"GlyphRenderer\"},{\"id\":\"97f25bce-20a4-4af9-8036-06ed8d542f7d\",\"type\":\"GlyphRenderer\"},{\"id\":\"67ab0020-a0a5-4002-bb17-f4a9f767fe45\",\"type\":\"GlyphRenderer\"},{\"id\":\"169c088d-7763-4518-b2a8-9dbf32552944\",\"type\":\"Legend\"},{\"id\":\"9ed0a6c7-a370-42ec-a552-73f04c77446a\",\"type\":\"LinearAxis\"},{\"id\":\"8092a9ec-fb12-400f-895b-7ef9463ac1a8\",\"type\":\"LinearAxis\"},{\"id\":\"ae0603a6-1546-4ea2-91e9-2fb816b687e1\",\"type\":\"Grid\"}],\"title\":{\"id\":\"16d80bc6-0fc2-4af5-ad37-85494f6e86d6\",\"type\":\"Title\"},\"tool_events\":{\"id\":\"9182ff63-a89e-47bb-a4d3-ad14c4c9b7c1\",\"type\":\"ToolEvents\"},\"toolbar\":{\"id\":\"6882cf19-406b-4891-b5d3-183bfeb66fd3\",\"type\":\"Toolbar\"},\"x_mapper_type\":\"auto\",\"x_range\":{\"id\":\"df925be0-9276-4292-a884-9b86d6818cb6\",\"type\":\"Range1d\"},\"y_mapper_type\":\"auto\",\"y_range\":{\"id\":\"cd7bc577-abf9-40fb-910b-4a2f08e471c4\",\"type\":\"Range1d\"}},\"id\":\"038e44c3-7752-4e6d-8b10-76e8c0366872\",\"subtype\":\"Chart\",\"type\":\"Plot\"},{\"attributes\":{\"data_source\":{\"id\":\"6cc9b727-0a31-458d-8d33-ef304816d639\",\"type\":\"ColumnDataSource\"},\"glyph\":{\"id\":\"54080d7a-408f-4291-ad7e-50057196dd76\",\"type\":\"Rect\"},\"hover_glyph\":null,\"muted_glyph\":null},\"id\":\"4c3bafff-38a4-4bc2-814a-56fc9b23a75e\",\"type\":\"GlyphRenderer\"},{\"attributes\":{},\"id\":\"9182ff63-a89e-47bb-a4d3-ad14c4c9b7c1\",\"type\":\"ToolEvents\"},{\"attributes\":{\"callback\":null,\"column_names\":[\"x\",\"y\",\"width\",\"height\",\"color\",\"fill_alpha\",\"line_color\",\"line_alpha\",\"label\"],\"data\":{\"chart_index\":[\"(3.157895, 3.368421]\"],\"color\":[\"#f22c40\"],\"fill_alpha\":[0.8],\"height\":[0.0],\"label\":[\"(3.157895, 3.368421]\"],\"line_alpha\":[1.0],\"line_color\":[\"black\"],\"width\":[0.21052631578947345],\"x\":[\"3.263158\"],\"y\":[0.0]}},\"id\":\"6cc9b727-0a31-458d-8d33-ef304816d639\",\"type\":\"ColumnDataSource\"},{\"attributes\":{\"callback\":null,\"column_names\":[\"x\",\"y\",\"width\",\"height\",\"color\",\"fill_alpha\",\"line_color\",\"line_alpha\",\"label\"],\"data\":{\"chart_index\":[\"(1.052632, 1.263158]\"],\"color\":[\"#f22c40\"],\"fill_alpha\":[0.8],\"height\":[0.0],\"label\":[\"(1.052632, 1.263158]\"],\"line_alpha\":[1.0],\"line_color\":[\"black\"],\"width\":[0.21052631578947367],\"x\":[\"1.157895\"],\"y\":[0.0]}},\"id\":\"9e29ca12-2a4a-4b0d-ab57-dbea6a6368a9\",\"type\":\"ColumnDataSource\"},{\"attributes\":{\"fill_alpha\":{\"field\":\"fill_alpha\"},\"fill_color\":{\"field\":\"color\"},\"height\":{\"field\":\"height\",\"units\":\"data\"},\"line_color\":{\"field\":\"line_color\"},\"width\":{\"field\":\"width\",\"units\":\"data\"},\"x\":{\"field\":\"x\"},\"y\":{\"field\":\"y\"}},\"id\":\"beb22151-e0fd-4d1d-a35f-82eb525a9801\",\"type\":\"Rect\"},{\"attributes\":{\"fill_alpha\":{\"field\":\"fill_alpha\"},\"fill_color\":{\"field\":\"color\"},\"height\":{\"field\":\"height\",\"units\":\"data\"},\"line_color\":{\"field\":\"line_color\"},\"width\":{\"field\":\"width\",\"units\":\"data\"},\"x\":{\"field\":\"x\"},\"y\":{\"field\":\"y\"}},\"id\":\"c98d6c6b-86c2-4ac9-8762-15cf6c6b0284\",\"type\":\"Rect\"},{\"attributes\":{\"plot\":null,\"text\":null},\"id\":\"16d80bc6-0fc2-4af5-ad37-85494f6e86d6\",\"type\":\"Title\"},{\"attributes\":{\"data_source\":{\"id\":\"1160fc37-e186-4cbf-bc3e-fc01927b9b36\",\"type\":\"ColumnDataSource\"},\"glyph\":{\"id\":\"1ae32938-fd0b-4e17-838f-ee597b6ced13\",\"type\":\"Rect\"},\"hover_glyph\":null,\"muted_glyph\":null},\"id\":\"9b25f643-dab5-4389-9c0e-346f30d80b03\",\"type\":\"GlyphRenderer\"},{\"attributes\":{\"data_source\":{\"id\":\"9e29ca12-2a4a-4b0d-ab57-dbea6a6368a9\",\"type\":\"ColumnDataSource\"},\"glyph\":{\"id\":\"49a810e2-abee-4165-a444-397ca3218f4f\",\"type\":\"Rect\"},\"hover_glyph\":null,\"muted_glyph\":null},\"id\":\"e0adbdcd-8030-4ebc-846d-7ea013cdbad6\",\"type\":\"GlyphRenderer\"},{\"attributes\":{\"callback\":null,\"column_names\":[\"x\",\"y\",\"width\",\"height\",\"color\",\"fill_alpha\",\"line_color\",\"line_alpha\",\"label\"],\"data\":{\"chart_index\":[\"(3.368421, 3.578947]\"],\"color\":[\"#f22c40\"],\"fill_alpha\":[0.8],\"height\":[1.0],\"label\":[\"(3.368421, 3.578947]\"],\"line_alpha\":[1.0],\"line_color\":[\"black\"],\"width\":[0.21052631578947345],\"x\":[\"3.473684\"],\"y\":[0.5]}},\"id\":\"3d507af5-7f37-4888-a5ab-1714a1593848\",\"type\":\"ColumnDataSource\"},{\"attributes\":{\"active_drag\":\"auto\",\"active_scroll\":\"auto\",\"active_tap\":\"auto\",\"tools\":[{\"id\":\"f27dad7c-cd5a-4f5a-bd60-a4f95965321c\",\"type\":\"PanTool\"},{\"id\":\"87ac21a5-4299-43d3-a492-c2071b107bc0\",\"type\":\"WheelZoomTool\"},{\"id\":\"837b5fe8-9976-4e12-b195-2ae5775d7f29\",\"type\":\"BoxZoomTool\"},{\"id\":\"d693c251-d895-4b16-a8bf-ca0614c1d406\",\"type\":\"SaveTool\"},{\"id\":\"cd46a820-ef2c-4161-84ea-6289cd3c9545\",\"type\":\"ResetTool\"},{\"id\":\"398b3143-0a79-4f1e-88a9-a0628f4cf4ce\",\"type\":\"HelpTool\"}]},\"id\":\"6882cf19-406b-4891-b5d3-183bfeb66fd3\",\"type\":\"Toolbar\"},{\"attributes\":{\"fill_alpha\":{\"field\":\"fill_alpha\"},\"fill_color\":{\"field\":\"color\"},\"height\":{\"field\":\"height\",\"units\":\"data\"},\"line_color\":{\"field\":\"line_color\"},\"width\":{\"field\":\"width\",\"units\":\"data\"},\"x\":{\"field\":\"x\"},\"y\":{\"field\":\"y\"}},\"id\":\"2b69f3c8-6a05-4103-b080-5d0e3db57b85\",\"type\":\"Rect\"},{\"attributes\":{\"data_source\":{\"id\":\"3d507af5-7f37-4888-a5ab-1714a1593848\",\"type\":\"ColumnDataSource\"},\"glyph\":{\"id\":\"f612fbe4-52de-415d-97c5-52bf4df72501\",\"type\":\"Rect\"},\"hover_glyph\":null,\"muted_glyph\":null},\"id\":\"fd0418bc-422a-4e99-8d5e-e79d1101d1e9\",\"type\":\"GlyphRenderer\"},{\"attributes\":{},\"id\":\"532bc1a4-8a6b-4f1f-a705-de8bb9f48a01\",\"type\":\"BasicTicker\"},{\"attributes\":{\"location\":\"top_left\",\"plot\":{\"id\":\"038e44c3-7752-4e6d-8b10-76e8c0366872\",\"subtype\":\"Chart\",\"type\":\"Plot\"}},\"id\":\"169c088d-7763-4518-b2a8-9dbf32552944\",\"type\":\"Legend\"},{\"attributes\":{\"bottom_units\":\"screen\",\"fill_alpha\":{\"value\":0.5},\"fill_color\":{\"value\":\"lightgrey\"},\"left_units\":\"screen\",\"level\":\"overlay\",\"line_alpha\":{\"value\":1.0},\"line_color\":{\"value\":\"black\"},\"line_dash\":[4,4],\"line_width\":{\"value\":2},\"plot\":null,\"render_mode\":\"css\",\"right_units\":\"screen\",\"top_units\":\"screen\"},\"id\":\"365ad90d-f980-4fb4-9c93-fcd0bc7df0dc\",\"type\":\"BoxAnnotation\"},{\"attributes\":{\"callback\":null,\"column_names\":[\"x\",\"y\",\"width\",\"height\",\"color\",\"fill_alpha\",\"line_color\",\"line_alpha\",\"label\"],\"data\":{\"chart_index\":[\"(1.263158, 1.473684]\"],\"color\":[\"#f22c40\"],\"fill_alpha\":[0.8],\"height\":[0.0],\"label\":[\"(1.263158, 1.473684]\"],\"line_alpha\":[1.0],\"line_color\":[\"black\"],\"width\":[0.21052631578947367],\"x\":[\"1.368421\"],\"y\":[0.0]}},\"id\":\"81486a9c-9c3a-4a4d-aff9-84781157f2a4\",\"type\":\"ColumnDataSource\"},{\"attributes\":{\"callback\":null,\"column_names\":[\"x\",\"y\",\"width\",\"height\",\"color\",\"fill_alpha\",\"line_color\",\"line_alpha\",\"label\"],\"data\":{\"chart_index\":[\"(2.526316, 2.736842]\"],\"color\":[\"#f22c40\"],\"fill_alpha\":[0.8],\"height\":[0.0],\"label\":[\"(2.526316, 2.736842]\"],\"line_alpha\":[1.0],\"line_color\":[\"black\"],\"width\":[0.21052631578947345],\"x\":[\"2.6315790000000003\"],\"y\":[0.0]}},\"id\":\"1160fc37-e186-4cbf-bc3e-fc01927b9b36\",\"type\":\"ColumnDataSource\"},{\"attributes\":{\"data_source\":{\"id\":\"81486a9c-9c3a-4a4d-aff9-84781157f2a4\",\"type\":\"ColumnDataSource\"},\"glyph\":{\"id\":\"af16e257-e7c0-46ac-9aae-b8b86f26a1f2\",\"type\":\"Rect\"},\"hover_glyph\":null,\"muted_glyph\":null},\"id\":\"0cfa2d11-3386-4bfd-b23b-d67a6ed7201b\",\"type\":\"GlyphRenderer\"},{\"attributes\":{\"callback\":null,\"column_names\":[\"x\",\"y\",\"width\",\"height\",\"color\",\"fill_alpha\",\"line_color\",\"line_alpha\",\"label\"],\"data\":{\"chart_index\":[\"(3.578947, 3.789474]\"],\"color\":[\"#f22c40\"],\"fill_alpha\":[0.8],\"height\":[0.0],\"label\":[\"(3.578947, 3.789474]\"],\"line_alpha\":[1.0],\"line_color\":[\"black\"],\"width\":[0.2105263157894739],\"x\":[\"3.6842105\"],\"y\":[0.0]}},\"id\":\"52fdcca3-1e83-4900-aa01-a70d1e7e6bfc\",\"type\":\"ColumnDataSource\"},{\"attributes\":{\"data_source\":{\"id\":\"52fdcca3-1e83-4900-aa01-a70d1e7e6bfc\",\"type\":\"ColumnDataSource\"},\"glyph\":{\"id\":\"add66d6b-52bd-4923-b4c5-c00e4fecef85\",\"type\":\"Rect\"},\"hover_glyph\":null,\"muted_glyph\":null},\"id\":\"97f25bce-20a4-4af9-8036-06ed8d542f7d\",\"type\":\"GlyphRenderer\"},{\"attributes\":{},\"id\":\"8760c3fb-cf24-481b-908c-70fc6ba828a7\",\"type\":\"BasicTickFormatter\"},{\"attributes\":{\"callback\":null,\"column_names\":[\"x\",\"y\",\"width\",\"height\",\"color\",\"fill_alpha\",\"line_color\",\"line_alpha\",\"label\"],\"data\":{\"chart_index\":[\"(1.473684, 1.684211]\"],\"color\":[\"#f22c40\"],\"fill_alpha\":[0.8],\"height\":[0.0],\"label\":[\"(1.473684, 1.684211]\"],\"line_alpha\":[1.0],\"line_color\":[\"black\"],\"width\":[0.21052631578947367],\"x\":[\"1.5789475\"],\"y\":[0.0]}},\"id\":\"0cae6de8-a52b-4520-b085-a66e09562a48\",\"type\":\"ColumnDataSource\"},{\"attributes\":{\"plot\":{\"id\":\"038e44c3-7752-4e6d-8b10-76e8c0366872\",\"subtype\":\"Chart\",\"type\":\"Plot\"}},\"id\":\"87ac21a5-4299-43d3-a492-c2071b107bc0\",\"type\":\"WheelZoomTool\"},{\"attributes\":{\"data_source\":{\"id\":\"0cae6de8-a52b-4520-b085-a66e09562a48\",\"type\":\"ColumnDataSource\"},\"glyph\":{\"id\":\"c98d6c6b-86c2-4ac9-8762-15cf6c6b0284\",\"type\":\"Rect\"},\"hover_glyph\":null,\"muted_glyph\":null},\"id\":\"76e855a3-dd8a-4e4b-a12a-5ba949052d8b\",\"type\":\"GlyphRenderer\"},{\"attributes\":{},\"id\":\"8eced856-d697-49aa-be67-88c13405ae8a\",\"type\":\"BasicTickFormatter\"},{\"attributes\":{\"plot\":{\"id\":\"038e44c3-7752-4e6d-8b10-76e8c0366872\",\"subtype\":\"Chart\",\"type\":\"Plot\"}},\"id\":\"f27dad7c-cd5a-4f5a-bd60-a4f95965321c\",\"type\":\"PanTool\"},{\"attributes\":{},\"id\":\"cc0bdb24-2349-4008-90c2-ffbde491d254\",\"type\":\"BasicTicker\"},{\"attributes\":{\"overlay\":{\"id\":\"365ad90d-f980-4fb4-9c93-fcd0bc7df0dc\",\"type\":\"BoxAnnotation\"},\"plot\":{\"id\":\"038e44c3-7752-4e6d-8b10-76e8c0366872\",\"subtype\":\"Chart\",\"type\":\"Plot\"}},\"id\":\"837b5fe8-9976-4e12-b195-2ae5775d7f29\",\"type\":\"BoxZoomTool\"},{\"attributes\":{\"data_source\":{\"id\":\"1ab36307-ccb8-44d6-abc1-878d96b2428b\",\"type\":\"ColumnDataSource\"},\"glyph\":{\"id\":\"beb22151-e0fd-4d1d-a35f-82eb525a9801\",\"type\":\"Rect\"},\"hover_glyph\":null,\"muted_glyph\":null},\"id\":\"67ab0020-a0a5-4002-bb17-f4a9f767fe45\",\"type\":\"GlyphRenderer\"},{\"attributes\":{\"dimension\":1,\"plot\":{\"id\":\"038e44c3-7752-4e6d-8b10-76e8c0366872\",\"subtype\":\"Chart\",\"type\":\"Plot\"},\"ticker\":{\"id\":\"532bc1a4-8a6b-4f1f-a705-de8bb9f48a01\",\"type\":\"BasicTicker\"}},\"id\":\"ae0603a6-1546-4ea2-91e9-2fb816b687e1\",\"type\":\"Grid\"},{\"attributes\":{\"plot\":{\"id\":\"038e44c3-7752-4e6d-8b10-76e8c0366872\",\"subtype\":\"Chart\",\"type\":\"Plot\"}},\"id\":\"d693c251-d895-4b16-a8bf-ca0614c1d406\",\"type\":\"SaveTool\"},{\"attributes\":{\"plot\":{\"id\":\"038e44c3-7752-4e6d-8b10-76e8c0366872\",\"subtype\":\"Chart\",\"type\":\"Plot\"}},\"id\":\"cd46a820-ef2c-4161-84ea-6289cd3c9545\",\"type\":\"ResetTool\"},{\"attributes\":{\"plot\":{\"id\":\"038e44c3-7752-4e6d-8b10-76e8c0366872\",\"subtype\":\"Chart\",\"type\":\"Plot\"}},\"id\":\"398b3143-0a79-4f1e-88a9-a0628f4cf4ce\",\"type\":\"HelpTool\"},{\"attributes\":{\"callback\":null,\"column_names\":[\"x\",\"y\",\"width\",\"height\",\"color\",\"fill_alpha\",\"line_color\",\"line_alpha\",\"label\"],\"data\":{\"chart_index\":[\"(1.684211, 1.894737]\"],\"color\":[\"#f22c40\"],\"fill_alpha\":[0.8],\"height\":[0.0],\"label\":[\"(1.684211, 1.894737]\"],\"line_alpha\":[1.0],\"line_color\":[\"black\"],\"width\":[0.21052631578947367],\"x\":[\"1.7894739999999998\"],\"y\":[0.0]}},\"id\":\"2dcd90df-fc36-4130-acf3-3ca0db714a07\",\"type\":\"ColumnDataSource\"},{\"attributes\":{\"fill_alpha\":{\"field\":\"fill_alpha\"},\"fill_color\":{\"field\":\"color\"},\"height\":{\"field\":\"height\",\"units\":\"data\"},\"line_color\":{\"field\":\"line_color\"},\"width\":{\"field\":\"width\",\"units\":\"data\"},\"x\":{\"field\":\"x\"},\"y\":{\"field\":\"y\"}},\"id\":\"418d644d-dc49-4392-9807-30eb71cebf37\",\"type\":\"Rect\"},{\"attributes\":{\"data_source\":{\"id\":\"2dcd90df-fc36-4130-acf3-3ca0db714a07\",\"type\":\"ColumnDataSource\"},\"glyph\":{\"id\":\"2b69f3c8-6a05-4103-b080-5d0e3db57b85\",\"type\":\"Rect\"},\"hover_glyph\":null,\"muted_glyph\":null},\"id\":\"350b2d40-d034-4949-9107-1c8498539923\",\"type\":\"GlyphRenderer\"},{\"attributes\":{\"fill_alpha\":{\"field\":\"fill_alpha\"},\"fill_color\":{\"field\":\"color\"},\"height\":{\"field\":\"height\",\"units\":\"data\"},\"line_color\":{\"field\":\"line_color\"},\"width\":{\"field\":\"width\",\"units\":\"data\"},\"x\":{\"field\":\"x\"},\"y\":{\"field\":\"y\"}},\"id\":\"d96a596f-488c-461f-8b23-f243432dedea\",\"type\":\"Rect\"},{\"attributes\":{\"fill_alpha\":{\"field\":\"fill_alpha\"},\"fill_color\":{\"field\":\"color\"},\"height\":{\"field\":\"height\",\"units\":\"data\"},\"line_color\":{\"field\":\"line_color\"},\"width\":{\"field\":\"width\",\"units\":\"data\"},\"x\":{\"field\":\"x\"},\"y\":{\"field\":\"y\"}},\"id\":\"29f526e6-8546-4670-995b-f7d18f06c279\",\"type\":\"Rect\"},{\"attributes\":{\"fill_alpha\":{\"field\":\"fill_alpha\"},\"fill_color\":{\"field\":\"color\"},\"height\":{\"field\":\"height\",\"units\":\"data\"},\"line_color\":{\"field\":\"line_color\"},\"width\":{\"field\":\"width\",\"units\":\"data\"},\"x\":{\"field\":\"x\"},\"y\":{\"field\":\"y\"}},\"id\":\"55e68654-d88c-4ef0-a1c7-7bf91eb6de6f\",\"type\":\"Rect\"},{\"attributes\":{\"callback\":null,\"column_names\":[\"x\",\"y\",\"width\",\"height\",\"color\",\"fill_alpha\",\"line_color\",\"line_alpha\",\"label\"],\"data\":{\"chart_index\":[\"[0.000000, 0.210526]\"],\"color\":[\"#f22c40\"],\"fill_alpha\":[0.8],\"height\":[124.0],\"label\":[\"[0.000000, 0.210526]\"],\"line_alpha\":[1.0],\"line_color\":[\"black\"],\"width\":[0.21052631578947367],\"x\":[\"0.105263\"],\"y\":[62.0]}},\"id\":\"81acb801-e4a4-4b0f-bf1d-10efcb3d424d\",\"type\":\"ColumnDataSource\"},{\"attributes\":{\"callback\":null,\"column_names\":[\"x\",\"y\",\"width\",\"height\",\"color\",\"fill_alpha\",\"line_color\",\"line_alpha\",\"label\"],\"data\":{\"chart_index\":[\"(1.894737, 2.105263]\"],\"color\":[\"#f22c40\"],\"fill_alpha\":[0.8],\"height\":[1.0],\"label\":[\"(1.894737, 2.105263]\"],\"line_alpha\":[1.0],\"line_color\":[\"black\"],\"width\":[0.21052631578947367],\"x\":[\"2.0\"],\"y\":[0.5]}},\"id\":\"297cdc82-e471-4386-8c0a-914a00bc1ad6\",\"type\":\"ColumnDataSource\"},{\"attributes\":{\"fill_alpha\":{\"field\":\"fill_alpha\"},\"fill_color\":{\"field\":\"color\"},\"height\":{\"field\":\"height\",\"units\":\"data\"},\"line_color\":{\"field\":\"line_color\"},\"width\":{\"field\":\"width\",\"units\":\"data\"},\"x\":{\"field\":\"x\"},\"y\":{\"field\":\"y\"}},\"id\":\"de112f05-8e6b-4c07-8d74-8feac0ef7f26\",\"type\":\"Rect\"},{\"attributes\":{\"data_source\":{\"id\":\"297cdc82-e471-4386-8c0a-914a00bc1ad6\",\"type\":\"ColumnDataSource\"},\"glyph\":{\"id\":\"55e68654-d88c-4ef0-a1c7-7bf91eb6de6f\",\"type\":\"Rect\"},\"hover_glyph\":null,\"muted_glyph\":null},\"id\":\"feab212e-99ce-4274-a0da-72ae8dcea675\",\"type\":\"GlyphRenderer\"},{\"attributes\":{\"callback\":null,\"column_names\":[\"x\",\"y\",\"width\",\"height\",\"color\",\"fill_alpha\",\"line_color\",\"line_alpha\",\"label\"],\"data\":{\"chart_index\":[\"(0.842105, 1.052632]\"],\"color\":[\"#f22c40\"],\"fill_alpha\":[0.8],\"height\":[0.0],\"label\":[\"(0.842105, 1.052632]\"],\"line_alpha\":[1.0],\"line_color\":[\"black\"],\"width\":[0.21052631578947367],\"x\":[\"0.9473685000000001\"],\"y\":[0.0]}},\"id\":\"5da6d1a4-e8f9-4376-81ee-df6a34c591a8\",\"type\":\"ColumnDataSource\"},{\"attributes\":{\"fill_alpha\":{\"field\":\"fill_alpha\"},\"fill_color\":{\"field\":\"color\"},\"height\":{\"field\":\"height\",\"units\":\"data\"},\"line_color\":{\"field\":\"line_color\"},\"width\":{\"field\":\"width\",\"units\":\"data\"},\"x\":{\"field\":\"x\"},\"y\":{\"field\":\"y\"}},\"id\":\"fcda16b6-f665-4af4-a369-1c812faf7716\",\"type\":\"Rect\"},{\"attributes\":{\"fill_alpha\":{\"field\":\"fill_alpha\"},\"fill_color\":{\"field\":\"color\"},\"height\":{\"field\":\"height\",\"units\":\"data\"},\"line_color\":{\"field\":\"line_color\"},\"width\":{\"field\":\"width\",\"units\":\"data\"},\"x\":{\"field\":\"x\"},\"y\":{\"field\":\"y\"}},\"id\":\"1ae32938-fd0b-4e17-838f-ee597b6ced13\",\"type\":\"Rect\"},{\"attributes\":{\"data_source\":{\"id\":\"b5c0246d-b708-4543-81e6-56a32d175a6e\",\"type\":\"ColumnDataSource\"},\"glyph\":{\"id\":\"4de23fc5-5278-471a-b2b8-a1aae5c33651\",\"type\":\"Rect\"},\"hover_glyph\":null,\"muted_glyph\":null},\"id\":\"32886b81-0ce4-4e0d-8198-f41e5fe76d85\",\"type\":\"GlyphRenderer\"},{\"attributes\":{\"callback\":null,\"column_names\":[\"x\",\"y\",\"width\",\"height\",\"color\",\"fill_alpha\",\"line_color\",\"line_alpha\",\"label\"],\"data\":{\"chart_index\":[\"(2.105263, 2.315789]\"],\"color\":[\"#f22c40\"],\"fill_alpha\":[0.8],\"height\":[0.0],\"label\":[\"(2.105263, 2.315789]\"],\"line_alpha\":[1.0],\"line_color\":[\"black\"],\"width\":[0.2105263157894739],\"x\":[\"2.2105259999999998\"],\"y\":[0.0]}},\"id\":\"077c2967-e5a2-43d2-a41d-a65a953c8821\",\"type\":\"ColumnDataSource\"},{\"attributes\":{\"data_source\":{\"id\":\"81acb801-e4a4-4b0f-bf1d-10efcb3d424d\",\"type\":\"ColumnDataSource\"},\"glyph\":{\"id\":\"de112f05-8e6b-4c07-8d74-8feac0ef7f26\",\"type\":\"Rect\"},\"hover_glyph\":null,\"muted_glyph\":null},\"id\":\"c0a37d6c-0e23-4f69-8a46-f2a5571826cb\",\"type\":\"GlyphRenderer\"},{\"attributes\":{\"data_source\":{\"id\":\"077c2967-e5a2-43d2-a41d-a65a953c8821\",\"type\":\"ColumnDataSource\"},\"glyph\":{\"id\":\"d96a596f-488c-461f-8b23-f243432dedea\",\"type\":\"Rect\"},\"hover_glyph\":null,\"muted_glyph\":null},\"id\":\"99f09fce-3415-4c10-841e-61d2682997ca\",\"type\":\"GlyphRenderer\"},{\"attributes\":{\"data_source\":{\"id\":\"5da6d1a4-e8f9-4376-81ee-df6a34c591a8\",\"type\":\"ColumnDataSource\"},\"glyph\":{\"id\":\"4c5a46c2-9d8a-4862-8f43-5294c77247ec\",\"type\":\"Rect\"},\"hover_glyph\":null,\"muted_glyph\":null},\"id\":\"cf4a3d6d-6c9b-4bb8-b16f-a63c6381a32a\",\"type\":\"GlyphRenderer\"},{\"attributes\":{\"fill_alpha\":{\"field\":\"fill_alpha\"},\"fill_color\":{\"field\":\"color\"},\"height\":{\"field\":\"height\",\"units\":\"data\"},\"line_color\":{\"field\":\"line_color\"},\"width\":{\"field\":\"width\",\"units\":\"data\"},\"x\":{\"field\":\"x\"},\"y\":{\"field\":\"y\"}},\"id\":\"4de23fc5-5278-471a-b2b8-a1aae5c33651\",\"type\":\"Rect\"},{\"attributes\":{\"callback\":null,\"column_names\":[\"x\",\"y\",\"width\",\"height\",\"color\",\"fill_alpha\",\"line_color\",\"line_alpha\",\"label\"],\"data\":{\"chart_index\":[\"(2.315789, 2.526316]\"],\"color\":[\"#f22c40\"],\"fill_alpha\":[0.8],\"height\":[0.0],\"label\":[\"(2.315789, 2.526316]\"],\"line_alpha\":[1.0],\"line_color\":[\"black\"],\"width\":[0.21052631578947345],\"x\":[\"2.4210525\"],\"y\":[0.0]}},\"id\":\"b5c0246d-b708-4543-81e6-56a32d175a6e\",\"type\":\"ColumnDataSource\"},{\"attributes\":{\"callback\":null,\"column_names\":[\"x\",\"y\",\"width\",\"height\",\"color\",\"fill_alpha\",\"line_color\",\"line_alpha\",\"label\"],\"data\":{\"chart_index\":[\"(0.210526, 0.421053]\"],\"color\":[\"#f22c40\"],\"fill_alpha\":[0.8],\"height\":[10.0],\"label\":[\"(0.210526, 0.421053]\"],\"line_alpha\":[1.0],\"line_color\":[\"black\"],\"width\":[0.21052631578947367],\"x\":[\"0.3157895\"],\"y\":[5.0]}},\"id\":\"02e28e70-b91a-4a70-a541-59b4001c5b59\",\"type\":\"ColumnDataSource\"},{\"attributes\":{\"fill_alpha\":{\"field\":\"fill_alpha\"},\"fill_color\":{\"field\":\"color\"},\"height\":{\"field\":\"height\",\"units\":\"data\"},\"line_color\":{\"field\":\"line_color\"},\"width\":{\"field\":\"width\",\"units\":\"data\"},\"x\":{\"field\":\"x\"},\"y\":{\"field\":\"y\"}},\"id\":\"8575243f-fb2d-4248-84c0-0ddc7e8b42dd\",\"type\":\"Rect\"},{\"attributes\":{\"fill_alpha\":{\"field\":\"fill_alpha\"},\"fill_color\":{\"field\":\"color\"},\"height\":{\"field\":\"height\",\"units\":\"data\"},\"line_color\":{\"field\":\"line_color\"},\"width\":{\"field\":\"width\",\"units\":\"data\"},\"x\":{\"field\":\"x\"},\"y\":{\"field\":\"y\"}},\"id\":\"4c5a46c2-9d8a-4862-8f43-5294c77247ec\",\"type\":\"Rect\"},{\"attributes\":{\"callback\":null,\"column_names\":[\"x\",\"y\",\"width\",\"height\",\"color\",\"fill_alpha\",\"line_color\",\"line_alpha\",\"label\"],\"data\":{\"chart_index\":[\"(2.736842, 2.947368]\"],\"color\":[\"#f22c40\"],\"fill_alpha\":[0.8],\"height\":[0.0],\"label\":[\"(2.736842, 2.947368]\"],\"line_alpha\":[1.0],\"line_color\":[\"black\"],\"width\":[0.2105263157894739],\"x\":[\"2.842105\"],\"y\":[0.0]}},\"id\":\"3dda1894-e1d2-4ea1-9274-3129441187b5\",\"type\":\"ColumnDataSource\"},{\"attributes\":{\"data_source\":{\"id\":\"02e28e70-b91a-4a70-a541-59b4001c5b59\",\"type\":\"ColumnDataSource\"},\"glyph\":{\"id\":\"29f526e6-8546-4670-995b-f7d18f06c279\",\"type\":\"Rect\"},\"hover_glyph\":null,\"muted_glyph\":null},\"id\":\"a56db6a2-36ac-4234-bd81-09a7723d8db8\",\"type\":\"GlyphRenderer\"},{\"attributes\":{\"fill_alpha\":{\"field\":\"fill_alpha\"},\"fill_color\":{\"field\":\"color\"},\"height\":{\"field\":\"height\",\"units\":\"data\"},\"line_color\":{\"field\":\"line_color\"},\"width\":{\"field\":\"width\",\"units\":\"data\"},\"x\":{\"field\":\"x\"},\"y\":{\"field\":\"y\"}},\"id\":\"7400245d-0bb4-4b82-aac5-35dbb204b5ca\",\"type\":\"Rect\"},{\"attributes\":{\"data_source\":{\"id\":\"3dda1894-e1d2-4ea1-9274-3129441187b5\",\"type\":\"ColumnDataSource\"},\"glyph\":{\"id\":\"8575243f-fb2d-4248-84c0-0ddc7e8b42dd\",\"type\":\"Rect\"},\"hover_glyph\":null,\"muted_glyph\":null},\"id\":\"654e1ab1-28df-48c4-b0f4-cc54f5c65207\",\"type\":\"GlyphRenderer\"},{\"attributes\":{\"fill_alpha\":{\"field\":\"fill_alpha\"},\"fill_color\":{\"field\":\"color\"},\"height\":{\"field\":\"height\",\"units\":\"data\"},\"line_color\":{\"field\":\"line_color\"},\"width\":{\"field\":\"width\",\"units\":\"data\"},\"x\":{\"field\":\"x\"},\"y\":{\"field\":\"y\"}},\"id\":\"54080d7a-408f-4291-ad7e-50057196dd76\",\"type\":\"Rect\"},{\"attributes\":{\"axis_label\":\"Count( Crash_Rate )\",\"formatter\":{\"id\":\"8eced856-d697-49aa-be67-88c13405ae8a\",\"type\":\"BasicTickFormatter\"},\"plot\":{\"id\":\"038e44c3-7752-4e6d-8b10-76e8c0366872\",\"subtype\":\"Chart\",\"type\":\"Plot\"},\"ticker\":{\"id\":\"532bc1a4-8a6b-4f1f-a705-de8bb9f48a01\",\"type\":\"BasicTicker\"}},\"id\":\"8092a9ec-fb12-400f-895b-7ef9463ac1a8\",\"type\":\"LinearAxis\"},{\"attributes\":{\"callback\":null,\"column_names\":[\"x\",\"y\",\"width\",\"height\",\"color\",\"fill_alpha\",\"line_color\",\"line_alpha\",\"label\"],\"data\":{\"chart_index\":[\"(0.421053, 0.631579]\"],\"color\":[\"#f22c40\"],\"fill_alpha\":[0.8],\"height\":[1.0],\"label\":[\"(0.421053, 0.631579]\"],\"line_alpha\":[1.0],\"line_color\":[\"black\"],\"width\":[0.21052631578947367],\"x\":[\"0.526316\"],\"y\":[0.5]}},\"id\":\"fe05c4f5-632c-44f0-819e-3eaefcfe119e\",\"type\":\"ColumnDataSource\"},{\"attributes\":{\"data_source\":{\"id\":\"ef92f24d-4fd1-4f45-8fb2-57711952ab8a\",\"type\":\"ColumnDataSource\"},\"glyph\":{\"id\":\"7400245d-0bb4-4b82-aac5-35dbb204b5ca\",\"type\":\"Rect\"},\"hover_glyph\":null,\"muted_glyph\":null},\"id\":\"11dddc70-e80e-48aa-9b2a-ef993215fa20\",\"type\":\"GlyphRenderer\"},{\"attributes\":{\"data_source\":{\"id\":\"fe05c4f5-632c-44f0-819e-3eaefcfe119e\",\"type\":\"ColumnDataSource\"},\"glyph\":{\"id\":\"fcda16b6-f665-4af4-a369-1c812faf7716\",\"type\":\"Rect\"},\"hover_glyph\":null,\"muted_glyph\":null},\"id\":\"305145af-1906-4994-92a9-1e459c4f1b2c\",\"type\":\"GlyphRenderer\"},{\"attributes\":{\"callback\":null,\"end\":136.4},\"id\":\"cd7bc577-abf9-40fb-910b-4a2f08e471c4\",\"type\":\"Range1d\"},{\"attributes\":{\"callback\":null,\"column_names\":[\"x\",\"y\",\"width\",\"height\",\"color\",\"fill_alpha\",\"line_color\",\"line_alpha\",\"label\"],\"data\":{\"chart_index\":[\"(2.947368, 3.157895]\"],\"color\":[\"#f22c40\"],\"fill_alpha\":[0.8],\"height\":[0.0],\"label\":[\"(2.947368, 3.157895]\"],\"line_alpha\":[1.0],\"line_color\":[\"black\"],\"width\":[0.2105263157894739],\"x\":[\"3.0526315\"],\"y\":[0.0]}},\"id\":\"3b044751-1c23-4290-b2c7-7120320cd002\",\"type\":\"ColumnDataSource\"},{\"attributes\":{\"axis_label\":\"CRASH_RATE\",\"formatter\":{\"id\":\"8760c3fb-cf24-481b-908c-70fc6ba828a7\",\"type\":\"BasicTickFormatter\"},\"plot\":{\"id\":\"038e44c3-7752-4e6d-8b10-76e8c0366872\",\"subtype\":\"Chart\",\"type\":\"Plot\"},\"ticker\":{\"id\":\"cc0bdb24-2349-4008-90c2-ffbde491d254\",\"type\":\"BasicTicker\"}},\"id\":\"9ed0a6c7-a370-42ec-a552-73f04c77446a\",\"type\":\"LinearAxis\"},{\"attributes\":{\"data_source\":{\"id\":\"3b044751-1c23-4290-b2c7-7120320cd002\",\"type\":\"ColumnDataSource\"},\"glyph\":{\"id\":\"418d644d-dc49-4392-9807-30eb71cebf37\",\"type\":\"Rect\"},\"hover_glyph\":null,\"muted_glyph\":null},\"id\":\"27593ba8-0c00-4c6e-abc7-cbdb0dfefe7a\",\"type\":\"GlyphRenderer\"},{\"attributes\":{\"callback\":null,\"column_names\":[\"x\",\"y\",\"width\",\"height\",\"color\",\"fill_alpha\",\"line_color\",\"line_alpha\",\"label\"],\"data\":{\"chart_index\":[\"(0.631579, 0.842105]\"],\"color\":[\"#f22c40\"],\"fill_alpha\":[0.8],\"height\":[1.0],\"label\":[\"(0.631579, 0.842105]\"],\"line_alpha\":[1.0],\"line_color\":[\"black\"],\"width\":[0.21052631578947367],\"x\":[\"0.736842\"],\"y\":[0.5]}},\"id\":\"ef92f24d-4fd1-4f45-8fb2-57711952ab8a\",\"type\":\"ColumnDataSource\"},{\"attributes\":{\"callback\":null,\"column_names\":[\"x\",\"y\",\"width\",\"height\",\"color\",\"fill_alpha\",\"line_color\",\"line_alpha\",\"label\"],\"data\":{\"chart_index\":[\"(3.789474, 4.000000]\"],\"color\":[\"#f22c40\"],\"fill_alpha\":[0.8],\"height\":[0.0],\"label\":[\"(3.789474, 4.000000]\"],\"line_alpha\":[1.0],\"line_color\":[\"black\"],\"width\":[0.2105263157894739],\"x\":[\"3.894737\"],\"y\":[0.0]}},\"id\":\"1ab36307-ccb8-44d6-abc1-878d96b2428b\",\"type\":\"ColumnDataSource\"}],\"root_ids\":[\"038e44c3-7752-4e6d-8b10-76e8c0366872\"]},\"title\":\"Bokeh Application\",\"version\":\"0.12.5\"}};\n",
       "            var render_items = [{\"docid\":\"35565cab-2878-4d6c-b175-a080b1bbe404\",\"elementid\":\"12c75868-90ac-4db8-b1c3-e18a17b5b249\",\"modelid\":\"038e44c3-7752-4e6d-8b10-76e8c0366872\"}];\n",
       "            \n",
       "            Bokeh.embed.embed_items(docs_json, render_items);\n",
       "          };\n",
       "          if (document.readyState != \"loading\") fn();\n",
       "          else document.addEventListener(\"DOMContentLoaded\", fn);\n",
       "        })();\n",
       "      },\n",
       "      function(Bokeh) {\n",
       "      }\n",
       "    ];\n",
       "  \n",
       "    function run_inline_js() {\n",
       "      \n",
       "      if ((window.Bokeh !== undefined) || (force === true)) {\n",
       "        for (var i = 0; i < inline_js.length; i++) {\n",
       "          inline_js[i](window.Bokeh);\n",
       "        }if (force === true) {\n",
       "          display_loaded();\n",
       "        }} else if (Date.now() < window._bokeh_timeout) {\n",
       "        setTimeout(run_inline_js, 100);\n",
       "      } else if (!window._bokeh_failed_load) {\n",
       "        console.log(\"Bokeh: BokehJS failed to load within specified timeout.\");\n",
       "        window._bokeh_failed_load = true;\n",
       "      } else if (force !== true) {\n",
       "        var cell = $(document.getElementById(\"12c75868-90ac-4db8-b1c3-e18a17b5b249\")).parents('.cell').data().cell;\n",
       "        cell.output_area.append_execute_result(NB_LOAD_WARNING)\n",
       "      }\n",
       "  \n",
       "    }\n",
       "  \n",
       "    if (window._bokeh_is_loading === 0) {\n",
       "      console.log(\"Bokeh: BokehJS loaded, going straight to plotting\");\n",
       "      run_inline_js();\n",
       "    } else {\n",
       "      load_libs(js_urls, function() {\n",
       "        console.log(\"Bokeh: BokehJS plotting callback run at\", now());\n",
       "        run_inline_js();\n",
       "      });\n",
       "    }\n",
       "  }(this));\n",
       "</script>"
      ]
     },
     "metadata": {},
     "output_type": "display_data"
    }
   ],
   "source": [
    "crash_ratehist = Histogram(fhwa_ns_sedf.CRASH_RATE, bins=list(np.linspace(0,4,20)))\n",
    "show(crash_ratehist)"
   ]
  },
  {
   "cell_type": "markdown",
   "metadata": {},
   "source": [
    "For the baseline, let's focus on the segments that received the designation of \"Medium risk\". "
   ]
  },
  {
   "cell_type": "code",
   "execution_count": 25,
   "metadata": {},
   "outputs": [
    {
     "data": {
      "application/vnd.jupyter.widget-view+json": {
       "model_id": "bd6927b0648f48ac8ee1b7897c4d6a68",
       "version_major": 2,
       "version_minor": 0
      },
      "text/plain": [
       "MapView(layout=Layout(height='400px', width='100%'))"
      ]
     },
     "metadata": {},
     "output_type": "display_data"
    },
    {
     "data": {
      "text/html": [
       "<div class=\"map-static-img-preview-380b38ae-3147-4343-8db7-a9c51227e8cd\"><img src=\"\"></img></div>"
      ],
      "text/plain": [
       "<IPython.core.display.HTML object>"
      ]
     },
     "metadata": {},
     "output_type": "display_data"
    }
   ],
   "source": [
    "baseline_areas_map = gis.map(\"Maryland\")\n",
    "baseline_areas_map.basemap = 'dark-gray'\n",
    "baseline_areas_map"
   ]
  },
  {
   "cell_type": "code",
   "execution_count": 26,
   "metadata": {
    "scrolled": true
   },
   "outputs": [
    {
     "data": {
      "text/plain": [
       "True"
      ]
     },
     "execution_count": 26,
     "metadata": {},
     "output_type": "execute_result"
    }
   ],
   "source": [
    "fhwa_ns_sedf[fhwa_ns_sedf.CRASH_RATE_RISK == 'Medium risk'].spatial.plot(map_widget=baseline_areas_map)"
   ]
  },
  {
   "cell_type": "markdown",
   "metadata": {},
   "source": [
    "These segments are broadly interpreted as locations that the FHWA Network Segmentation approach would designate as having more significant systemic problems that lead to fatal accidents than the rest of the interstate network in Maryland.\n",
    "\n",
    "Our goal for the following two segments is to use spatial analysis techniques and examine the results in comparison to this baseline, then address recommendations and learned lessons for further iteration and refinement."
   ]
  },
  {
   "cell_type": "markdown",
   "metadata": {},
   "source": [
    "##### >>>> Section under construction: Loading of web maps for different risk maps from FHWA Network Screening baseline analysis"
   ]
  },
  {
   "cell_type": "markdown",
   "metadata": {},
   "source": [
    "<img src=\"data:image/jpeg;base64,/9j/4AAQSkZJRgABAQEAYABgAAD/4RD0RXhpZgAATU0AKgAAAAgABAE7AAIAAAAOAAAISodpAAQAAAABAAAIWJydAAEAAAAcAAAQ0OocAAcAAAgMAAAAPgAAAAAc6gAAAAgAAAAAAAAAAAAAAAAAAAAAAAAAAAAAAAAAAAAAAAAAAAAAAAAAAAAAAAAAAAAAAAAAAAAAAAAAAAAAAAAAAAAAAAAAAAAAAAAAAAAAAAAAAAAAAAAAAAAAAAAAAAAAAAAAAAAAAAAAAAAAAAAAAAAAAAAAAAAAAAAAAAAAAAAAAAAAAAAAAAAAAAAAAAAAAAAAAAAAAAAAAAAAAAAAAAAAAAAAAAAAAAAAAAAAAAAAAAAAAAAAAAAAAAAAAAAAAAAAAAAAAAAAAAAAAAAAAAAAAAAAAAAAAAAAAAAAAAAAAAAAAAAAAAAAAAAAAAAAAAAAAAAAAAAAAAAAAAAAAAAAAAAAAAAAAAAAAAAAAAAAAAAAAAAAAAAAAAAAAAAAAAAAAAAAAAAAAAAAAAAAAAAAAAAAAAAAAAAAAAAAAAAAAAAAAAAAAAAAAAAAAAAAAAAAAAAAAAAAAAAAAAAAAAAAAAAAAAAAAAAAAAAAAAAAAAAAAAAAAAAAAAAAAAAAAAAAAAAAAAAAAAAAAAAAAAAAAAAAAAAAAAAAAAAAAAAAAAAAAAAAAAAAAAAAAAAAAAAAAAAAAAAAAAAAAAAAAAAAAAAAAAAAAAAAAAAAAAAAAAAAAAAAAAAAAAAAAAAAAAAAAAAAAAAAAAAAAAAAAAAAAAAAAAAAAAAAAAAAAAAAAAAAAAAAAAAAAAAAAAAAAAAAAAAAAAAAAAAAAAAAAAAAAAAAAAAAAAAAAAAAAAAAAAAAAAAAAAAAAAAAAAAAAAAAAAAAAAAAAAAAAAAAAAAAAAAAAAAAAAAAAAAAAAAAAAAAAAAAAAAAAAAAAAAAAAAAAAAAAAAAAAAAAAAAAAAAAAAAAAAAAAAAAAAAAAAAAAAAAAAAAAAAAAAAAAAAAAAAAAAAAAAAAAAAAAAAAAAAAAAAAAAAAAAAAAAAAAAAAAAAAAAAAAAAAAAAAAAAAAAAAAAAAAAAAAAAAAAAAAAAAAAAAAAAAAAAAAAAAAAAAAAAAAAAAAAAAAAAAAAAAAAAAAAAAAAAAAAAAAAAAAAAAAAAAAAAAAAAAAAAAAAAAAAAAAAAAAAAAAAAAAAAAAAAAAAAAAAAAAAAAAAAAAAAAAAAAAAAAAAAAAAAAAAAAAAAAAAAAAAAAAAAAAAAAAAAAAAAAAAAAAAAAAAAAAAAAAAAAAAAAAAAAAAAAAAAAAAAAAAAAAAAAAAAAAAAAAAAAAAAAAAAAAAAAAAAAAAAAAAAAAAAAAAAAAAAAAAAAAAAAAAAAAAAAAAAAAAAAAAAAAAAAAAAAAAAAAAAAAAAAAAAAAAAAAAAAAAAAAAAAAAAAAAAAAAAAAAAAAAAAAAAAAAAAAAAAAAAAAAAAAAAAAAAAAAAAAAAAAAAAAAAAAAAAAAAAAAAAAAAAAAAAAAAAAAAAAAAAAAAAAAAAAAAAAAAAAAAAAAAAAAAAAAAAAAAAAAAAAAAAAAAAAAAAAAAAAAAAAAAAAAAAAAAAAAAAAAAAAAAAAAAAAAAAAAAAAAAAAAAAAAAAAAAAAAAAAAAAAAAAAAAAAAAAAAAAAAAAAAAAAAAAAAAAAAAAAAAAAAAAAAAAAAAAAAAAAAAAAAAAAAAAAAAAAAAAAAAAAAAAAAAAAAAAAAAAAAAAAAAAAAAAAAAAAAAAAAAAAAAAAAAAAAAAAAAAAAAAAAAAAAAAAAAAAAAAAAAAAAAAAAAAAAAAAAAAAAAAAAAAAAAAAAAAAAAAAAAAAAAAAAAAAAAAAAAAAAAAAAAAAAAAAAAAAAAAAAAAAAAAAAAAAAAAAAAAAAAAAAAAAAAAAAAAAAAAAAAAAAAAAAAAAAAAAAAAAAAAAAAAAAAAAAAAAAAAAAAAAAAAAAAAAAAAAAAAAAAAAAAAAAAAAAAAAAAAAAAAAAAAAAAAAAAAAAAAAAAAAAAAAAAAAAAAAAAAAAAAAAAAAAAAAAAAAAAAAAAAAAAAAAAAAAAAAAAAAAAAAAAAAAAAAAAAAAAAAAAAAAAAAAAAAAAAAAAAAAAAAAAAAAAAAAAAAAAAAAAAAAAAAAAAAAAAAAAAAAAAAAAAAAAAAAAAAAAAAAAAAAAAAAAAAAAAAAAAAAAAAAAAAAAAAAAAAAAAAAAAAAAAAAAAAAAAAAAAAAAAAAAAAAAAAAAAAAAAAAAAAAAAAAAAAAAAAAAAAAAAAAAAAAAAAAAAAAAAAAAAAAAAAAAAAAAAAAAAAAAAAAAAAAAAAAAAAAAAAAAAAAAAAAAAAAAAAAAAAAAAAAAAAAAAAAAAAAAAAAAAAAAAAAAAAAAAAAAAAAAAAAAAAAAAAAAAAAAAAAAAAAAAAAAAAAAAAAAAAAAAAAAAAAAAAAAAAAAAAAAAAAAAAAAAAAAAAAAAAAAAAAAAAAAAAAAAAAAAAAAAAAAAAAAAAAAAAAAAAAAAAAAAAAAAAAAAAAAAAAAAAAAAAAAAAAAAAAAAAAAAAAAAAAAAAAAAAAAAAAAAAAAAAAAAAAAAAAAAAAAAAAAAAAAAAAAAAAAAAAAAAAAAAAAAAAAAAAAAAAAAAAAAAAAAAAAAAAAAAAAAAAAAAAAAAAAAAAAAAAAAAAAAAAAAAAAAAAAAAAAAAAAAAAAAAAAAAAAAAAAAAAAAAAAAAAAAAAAAAAAAAAAAAAAAAAAAAAAAAAAAAAAAAAAAAAAAAAAAAAAAAAAAAAAAAAAAAAAAAAAAAAAAAAAAAAAAAAAAAAAAAAAAAAAAAAAAAAAAAAAAEFsYmVydG8gTmlldG8AAAWQAwACAAAAFAAAEKaQBAACAAAAFAAAELqSkQACAAAAAzA0AACSkgACAAAAAzA0AADqHAAHAAAIDAAACJoAAAAAHOoAAAAIAAAAAAAAAAAAAAAAAAAAAAAAAAAAAAAAAAAAAAAAAAAAAAAAAAAAAAAAAAAAAAAAAAAAAAAAAAAAAAAAAAAAAAAAAAAAAAAAAAAAAAAAAAAAAAAAAAAAAAAAAAAAAAAAAAAAAAAAAAAAAAAAAAAAAAAAAAAAAAAAAAAAAAAAAAAAAAAAAAAAAAAAAAAAAAAAAAAAAAAAAAAAAAAAAAAAAAAAAAAAAAAAAAAAAAAAAAAAAAAAAAAAAAAAAAAAAAAAAAAAAAAAAAAAAAAAAAAAAAAAAAAAAAAAAAAAAAAAAAAAAAAAAAAAAAAAAAAAAAAAAAAAAAAAAAAAAAAAAAAAAAAAAAAAAAAAAAAAAAAAAAAAAAAAAAAAAAAAAAAAAAAAAAAAAAAAAAAAAAAAAAAAAAAAAAAAAAAAAAAAAAAAAAAAAAAAAAAAAAAAAAAAAAAAAAAAAAAAAAAAAAAAAAAAAAAAAAAAAAAAAAAAAAAAAAAAAAAAAAAAAAAAAAAAAAAAAAAAAAAAAAAAAAAAAAAAAAAAAAAAAAAAAAAAAAAAAAAAAAAAAAAAAAAAAAAAAAAAAAAAAAAAAAAAAAAAAAAAAAAAAAAAAAAAAAAAAAAAAAAAAAAAAAAAAAAAAAAAAAAAAAAAAAAAAAAAAAAAAAAAAAAAAAAAAAAAAAAAAAAAAAAAAAAAAAAAAAAAAAAAAAAAAAAAAAAAAAAAAAAAAAAAAAAAAAAAAAAAAAAAAAAAAAAAAAAAAAAAAAAAAAAAAAAAAAAAAAAAAAAAAAAAAAAAAAAAAAAAAAAAAAAAAAAAAAAAAAAAAAAAAAAAAAAAAAAAAAAAAAAAAAAAAAAAAAAAAAAAAAAAAAAAAAAAAAAAAAAAAAAAAAAAAAAAAAAAAAAAAAAAAAAAAAAAAAAAAAAAAAAAAAAAAAAAAAAAAAAAAAAAAAAAAAAAAAAAAAAAAAAAAAAAAAAAAAAAAAAAAAAAAAAAAAAAAAAAAAAAAAAAAAAAAAAAAAAAAAAAAAAAAAAAAAAAAAAAAAAAAAAAAAAAAAAAAAAAAAAAAAAAAAAAAAAAAAAAAAAAAAAAAAAAAAAAAAAAAAAAAAAAAAAAAAAAAAAAAAAAAAAAAAAAAAAAAAAAAAAAAAAAAAAAAAAAAAAAAAAAAAAAAAAAAAAAAAAAAAAAAAAAAAAAAAAAAAAAAAAAAAAAAAAAAAAAAAAAAAAAAAAAAAAAAAAAAAAAAAAAAAAAAAAAAAAAAAAAAAAAAAAAAAAAAAAAAAAAAAAAAAAAAAAAAAAAAAAAAAAAAAAAAAAAAAAAAAAAAAAAAAAAAAAAAAAAAAAAAAAAAAAAAAAAAAAAAAAAAAAAAAAAAAAAAAAAAAAAAAAAAAAAAAAAAAAAAAAAAAAAAAAAAAAAAAAAAAAAAAAAAAAAAAAAAAAAAAAAAAAAAAAAAAAAAAAAAAAAAAAAAAAAAAAAAAAAAAAAAAAAAAAAAAAAAAAAAAAAAAAAAAAAAAAAAAAAAAAAAAAAAAAAAAAAAAAAAAAAAAAAAAAAAAAAAAAAAAAAAAAAAAAAAAAAAAAAAAAAAAAAAAAAAAAAAAAAAAAAAAAAAAAAAAAAAAAAAAAAAAAAAAAAAAAAAAAAAAAAAAAAAAAAAAAAAAAAAAAAAAAAAAAAAAAAAAAAAAAAAAAAAAAAAAAAAAAAAAAAAAAAAAAAAAAAAAAAAAAAAAAAAAAAAAAAAAAAAAAAAAAAAAAAAAAAAAAAAAAAAAAAAAAAAAAAAAAAAAAAAAAAAAAAAAAAAAAAAAAAAAAAAAAAAAAAAAAAAAAAAAAAAAAAAAAAAAAAAAAAAAAAAAAAAAAAAAAAAAAAAAAAAAAAAAAAAAAAAAAAAAAAAAAAAAAAAAAAAAAAAAAAAAAAAAAAAAAAAAAAAAAAAAAAAAAAAAAAAAAAAAAAAAAAAAAAAAAAAAAAAAAAAAAAAAAAAAAAAAAAAAAAAAAAAAAAAAAAAAAAAAAAAAAAAAAAAAAAAAAAAAAAAAAAAAAAAAAAAAAAAAAAAAAAAAAAAAAAAAAAAAAAAAAAAAAAAAAAAAAAAAAAAAAAAAAAAAAAAAAAAAAAAAAAAAAAAAAAAAAAAAAAAAAAAAAAAAAAAAAAAAAAAAAAAAAAAAAAAAAAAAAAAAAAAAAAAAAAAAAAAAAAAAAAAAAAAAAAAAAAAAAAAAAAAAAAAAAAAAAAAAAAAAAAAAAAAAAAAAAAAAAAAAAAAAAAAAAAAAAAAAAAAAAAAAAAAAAAAAAAAAAAAAAAAAAAAAAAAAAAAAAAAAAAAAAAAAAAAAAAAAAAAAAAAAAAAAAAAAAAAAAAAAAAAAAAAAAAAAAAAAAAAAAAAAAAAAAAAAAAAAAAAAAAAAAAAAAAAAAAAAAAAAAAAAAAAAAAAAAAAAAAAAAAAAAAAAAAAAAAAAAAAAAAAAAAAAAAAAAAAAAAAAAAAAAAAAAAAAAAAAAAAAAAAAAAAAAAAAAAAAAAAAAAAAAAAAAAAAAAAAAAAAAAAAAAAAAAAAAAAAAAAAAAAAAAAAAAAAAAAAAAAAAAAAAAAAAAAAAAAAAAAAAAAAAAAAAAAAAAAAAAAAAAAAAAAAAAAAAAAAAAAAAAAAAAAAAAAAAAAAAAAAAAAAAAAAAAAAAAAAAAAAAAAAAAAAAAAAAAAAAAAAAAAAAAAAAAAAAAAAAAAAAAAAAAAAAAAAAAAAAAAAAAAAAAAAAAAAAAAAAAAAAyMDE5OjAxOjA3IDE2OjQzOjU4ADIwMTk6MDE6MDcgMTY6NDM6NTgAAABBAGwAYgBlAHIAdABvACAATgBpAGUAdABvAAAA/+ELIGh0dHA6Ly9ucy5hZG9iZS5jb20veGFwLzEuMC8APD94cGFja2V0IGJlZ2luPSfvu78nIGlkPSdXNU0wTXBDZWhpSHpyZVN6TlRjemtjOWQnPz4NCjx4OnhtcG1ldGEgeG1sbnM6eD0iYWRvYmU6bnM6bWV0YS8iPjxyZGY6UkRGIHhtbG5zOnJkZj0iaHR0cDovL3d3dy53My5vcmcvMTk5OS8wMi8yMi1yZGYtc3ludGF4LW5zIyI+PHJkZjpEZXNjcmlwdGlvbiByZGY6YWJvdXQ9InV1aWQ6ZmFmNWJkZDUtYmEzZC0xMWRhLWFkMzEtZDMzZDc1MTgyZjFiIiB4bWxuczpkYz0iaHR0cDovL3B1cmwub3JnL2RjL2VsZW1lbnRzLzEuMS8iLz48cmRmOkRlc2NyaXB0aW9uIHJkZjphYm91dD0idXVpZDpmYWY1YmRkNS1iYTNkLTExZGEtYWQzMS1kMzNkNzUxODJmMWIiIHhtbG5zOnhtcD0iaHR0cDovL25zLmFkb2JlLmNvbS94YXAvMS4wLyI+PHhtcDpDcmVhdGVEYXRlPjIwMTktMDEtMDdUMTY6NDM6NTguMDQ0PC94bXA6Q3JlYXRlRGF0ZT48L3JkZjpEZXNjcmlwdGlvbj48cmRmOkRlc2NyaXB0aW9uIHJkZjphYm91dD0idXVpZDpmYWY1YmRkNS1iYTNkLTExZGEtYWQzMS1kMzNkNzUxODJmMWIiIHhtbG5zOmRjPSJodHRwOi8vcHVybC5vcmcvZGMvZWxlbWVudHMvMS4xLyI+PGRjOmNyZWF0b3I+PHJkZjpTZXEgeG1sbnM6cmRmPSJodHRwOi8vd3d3LnczLm9yZy8xOTk5LzAyLzIyLXJkZi1zeW50YXgtbnMjIj48cmRmOmxpPkFsYmVydG8gTmlldG88L3JkZjpsaT48L3JkZjpTZXE+DQoJCQk8L2RjOmNyZWF0b3I+PC9yZGY6RGVzY3JpcHRpb24+PC9yZGY6UkRGPjwveDp4bXBtZXRhPg0KICAgICAgICAgICAgICAgICAgICAgICAgICAgICAgICAgICAgICAgICAgICAgICAgICAgICAgICAgICAgICAgICAgICAgICAgICAgICAgICAgICAgICAgICAgICAgICAgICAgIAogICAgICAgICAgICAgICAgICAgICAgICAgICAgICAgICAgICAgICAgICAgICAgICAgICAgICAgICAgICAgICAgICAgICAgICAgICAgICAgICAgICAgICAgICAgICAgICAgICAgCiAgICAgICAgICAgICAgICAgICAgICAgICAgICAgICAgICAgICAgICAgICAgICAgICAgICAgICAgICAgICAgICAgICAgICAgICAgICAgICAgICAgICAgICAgICAgICAgICAgICAKICAgICAgICAgICAgICAgICAgICAgICAgICAgICAgICAgICAgICAgICAgICAgICAgICAgICAgICAgICAgICAgICAgICAgICAgICAgICAgICAgICAgICAgICAgICAgICAgICAgIAogICAgICAgICAgICAgICAgICAgICAgICAgICAgICAgICAgICAgICAgICAgICAgICAgICAgICAgICAgICAgICAgICAgICAgICAgICAgICAgICAgICAgICAgICAgICAgICAgICAgCiAgICAgICAgICAgICAgICAgICAgICAgICAgICAgICAgICAgICAgICAgICAgICAgICAgICAgICAgICAgICAgICAgICAgICAgICAgICAgICAgICAgICAgICAgICAgICAgICAgICAKICAgICAgICAgICAgICAgICAgICAgICAgICAgICAgICAgICAgICAgICAgICAgICAgICAgICAgICAgICAgICAgICAgICAgICAgICAgICAgICAgICAgICAgICAgICAgICAgICAgIAogICAgICAgICAgICAgICAgICAgICAgICAgICAgICAgICAgICAgICAgICAgICAgICAgICAgICAgICAgICAgICAgICAgICAgICAgICAgICAgICAgICAgICAgICAgICAgICAgICAgCiAgICAgICAgICAgICAgICAgICAgICAgICAgICAgICAgICAgICAgICAgICAgICAgICAgICAgICAgICAgICAgICAgICAgICAgICAgICAgICAgICAgICAgICAgICAgICAgICAgICAKICAgICAgICAgICAgICAgICAgICAgICAgICAgICAgICAgICAgICAgICAgICAgICAgICAgICAgICAgICAgICAgICAgICAgICAgICAgICAgICAgICAgICAgICAgICAgICAgICAgIAogICAgICAgICAgICAgICAgICAgICAgICAgICAgICAgICAgICAgICAgICAgICAgICAgICAgICAgICAgICAgICAgICAgICAgICAgICAgICAgICAgICAgICAgICAgICAgICAgICAgCiAgICAgICAgICAgICAgICAgICAgICAgICAgICAgICAgICAgICAgICAgICAgICAgICAgICAgICAgICAgICAgICAgICAgICAgICAgICAgICAgICAgICAgICAgICAgICAgICAgICAKICAgICAgICAgICAgICAgICAgICAgICAgICAgICAgICAgICAgICAgICAgICAgICAgICAgICAgICAgICAgICAgICAgICAgICAgICAgICAgICAgICAgICAgICAgICAgICAgICAgIAogICAgICAgICAgICAgICAgICAgICAgICAgICAgICAgICAgICAgICAgICAgICAgICAgICAgICAgICAgICAgICAgICAgICAgICAgICAgICAgICAgICAgICAgICAgICAgICAgICAgCiAgICAgICAgICAgICAgICAgICAgICAgICAgICAgICAgICAgICAgICAgICAgICAgICAgICAgICAgICAgICAgICAgICAgICAgICAgICAgICAgICAgICAgICAgICAgICAgICAgICAKICAgICAgICAgICAgICAgICAgICAgICAgICAgICAgICAgICAgICAgICAgICAgICAgICAgICAgICAgICAgICAgICAgICAgICAgICAgICAgICAgICAgICAgICAgICAgICAgICAgIAogICAgICAgICAgICAgICAgICAgICAgICAgICAgICAgICAgICAgICAgICAgICAgICAgICAgICAgICAgICAgICAgICAgICAgICAgICAgICAgICAgICAgICAgICAgICAgICAgICAgCiAgICAgICAgICAgICAgICAgICAgICAgICAgICAgICAgICAgICAgICAgICAgICAgICAgICAgICAgICAgICAgICAgICAgICAgICAgICAgICAgICAgICAgICAgICAgICAgICAgICAKICAgICAgICAgICAgICAgICAgICAgICAgICAgICAgICAgICAgICAgICAgICAgICAgICAgICAgICAgICAgICAgICAgICAgICAgICAgICAgICAgICAgICAgICAgICAgICAgICAgIAogICAgICAgICAgICAgICAgICAgICAgICAgICAgICAgICAgICAgICAgICAgICAgICAgICAgICAgICAgICAgICAgICAgICAgICAgICAgICAgICAgICAgICAgICAgICAgICAgICAgCiAgICAgICAgICAgICAgICAgICAgICAgICAgICA8P3hwYWNrZXQgZW5kPSd3Jz8+/9sAQwAHBQUGBQQHBgUGCAcHCAoRCwoJCQoVDxAMERgVGhkYFRgXGx4nIRsdJR0XGCIuIiUoKSssKxogLzMvKjInKisq/9sAQwEHCAgKCQoUCwsUKhwYHCoqKioqKioqKioqKioqKioqKioqKioqKioqKioqKioqKioqKioqKioqKioqKioqKioq/8AAEQgCTgJoAwEiAAIRAQMRAf/EAB8AAAEFAQEBAQEBAAAAAAAAAAABAgMEBQYHCAkKC//EALUQAAIBAwMCBAMFBQQEAAABfQECAwAEEQUSITFBBhNRYQcicRQygZGhCCNCscEVUtHwJDNicoIJChYXGBkaJSYnKCkqNDU2Nzg5OkNERUZHSElKU1RVVldYWVpjZGVmZ2hpanN0dXZ3eHl6g4SFhoeIiYqSk5SVlpeYmZqio6Slpqeoqaqys7S1tre4ubrCw8TFxsfIycrS09TV1tfY2drh4uPk5ebn6Onq8fLz9PX29/j5+v/EAB8BAAMBAQEBAQEBAQEAAAAAAAABAgMEBQYHCAkKC//EALURAAIBAgQEAwQHBQQEAAECdwABAgMRBAUhMQYSQVEHYXETIjKBCBRCkaGxwQkjM1LwFWJy0QoWJDThJfEXGBkaJicoKSo1Njc4OTpDREVGR0hJSlNUVVZXWFlaY2RlZmdoaWpzdHV2d3h5eoKDhIWGh4iJipKTlJWWl5iZmqKjpKWmp6ipqrKztLW2t7i5usLDxMXGx8jJytLT1NXW19jZ2uLj5OXm5+jp6vLz9PX29/j5+v/aAAwDAQACEQMRAD8A+hA8rMx85h87AAAcYJHpRmX/AJ7v+S/4Uifx/wC+3/oRp1ACZl/57v8Akv8AhRmX/nu/5L/hS0UAJmX/AJ7v+S/4UZl/57v+S/4UtFACZl/57v8Akv8AhRmX/nu/5L/hS0UAJmX/AJ7v+S/4UZl/57v+S/4UtFACZl/57v8Akv8AhRmX/nu/5L/hS0UAJmX/AJ7v+S/4UZl/57v+S/4UtFACZl/57v8Akv8AhRmX/nu/5L/hS0UAJmX/AJ7v+S/4UZl/57v+S/4UtFACZl/57v8Akv8AhRmX/nu/5L/hS0UAJmX/AJ7v+S/4UZl/57v+S/4UtFACZl/57v8Akv8AhTY3meJWMzZIB6L/AIU+o4f+PeP/AHR/KgB+Zf8Anu/5L/hRmX/nu/5L/hS0UAJmX/nu/wCS/wCFGZf+e7/kv+FLRQAmZf8Anu/5L/hRmX/nu/5L/hS0UAJmX/nu/wCS/wCFGZf+e7/kv+FLRQAmZf8Anu/5L/hRmX/nu/5L/hS0UAJmX/nu/wCS/wCFGZf+e7/kv+FLRQAmZf8Anu/5L/hRmX/nu/5L/hS0UAJmX/nu/wCS/wCFGZf+e7/kv+FLRQAmZf8Anu/5L/hRmX/nu/5L/hS0UAJmX/nu/wCS/wCFGZf+e7/kv+FLRQAmZf8Anu/5L/hRmX/nu/5L/hS0UAJmX/nu/wCS/wCFGZf+e7/kv+FLRQAmZf8Anu/5L/hRmX/nu/5L/hS0UAJmX/nu/wCS/wCFGZf+e7/kv+FLRQAmZf8Anu/5L/hRmX/nu/5L/hS0UAJmX/nu/wCS/wCFGZf+e7/kv+FLRQAmZf8Anu/5L/hRmX/nu/5L/hS0UAJmX/nu/wCS/wCFGZf+e7/kv+FLRQAmZf8Anu/5L/hRmX/nu/5L/hS0UAJmX/nu/wCS/wCFGZf+e7/kv+FLRQAmZf8Anu/5L/hRmX/nu/5L/hS0UAJmX/nu/wCS/wCFGZf+e7/kv+FLRQAmZf8Anu/5L/hRmX/nu/5L/hS0UAJmX/nu/wCS/wCFGZf+e7/kv+FLRQAmZf8Anu/5L/hRmX/nu/5L/hS0UAJmX/nu/wCS/wCFGZf+e7/kv+FLRQAI8gnjBlZgxIIIHoT6e1FIv/HxD/vH/wBBNFACJ/H/AL7f+hGsTxtcTWngjVp7WaSGaO2ZkkjYqyn1BHIrbT+P/fb/ANCNVNX0yHWtHutNumkSG5jMbtGQGAPpkEfpUyTcWkOOjVzy7w7qGoeTrk66hrr2NtpBa4i1K6C3KzldwaLqUXbnDY/PHHRWnjmS21HRNDg097g3FpbyPc3uoIj4fAyNwHmsO+MEnPFbV94K069uBMZrqBzYNp8phdR50RGBuyp5HUEY/EcVDN4CsLi80+W5v9Tlg08ReTZtcDyC0YwrFAPvd8jFaXV/L/h/+AT0/ry/4Ji+BfFtze3CaMqS6hcLNcS3dzNOf9GjEhCDkHcT2XIwK2/EXi250XV49OsdHfUppLR7lQk4jwEPIOR0xk5/DBzS6f4F03S7+1vbGe7iuLZ5SZA65mWRtxR/l5XJ46EetaV3oFre60mqSyTCdLV7UKrDbsc5J6Zz+NZ68qXW36f8MVpzP+upg6P4/Oq6hbwyaRLaW93ZNd208s6fvNuNwx/CAc8k9s4Gao2vxQMtnqj3OkwpPYWouljt9RjuElXdtILoCFOSOOa2o/AmlR29nC0lzJHZ2Utkis6/PHJ97dhevoRisbU/hzFZ+HdRGj3GoX9/NYfY41u7lWyocMACQAuMYAyBjtnmnLRO3n+tv0FHpfy/S/6mzofi2fVNfl0q/wBIl02U2ou7YvMsnnRFsZIH3TnHB5+lZlz4o8RwfEK/0630n7TZ29j5yRfaETdjJEmdpPzEbNvbrWv4d8IWmh3j6h597c3ksCw5u7gy+QnXy0J6Ln1J6U/U/D6f27/wklkbx9Rt7YxraRXAjiugMlUfI9T646HtVSsnp5/qJXa+79DHk+JETaWb2y077QkemC/nHn7fLJfaIs7Tzndz/s9Kli+IPkz36a3o8+nLb2Qv4f3qyNPFnbnA+6ckcE9+cYrMt/BuoxfD/wAQRfYkj1XWJHlFokqkRAtlY95OOMk56c1tad4B0uCG6a+e8vZLy1FtILu5Mnkx9TGh6gZ9z0HNS76+n+f5aD00/rt+eo3wh45XxReXFnNZR2lxFEsyiK8S5VkJxyycKwP8J55rraxPD3hpfDwlEerapfpIqqqX9z5ojAz90YGOv6CtuqduglfqFFFFIYUUUUAFFFFABRRRQAVHD/x7x/7o/lUlRw/8e8f+6P5UAcx8RZ7iDwoPsd1cWkkl3BGZbeQo4DOAcEexrIiu7nwR4wNhd6zf6ppc9hLdsL1/OlhMYySGx0IBGPX8667xDoNv4k0ltPvJriCMusgkt2CupU5GCQe9Z+l+B9L077Y9xLeapPexGCa41CfzZDERjYDgYH6/kKSur/P8v8x6P8Pz/wAjnbf4txSWd9NLo5DQWouoEgvI5vMXcF+fb/qiNykg5IGfTm+nj+9uLPT1sdAW81O/MhjtINRieNY06sZh8ueen19s3LTwHFY2M9pbeIfECwyRrGg+3f6hVYEeX8vy9MfTio/+Fa6Omn20Ftd6lbXNvK8q38FztuGL/ey2MHPHbt7nLENuPF2oS6he6UuhSq9tapLdSx3ij7OHjLHnHJBGBjOevaqOneMry203SbHTdIu9WubnTBeKZ75TIfmwQ7soB4yd30GK6S18LWlrcX0/2m7mlvraO2meWQMSqKVDZx94g5JOea5y58AvJ4g0+3t57+20yz0o2q3lvdCOYPvBAOOuRnPy4/Glrf8Arz/4A9P6+X/BIT461jUdd8Mto+mMbDUoneSNpkBcjhxkjI8vGeMbs0/S/F81po9rDp1hfatqN/eXKwW9zeqTtjY7iZWUAADoMe2a3JPA2meTo8drNeWf9jk/Z3tptrMDjcGODkNjnp1NRS/D/TH023tYrvULaS2nknhu7ecJNGZCS4DBehz6U3vp5/mrCW2v9aMpj4hyS2+ni10OaW+u557WS089VaKaJcldxGCCcc8YHPtW94Y17/hI9FW+a1a0lEjxSwM+7Y6nBG7jNVrPwVpdg2ltbtcBtNkkmRmkDGZ5BhmkJGST14x/StDRdFt9Cs5ba0eV0knknJlIJ3OckcAcUf1+X/BF/X5/8A0aKKKBhRRRQAUUUUAFFFFABRRRQAUUUUAFFFFABRRRQAUUUUAFFFFABRRRQAUUUUAFFFFABRRRQAUUUUAFFFFABRRRQAUUUUAFFFFABRRRQAUUUUAIv/HxD/vH/wBBNFC/8fEP+8f/AEE0UAIn8f8Avt/6EadUkMETozPEjEu+SVB/iNP+zQf88I/++BQBBRU/2aD/AJ4R/wDfAo+zQf8APCP/AL4FAEFFT/ZoP+eEf/fAo+zQf88I/wDvgUAQUVP9mg/54R/98Cj7NB/zwj/74FAEFFT/AGaD/nhH/wB8Cj7NB/zwj/74FAEFFT/ZoP8AnhH/AN8Cj7NB/wA8I/8AvgUAQUVP9mg/54R/98Cj7NB/zwj/AO+BQBBRU/2aD/nhH/3wKPs0H/PCP/vgUAQUVP8AZoP+eEf/AHwKPs0H/PCP/vgUAQUVP9mg/wCeEf8A3wKPs0H/ADwj/wC+BQBBRU/2aD/nhH/3wKPs0H/PCP8A74FAEFRw/wDHvH/uj+VW/s0H/PCP/vgVHb28LWsRaGMkoCSVHPFADKKn+zQf88I/++BR9mg/54R/98CgCCip/s0H/PCP/vgUfZoP+eEf/fAoAgoqf7NB/wA8I/8AvgUfZoP+eEf/AHwKAIKKn+zQf88I/wDvgUfZoP8AnhH/AN8CgCCip/s0H/PCP/vgUfZoP+eEf/fAoAgoqf7NB/zwj/74FH2aD/nhH/3wKAIKKn+zQf8APCP/AL4FH2aD/nhH/wB8CgCCip/s0H/PCP8A74FH2aD/AJ4R/wDfAoAgoqf7NB/zwj/74FH2aD/nhH/3wKAIKKn+zQf88I/++BR9mg/54R/98CgCCip/s0H/ADwj/wC+BR9mg/54R/8AfAoAgoqf7NB/zwj/AO+BR9mg/wCeEf8A3wKAIKKn+zQf88I/++BR9mg/54R/98CgCCip/s0H/PCP/vgUfZoP+eEf/fAoAgoqf7NB/wA8I/8AvgUfZoP+eEf/AHwKAIKKn+zQf88I/wDvgUfZoP8AnhH/AN8CgCCip/s0H/PCP/vgUfZoP+eEf/fAoAgoqf7NB/zwj/74FH2aD/nhH/3wKAIKKn+zQf8APCP/AL4FH2aD/nhH/wB8CgCCip/s0H/PCP8A74FH2aD/AJ4R/wDfAoAgoqf7NB/zwj/74FH2aD/nhH/3wKAIKKn+zQf88I/++BR9mg/54R/98CgCCip/s0H/ADwj/wC+BR9mg/54R/8AfAoAgoqf7NB/zwj/AO+BR9mg/wCeEf8A3wKAIKKn+zQf88I/++BR9mg/54R/98CgCCip/s0H/PCP/vgUfZoP+eEf/fAoArr/AMfEP+8f/QTRUrwxRzQmONFO8jKqB/CaKAH2/wDqj/vv/wChGpait/8AVH/ff/0I1n+J7mez8N3c1rI0MgUDzVxmJSwDOM+gJP4UAatFYyaFpOiwy3+nadbxXcUTt9o25kk4yd7/AHnyeTuJyeetZj65q6aHYXM13Yx3V7EJ1ih024uSqlVONkb7iAW5fgDIGMnNF9wOsorkh4n1Cez0i9xBYWl5axzSzzWskyb2xlCysPKH+2+Rz7c17G/1TTRcXMZtGsG1t7d4WRjK3mT7N4fcAMFh8u05A6jOA7e9y/1ul+odL/1s2drRWXrN/dW0tjaaf5K3N9MY1lnQskYVGckqCCxwuAMjrnPGK5eHWr7R5dVSQRS3t1rAgM0FpLMiYtY2L+UmXPC/dB4J+9gZpL+vw/zGd5RXJxeINYuYdPhhihiubm8ktmmurKaFWVY2cSLE5DdgME9QRnvTZfEOspp4Li2ieC6mt7u8SzluI12fdPlK4cBgeTuIXBz1Bo/r+vvF/X9fcddRXFa5qN49nrB0uWztpo47OQ3cMRZpQ5P8SsCR0wc9CR3rRutc1Gwa8sZxbTagEhNmyRMkcpkOzlSxPDhiQD90jnvR1sHS50lFAztG7k9yBRQAUUUUAFFFFABRRRQAUUUUAFRW3/HpD/uL/Kpaitv+PSH/AHF/lQBLRWN4lkk+yWdusskEV1eRQTyROVYISeAw5G4gLkc/Nxg1X1CysPCmh32o6Bpdla3EcPSOIRrJg8btuM/XqMn1oXcGdDRXI+IfEGq6FZu32qynuLeBp5YotNuJd4ySASjkQjAI3vkE5OAAauy6zfL4iit5WhtLKUIIjNayP9oLDJAmDBEbPAVgSccdeANjoaK4rwvf6pZaf4fiuDaPY3waBI0RhLEQjOGLlsMCEORtGMjk4yd7U76/Or22l6U9tBNJC9w89zE0qhVKrtCBlySW67uMdDngDY16K4DTdfvNP0u1s4VVLm5ur6WWaOxnvETZcsCAkWGOS3UkAY9xWtDret6jNp1taRW1lNc2cs0zXltLlGR1XiMsjYbcTgkEAg+xP6/r7geh1NFcivibU5bXTLmQW1hbzxAz3EltJPGZN+0puVh5Q4yHfI5HpzDqF3qMkm3SpbTTyuuiBytux87KA5fa6568+vHTFC1dv63S/UHov67N/odpRXPDXb03J07ZAdQXUBAfkOzyceZ5mM5/1fHX735VY1i+1KPVtP0/SzaxtdpKzy3MbOE2bcYVWXOd2MZHrnjBOgdbGzRXLaXr2sTzaVLqUdlHBqDSQtDCrF4nRWO7eWwVOxuNoIyOTiobPxVeSatJbvJBcwyWc1zDJHYzwqpQrgCRztmUhvvJjpnuKHoC1Ovorl7PWtbEWmXF7HYzrqkBMVvbqyNHJ5RkALsxDA7SPurjI69au+G9Tu9RhmGozwtcx7d8CWcls8JI6MrsxYejjg4OOlNqzsJNNXNuiuR/4Su/l1p47e2ke1jvfsjQrplw7MA2xpPPH7tQDk4weF65PCQ694huDaSRrpoivb2eyjBjfMRQyYkJ3fNxGcoMc/xDslqr/wBf1/Xcb0djr6K5RNe1iWGxt4hY/bJr+eyllaN/LAjVyHVd2f4Qdpb1GR1qtqF9qV3cafbObT+0LPWvIMwRhE2bZ3D7NxIwrj5d3JHUZyBa7f1/Vw7+V/w/4Y7SiuWOv6hHp1zHcz2cV/bXxtTJHZzTLKNocFIEYuTtYZG44wxzgVVTxVqk+j2N5iC0iczpc3ctjNJGjxybACgYNEpAZiz8LjBoA7OiuZl1OaI65LaSWFj9kuY907WjTGYGFDyqupZyWAHPQAYNVLnxFrloLOyu1hh1CS2NxPJDpdxdIuWwseyJiQeuWLEccA54P6/UDsaKx7jWLiPwXNrH2YwXMdi1x5E6MNjhC21gcHGR7Gqi32vT3sOnxT6dFctb/apJmtZHRUJwsap5gLHOcvuHQfLzwdbf1/WgdL/1/Wp0dFcnc+Jb46PbSwyW9tekzJLF9hnvCzRsUJVIiGCFh948DIHJNSWevanriW/9l/ZLU/2fBezfaY2kDGUNhFwy7cbDljnqOOKHs32A6iiuc8Ny3MPw20+WygFxcppytFDuwJH2cLk+pqlJ4qvINLizNFc3k939nzHpVwpth5Zc77fc0hOFOOQCGB6c02rNoDsKK5W18Q6rffZbGJIre+nkm/0i6spo42jj2nesLlX53qMFuCGOTjlkfiDWpzb2sY09bmXUp7JpCjtGqxxswYLuBJyvTPtnvSDpf+v60OtorlLHXtaeSxlvksVgmvpLCWOJH3lk8wearFsAFo/uEHA/iNM0nxXf6jqdufs0htLmR0EQ0y4UwqN21zOR5bA7RkADG7qccgPTf+v6sddRXJaVruuXUWjT3h09YtYiYIkUL7oJPLLqxJf51O05XCkZAycZqrp+qa9aeE7C4luYp/Nkfzbw2Es/koM4DRrJubJH3gQFHUd6HpuHWx29FYHie6uv+EBv7vTryJJxZNKtxECVPy5JQhgRnsc8cHms+RdbXxM4tLmw+1rpSNJNLbuUYiR8AIHyM+u44x0OeB6PX+tGx7q/9br/ADOvorjNU8Y3cOg22p2LQIzWC3slqbKa5Y5XdgvGQIl4IDMCDz/dNaOkzalN4w1XzryJ7JYYGjg8lgU3BiMHeQOnPy88dMcuzQjoqK5fxZ4kutD8ySzlhYW8HnS2/wBhmuGYZPBeM7YQQDhmyDz2BpbnxDqFtLrt0Ut3sdJHywrGxlnJhRwN2cLy391sjsMcrpcDp6K57w9rOoX99Nb38bSKsQkWcaZcWag5wUIlzuPQgg+vAxz0NABRRRQAUUUUAFFFFABRRRQBFN/rIP8AfP8A6CaKJv8AWQf75/8AQTRQAW/+qP8Avv8A+hGnyRpNE8UyLJG6lWRhkMD1BHcUy3/1R/33/wDQjUtAGVaeGtMsifs8dxs2GNYnu5XjjUjGERmKpxwNoGBwOKdceHdNuY7VHjmjFpH5MJguZYmCcfKSjAsPlHBz0rTooAyP+EW0jy7eMQSrFbRJCkK3MojZFOVV0DbXAyfvA1aOj2LW7QGD921yLorvbmUOH3df7wBx0q7RR1uBU1HTLTVYFivY2YI4dHjkaN42HdXUhlOCRkEcEjvVRfC+kJZS2qWzqkswuHcXEgk80ADeJN24NhRkg5POepzrUUAUYdHs4VtcCaU2kjSQvPcySsrMpU/M7EnhiMEnFQXHhvTLrJeOdC0jyMYbuWLcXxuzsYZB2jg8cdK1aKAKEmh6bJDcxNaqEuokilVWKjagIUDB+XGeCMH8qpLokkviGzu7hIxbaZEyWZMzyyyM4AZnLDjABA5YnOSR0rcoo63DpYKKKKACiiigAooooAKKKKACiiigAqK2/wCPSH/cX+VS1Fbf8ekP+4v8qAEvLO21Czktb6CO4t5RteORcqw+lUI/DWmpbzwOt1PHOmxxc3s0x25zgF3JX8MZwPStWigDK1Lw3pmrzSS30UzGWLyZRHcyxrKnPDqjAN949QetPOgae2oLetHK0qsrBDcSGLcoADeXu2bgAOcZ4FaVFAFKLR7GGGyijg2pYNuthvb5DtK+vPDEc560mo6PZao0T3aSCSHPlywTvDIoPUb0IbBwMjODgelXqKAMg+F9IFlDaxW8kEVvI8kRt7iSJ0LklsOjBgCScjOOnHAq5DplrBPBMiyNLBCYEkkmd22EgkEsSScqOTk8VbooAyG8L6S3lAwShIlCiJbqURuAxYB0DbXGWP3getTz6Fp9xbzQyQuFmn+0u0czowk4+YMpBU8DoR+taFFAGNZaTN/wklzrF9HAkvki0t1idnPlBt25mIHzE445xjqc1pyWcEt5DdSJmeBWWNsn5Q2N3HTsKmooApLo9iq2yiAbbV2eEFidpYMG785DN19aox+FNNtI3axjlE4t3t4TNdSyLErAfKoZiFX5V4A7Vt0Umrqw07O5g6R4TsNP0+COaJpZ1tBbOWuJHRQVAcRhjhAcfwhegrR07SLTS/MNospeUjfJPPJM7AdBvdi2BzgZwMn1NXaKpu7uSlZWM7+wbEamb+MXEUzOJHEN3LHG7AYy0asEY4AzkHOOaki0ixhSBY4Nq2873EQ3t8sj7tx6853tweOfpV2ikMwdS8MQXlxYeSvlwQ3kt1PtmdHLOjglWU5B3MDwRjmr0Gh6fbQ28cUBxbTG4jZpWZvMIYF2YkliQx5Ynr9K0KKNgMy58O6bds7SRSo7zm4MkNzJE4kKBCQyMCMqAMA49qh/4RPR/s8cCwTJDHv/AHaXcyq4dizBwG+cEk8Nkcn1rZooAyr3wzpV/v8APhlUvOtwTDcyxHzFUIrZRhjAA9uM9aSTwzp0sUKP9s3Qbgkwv5xMAxBK+aH3lSQOCccD0rWooArzWNvcaa9hOrSW8kRhdXkYsyEYILZ3E475zVe+0Ow1EwtcJKskAKxywXEkMiqeq70YNg4HGccD0rQooAyp/DWlTpbp5EkK20ZijFvcSQ/ISCVbYw3AkZw2f1pr+F9IaO1QW0ka2sIt4/KuJI8xDojlWG9fZsjk+prXooApx6TZxaMulRRFLNYvJWNXYFUxgANnI+uc1W/4RrS/sL2rRTMryCUytdStNvHRhKW3ggcD5unHStWijzAwNU0Ddp9tBYWhu3gkLpJdatcQyx5BBKzAO/OcYyBinaF4bi02xt/taRtdR3El0DEzbY5JAQQCTlsKxGW5PXAJrdoo2DcpjSLJViUQcQ3DXSfO3ErFiW6+rtx05qK20Gws75rq1FxEzMzmJbuUQ5bO4+Vu2ckk/d6nPWtGigNylDo9jbw2MUUG1NP/AOPYb2Pl/KV9eflJHOaqN4W0tovLVbuNN7uBFfTx7d2Nyja4wpwPlHy+1bFFAFeSwtZdOaweBPsjReSYQMLsxjbgdBiorXSLOzkDxLI0nkiDzJZ3kYoCSASxJPLHk81doo3AxJ/CGi3ECQPbTLCtutqY47uVFeJQQFcKwD4BP3s9avppdpFqX2+NHS4MQiYrK4VlHTKZ2kjJwSM+9XKKAMrUvDOl6tNLLfQzMZoxFKsd1LGkqjOAyqwDYyeSDVsaZZgXgNurLen/AEhXywk+QJyDxjaAMVaoo8gKOnaRa6UGFo90QwAxPeSzgAdMCRjt/DFXqKKACiiigAooooAKKKKACiiigCKb/WQf75/9BNFE3+sg/wB8/wDoJooALf8A1R/33/8AQjUtRW/+qP8Avv8A+hGpaACiiigAooooAKKKKACiiigAooooAKKKKACiiigAooooAKKKKACiiigAqK2/49If9xf5VLUVt/x6Q/7i/wAqAKutXr2GmPLDNFDKWVUaSF5sknoI0wznGcKOa5yLxRq0+kCZEjQw3kkFzdnTJ2VFUZVvs+4SLnIBJJAwT0PHUahpttqlusN4rlVcOrRytE6MOhVkIYHr0Pc1Q/4RPSRb+Skd1GN7SM0d9OjuzABizhwzZ2jOSckZ60u/9dv+CPt/Xf8A4BVbW74a1axST2kNjMkXlzfZpJEumYc7Jg22PsFVgS3bOaig13Vnt7XVpBZnTbq6WFbZIn85Fd/LVjJuwTkgldgwCRnjJ1R4d0wXkdwsDqYipSJZ5BCCoAU+UG2ZAAwduRgegpIvDelw3/2uOBw4kMqx+fIYlc9XEW7YG5JyFzkk9zVdSehRh1DU9RtLm/U2I00GeP7LJAzSME3Lkvvxyy/d29D1zWXe+KrrTtLsbi0NqI1tIJZrSLT5pcBsZXzEOyEbT8u4H8q6MeHdNW9lukilR5izPGtxIIizDDN5YbZuIJycZ5z1qCfwjo1wAslvN5flpG0SXcqxuqDC7kDBWIAHJBPA54FJafh+o35ef6GTPq2qaTqfiO8mnju7a1WLybRYX3BmACgEM3HPOFyeox0pYfE+prBPHLD50zSQRW9zJptxZxbpX2YZZSSdvDcNzkDjrXQT6Jp9zdXE88BdrqHyJ0MjeXKn+0mdpPbOM44zUSeHNOWxmtJBdXEE2Ny3N7NMQRyCpdyUIPIK4OQD2FJAZ2ii+XxpqyanNbTTLZWuJLeNo1I3zdVLMQev8R9eOlR6h4ovLK4mt1ht3ltr4CcHcNtptVjL9QHA9Mg/StnTtDsNKnmns45POnVVlllnkleQKTtyzsScbj+GB0Ap82j2E93cXU1urTXNv9mlfJ+aPJO3r7nnr+Qp9Q6/12sYZ1W6vr+3MUVmjzC9W1uJIC7RrGVUH7w4YjJwRkbemKytLbWriDwnJ9ttpbyawlf7RNC7BVKRH5l35duxO5c5z2wexh0ixtxZiGAKLKIwwDcTsQgAjrz90dc1HZaFp+nm3NrFIPswdYd87v5YbGVG4nA+UYHQY4xRt/XqFyPRL+71TQvOm8mK8V5YHZFJj3xuybguc7SVzjOe2e9crZPrM+n+GHlvbae7kvJvLmkhfCDypR8w3kuRz3XsOOtdxaWcFjCYbWPy0aR5CMk/M7FmPPqSTVW20HTrR4mghceTM08Qad2WN2BU7QSQowx+UcDPSjqDMCbxVqMNrDbSJGL5rua3kuILKa4jVY+d4hQl+QVGN2BknJxg72hahcajo6XF5A8MwZ0YNA8O/axAYI/zKCADg9M4yetFx4f025iZJIXXM5uQ8U7xushGCyurBlyCRwRwSKuWtrHZ2qW8TSsiDAM0zysfqzksfxNLW3mHXQ5TTdc8S6hDpLf8SuMarbNKrCGQ/ZioU8jePM3Z6Art9WxzYtNe1XVY9OtrP7HbXk8MstxNLE8kY8txGQiBlJyxzy3A9c1u22k2VpHZpbw7FsozHbjex2KQARyeeg65qvN4b0ua2ghMEkYt2donguJIpELklsOrBsEnkZx09BT6+QGNceI9WWwgkK29oI5J4by8a0kuIkeNtoO1GDIjAM28khQME96uaNLqUvizWBPfQzWSCIxxJE3y7kyMMXIxjr8vJ546Vbl8M6VNbwQGGVIoVKKkVzLGHUnLB9rDfk8ndnOTnqatx6XaQ6k19DG0c7RiJtkrBGUdMoDtJHQHGccZoBmZeatfW/iaK1keG0sXKLG8trI/2hjnIEoYLGegCsCWPTrxl2HirVdSu4zbWx8q5aRI420u5UQYDbHac4RwSoyABjdwTjnopdCsJ9SF9KkrTBlfabiTyiyjAYxbthIwMEjPAPYUltoNjZ3zXdqLiJ2ZnMS3coh3NncfK3bOSSfu9TnrQBiz+L7hNO+1wWiuILFZrmLDFlmd9ixjbk8Mr54J4HrUH/CUavHp92TCs0sclusM8um3FnG3mShGUrISSRnOQT1HHHPRpoemx297Atohiv3Z7lGywkLfezn19Bxyaji8PWEVq9uftU0TukhW5vZpsMjBlILuSOQDx1xzR11AwNR8TavY309nGi3E1jGrS+TpNzKLp2G7YpQsIuMDLF+T0AHPQavqcljpcc1vEDPPLHDEsuQqtIwUFu+BnJHtilvdBsb68F3KLiOfaEMltdywF1BJAby2XdjJxnOMn1q1e2NtqNlJaXsQlgkGGUk/UEEcgg4II5BGRR0DqYl1d6/aXOn2JudNkuLyaRfPFrIqIix7vueYSTkEfe6elV/+Elu08UWtl5sFza3Fy9uRFYzKIyqMc/aCfLc5QgqBkZI52mtq20KxtHheNZnkhkaRJJ7mSVgzLtJ3OxJ44welQx+GNKiv0vEhm82OZp41N1KY43bduZYy21c7m6DvR1Doc3qurahe+Gdah1FoIrhICwsjbSQvH8+B+8Zisq9BvQAZ+uKvX/iTVdFkvYNQS2upVjge3a1t5Bt82Qx4ZAWZtpwflwW6YFasXhfSYoJofIlkSaMRMJrqWQqmc7VLMSi9OFwOB6Vau9HsL95mu7cSNPCIJCWIygJYYweCCcgjkHvxR2Dqzn4/EGtSabdGO2aWWGaMC6Ok3ES+W33mEDne5XByFY5yD6iuh0m6N7pUFw1xDcs4OZYYzGrEHH3WJKnsVJyDkVX/AOEdsfsf2Znv2TzBIGbUbgyK2MfK5fcowTwDjmprLRbDT5lmtLfy5Fh8kNvYkruLc5PJLEkseSTyaBGFr3h/RrrxXo8l1pFjNJcSy+c8lsjGXEJxuJHOMDr6VUS81LSbjXbyy+xiyt9TQSQPGxd1McKnawICYB44bPtXXzWcE91b3EqbpbYs0TZI2kjaeO/B71DJo9jLDdRPBlLyUSzje3zuAoB68fdXp6ULR/L9UD1/ryOek8VX7a3LFbW0j20F4LVoV0y4kaQZAaQTqPLXBJO0g8L1GeHP4nvrH+1JtTSJWtIpZYtPFrIkjqrfKyyklZARgnYvy7gDzxW22g2J1M36i4inZw7iG7ljSRgAMsisFY4AHIOQADTIfDmlwyTP5Dy+cjRstxPJMqo33lVXYhFPcKADgegpdCupS8PazqF/fTW9/G0irEJFnGmXFmoOcFCJc7j0IIPrwMck+tXtt4ke3u2htbMH9yj2sjNdDZuyswbYGyCPLILYUnoeNPTtItdKDC0e6IYAYnvJZwAOmBIx2/him/2FYf2p/aBSVp928K1xI0YbGNwjLbA2O4GetN+Ql5nNaf40vZIDfXtrI1o1nJdFE024h+z7V3hTM42SZGRuAXkDAIPF9NW1q2v7CO/bT5Y76GWYCGN1aIqgYLksQ45+98vTpzxpWvh+w0/zDZRzbXRkFtJdytAAf4RGWKKPovA6Vj6P4Vmg1eG6vLWC1htoHihhj1Ca7J34BAaQL5agDG1Rg57YFJ63S/rf/gD9f62GWGs+Jb7+zUzpcbanY/a0k8mRhb7dm5Su8eZnzBjldvP3u8cni+/ntdNW2jWCe4sxczSLp1xeIDnbsCxYIBIJ3E8AAYOeOot9Ls7U2pgh2/Y4DbwfMTsjO3I5PP3F5PPFVZPDWlyW9tCIpoRaoUhe3upYXVTjK70YMQcA4JxwPSqlvp/W/wDwBLbXcyf7c12/mMenxWli66bFeOl7BIzLIxcGMruUgfJ1PI9DnhlnqerX/iC3vLWWL7LPpCXS2LI2SzdF37woOf4tvTjHeujj0y1imaZUYyvAtuzvIzM0a5IBJPJ+Y89Tnk1Xbw7pjLbqIHVba3NtGEnkUGIjGxsN8wx/ezg8jmk9/wCvP/gfcH9fl/k/vK/hvU7vUYZhqM8LXMe3fAlnJbPCSOjK7MWHo44ODjpW3VLTtItNL8w2iyl5SN8k88kzsB0G92LYHOBnAyfU1dpsSCiiikMKKKKACiiigCKb/WQf75/9BNFE3+sg/wB8/wDoJooALf8A1R/33/8AQjUtRW/+qP8Avv8A+hGpaACiiigAooooAKKKKACiiigAooooAKKKKACiiigAooooAKKKKACiiigAqK2/49If9xf5VLUVt/x6Q/7i/wAqAJaKy/EGoXWnadFJYLC00t1DAPOBKgPIFJ4IPANYOo+KNWs764tYYvtElgqeasOk3Mou3KhiqMhKxcEAbi3J5wByLUDsqK5e71rWzPrUlkLBLbSirBJ43LzjyVkKk7gEPJG7Ddfu8cpceJL+I6verHA1hpsSyCERsZpi0QcDcDhcE9drZHYYyQZ1NFcfB4j1x7a7VLVrqWONJEmGk3NuqZfDjZIcyFVO4BSC2CMA4yXHiq7SGwgt54pri4WZ5LqHSrmVUEbBdht0JdWywB3MMEHPUCgR2FFcrBreualPZ21pFa2M01k88pvLaXKusgTiMsjBWzkZwQCOtQ2Gp6tqviDQblLmC3t7rTZZprXyncFg8QbB3gZ5+UleBnrnhrV2/rr/AJB/X9fedhRWH4k1a505IlsbiGKZ1ZtjWM12zAY6JEQQuTyx4HA71TsfEOoanPZvAttBbPpkOoTh4mkc7icouGAHA6nOPQ54m/8AX3/5Dt/X9ep1FFchofiu+v5oZbyHZaXFu05LadcQLaYAYB5pBscYyNwC8jgEHhlr4n1iVr+3jjjvZ4rRLiBk06e2HLlW+SRsyADDAqRuwRwSKezt/X9aC8zsqKy9Ivp9Q0d5RdW9xcBmTeltJAFYdA8TsWUjuCc9+M1hL41mCwXEtvELVrAvMwJ3LdBS/kj6BH9+lALU7GiuJmutbstT1u8tmsBNbWNvNcLLE7CRlRyVXDDYODyd30qS68YXx1CcWNrI0Nq8atAumXE7T7lV22yp8iEB8AEHkc4Bo62FfS52VFcrd+ItStF1q7Mdu9rp9wLaGBIZGlkZlj2kkE8AydApJHp3u+HdXvdQnuoL5HcRBGjuf7Ons1fdnK7JckkYzkHGGHShajN2iuD1aTVGsPGIubyGe3idVhh8plKZjjYAMXYAYPIC8nJ4zitK98RanorajHqUdtdyQ28U1v8AZYZF5kkMexlyxbBwcr1GeBR2HY6qiuOXxPrAtZV8pJJvtFtHFczabcWkbCWTYw2SHcSvXIODuHSk1HxRq1nfXFrDF9oksFTzVh0m5lF25UMVRkJWLggDcW5POAOQR2VFZWv6ldafpkM1gkTTTXMMIE4IUB5FU5xz0NYz65r9t9ra5/s5o9OvYrecpC4NysnlnKjefLIWQdd+SO1C1/r0/wA0B11FctfeJLq08SQW0UsM1pJdpbPGljMSm4YybjPlhg2PkxnHfNWLPXby6urSx8uEXguZo70bTtSOMfeUZz826LGc8P7ULXb+v6uD0/r+ux0NFc1qS6g/ji3XS5LaGQ6bJukuI2kCjzU/gDLn/voY9+lUZfF9/Kttb28SwXJikaeVdPnvU3JIY9qrFggEqxyTwMDBzwdE/wCuv+QdWv66f5nZ0Vi3V7eXngma9hVrC8ksjJtmjbMTbckYyrZ646dj7ViW41qXVtE8u8s2vX0iVnuJbdyuN8RHyb8k9ATuHc47Ufat/XX/ACDpf+un+Z2tFcU/jHULiCzjtolt7mS0+0TOunXF6m7cybQIsFQSrHLHpjg9t261yS28Jrq72jRzvCjC2mJQpI+AFYkZGGbBOPwo6XDrY2KK5S91vWtIkv4b19PuXt9Kmvo5IYHjy6nAVlLtx7559scx33iHWLOe3smaAXEsBuWmh0q5uURScLHtjYnPXLkgcD5eeD+vz/yYf1+X+aOvorjtZ8W39no8V9brHBMtl9qnspdPuJ5AcE7WKY8kcEBnHPPA2mlfV9S07VfEOoTTpc2VpaRTR2axOGyVYgBtxA6ckLzx0xybB2Oworj4PEeuPbXapatdSxxpIkw0m5t1TL4cbJDmQqp3AKQWwRgHGRr/AFW91Hw+9rq1oySzTpOEs5UDlVYlWjMmVIAxtbJDc+1AHYUVlaxfXkV3ZWGmeQlxeM5864RnSNUGT8oKlicgAbh3PbBy5Ne1dVhs0SzN/wD2mbCWVkcRFTCZRIq7iem35cnkEZGcgWoHU0Vysuu6xBILAixlvl1BLVpgjpEyPEXDbNxII6Y3HOOozw+TXdVt5JNNl+xy6ibuO3juFjZYcOhfcybiQQFYbd3JxyM8G/8AXp/mH9f19x09Fcrda7rFitxZyiymvorm1jSZYnSJ0mfbkpuJBGG/iOcA98VWub/XdN1jXbia/tLhLLSY7gQi1dUL4mwQPNO3leeuRgcYyTpcaV3b+t7HZ0Vgaprt1ZSlYkhIGlT3vzA/fTZgdenzHPf3qhcazqkNvPFq8WnXMdzpM15HEkLbUKBd0b7mPmKd45wucHjmh6L+vP8AyYLW39dv80ddRXGx3eurrmpSWU9rJFFpdvPFZGB8ZPmfKp8zAJKnnHI2jtk7el6y2r6hI1n5baelvE4kx8zSON+OvACFD0/i9qbVnYm/9fd/ma9FcjLqmq6Zq/iG5luIbq3txCILUxsmGcAL8+8hRk/MQvPXjpWpY3mqQa0mnaxJaXBmt2nimtYGiC7WUMrBnbP31IOR34pLUZtUUUUARTf6yD/fP/oJoom/1kH++f8A0E0UAFv/AKo/77/+hGpait/9Uf8Aff8A9CNS0AFFFFABRRRQAUUUUAFFFFABRRRQAUUUUAFFFFABRRRQAUUUUAFFFFABUVt/x6Q/7i/yqWorb/j0h/3F/lQA26s4L2NEuk3rHIkqjJGGVgynj0IFVbvQbG9vvtkguIp9oVntruWDeB0DBGAbGT1z1rRooA54eE7a51nUrzUlaRLqeORI47iRFdVjRdsiAhXGVPDBhg+5Fa/9m2ZN2WgVhegC4V/mWQbduCDxjAxirVFHSw763MlPDOnR2klsrX5ifafm1G4YptORsYvlP+AkUr+GtLktIbfypkEDs6Sx3UqShm+8TKrBznvk88Z6Vq0UCKkGmWtvPFMiyNLFCYFkkmeRtmQcEsSScgcnJ96hTQdOi+xeVC8ZsQVtzHM6lVOCVOD8ynA4bI4FaNFAGfqGiWOqTxzXaTeZGpQNDcyQkqSCVbYw3DgcHIp9lpFjpxiNnB5flW6WqfOxxEv3V5PbPXrV2igDKt/DWmWqzJDHP5E0bRNbNdytCEbqqxFiij6AY7VHH4T0mNZMJdM8iLG0r307yBVYMoDlyy4IyMEY/GtmigCtYafbabbeRaIyqWLszyNI7sepZmJZj7knoKqt4d0poGhazXy3u/tjLubmbOd3X1HTp2xWnRQBUk0uzma8MkOTexiK4+Y/OoBAHXjhj0xVeTw9pz3i3SrcQyqEUm3u5Yg4X7u5UYB8Dj5geOOladFAFNtJsXgvIXt1eO+YvcKxJEhKhc+3Cjp6UafpkGmI620l04cgn7Tdyz4x6GRmx+FXKKAM6fQdOuZruSaFybxAlwomcJIBjBKg43YAG7GcDGcVLc6TY3kk73VusrXEH2eXcTho8k4x06k89auUUAZsPh+wig8o/apk81JgLm9mmw6HKkF3JHI6Dg96W70Gxvb77ZILiKfaFZ7a7lg3gdAwRgGxk9c9a0aKAILqzgvY0S6TesciSqMkYZWDKePQgVFLpFlOlyssG5bqVJphvYbnUKFPXjGxenp9auUUAZLeGdKe/wDtjQzGQTC4CfapfLEgOd4j3bAc9wOcn1NN0nSpoNW1DVb9II7u82JsgcuqRoCB8xAyxySeB2HOMnYoo2AztQ0Kw1O6S5ukmE8aGNZYLmSFwpIJGUYHBIH5Uybw5pc0FtEIJIBaJ5cLWtxJAyIcZXdGwJBwDgnGQDWpRQBELeMWgtmBki2eWRIxcsuMck5J+p61VstFsdPaBrZJN9vE0MTSzvIVRiCVyzEkZUfTGBxV+ijrcPIyZPDOlyQwRrFND9nVlje3upYXCscld6MGIzzgnFWr6yS40aay+zx3aNCYxDcyttkGMYZ8MfxwT3q5RR0sHW5y2leFGF1eT6vBGqXFqbPyVvprpmjJy26aTDewUDA5IPPGzfaHY6i0LXCTJJApSOW3uZIHVTjK7kYEg4HGccD0rQooAyL3wtpWo5+1xXD7oBbyAXky+agzgPhxv6nlsnmrD6JYSXUlw8BZpYPs8qmRvLkj54ZM7W4JGSCcHrV+igDJTwzp0dpJbK1+Yn2n5tRuGKbTkbGL5T/gJFSf8I/pot7aFYpFFtKZo3W4kEm85yS4bc2cnO4nPfNaVFAFTUdLtNVhSO9jZvLffG8cjRvG3TKupDKcEjg9CRWXqHha3uLfTbW1Ty7e2vDczEzOJHzG67hJncX3MDuJzxnNb9FAHP33hW2ltLK0tFKwxXouZ2knkMr/ACsN3mEly+SuCTkYGCMCri+HNLGmyWJt2eKSQSuzzO0pkGMP5hbfuGBhs5GBjpWpRR/X9fcBmw+H9Nht/JWF3BmS4Z5Z3kkeRCCrM7Es2MDGSeBjpUs+kWVxfG8miZpWh8h/3jBJE5+V0B2t944yDjJxV2igDHt/Cmj23mbLeV2kt2tWaa6llbymxlAWYkLxwB05xjJq3Po9jc7fPg3bbZ7UfOwxE+Ny8HvtHPXirtFG4GdPpccM4v8AT7cNfRQiGNXuZIo3UZwHxkHGTglWIzxTfD+kDRNHS1JRpWd5ZmjGFLuxY4HoM4HsBWnRQBQm0TT7m7nuJ4DI1zD5M6NI3lyr/tR52k9skZxxmjTtEsdLkeS1WZpHUIZLi4kncKOihpGYgew4q/RQAUUUUARTf6yD/fP/AKCaKJv9ZB/vn/0E0UAFv/qj/vv/AOhGpait/wDVH/ff/wBCNS0AFFFFABRRRQAUUUUAFFFFABRRRQAUUUUAFFFFABRRRQAUUUUAFFFFABUVt/x6Q/7i/wAqlqK2/wCPSH/cX+VAFDxBqF1p2nRSWCwtNLdQwDzgSoDyBSeCDwDWDqPijVrO+uLWGL7RJYKnmrDpNzKLtyoYqjISsXBAG4tyecAc9XdWcF7GiXSb1jkSVRkjDKwZTx6ECqt3oNje332yQXEU+0Kz213LBvA6BgjANjJ6560IDm/FOo6nqHh3xGbRrSGys4ZIJI54mMsp8oMzBgwCY34AKtnHUZ40rrX7q203xDNHHCW0rAgDKcN+5R/m555Y9McVc1DwtpGpzTyXls7faV2zolxIkc3GAXRWCsQMYYjIwOeBRf8AhfSNTmllvbZ3MyBJUW4kRJAOhZFYKxHYkZGBg8CmthkcN9qmo6pciwks4LSyuFglSaFnkmO1WYhg4CcNgZDZxmszRPFV/qmpWjG2kNneFgIxplwhtxglWadv3bg4xgAcsME453ZdB0+XUxfmOVLjKljFcSRrIV+6XRWCuRxywPQelFpoNjY3pubQXETFmbylu5fJBbkkRbtg5JPC9eaS/r+v6sLoQ6he6hJrCaZpL20Eog+0ST3ULSrt3bQqorLk5ySc8YHBzxUj1XVPt+pi4m063ttNRd7Oj/OxiDZ3bsKoY+hJHHGMnT1HRbLVJIpLtJVliBCSwXEkEig9V3owODgcZxwPSg6JpzW13AbcGK8QJOu9vmAUKO/GAByMevWl0H1OdtfE+rzw6pDFEt1c2iQSJINMnt/kkZgx8mRt77QhbCn5ug5pHu7/AFHVdCksr2ykumju1edrWRETBTIMJfcGGACpYEHJ7YraTwrpUaThUui9wEEkzX07SnYSVxIX3DBY9D3x0qza6LYWbW7QQkPbh/LdpGZvnILliSSxOBycmmI5pvF2oPBZW4jSG7k+0CeeLT57uMGGXyztjjO4bjzktwBjnNWV8Rao8unPdRR6XbTxxmR7mymYPIXKsm7K+T22mQfNvGBkEVrzeG9MmhjjMMsXlySSo8FzJFIrSMWfDowbBJyRnHTjgUP4c06WeGWVbmRolRQr3kzK+05UupbDkHuwJoQPyNSiq9nY2+nwtFaR+WjyPKw3E5Z2LMefUkmrFABRRRQAUUUUAFFFFABRRRQAUUUUAFFFFABRRRQAUUUUAFFFFABRRRQAUUUUAFFFFABRRRQAUUUUAFFFFABRRRQAUUUUAFFFFABRRRQBFN/rIP8AfP8A6CaKJv8AWQf75/8AQTRQAW/+qP8Avv8A+hGparwwq6MSXyXfpIw/iPoaf9nT+9J/39b/ABoAloqL7On96T/v63+NH2dP70n/AH9b/GgCWiovs6f3pP8Av63+NH2dP70n/f1v8aAJaKi+zp/ek/7+t/jR9nT+9J/39b/GgCWiovs6f3pP+/rf40fZ0/vSf9/W/wAaAJaKi+zp/ek/7+t/jR9nT+9J/wB/W/xoAloqL7On96T/AL+t/jR9nT+9J/39b/GgCWiovs6f3pP+/rf40fZ0/vSf9/W/xoAloqL7On96T/v63+NH2dP70n/f1v8AGgCWiovs6f3pP+/rf40fZ0/vSf8Af1v8aAJaKi+zp/ek/wC/rf40fZ0/vSf9/W/xoAlqK2/49If9xf5UfZ0/vSf9/W/xqO3gQ2sRJk5QdJGHb60AWaKi+zp/ek/7+t/jR9nT+9J/39b/ABoAloqL7On96T/v63+NH2dP70n/AH9b/GgCWiovs6f3pP8Av63+NH2dP70n/f1v8aAJaKi+zp/ek/7+t/jR9nT+9J/39b/GgCWiovs6f3pP+/rf40fZ0/vSf9/W/wAaAJaKi+zp/ek/7+t/jR9nT+9J/wB/W/xoAloqL7On96T/AL+t/jR9nT+9J/39b/GgCWiovs6f3pP+/rf40fZ0/vSf9/W/xoAloqL7On96T/v63+NH2dP70n/f1v8AGgCWiovs6f3pP+/rf40fZ0/vSf8Af1v8aAJaKi+zp/ek/wC/rf40fZ0/vSf9/W/xoAloqL7On96T/v63+NH2dP70n/f1v8aAJaKi+zp/ek/7+t/jR9nT+9J/39b/ABoAloqL7On96T/v63+NH2dP70n/AH9b/GgCWiovs6f3pP8Av63+NH2dP70n/f1v8aAJaKi+zp/ek/7+t/jR9nT+9J/39b/GgCWiovs6f3pP+/rf40fZ0/vSf9/W/wAaAJaKi+zp/ek/7+t/jR9nT+9J/wB/W/xoAloqL7On96T/AL+t/jR9nT+9J/39b/GgCWiovs6f3pP+/rf40fZ0/vSf9/W/xoAloqL7On96T/v63+NH2dP70n/f1v8AGgCWiovs6f3pP+/rf40fZ0/vSf8Af1v8aAJaKi+zp/ek/wC/rf40fZ0/vSf9/W/xoAloqL7On96T/v63+NH2dP70n/f1v8aAJaKi+zp/ek/7+t/jR9nT+9J/39b/ABoAloqL7On96T/v63+NH2dP70n/AH9b/GgAm/1kH++f/QTRTHiVJoSpc/OfvOT/AAn1NFAD7f8A1R/33/8AQjUtRW/+qP8Avv8A+hGqXiG+m07Qbm5tdonAVI2cZVWZgoYjuBnP4UAaVFY8WkxaQkl+LzULmeONmk8+9kdZeMn5Cdi8/wB1RjtxxVCbxTeQaDa6ndWmmWa3QDxi91UQqFKBgCxjPznn5QCMAnd2oA6eiuZXxe1wdJ+yWtuo1K3SdTeXfk7t2P3cfyMJHHpkdueeK9hr2o2bztc2nn2B1aS1Nw91+8TdLtTam05QEqPvAjnAwOXZ3t/W6X6h0uddRWZrWqz6YLJLS0W6mvLn7OivN5aqdjtknB4+TnjPPfoc7UfFjaVrNrY3kWnqZ5IojGNRH2jMhC7ki2ZZAxxnIPBOOKW4bHSUVx8Xiu+07T9Rutcjs0VNQNpbE3m1ck4AdjGoVQOd3JxnjOAdjw74gi1+2uGja1aS2l8qQ2lyLiInAYFXAGeD3AwQR70LVXX9f1cHo7GxRRRQAUUUUAFFFFABRRRQAUUUUAFFFFABUVt/x6Q/7i/yqWorb/j0h/3F/lQBLRWT4guriC2tYLOY28l5dJb+eFBMSnJJAPGcKQMgjJHB6VXuoYfCuk3mpWxvrvyostBcX0kocg9jIW2n6YHr2wIDeormNd8V3Xh6ySfUbXTIm8t5Gik1QIzhT92IGP8AeNjqPlGSACetWz4gkfxINLhgtguxX3T3XlzSKRktFHsO9R3O4YOfTkA3KK5Hw1r2o/YdFh1K0zDfK0cV211vlZ1Vm+dNvAIVsHcTwMgZ42dT1W6tdWstPsbKO5lu45ZN0s/lLGEKZzhWJzv7DqB65ABq0VzT+LGTxMujeVp7Syu8cSJqIaYMqFwZIgnyKQOuWxkcc4qha+Mruy8OafNrf9npeXsjrE898IYiq5JZ3MY2+gAVs8epwB5HaUVm6FrMWuaQl9D5fLMjCKUSpuVip2uPvDjIPGRjgdKxrLxZql9Hp7RaDGp1OAy2pa9+VdoBbzCEO0YPylQxPGQvOANzq6K5m58WvD4etNT8mwtzPuWRL/URbojrkFFfadxyDjgcDPHSnxeJrvUJLaPRtMjnNxYR3we4uvKVVckbThWOeOwI65xxkA6OiuaPi1pZtOjtrSGM3se/F9deQS27aY48KwkcEHK5HbnnjU1a6W2n00PHI5mvFiXZMybSUY5IH3hx908d+1H/AAwGjRXC2+t3Vja2N7LLNcLDZalO8TSnEpjlXaCeegyAecZror7XjZziJbKS4JsJbwLEcs2wqNgXHJO79OlH9fn/AJDtov6/rc2KK5G68R6vcaPY3mmRaW5mv44S1vqJljdSQMb/ACuCTkHjIxkZ6VpLrl9Jf6lDHp0Hk6dxJNJd7d7GJZAANnT5sEkjA555AO/9dv8AMW7NyiuKn8ZXl94f1OXSRpzXdlLEpktb/wA+Eq5HIfy+vUFSvHXNWNW8dR6PdyWt0unRz2sKS3cc2pCNvmGdsIKZkIA77ByB3ODqG51tFYfijUr+y0GO70UQvI9xAu6WTaNjyKv91uucdOASRyADm3Gtavp+saxMtil1Fa2sE00RvCqx/K5cR5U7jx3Cg4HNGyuw32OuorktW8f2Wm3ssStY7LaNJJxc3ywykMA2IoyDvIU5wSvJABPbb1nVW0vTo7m3t/tTyzxQpH5mzJkcKDnB6ZzQBpUVzVz4gl046lJPZKLm3S280fbHaBS5IyWK/Ii4yzBenJHFVr3xHJbapolxPtf7Xa3Pl2tjcecly+6Ly9jYUNwSckAAEk4AJoBanXUVja7falZ+DL69gihh1CG0eTb525I2CkkhinzY6jKgHGOOtQjWtVaS3srfTbWbUDbC4uA94yQxqSQuH8ssScHjYAMHnpkDpf8Ar+tTfoqlpepLqmkxXscTRlwwaJiNyOpKsuenDAjNc5F473QakWt7G4msbZbgJYaiLhWyxUozbV2MCBxgjnrR1sHS52FFZOnatd3GrXGn6lYx2k0cSTxmK481XRiw5O1cMCvI5HPBNU7zXjp9xqPkWUlxLHeW1vsNycOZQgBAbhAN3QdcZ6mgDoqK50eJrqNbi3u9NjTUo7mO3jgiud8cpkXcreYVBAxuz8uRtOAeM0P7Wvor7Vm1e2ZDFLYotvBeuUBeTbuVwFOOQSCozgg5HJFqB2NFYsHiA3BtYRaMtzNcywSxeZ/qRHnc5OORwuOBnetU9O8QXN3YafFo2nLNNJZJdSJdXrARI3CjzCrM7Eg9QOhyaAOmormfCeszXVnZ2l0kjStaNctLLJub/Wsu09enrmor7xo1n4csNW+z2EaXVsZzHeaiICTgHZHlDvbn/ZHTnmldWv8A1/Wg0rnV0Vh6XeveeJr8rJIbdrK1ljjZjhd3mEkDsTgZ+lVtQ8VXdldah5Wjm5tdOnjimkS4AkfeqEbEIwSC/ILKMcgnkCmrOwlrqjpaK50+Jrm3jvYr7TUW/t5YYooILnzEmMvCfOVXbznPHAGeaqaz4i1i10jU4hZ21rqdrCk6lLoyRmNiRuDGMZYFSCpXHTnmkB1tFYU2s6qbtrKw0q2nu4IFlug96UjQtnaiN5ZLH5SeVUdPWm2fiSXVdQgg06xDW8tnFdyTTT+W0aOXG3aFOWGzpkDryMDIHmb9Fcpp3il5f7Itba0hjW8tYpl+26gwdg2crGWUmZlAyckHlfWr3hy/1W9utVXU4rdYre8aKExTFiAFU7cbF45znJPJHbl21t/WgPTc3aK5688Viydo3smaSPUFtJVWUfu4yA3nHjoFZSR79aqXGtajc+I7D+y7YSIy3saxyXRjjk8t4l8xiFOOd4GFbr6EkJa/15X/AK/4AHWUVx994iN5pKzJBNa3Uum3zHbctiCSIqrDA4Y7ujcEY4xk0l/46t9IZbZ3sme2to5bn7XqCwSPuXOIkIPmNgZ5KjJAzycH9fn/AJB0v/XT/M7GimxuskauhyrAEH1Bp1AEU3+sg/3z/wCgmiib/WQf75/9BNFABb/6o/77/wDoRou7WG+s5bW6jEkMyFJEP8QIwRRb/wCqP++//oRqWgDIttBkhVo5tZ1K7gMbRrDO0ZCAjGdwQMxA7szepyeabL4bjZbD7Lf3lnJY25tkkh8ss8Z25Db0YfwLyADWzRR/X9feBgHwlAdOttOGo3wsIIEge23RlZlQ5G4lNwPqVK9vSrbeH7VrN7YyTbHvRek7hneJRJjp0yPrjvWpRTvrcCreafFfTWcsrOGs5/Pj2kYLbGXB46Yc/pWZceFYbi+lmOoXqQy3Ud29qhj8syoUIOSm/HyDjdj6Vu0Ulo7gY0nhuB/te28u4xcTi5QIyD7PKP40O3PPcMWHUYwSK0LG1mtLcx3F/cXzbs+bcLGGA9PkVRj8M1Zoo2VgCiiigAooooAKKKKACiiigAooooAKKKKACorb/j0h/wBxf5VLUVt/x6Q/7i/yoAi1HTrfVLF7W7D7GIYNG5RkYHIZWHIIIBBFUG8PNcWNzaajq+oXyXEfl5m8pSgznjZGoyeOSD7Y5rZooAxNW8MRatPcyHUL21W8thbXMduY8SoN2MlkYj77fdIqWXw+k99FPPf3kkEMiSpZsU8pXUAKwO3eOmcBsZzxya1qKA3MuDQLW3t9LhSSYrpjl4SWGWJRk+bjnhz0x2q1Lp8U2q21+zOJbeKSJFBG0hypOeOvyD9atUUAYVt4Vhtr63nGoXskVrcSXEFs5j8uNnDhuiBj/rG+8xNKnheKK1jht9SvoGt5mktpUMe6ANnKDKEMvP8AGGPQ5yBjcooAhtYHt7VIprmW6dQczTBAzfXYqr+QFU7LQrawh06OF5WGnQmGLcR8wIA+bjrwOmK0qKAML/hFIUFv9j1C+tGgSWPfEYyXSR97KdyHHPdcH3qnH4Wng1SGOxv72ytLbTIrSO4heIu+1m+VgysM42nO0ex6iupoo/r8/wDNh/X9fcYk/ha2mtYbNLy8hsI41iezRkMcoU5+YspbJzyVYE+taN7p8V9JavKzg2s4nTaRywBGDx0+Y1aooAxV8LaeIYopDNJHHDcQbGYYZZ2DPnA9sDGPxpkHhcQzGd9X1Ke4Fq1rHNI8YaNCVPyhUAyCvUgk988Y3aKP6/r7w6WMM+F4WtJkkv7x7qa4juWvT5Yl8xMBTgJs4Cgfdqafw9bXFvqMUk0+dQdJJXBXKsqqoK8Y/gBwQRnPGOK1qKAMNfC0LW+oJdX97dSX6oss8pjDLsztKhUCjGfTHHI65kfQJPtIuLfWdQtp2RUneMQn7Rt6MytGVDc4yoXPHoMbFFAFTU9Oj1XT3tJpJIwzKwkjI3IysGVhkEZBAPII9qrtoUDpfiaeeR7+3W3ndioJCqy7hhQATuJ6Y9q06KN1YNjIbw/suhPYapfWJZEWVYPKZZdowCQ6Ng44yuMgD0FXdQ0+LUoYo52dVjnjnGwgfMjBgOR0yKtUU763FboZlxoqy3N1c299d2dxc+XulgKZXZnGAykc7jnIP4VUPg7TJIYo7gzT+WswLOwBd5XV2k+UDDblBBXGD0HTG9RSGUjpizaI+mXtxPdxywtDJLKVEjqwIOSoAzg9QKpP4dJ+zyxavqEN3DEYTdx+TvlTOQrKYyhwehCgj15OdqigOliiukWqaG+lKH+zPE0TZcliGzuJbrk5Jz6ms3/hEIJI51vNSv7tprYWpaUxLsjDbgFCIoznvj+ldBRR1uHSxVXT4l1Z9RDP5zwLAVyNu0MWB6dcsaqz6Ba3E88ryTBp7mG5YBhgNFt2gcdPlGf6VqUUbf18wMm88O2t5LcytNcRTTyRSiSNgDE8YwrLkY+oOQe4xUCeFLbF0bi9vLmW7kgkmmlZNzNCwZMBVCgcAEAD88mt2ihaAZ8Gi21vrVzqiGQz3CBWUsNqcAEqMcEhUz/uj3zSj8KwW0Nmthf3tm9rbi182JkLSxDkKwZCOvcAHk81u0UAYMPhK2tYbOOwv760+ywtBvjkUtLGW3bWLKe/8QwwyeajPg22W0ht7bUb+2jjs1sX8toyZohnAYshIPzHldp59hjoqKP6/r7x3sULHSINPunnheRmeCK3IcgjbHu2np1+Y5pkuhW0v2/c8o+3zRzS4I4ZAgGOOnyDrnvWlRQ9dWJabGVeeHrS+kvXleZXuxFlkcAxNGSUdDjggnPORx0xkVGfDUMtnew317d3kt7GIpLmYoHVRnaFCqqjBJP3eSec1s0UAY0/h0yzLcRavqFvdGEQzzwmINcKCSNwMZUEZblQp5PtVmy0W00+78+1Dp/osdqsZbKqiFiOvOfnOSTWhRQBgr4TgW0tLP8AtC+NjbJEn2QmMpJ5ZypY7NwOQPulegrQstLSxvry4huJil3J5rQNt2I+ACy/Lu5wOCSPTFXqKPMDKufDljd6heXkvmeZeWhtZAGG0KerAY+90Gf9kU600G1s5NPeJ5i1hA8EZZgd4cqWZuOWygOeOprToo2AxD4UsTCIvNuNoiuovvL0uGDP26gjj9c1JJoGLkT2OqX1gxjSOUQeUwlCjCkiRGAOOMrjPGegxr0UAFFFFAEU3+sg/wB8/wDoJoom/wBZB/vn/wBBNFABb/6o/wC+/wD6EalqK3/1R/33/wDQjUtABRRRQAUUUUAFFFFABRRRQAUUUUAFFFFABRRRQAUUUUAFFFFABRRRQAVFbf8AHpD/ALi/yqWorb/j0h/3F/lQBk+LL/UdO0VZ9JWEzG5gjYyybQFaVVI+63XOOnAJI5ABVNZ1CTV7ixTTYSLSGOSeT7X3dWO1AU+blcZO0YOfar+qadHqunvaTPJGrMrrJERuRlYMrDII4IB5BHtVWXw9bXEOoR3M88p1C3W3ndioJCqRkYAAJ3EnjHtR0H2Miz8cC5jvSYbGc2QhklfT9QFzGI3cqzbtgwUCliuOnerGq+MIdMedXjgRVuVtIprq5EMTyFC7bnIO1VXAzySeMVctPDsUE93Nd313qEl3brbSG58sDywWIACIoH3z2pF8NW8ej29jBdXcUltJ50V4rqZhIc7mJKlSTuYEFcYPTpQL+v6+ZmWniL+27/R5LaaML9puILhbS682JysRIw4xuHII4GPQEUWPiW9uLO0i0jSFnZtOjvP9J1BhtUkjYXKszNxwSOeckd9qPR/3llLd311dzWbuySyiMFtylSCERRwDxgD8aZpvh600vyvs8kzeVZpZjewPyKSQeAOeT7e1D8v60f62BbO/9f0ipD4ln1H7P/Yunrc77SK8m8+fytiSZ2quFbc/ytwdo6c81Yi1e41Dwaur2VukdxNaeekUkvCErnBYKen0rIvtCk0v7NHodtrEjx2SWjS2s1sqTImdiymQ5BGT8yKDhjjsBu6NpX9neGLPSrgiTybVYJCpOGwuDjviiWqly/L8f+ANaNXOet9V12afw4/kQy3V1p80kkQuykLn9yQ7nZwcE8BDgtjpk1fg8UXd5/ZkdnpaG4vUnMiTXWxYGhdUcbgp3DJOCBzgcDJIv2GgRWL2Dm7ubh7CB4IWm2fcbbwdqjONgAP1zmls/D9rY3NtPFJMWt/tGwMwwfOcO2eOxHHt61Tav/XmSrpJMow+JrqQQXj6bGmk3NwIIrj7TmX5m2K5j2YClsfxk4IOOoE6eIt+nQ3X2XHm6ibHb5nTEzR784/2c498Z70sPhiCC4TF7eNZxzefHYMyeSj53Ag7d5AbkKWIB7cDDP8AhFLf7Usgv74W6Xf2yO0DoIkl3bifu7iCSTgsRzxjjErpf+tv+CN7O39b/wDAIJPFF2qLdw6WkmmyXiWiTfasSEmURFym3G3OcYYk8cDJxVsNe1Gzedrm08+wOrSWpuHuv3ibpdqbU2nKAlR94Ec4GBzXn8P3c+pR2dnb6pb6fHqC3ZFxNb/Zl2yeYSgQmU7iOFbCjcTgYArom8P2rWb2xkm2Pei9J3DO8SiTHTpkfXHeiPRv+tv+CN9v66/8Ak1vU20nTjdL9kADhWe9uxbxID3Z8Nj0AAOSR9aj0PXItZ0CPVMJGh3h9kgkQFGKsVYAblypIOORUmq6SNTNs63dxZz2shkimt9hYEqVIw6svQntml0zSYNL0s2KPLcRs8js05BZy7FmzgAdWNLow00My18SX01xpZn0lIrTVXIt5RdbnRfLaQF02jBIUcAsOTzwMxaf4oij0kSTWk0UKaeLuLdO0zygEhky3JYHZySc7xVLS9CvTrOl5h1S3sNLZ3iTUZrdggMbIqRiIktw3WQkgKMZya2/+EWsTaabbl5ymnMGjO4ZkAOdr8cjIU4GOVFU7dBGTe+PrewvpLe5GnwtamNbuOXUVSZWZVYiKMrmQKGHOVzggCrc3ii7inuXGlI1jaXq2k0/2rD/ADFAHVNvIBcZBYHjjNaEmiN/acl5Z6ne2XnMrzQQ+U0crAYyQ6MQSAAdpHQd+aJNAtZbS8t2km2Xd0LqQhhkMCpwOOnyD9aX9fl/wQ/r8/8AgDta1SbTI7QWtot1NdXAt0RpfLAJVjknB4+XnjP16HPufEWox/bXttJhnh01R9sb7WVbfsDssQ2fPhSOWKZJxWxe6fFfSWrys4NrOJ02kcsARg8dPmNULzw3Fd3VzLHf3trFeY+128DoEuMDbySpZSVAUlCpwB35pK/9fL/gj0uU9a8Xx6Rc22RYvbziJh5t+I53DtjMcW07wAc9R3xVbX9d1GbSr6TTLQLZwXAt2u1uiku5ZArFU24Kg5GdwPB46Z0L3wnb3k9wwv723guTG01tCYwjlAApyULD7q8BgOOnJyXnhK2vDcIb++itLmYTyWkboIzJuDbslSwyQCRu29eOafUnoW9f1c6LpwuVijfdIsZaeXyoo8/xSPtbavvg8kDvmsjU/Giaa1tBJ/Zcd3LbfaWFzqiwwlSSBskKEuTg4+UDHUjpXQahZyXsKJDfXNi6PuEtts3HgjBDqykc9x6Vmr4Xht4rcabqF7p8kMZjMsBjJlUsWO4OjL94k8AYyQMA4pFFdfFc19btc6Jpy3ltDbJcTNLceU2HTeEQbWDNt65KjkcnnEc3iy82b7PSFnVNNi1GUtdbNqNuyi/KdzfLx0B5yV4zBr2kXrXNwulwatJLeWyw3E0U1tHBOQCoMm751IB5Mag46dBjXtvDtvDblHlkZ30+OwkIIA2IG5HHX5z+nFN7O3y/H/gCVrq/9bf8EqL4ra3W5l1aw+yQR2Jv4mSbzHaIdQy4AVxleAWHPXiqUPj+KS0vpBHYXM1tbfaUisNRW43LkAqxCjYwJHqDng8Gt6XQbOeUNP5ki/Y2smQtw0ZIznHOeOoNQf8ACPNLplxYX2sahewTxiP995IZAO4Kxgk/72ael/68/wDgC1t/Xl/wTL1nxHrFtpOtRrYwWl/aWX2qF1uvMUodwzzH95dv3cEHj5u9dPZvcSWcTXsccU5XLpFIZFB9mKqT+QqnfaFaahLdvcmQ/a7T7HIqsANmWORxnPzGpbLTntJjLJqF5dsYliInZdvylju2qoAY7sEgcgCkthvy/rb/AIJzyiS68bagstrq9zHDNCEkttQMUEA8tSd0fmru55OFbPv0rTtNfmu9UbT108rcW5f7YPM+WJf+WZUlfn38EdMANnpgyNoLjV57+11a+tftDo8sESwmNyoC/wAUZYZA7EVEfClkRIWuLppZ0ljupd6hrlZOochf4eNuMbcYHGQVrYelzMh8dhrfVGeCxnlsLT7VssNRFwrckFGbYNjAgdiOetT3PijVrZr6N9Cj82ytxdyf6b8phO7GDs/1mUb5cbePv1Y/4RGCSK5S81K/uzcWn2MvKYlKR5zhQiKM+5B/lWhc6Nb3Ul68jyg3totpJtI4Qb+Rx1/eH17cU3tpuJb6/wBbf8Ey73xGtjPfTW9nLctHHZkL9oIEnnSFAAp+VSOue/fpmm3HiCdYbuDVdPEFzaz2vyWt6xV0lkCqwcKp4O7KkYOMcg1fm8NWc7Sl5Jx5i2ynDD/lg+9O3c9f0xT7zw/a3tzcTSyTBrj7PvCsMDyZC6447k8+3pVaX+Yle2pnzeKLyKe5caUjWNperaTTm6w/zFAGVNvIBcZBYHjjNE/ii7jia8g0tJdOF2toJjdbZC3nCIts242hs/xZOBwM5GhJoFrLaXlu0k2y7uhdSEMMhgVOBx0+QfrXO3egXdxqH2Kyt9Ut7A6gl04mmt/sq4kEjMgUmUliDhWwoLE4GBUx3Sfl+l/1H3f9dTb8V3+padpcEukJC0rXkETebJsG1pVUj7jdc4PHAJI5GKypde1TTNQ1y5ayW5tbMxSXAN4R5S+UpYRDadxHJ52A8dycdJqmmx6rYG2lkki+dJEkiI3I6MGVhkEcEDqCKrS+Hreez1O3mnuH/tOMR3EhKhv9WEyMLgHAz0xn8qF/X4D0vqZF/wCPbOy1ia032Pl20qRTedfrHOS20kxxYO8AMM5IPDYBxzu6rqTaetvHbwC4u7uXyoImfYpbaWJZsHACqTnBPoDUJ0MpqT3dnqd7aLK6vNbxeU0crAAZO9GIyAAdpHT15qxqmlx6pDEryzW8sEglhngIDxOARkZBB4JBBBBBPFHQRn/2zqq6lZ6c+lW4up4pJpcXpMcao6rw3l5YkNkDaPQ461Wh8X58QS6XLDaSOqTMqWd8J5wY8fK8QUbCR05PIxWra6MsF5BdzXlzd3EMMkPmTFMuHYMSQqgZG0AYAGO1ULXwjDavARqmoOlrHJFbRs8YECuMHBVASRxgsSeOvXJ0+8Opm3PiK91Hw7De28dur/b7VFSxv/NJzIu6NyVXY3OCpz1rf0jVLm+nvLXULSO1urN1V1in81GVlDBgxVT6jBA6VXTwvBl5Lu9u7u4kmhla4l8tWPlNuRcIirjOe2Tnr0xowWEVvqF3eIzmS72bwSMDaMDFPp/XZC1v/XmWqKKKQwooooAim/1kH++f/QTRRN/rIP8AfP8A6CaKAC3/ANUf99//AEI1LUVv/qj/AL7/APoRqWgAooooAKKKKACiiigAooooAKKKKACiiigAooooAKKKKACiiigAooooAKitv+PSH/cX+VS1Fbf8ekP+4v8AKgCWis7W9Uk0mwSeG2+0ySTxQLH5mzJdwuc4PTOaytY8WTaHcW0eoQaahkEfmR/2mBKSz7T5UZQGQDrk7c88UbgdNRXJ/wDCTX2m3HiK41iO3Fhp86JCUuPmG5I9qnKKACXyWLcEkcgZq/4d8TRa7PdW4exaa2COTYXouoyrZx8+1cHKnIx6HvQtQehu0VzN34qvLa5u/L0cz2tpeJZvItyBIzOE2lUK4xukAOWGOoz0qdfEN0lhqTXlnZ211p8qpIsl9iDayqwcylAQMNz8ueO9HS/9f1qHWxv0Vzej+L01M22+GBY5p5rYz290JovNQblCttG4Mm454wVxir8GpSaj4ZlvxEbfzIpHhw+Ts52N0GCRhsds0pPlVxpXdjVorkNP8VXGnaPZya9Z+XA2mG7S4W582R/LRS29SBhjuyMMwPciqt34zGp6DrENvPZR3UVg1xE+m6iLgqOh3FQpRgSPUc8Hiqa1sSndJnc0Vzl14jv4rjU1tdIWe30sr58rXWxnUxrIfLXacsAx4YqOnPJxp6lqyafpIvY4muDIUSGJTtMjuwVBk9Mlhk9hSGaFFchr2v6xBouqW5sre01GG2WVGivGdDGxKllYxg7gR0K45BzVK6m1Gy1K7jvYGNnpekfafLi1q43EsJM5faC5JTALH5QAw5OADSvod5RWL/bF7PfPbaTp8VwlsIxcyT3Rj2llDbUGxtxCkE52jkcnnFGXxL9g0l7mKOziUXtxAW1PVDCmUkYcOyscnBIXGAMjIwKHoJao6iiuQbxM7zW+rW8U0kEuim7W0DnG4umM4z0ycsAcDPWug0bUJNT01bqT7JhydrWV19oiceofaue46dqdv6+bX6Cv/XyuX6K5G913Ur1NNuLa0EGm3GowpHcJdHzXXzMfNHtACtg9GY4IyBk4dB4+sp9ZW1D2Age5a2XF+puQykjcYMcKSpAO4nBBwMnCWq/ry/zHs/68/wDI6yiuYuNfvJ/D11qkulqumG0a4hdL5kndeCuQqjZuHOQxI71B4m13UW0PXP7ItB5NlC8cl19qMcqSeXuJjUKchdw5LKc5wDgZdhrVnXUVyWo+PLPTdTmtGex2WjIlx59+sU5LAEmOLB34DDuuTkDOK6DUNR+wS2QaIPHc3AgaTfjyyVJU475IC/8AAqRNy7RXLx+LDqOnsLe0aKZ3njwZeUjWPesvA7hozjjG8c8VHpOvX39m2NvqtiVW50wzxTrdlpJNiLuD8Aox3ZBDN9QaV9G/66/5FW1SOsornbfXby6ht4dF06O5kWziuJhc3jIIw6/KofYxduDycdiTzVKw17UbNp2ubPz7E6s9qbh7r94m6Xau1NpBQEqPvAjnAwOat73L/W6X6kp3jzHX0Vk+IdbOh2sEoigPnS+WZbqfyIIuCcvJtbbnGBxySB3rK1jxvHpNyLaVdOS4jtluJ47nUlh+9nCREqfMb5T12jleeeEM6uiuduPE87pdT6Pp6XttZwrLO73PlMdyeYFQbSGO0gnJUcjrUF14vuoY7meDSPPt7O1hurhhc4bY4JIRdvzMADwSoPqKA7HU0Vzkvit9Pj1JtasVtTZW8dyoiuBJ5iOzKoJIUK2VwRyBn7xqpD47SSzu2SGxvLi2aDEenaitwjiWQRj59q4YHPBGOnPPB1sB11Fcjq3iPWYdL1OOOxtrXUbIwt8t0ZI2jkbAYMY85yGBBUeua0Br92PEEOlS2lnFKY0aQSXpVnyCW8lTH+9VccnK/SjrYDeorC8Qahqtnqmiw6XFbvHdXTRzCaYpuAidgOEbA+XORzkAdCSIm8TXQD3i6ah0mO5+zNcm5xLw/llxHtxtDf7YOATjoCA9DoqKztWultp9NDxyOZrxYl2TMm0lGOSB94cfdPHftWPD4r1K4NoYtDXy76WWC2Y3n/LRC3L/ACfKhCMcjce22gDqaK5seKLqS0sfI0tXvLq7ms2hNzhInj35O/byuU6gZwehPFLJ4nvEjjhGlodRa/8AsLwfasRq3lGUMJNmSu3b/CDyeDjBAOjorm5/E17DFdXY0uJtPsH2Xc32shwVx5hjTZhlXnklScHjpm0/iEq0sP2Qm6W+W0SLf98MAwfOOmzLHj+EigDaorlNN8eWeo6xBaRtY+VcyvDCEv1e4DKDy8IHyqdpwdxPK5Aycbutaj/ZGh3moCHz/s0LS+UG278DOM9qOlw62L1Fcvc+KNWtmvo30KPzbK3F3J/pvymE7sYOz/WZRvlxt4+/U954hhs9RnKW8ssjWts0Q88gSNLI6Iu0/KvPVuuD3wKA/r+vvOhorkNb17Ul0rWbS4sxZXdrZJcLJa3ZkDbnYAKxVCPudwOT6cl2s+I9YttJ1qNbGC0v7Sy+1Qut15ilDuGeY/vLt+7gg8fN3oHbWx1tFQ2b3ElnE17HHFOVy6RSGRQfZiqk/kKmoJTurkU3+sg/3z/6CaKJv9ZB/vn/ANBNFAwt/wDVH/ff/wBCNS1Fb/6o/wC+/wD6EaloAKKKKACiiigAooooAKKKKACiiigAooooAKKKKACiiigAooooAKKKKACorb/j0h/3F/lUtRW3/HpD/uL/ACoAi1DT4tShijnZ1WOeOcbCB8yMGA5HTIrN1DwtDqF1cyNqF9BFdsjz28Rj2SMgAU5KFh91eAwHHTk53KKAMmfw7b3Fxfu9xcCO/CmWFWUKJFChZFONwYBV744zjNWtPsp7JHFxqd1qBYjBuViBT6eWi/rmrlFAGY+g2rpdKZJsXV5HePyOHQoQBx0/dr+Z5qO88OW93LPMt1c2881xHcCWIoTG6LtGAykdPUHr9K16KP6/r7gOU1Pw1IdLOlWv2y6a+uxcT6hLLGpgI27m+XackAgBVxzzgV0z20b2bWoGyJozGAnG1cY4qWijpYOtzKfw5YywWcM3mSRWlq9oqMw+dGVVO7A64UcjFR/8I80ul3Wn32sahewXMPk/vvJDRjpkFYwSfds1s0UdbhsrHMf8IzPeavrL3V5eW1neTx5hhdNtzGIUUhsqWXkMDtKkj8K3L/TLfUdNaymDJEdpUxNtaMqQVZT2IIBH0q3RR0sBinwzDNa3kV/f3l7LdxiJ7iYxh1QHIVQiKo5JOduTnknAxYvdCtr+S/eZ5VN9Zizl2kcJ8/I46/vD1yOnFaVFALQyZNAX7f8AarTULyyLhFnSBk2zheBu3KSDjjKlSR34GIG8KwrOk9pqF7aTK87GSIxksJpA7r8yEAZAwRg8da3aKA6WMSHwvb2ttbRWl5eQPa2YtIpkdd4UMrZ5UgnKjqMEZ4q7pelx6XDKqzS3Es8pmmnm27pHIAyQoCjgAcAdPXJq9RTv/X4gYC+ErZZYAL+++y21yLmC03p5cThi3B27iMk8MxAzxjAxbttDNnetJbaleJatI0hsSImiy2S3JQuBkk4DYz7cVqUUgMFfCkK6fPp39pX7afLA0EdqWj2wIf7p2bjjoNxbAo1Lwlbal9ujN/fW1tqC4ureB0CSNt27slSwOAvAIBxyDk53qKAMp9DI1J7uz1O9shKVaaGHymjlZQBk70YgkAA7SOg781Z1bS4NZ0yWxumkSOTad8TYZCCGDA9iCAauUUAtNjKHhyxGpTXqeYry2n2TYpG1E7kDHUgKM+iil/sC1MdknmTYs7V7WP5hyrKqknjrhRWpRQ9VZ/1/VwWmqMQ+GYkMDWOo31i8Vslq7wMmZo0+6G3IwyMnlQDyeemJ28P2rWb2xkm2Pei9J3DO8SiTHTpkfXHetSind3v/AF3DpYp6jYS30aCDUbqwZCcvbeWdwI6EOrAj8M1QXwvFbCAaTqF7pnkwJbn7OY28xEzt3CRGGRk8jB5+mNuikBx/iPR7ye6vU0m21TdqEAjneKa3S2lbaVDSbj5q4HUxgEgDGa2E8N2osru3eWY/bLWO1lIIGFRSoK8cHk9c1sUULQOtzNu9CtL24upZzKTdWyWzhX27VVmYMpHIbLnnPYVEdBaaxe11DVr6+RpYpVaYQqUMbhwBsjXglRnOfbFa9FAGXe6Ba3z37SyTK19DHE5Rh8mwsVZcjrls85HA4qOTw99ouYJLzVb65ihdJfs8nlbHkTG1zhAwOQDhSFz2wSDsUUdbgUdT0tNS+zMbia2ltZvOilh27lO0qeGUgghiOnftVM+GIPtLFb28Wzef7Q9gGTyWk3bic7d4Bb5iobaT2wSK2qKAKt7p8V9JavKzg2s4nTaRywBGDx0+Y1XttCtrWGyjjeUiymkmj3Ecs4cHPHT94fTtWlRQBzV/4bk+0aamnT3MSR3893LcI6b4jIkhyAwwRufGCDx19avQeHLaEW7PPcTTQ3ZvGnkZd80hRky2ABja2AABjArXooAxbjwzBPc3DC9vIrW6fzLmyjZPKmbjJOVLjOBkKwB9OTm02i2ra8mrkyeekXlBN3yd8NjH3gGYZ9Ca0KKAMeHQZbPzFsNXvYoGD+XassbxRFs9Ds34BOQN/HTpxVq60mK80F9KnlmaKSDyGlL5kIxjO45yfc1eooAz7nRre6kvXkeUG9tFtJNpHCDfyOOv7w+vbiqOq+HbWW1nl8q8uJTbwwolvIiyKYnLo6FsAMGbPJxx07HeooHf+v69DkdN8O3WoS6rNrRvo0vYIrYfapITOQhZixEQ8tR8wAA9CTya3L7QrTUJbt7kyH7XafY5FVgBsyxyOM5+Y1pUUC21IbSB7a1jhkuJblkGDNKFDN9doA/ICpqKKA2Ipv8AWQf75/8AQTRRN/rIP98/+gmigAt/9Uf99/8A0I1LUVv/AKo/77/+hGpaACiiigAooooAKKKKACiiigAooooAKKKKACiiigAooooAKKKKACiiigAqK2/49If9xf5VLUVt/wAekP8AuL/KgDJ8V3NxaaVbyWfmGX7dbLtjfYXBlUFc+hHBqnc+MG02zu/7XtLe0u7e4jgCm8HkMZBlWMrKu1eucrkbTgHjO7qGnxalDFHOzqsc8c42ED5kYMByOmRVS78P211LdTedcRTXDxyCWJgGieMYVlyCPqDkHkEYOKOnz/DQOvy/zMWHxN/bM2l/ZpoFaPVfs9x9hu/PhkH2eRxhwBuHTggYI9s1btPE95PHb3c2lLDp81ybbzRdbpFbzDGrbAuNpYAZ3ZGenGa0V0XcLQ3uoXd7JaXP2iOSYRKSdjJtOxFGMMT0znvWXofhiWK0tjqd1dlYbiSdbFnjMSv5jMrZC7j1BALEA444GH1/ryB/p/mX9Vnli8QaJHHI6pJJMHRWwHxExAI78+tZMHjnedQR4LCWSytvtTLZaiJ8IGw4c7BsZRzjkH1rf1LSLbVJIWujJ+5EgARsZDoUOe/Qnpiqlh4ZitLgzXF/eX5+ym0C3PlhRESDtwiKO3X/AOtU63Dp/Xl/wSCXxWEvtQtY7Mu1s0KW7mQBbppGCkDg42sQCeas+IvEMHh+3t2la3Et1L5URurgQRA4LEu5B2jAPQEkkDHOajtvCen2q6UEe4b+zN/ll3BMhbkl+OecN25Aq/qemJqUcX+kT2s0EnmQ3FuV3xtgg/eBUggkEEEc+uKb2DqYdr4wl1JbOPSrK1u7i4eeNil8DAjRbcnzApLKQwIIXPIyBzireavqOtS6FHBbC3huLmZLuMX7wsHi3hlDouSoKkjkbsAEAE10UOkBLm0ubm9ubu4tFkVZZhGC4fGchFUcbRjAHvmmW/h+1tpLV45Jiba4nuE3MOWlLFgeOg3nH4daA6FG28TXUwtLyTTY49KvZhFBcfacy/McIzR7cBWOOjk/MMjrhsPie7ms/PGmRjzrp7Szj+1fNNIrupLfJhFwhbPzHAPBOM2rbwxBbTRYvbx7OCXzYLF3TyomzkEELvIBJIDMQOOOBiRvDlqdKWxSa4j8u4a5inRgJIpC7PkHGOrEYIII4OaOn9bf57h1/rz/AOAZ2p+LZdHa2ttSh0y0vrgO+LnU/KgCKQMiQx5LEsMLs7NzxyL4tuL6K0Oi6bHdtcWTXfz3YRV2sFKbgrZOScEcHHYc1ek8PvIsEg1nUVvId4F4vleY6tjKFTHsxwv8ORj3ObUelIt7Hdy3E086Wpti77RvBIJYhVAzkdsD2pa2/rs/+AH9fj/w5k2vi4uIri/sDaWNxYSX8Epm3SeWgUsHTGFOHBGGb8Kow/EOCW1u5BHYzvDZPeRRWeorOxVcZSTCjy2+Zf7w688VvJ4dslSyRzJIlnZvZqjkYeNggO7jrhB0x1NRf8I2X0y50+61fULq1ngMAjm8rMa9MhhGGJxxli3vk1Wl/wCvP/gB0Rnar4i1e30zWI/sEFpfW9g13buLrzFK/MCT8nDrjO3BU9N3eugtJ7ttISe8gjFz5e5ooZdyk44AYqvX3AxUN5olrfzXElwZD9os2s5FDYBjJJPbOeaWTSEuNAk0q8uZ7mOWFoXmfYsjKRj+FQuce1Lp/Xn/AMAOq/rt/wAExLLxzFcRah5sdnNJZpEy/wBm3wukkMjFFTdtXa24AYI7g5qa58Vz6U12uu6dFbfZrT7Vvt7sSI4L7QoLKmDnuQBz1p1z4Xi+y38l3cajq01xbpEQXhSQCNiybMKihgzZBPoKqaZoF1qF9f3OtrfrHParar9tmh884YtuHkfIgBIwR82ck9BR1/r+tw/r8v8AghD47SSzu2SGxvLi2aDEenaitwjiWQRj59q4YHPBGOnPPF3/AISa4t/tlvqOnJHfQPCkUNvceYk3mnCYcqpHzBgcjgDPNWjoLTWL2uoatfXyNLFKrTCFShjcOANka8EqM5z7Yp174etL+a7lmeZZLpIl3RuFMTRMWR0OOGBbPORwOMZy9A6FSTV7i01C3/tuyS1cRXEm62vXkjCIqEkgqu48kcjjBx1rPsfH8F4sxSG0uH+yPdQwWF8tzKQuPkkRV+R/mHA3DhueOdqPw+hmimvr671CSNZU3XHljcsgUEEIijGF7AdTnNJbaFNa2r2665qbwmPy4lcwkwY6FW8vcSMY+ctnvmkHYm0PUpNW04XT/YirMQj2N39pjYDuH2rznIxjtWFe67qV6mm3FtaCDTbjUYUjuEuj5rr5mPmj2gBWwejMcEZAycb+l6UmmLO32ia6nuZPMmnn2hpG2hRwiqowFA4A6etZ6+ErZZYAL+++y21yLmC03p5cThi3B27iMk8MxAzxjAw/tJ+gvstepSt/Hlpc60tnE1gYpLlrVB/aC/aN4JGWh28KWXAO4nBBx6V7Xxfe2Gg/adeWwjmm1Ca1t2e98uP5ZJM73MYCqoTAIDFuOATiugtdEayvmltdTvUtmkaQ2P7postknBKFwMknAbGenHFQ/wDCMQiGSOG/vIf9Ka6gZDHm2dixbZlDkNvbIfd17UuhX9fn/wAAoW3jGTUIbRdMtLW7ubi4ltm8u+DQIyJvyJAh3KRjoueenBpW8V6gJCU0QSW/25rAOt2NxkBIDbdvCZABOcjnCnvrx6P+9sprq+ubuazd3SWURgtuUrhgiKOAeMAfjSJoVskWwPLj7ab3kj75Ytjp0yfr70dfL/hv+CLp/Xn/AMAzv7eee2T7dZGG5h1SOzkjgu22hiVIYMApdcMDtIGehpLXxReTzW0k2lJFY3F5JZiYXW6QOrOobZtxtJT+9kZ6Y5rQbw/avJKxkmzLfJfN8w++oUAdPu/IPfrzRHoFrHZ29usk2y3u2u0JYZLl2bB46ZY/pzQtl8v0v+one7/rv/wDI03x5Z6jrEFpG1j5VzK8MIS/V7gMoPLwgfKp2nB3E8rkDJxparr7aZPdQ/ZPOkS0E9uqygG4fds8sZHHzFBnn7/tzLY6I2nXW621O9FoGZlsW8pol3ZOASm/AJyBu46dOKlvtHttRv7G7uN4ksXLx7TgNkdG9RkK31UUdEPqzn9X8SS3eiNLpsUq7RYzb45drFpZlzF2GdvXJx81Wbnxc+mW1/8A21ZwWtzaNCFVbvdFIJTtQmRlXaMht2V4AyM9Kux+F7GKxubRHn2XF4t453DIZXVwo44UbQMenfvUt54ftb2e7mklnSW5SJd8bAGIxMWRl46gtnnIOOmM5On9eQGPb+NjdwhLK3sry7+1pa7bTUBLD86FlbzAnT5SCNuRg4B4y288e29lqclpcf2chtpI4rlX1FVm3sFJ8qMrmRV3DklScHA452l0Qstv9u1K8vXtrkXEbzCJSCFK7fkRRjknpn3obRGXU5Lyz1O9sxM6yTW8XlNHKwAGTvRiMgAHaR09eaFvr/W3/BDp/Xn/AMAr+KL/AFOwt7FtIjgd5b2KKTzpSgKs2Mfcbr0J6jtmorvxHewtfTWulxz2emnF3Kboq5IUO4jTYd+1SOpXJ4961NV0xNVs1geaW3ZJUljmh27o3U5BG4EHp3Bqjc+GIrm4uHGoX0MN3j7XbRMgS4IAUk5UspKgA7CucUL+vw/4Idf68y/f3/2XSZL2EQuFQODPMIowPVnIO1QOScHjsa5yDxM2tJp8lvJDGY9XFtMbK786KUeUzcOAu4cjgjqPaui1PS49UsVtmllt9kiSRyQ7d0bIwZSAwKnkdCCKpW3hi3t38yS8u7mY3ovWlmZMtIIxHyFUDGB0AHP5Udfu/Nf8EOn9djN0nW7/APs2ytLO3GoX85uJWa6uTGiRpMVyX2sc5KgADseRirkXiW4u0t7ew09H1KQyiW3muNkcPlMEcmQKxI3EBcLznOBziU+F4I4bYWV9eWc9qZNlzCULlZG3MhDKVIzg8rkYGD1yreGbdYbb7JeXlpc2xcrdxMrSP5hzJu3qynccH7vBAxjFH9f1+oFLV/FsuiTWqX9vp8RlWIyQvqQE2Wba3lx7P3gX1yucHiov+EmvtNuPEVxrEduLDT50SEpcfMNyR7VOUUAEvksW4JI5AzVy48IxXJlD6rqIjuPLNxGGixMyAAMxKbgflGQCAfTk1an8O29xcX7vcXAjvwplhVlCiRQoWRTjcGAVe+OM4zQPQg8O+JotdnurcPYtNbBHJsL0XUZVs4+fauDlTkY9D3rdqnp9lPZI4uNTutQLEYNysQKfTy0X9c1cpskKKKKQwooooAim/wBZB/vn/wBBNFE3+sg/3z/6CaKAC3/1R/33/wDQjUtRW/8Aqj/vv/6EaloAKKKKACiiigAooooAKKKKACiiigAooooAKKKKACiiigAooooAKKKKACorb/j0h/3F/lUtRW3/AB6Q/wC4v8qAJaKztb1STSbBJ4bb7TJJPFAsfmbMl3C5zg9M5rB1Tx5FpN3LbXi6bHNaIjXkcmpBH+YbiIVKZlIXnnZkkAewtQOvorCj8RtL4huNPEVrHDbrudpborOybA3mLFs+aPJ27t3UHjiorTxJeSGxnvNLS2sdRyLWQXO+TJUunmJsAXKqejNg4HvR0uB0VFYtp4h+1W+hy/Zdn9rReZjzM+V+6346fN6dqp2Xii/vtOsZotJhW41Jd9pC14cbAuXaRhH8oHGMBicjgc4bVnZhudNRXJ6r41/sm4W0u4tNgvUg8+eK61NYVwSwAjYplydpPIUDIyRmrkXij7XrVtZ2cNt5NxDHMj3F15UsqsN2Yo9p8wKOvzDHP4rcNjoKKRjhSQMkDoO9chF473QakWt7G4msbZbgJYaiLhWyxUozbV2MCBxgjnrR1sHS52FFc8/ia4spL2LVdNWGaCKOWFILjzRMJHKKuSq7W3YBHI56mk0+81SXxjJBqkCWoWwDrHBdGaJj5mN3Kqd3b7vpyaN2geiv/X9anRUVzmreJ7rTrrUFg0r7Tb6bFHPcSC42sUbJOxdp3MApOCQD61Yt9dvGn1C3vNPit7i1tluY1F1uWRG3gbmKjYQUOeoHYmgDborldO8apeF98VnIkN1FBNPY3wuIlWUfIwbYMnfhSMDGc5rd03UG1H7Uwh8uGG4aGN92fN28M2McfNuHf7uaP6/r7wLtFchoWv38FnYjUbXfaXN1NAt211ukDB5CMpt+7hcA7s9OBRpvju11i4WCF7ELdwyPb+RfrLOu1dw8yMAeWSMngtgjBwaV9Gxrc6+iuS0jXtUksdPsbKwS+uBpVvdyXFzeGMNvBBBO1mLErnpg85IwM6txq01z4Pl1XS4tszWpmjSdtuw7c4JAbkc9iCR+NOfuXv0FH3rLubFFcfDqmvSalpBW2hmuZ9Mklkg+2FISd8WHLbOuCeAhwSRnHNOufHtvFbWJRbK3uLq3Nw0eo362yIAdpUPtbc27OMDGASSOMt6f16/5CTv/AF6f5nXUVlNr0TeEX162jMsQs2uljLAbgE3bcjI7YzzVCfxPe2NvNNqWkrCpspbu3CXW8sI1DFJPlARsEdC4688DKehSV7W6nSUVzfiTWpIdMvbaBWilk0i5u0nSTDRlAAAPf585z2qC91zUY9IuYb2y+xPNp001rNFc+Y4KJkh8KNj/ADA/KWHB54GU9E3/AF1/yBK7Xn/wP8zq6K5ldeWykmUwTT3At7QIDcEiaSUsqrg8JyMlh1HXOK3NPlv5YXOp2sFtKHwFguDMrLgc5KKfUYx2qmrNolO6uWqK5aHxXqVwbQxaGvl30ssFsxvP+WiFuX+T5UIRjkbj221NJ4pkTQUv5ILC1kFzJbTLfagIYY2RmU4k2Hdkrx8oyD2pdLjOjori08XefqWmXcEcsjahprNBYRygiSXzFHXpgDdl+y5PtU+reO4NIvZba4/s9JLNEe7SXURHJlhuIhQrmUgeuzPAHfAHU62iqGq6n/Z9pE8EP2ma4lWG3j37Q7t0y2DhQASTgnAOAelc4fEtzpN3rdzrkccBhFrHHB9s3QhnLAEOwXapyNxKgjB4OBkA7KiuWsvGiX8bQ2kVld6gbhYI47S+EsDkoX3eaFyAFVs/LnI4ByMz3Gt3Nlchr7TH+2JYTzmG1unlVgjqAqrtAYncDnbkcij+vwuH9fodFRXOQa8byHSriaO1kF1emGKTT9RaWLHlO24sFXd90jaRgHnqKW28TXUwtLyTTY49KvZhFBcfacy/McIzR7cBWOOjk/MMjrh21sHS/wDX9aHRUVzdr4ovJ5raSbSkisbi8ks1mF1ukDqzqG2bcbSU/vZGemOataBr0utyXG6C2hSFtuxLrfNGckbZY9g8tsDOMnvS3A2qKwbrxJJaXmqmWzRbDSk33FwZ/nI8vfhE28ntyw7deQM+z8e2063AkFjNLHEssUenagtzv3OECMcLsbcyjuOeCcGjcDrqKwYtd1BL25s9Q0yCGeGzN0rR3u+N+SNu5kUr05JGB71Rt/HAn02/njt7O7ms54ItthfieKQSsqgiTaMEEnII7deaN/687AdZRXNXut6s0N7Ba6ZA01pBuu2S9IEbMpIWImMb2C4PzbByOepFWDxCdP0lriSCa6nt9Gtbpy1y370tuGMHgNlSS3U5GelC1v8A13/yD+vy/wAzr6K5yTxPc2c1zb6lpixXKLE1vHDc+YJvNcxqCSq7Tu68EAcgmrmm6te3GsXGm6jYRWs0EEc++G581HDs4wCVU8bO4HX8Sbga9FFFABRRRQBFN/rIP98/+gmiib/WQf75/wDQTRQAW/8Aqj/vv/6EalqK3/1R/wB9/wD0I1LQAUUUUAFFFFABRRRQAUUUUAFFFFABRRRQAUUUUAFFFFABRRRQAUUUUAFRW3/HpD/uL/Kpaitv+PSH/cX+VAEWoafFqUMUc7OqxzxzjYQPmRgwHI6ZFVbnRGk1F7yz1O9sHl2+clv5TJKV4BIkRsHHGRjIA9BWpRQBlSaCk+qpeXV9dXEcUhlhtZNnlxOVK5BC7+jNwWI56dMRWPhmCylt8317cW1pn7LaTOhjg4IGCFDNhSQN7NgH15raooAwrDwpBYXNnIL++mjsAy2sErpshVlK7eFBYAdCxJGOvXMn/CNW6aXp9nbXV1bPpyhba6iZfMUY2nOVKnI6gqR36gGtmigDGk8Pu0kc8Gs6jbXQi8qW4j8lmnAJI3BoyuQS2NoHUjpgU+60H7ZepNcajePFHIkotW8sxeYmNrfd3jkA4DAE9uTnWooAoppitoP9l3c81yrW5glmdzvkyuC2fU81m/8ACIQSRzrealf3bTWwtS0piXZGG3AKERRnPfH9K6CijrcN1YzL/QLPUp7iW5Mubi3WBgj7doVi6sCOQwJzn2FN0/QVstTfUJtQvL66eEQGS4KD5A24DaiqByTzj61q0ULQHqZtzodtdHUjI8o/tKFYZtpHyqAwG3jg/MeuaZqHh611GS6kllmR7m3jgYow+QI7OrDIPOW75BwOOtatFAHMahoE9vpmopbteaveaoqwvLcSRIIsAhZDgKAFzn5QTwMDOTW9p1kmnabb2cZLLDGE3N1Ygcsfcnk+5qzRQBlx+H7SOzs7YPMUs7hrhMkZZiWJB46fOf0pthoR08GGPVL6SzCNHHaSeUUiU9AG2b+BwMsePWtailboByyeFriPWNtpf31jaQ6ZBaRzwPEWk2NJlSGVhnBU7gAfQ9RW/HptrDpQ02KPbaiLyQgJ+7jHXr+NWqKb1VmGzujLsNCjsZrWZru5uZbW3a2R5tgyjMp52qBkbAB7dc9agHhiKCG2XT9RvbGW3RoxNCYyzozbtrB0ZTz0OMjnnk526KNw2MzW7K4uvCeoWMBa5uJbKSFC5VWkcoQM4wASfoPpVa38MQmNv7Tu7u/32zWyx3LJiGNhhlXYoJzgDcxZuOvXO5RQO+3l/X6HPjwhA6TC81PULxpbKSx3zPGCsT4zgKgGRj7xGTnnOBiRfC8LLMt5qF9eb7Z7WIzsn+jxsMMF2oMkgD5m3Hgc9c7lFD13Ft/X9djHn8M2VwtxvknDTRQxh1cBozCSUdTjhgTnnI4HGMg3rCzks4GSe+ub52bcZbjYG6AYARVUDj0q1RTuFjNttCtrWGyjjeUiymkmj3Ecs4cHPHT94fTtVZ/C8IaOS01C8s5o5p5Vli8tj++bc64dGGM4xxkY69c7dFIDnx4M037LDA0ly32e3MMUhkG9MuHEgbGQ4I4P86sHQJFuftFvrOoW8rqgnaMQkXBUYDMGjIDY4JULnj0FbFFAFPU9Mi1W1WGWSWFkkWWKaFgHjdTkMMgj8CCD3BrOTwrb7L0z317PcXhiZ7l3QOrx8o67VCgjjjGDjkcnO7RQBkSaA1xZpFd6tfTzwzCaC7YRLLC2MfLtjCkYJBDKc5NH/CPhmSV9TvnukgkgF0WjD4d1bdwgXIKjHGMcEGteigDGt/DVtDLHNLdXNxcJd/a3nkKBpX8sxjcFULgKccAdB75S28MQW00WL28ezgl82Cxd08qJs5BBC7yASSAzEDjjgY2qKA3MtPD9rHZ29ssk2y3u2u0JYZLl2bB46Zc/pzRp2hrY3xu5r67v5/K8lJLopmOPOdo2KueQOWyeOvWtSijYCgdGtXbUfNDyLqOBOjHjAQJgY5HA9aoXOgv/AGLd2t5fanq8bxgJExgWRSpypRgqfMCAcseoreopDOOsPDl3ql3fz6y2oxJNbJbRtdywGf5X37sRAxgA4x1J53DGK1V8LQlbn7Xf3t3LdSQSSSymMNmF9yABUCgcYPH681uUUxdbmPqHhyK/uriZL68tBdxiK6jt3ULOoBAzuUlTgkZUqfyFMfwrZSWskBluNsllFZEhlzsjJKnp975jnt7Vt0ULQHr/AF/XYxNd0O3vUubp4ruedoY40jtXRXUpJvR0LkAMGOeTjjp61vDemX8er32p6kLtWniigQXskTTMELksRD+7UfPgAehJ5NdJRQtAeoUUUUAFFFFAEU3+sg/3z/6CaKJv9ZB/vn/0E0UAFv8A6o/77/8AoRqWorf/AFR/33/9CNS0AFFFFABRRRQAUUUUAFFFFABRRRQAUUUUAFFFFABRRRQAUUUUAFFFFABUVt/x6Q/7i/yqWorb/j0h/wBxf5UAV9R1D+z2tC0QeKe4WB3348vcDtOO+W2jHH3qx7fxWdQgKQ2bRyvcywgGXkRLGXWYYHQrswPVhzWzqumw6xpc1jctIkcoHzxnDIQQQyk5wQQCPpVZPDtjFqhvo/MV/sgtFjBGxUHcDH3sYGfQCpabTX9f1/n5DVrp/wBf1/kY+ga9fnS9Kg1WyIS807zIrkXZeSRljUtvGBtJBJBDN74NWbTX7u7s7OLRNNS4m+wxXUq3V6yCNXB2rv2MXY7W5IHTJPNaEegWsUOnRLJNt06AwRZYZZSgTLcdcDtiq/8Awi0MUdsLDUb6xkgtUtGlgaMtNGn3QwZCMjJ5AB5PNaNpyf8AXf8A4BMVZL+u3/BMyPXtR0+91iaSz+02MGopHJI91holZIhiNNpBALEkEr14zW9reqSaVaQyQWoupZriOBIzJsGXbGScHgUyXw/ay2t/btJNtv5xPKQwyGAQccdPkHXPerV/p8WoJAszOognSddhAyyHIB46VPZen6XDv8/+AY0/iLUkW8eDSIZo9NUfbWF4Qd+wOyxDy/nwpHLbMk4puteL49IubbIsXt5xEw82/Ec7h2xmOLad4AOeo74q5eeG4ru6uZY7+9tYrzH2u3gdAlxgbeSVLKSoCkoVOAO/NRXvhO3vJ7hhf3tvBcmNpraExhHKABTkoWH3V4DAcdOTk/r+v0GzP1/XdRm0q+k0y0C2cFwLdrtbopLuWQKxVNuCoORncDweOmbs3isQTQxPZEyNqDWkwWUHyVBAEp45B3xcdt/ty+88JW14bhDf30VpczCeS0jdBGZNwbdkqWGSASN23rxzU9z4Zsbq61G4dplk1GAQyFWHyYGN68cNwvJz9xfSkulw7/1/X/AKV/4re00lL9YdPiikmlRGv9RFsjqjEKVYoclgMgYxjvSx+L45NNmuxaPn7FFeW0e/m4WQYVRxwd/y9+oPerMvhmEiz+x315ZG0tzahoDGS8Z25Db0b+6OVwfeqS+Hf+Jro1tHbTJY6LDtFzLIh+0gKoRMA5OGUMSQOVGM54a7f11/4H5B5/1/X/DmnrWryaPpC3bQRs5dEbzJikUWTyzybTtUf3tvp0rK1HxomnLZwyf2VHdXEBuD9o1QRQbM4GyQoS5PUfKBjOSOM79/ZyXsCpDfXNi6tuEtts3dCMEOrKRz3FZq+F4beG3Gn6he2M0KMhnhMZaUM29tyujJyxJ4UYyQMA4o/r+vmBDB4om1NY30OwS7j+yx3U5luRHtV87VXCsGf5W6lR0+bniuPF17cWsE1ho6zF9MTUZFe72bFbOUHync3HHAB5yV4ymuaZeJemTTYdXmuJrVYZ57aa2jjuMZ2iXf8ynk5aNQcNx0AGhpXhqKw0+3illdpU02OwcqRtKqDyOM5yTQ9nb+t/8AgDVuv9bf8ErJ4uMKSz6pYfZLX7A2oQss292iXGQ64AV/mXgMw568VTh8fxSWl9II7C5mtrb7SkVhqK3G5cgFWIUbGBI9Qc8Hg1uP4fspTF53mSJHZNZbGbho225zgZz8g5GO9Rf8I80umXFhfaxqF7BPGI/33khkA7grGCT/AL2ael/68/8AgE62/ry/4Jl6z4j1i20nWo1sYLS/tLL7VC63XmKUO4Z5j+8u37uCDx83erj+Ib2HVrLTbizsorieNXfzL4oHyxBEOY/3rKBkj5cZHrmr99oVpqEt29yZD9rtPsciqwA2ZY5HGc/MarzeHDdCFLzV9QuIE2GSB/JCTFG3KzYjBBzj7pXoPfKXS435f1t/wRvia/1SwGnf2RHA5mvEikE0xTIOfl+43B9eox3qG68TXcK3l3Fpscmm2EhjuZzdbZPl/wBYUTYQwX3ZScHjpnV1TTE1S2SJp5rd4pVlimh27kZehG4FT3HIPWqM/hiGa4nP269jtbp99zZoyeVM3GScruGcDIVgD6cnJHz/AK2/4IP+vx/4Bc1bUjp1rE0MP2ie4lWGCLftDO3TLYOAACScE4BwD0rnhr+pafe61Pf2W6WFrONLSK73x5kcplGKj+8M5Ucj0wa6TU9Mi1S0WGWSWFo5FlilhYB43U5DDII/Agg9wazk8KW2Lo3F7eXMt3JBJNNKybmaFgyYCqFA4AIAH55NC8/6Wn/BDqiCbXZrDU3W9sQJVhtmuDDePJHGskrpkAqB8uMk4BIPP3RSan4xh04Sbo7eMG8+yQS3d0IIpGVNzszkHaowV4BJYYx3rVudFtbu6vJpzIxvLQWki5GNgLnjjr85/SoD4dgGl2tnBdXUElo/mRXaMpl3nO5jlSpLbmyCuOenTB0/r+v+HH1/rt/mP0LXYdb0lryNof3cjxyGCcTR5U9VcAbgRgg4HXkA1Ss/El3ObC4udMSDTtRYLbTC53SjcpZC8e0BQwHZmwSAe+Nq0t5Le1WGe7mvGGcyzqgZvqEVV/Ssyy8MwWU1vi+vZrW0Ja1s5XQxQHBAwQoZsAkAMzAfgMHX+vn/AMAXQq6Z4ovL2TTHutKS2tNTLJBIt1vcOFLYZNoABCtghiemQM8dJWVD4ftYLXTIEkm26a5eElhkkoyfNx6OemOcVesrX7FYw23nzXHkoE82d90j47se596Ae5PRRRQAUUUUAFFFFABRRRQAUUUUAFFFFABRRRQAUUUUAFFFFABRRRQAUUUUARTf6yD/AHz/AOgmiib/AFkH++f/AEE0UAFv/qj/AL7/APoRqWq8MbMjETOo3vwAv94+op/lP/z8Sfkv+FAEtFReU/8Az8Sfkv8AhR5T/wDPxJ+S/wCFAEtFReU//PxJ+S/4UeU//PxJ+S/4UAS0VF5T/wDPxJ+S/wCFHlP/AM/En5L/AIUAS0VF5T/8/En5L/hR5T/8/En5L/hQBLRUXlP/AM/En5L/AIUeU/8Az8Sfkv8AhQBLRUXlP/z8Sfkv+FHlP/z8Sfkv+FAEtFReU/8Az8Sfkv8AhR5T/wDPxJ+S/wCFAEtFReU//PxJ+S/4UeU//PxJ+S/4UAS0VF5T/wDPxJ+S/wCFHlP/AM/En5L/AIUAS0VF5T/8/En5L/hR5T/8/En5L/hQBLUVt/x6Q/7i/wAqPKf/AJ+JPyX/AAqO3ic2sRE8g+QcALxx9KALNFReU/8Az8Sfkv8AhR5T/wDPxJ+S/wCFAEtFReU//PxJ+S/4UeU//PxJ+S/4UAS0VF5T/wDPxJ+S/wCFHlP/AM/En5L/AIUAS0VF5T/8/En5L/hR5T/8/En5L/hQBLRUXlP/AM/En5L/AIUeU/8Az8Sfkv8AhQBLRUXlP/z8Sfkv+FHlP/z8Sfkv+FAEtFReU/8Az8Sfkv8AhR5T/wDPxJ+S/wCFAEtFReU//PxJ+S/4UeU//PxJ+S/4UAS0VF5T/wDPxJ+S/wCFHlP/AM/En5L/AIUAS0VF5T/8/En5L/hR5T/8/En5L/hQBLRUXlP/AM/En5L/AIUeU/8Az8Sfkv8AhQBLRUXlP/z8Sfkv+FHlP/z8Sfkv+FAEtFReU/8Az8Sfkv8AhR5T/wDPxJ+S/wCFAEtFReU//PxJ+S/4UeU//PxJ+S/4UAS0VF5T/wDPxJ+S/wCFHlP/AM/En5L/AIUAS0VF5T/8/En5L/hR5T/8/En5L/hQBLRUXlP/AM/En5L/AIUeU/8Az8Sfkv8AhQBLRUXlP/z8Sfkv+FHlP/z8Sfkv+FAEtFReU/8Az8Sfkv8AhR5T/wDPxJ+S/wCFAEtFReU//PxJ+S/4UeU//PxJ+S/4UAS0VF5T/wDPxJ+S/wCFHlP/AM/En5L/AIUAS0VF5T/8/En5L/hR5T/8/En5L/hQBLRUXlP/AM/En5L/AIUeU/8Az8Sfkv8AhQBLRUXlP/z8Sfkv+FHlP/z8Sfkv+FAEtFReU/8Az8Sfkv8AhR5T/wDPxJ+S/wCFAEtFReU//PxJ+S/4UeU//PxJ+S/4UAE3+sg/3z/6CaKY6Ms0JaV3+c8MB/dPoKKAH2/+qP8Avv8A+hGpait/9Uf99/8A0I1V1vUW0rR57uKMSyoAsaMcBnZgqgnsMkZoAv0VkQWl/p+69v8AWri8VI2aW38iJY+mfkwoYY7bnbjrk81HF4jkuNMhvbXQtUmScb40UQhmTaDv+aQADnGCQ3tjmgDborETxRb3DWY0+zu703Vut1+5CDyomOAzB2U+vC5PHTpmlYeKJEnmi1C1u5Iv7SktFvFjQRRkvtRDyGP8I3BSMnBOc4Otv63sHS/9dzqKKz9W1ePSUtt9tcXMl1N5EUVuqlmfazD7xAAwp5JwO+Bk1Bc6/wDY7qGO50u+jhlkjiNyRH5cbvgKp+fceSBlQVyevWgDXorm7HxXM9vfS6hplzCYL02tui+WWnbOFQYkPzepOF75wDjX0zU11KOXNvNazQSeXLBPt3ocAj7pKkEEHIJ6+uaFqrhs7F2isaHxF9qW7e00nUJ0tpXg3KsY82RX2FVy4+u44XHfORVK88WzraWk1jpF3JJJf/Y7i3fyg8RHUf6wLk8EEEjHWgNjpqKw28Qw2zXK7L27uPtv2aO2VI97P5auVQ5A2hSSS57HnpV7S9UTU45sQTW01vJ5U1vOF3xtgEZ2kqcggggkYNAF6iiigAooooAKKKKACiiigAqK2/49If8AcX+VS1Fbf8ekP+4v8qAJaKzdcv7iytoI7ER/aru4W3iaUEohOSWIGM4AJxkZOBkdaryNN4c0+61HUtVvdSt4otzRyQxblIPVdip+Rz2/EA2qKxL3xG+n2Ru7jRNSEKRtLOQIT5CA/eb95zwCcLuIHUDpU41xJNXewtbK5uBFtE1xH5flwlhkAgsGPGDlVI5+uADUormPDniiS8tNMi1G1u1lvEYR3jxosU0igkqADuBwDglQDtOCeM6uo6yun39rZLZ3V3cXSu8aW4TgIV3ElmUD74P4euAQDSorIk8QeTqa2cul3yeazpbzMIwk7qpYqvz7gSFOCwUHHWqOl+LJrnQ7S5u9Kuvtt1IyQ2sPl5m25JZcybVAA5LMORx1GQDpaKq6dqEepWK3MSSR8srxygB42UkMpwSMggjgkehIrNtPErahpUV/ZaJqc0U20wqBCrSAgkt80gAAxj5iM8YyDmgDcormz4qlnvtFWw024mttRVzIx8tWiK8FSC4wVOd3B9s1LD4kiW3gS2gv9TuZ5JwkSrEsm2OQqzEkqgUHAGTk5HU5oA36KqabqMOqWC3UCugJZXjkGHjdSVZWHqCCOMjjgmsaDxpb3P2bydK1NvtisbT90g+0FfvKMv8ALgZOX2ggcE8ZAOkorHXxD5+lW99Y6Xf3nnbswxLGHiKkhg29wuQRjAJJ7ZHNQjxZbztbrp2n31+9xaJeIsCIP3bEjkuygHjoTn0zg4AN6isVfE9vPLapp9nd3xuIRcHyQi+VGTtywdlPUEYUEjB46Zu6nqcemRRFopbiaeTyoYIQN8rYJwNxAHAJySBgUAXaKw38UwJDbn7BfNcz3D2wtFRDIkiqWKt820cDOd2OQc45ptl4ttr6e1RLG+iiuJWtxPLGqokyht0TfNuyNpGQCueAxoA3qKwYPFlvPIh+wX0dq9ybX7ZIiCMShygX727BYABgpXkcg5xV0vxRIJHi1G1u3jbUprRb0RoIkPmssaHkN0CjcFIyRk5zQtQ2V/66/wCR1FFZL+IEh1VLO6sLy3jld0hupFTy5WVSxAAYuOFYjKgHHHbNYeJEu9HW/wDsuoWVs8luYZsQsZ1kkVVKjc2FORnIDAHjmjcDforGHiLZrBsLrS722xG8xuJGhMYjT+M7ZCwB7ZAJ/A4fpuvx6jcpCbK7tPOiM1u9wqAToMZZdrEj7ynDBTz064FqGxrUVmNrS/202nQWV1cNFs8+ePy9kO/O3cCwY8DPyqf51Db+Jbe4u40FrdR2szvHDeuEEMrLnIHzbh91sEqAccE5GQDZorCtvFUFzdWUf9n30UOoOVtLmRE8uYBGfdwxZQQvAYAnI464gg8aW9z9m8nStTb7YrG0/dIPtBX7yjL/AC4GTl9oIHBPGQDpKKxR4mt5dPtJ7W0u7ie8LiOzRUEoKHDg7mCjaRgktjPTORUZ8VwubaO106/uri4ikkEESIGTy3COrFnCghjjrg4OCeMgG9RXNr4rkuNX0iOx0+eWy1C1knaUhFaPaUHILgjbuO4YJ5GM81paNrI1qD7RFY3VvbuiyQzTeXtnU9Cu1iR9GAPI4oA0qK5XU/Emoxv4kt4rKWAadYmaC6/dkBtjEEjeSckDHy9jntV+y8SCdngm06/hnW1+0xrJGublBwSgDHByR8rbSNwyBQH9f195t0VzOo+LZ7fR76e30i7jvbOSNZLW48rID4w+Vk2lTyOGzkdKu+INSubLwjd6hCklpcRw+YEdVdozxwQNwJ+maANmisi38QLPJdwvpt9Bc20QmFvIiF5kOQpTaxHJUjBII74plt4ngluVtrmyvLOc3ItmjnCHYzRl1JKMwwQMAgnnjigDaorFfxNAZPKs7O7vZzLLHHFAEBkEZAkcFmVQoY7eSCT0BrRsb+K/0+O8gDiORc7WX5lI4KkeoIII9RR0uHWxZorltV8UzJo2p+XZXumXttai4jFykbFkLYyoRnB6cg88jir/APwlFtD9o/tG0u7Aww+eonRSZo843IEZjnJA2nDfMOOaANqisJvFUUEU7ajpt9YPBD9oMc4jLNFkBnBR2GFyMgkEDtVi98Q2tlcTQGKeaWIRALEoPmPISEjXJHzHGecADkkCgDVoqlpmprqUcubea1mgk8uWCfbvQ4BH3SVIIIOQT19c1doAKKKKACiiigCKb/WQf75/9BNFE3+sg/3z/wCgmigAt/8AVH/ff/0I1HqFjDqenT2VzuEcyFSUOGX0IPYg8ipLf/VH/ff/ANCNS0AY8Onaw0bwajq9vcwGJowUsvLkYkYDO28qfU7VXJ9BxVLUPCbXtlplsbi0misbfyGivrL7RFIcKPMCbwA42nBOcBiO9dLRR/X9feByreDpjpul6f8Ab7YwWEMcaytZZnRl6vFIHHlsQAOjdKvt4d3afJa/asb9RF9u8vpiYS7MZ9sZ/HHatuinfW/9d/0Apahp32+50+XzfL+xXPn4253/ALt0x14+/nPtWFqHgttQ1w38tzZsBdRXMby2O+4jCMp8tZS/yodp4C/xHrznqqKS0dw3OavfCX263vbea4tpIJrsXkCT2YkEcn8QcFsOp6YwpAPXODWloOjro1m8Ih06Jnfc39n2X2VDxjldzZPvmtOihaKyB66nP3Phh5dFlsY7uI+ZeyXTCe38yKQPIzmN03DcvzeoyQD7VXtPCD2Ojm1tLu1hmW/F9EY7LZDG2ANvlBx8vB/iB56nv1FFC0/r0/yB67/1v/mYEvhqbz5bu1v1hvTe/bIpGg3IuYljZGXcCwIB6EHOPTm/pWmyWP2ma7uFubu6k8yaRIvLXhQoCrkkAADqSc55rQooAKKKKACiiigAooooAKKKKACorb/j0h/3F/lUtRW3/HpD/uL/ACoAr6tpq6rY+R50lvIjrLDPGAWidTkMMgg/Q9QSKoXGj6rqWl3dlquqWziePYhtrIxBeckkNIxbp2I79e25RRsG5y/ibwe3iK4mZ7i08uW28gLd2P2hoD83zxEuAjHcMnBztX0q1P4cmuNbtb2S7thHalTGUtNtwoAwU87f9wnJK7eckZreooB67mJa+Hfs1posH2rd/ZUhk3eXjzcxumOvH389+lXp9O87XLPUfN2/ZoZYvL2/e3lDnOeMbP1q7RQBytr4LaHxFb6pLc2cj29zJMJRY4uJQ6uoWSYuSwAcYwAMKBjphJ/BX2jTba2nmsbk2Uzta/a9PE0flv1WRC/zHvuUr0HGMg9XRQHW5S0nTl0vS47RIrOLbkkWVt5EWSeoTJx+ZrGuPCLyaDpemrdWsyWEYjZL2z8+Gf5cZMe9eRjIOTjJrpqKHqC0OdsfC8mm2ekRWd7EH015OWtvldHJLKFDDacEAHJAx0NEfhm6svs82l6jHDdwtOC81sZI5I5ZDIVKB1OQcYIb14546KijrcPIpaVp39m2PktKZpXd5ZZSoXe7sWYgDoMngdhjk9aqWGgfYYNJj+07/wCzldc+XjzNy49eP1rYooA5W58GNPbW0BubSeKGSd2hvrHz4mMsm/cE3gB1yQGOeCeOagstA1XTNUt7TS72OJbXSYbY3M9kZI5Crt0AdcMOD94jB6HjHY0Uf1+f+YdP69Tmbrwi89vZWsd7CLe1VcSS2u+5R92WkjlDDy2bv8pHHTtV/wARaBDr9nDHKLcyW8wmi+1WwniJwQQyEjIIJ6EEHBzxWvRQBg2PhlbQacV+w25s7h52Swsvs8chaNk+7uODhhzk5xUq+H9sVqn2nP2fUZL7Pl/e3tI2zrxjzOvt05rZooDpb+v61OR0XQ9RuLGOK/uhFYpfy3H2U2pWVitwzpmTdjbna33cn1wa0/8AhHP+Jd9l+1f8xL7fu8v/AKb+bsxn8M/jjtW3RQtP6/rsG6t/X9anJw+CpI9eh1Nry0MsM8syzrYAXLh1dQskpc7gu8Y4AwoGPSSHwhKIboT3lsklzNBK4s7PyIi0cokLlN7ZdsYLZ6AccV1FFC0A5600DUkur46hqVnd29+z/aFFiySlCpVUD+aQAoOB8vqepJpvh7wpHoVz5gi0g7YvLSW20tbecjjl5A5ByBzhVBPPHSujooWgPUw7/QJr/Xre+kurZY7d1eMraYuEA6oJt3CMeo2nIJGemKOn+B7XT74usGkvb5cq39mBbpQ2ePPD9s4ztzjrzzXVUUraWA4XS7a+uNX0S1juLq4stKd2DzaXLabUETRqHaT/AFjfMPuADhiRyK6Kw0D7DBpMf2nf/ZyuufLx5m5cevH61sUVT1A5a78FQ3VjaxM9nPNazzyob2xE8RErlipjLDkZGCGB49CRV/TfDy6feWdwn2SL7PbSQGGztfIiJd1bcF3Hb93pznOc1tUUloG5gW/huez/ALLa1v0WSxSWJmeDcJEkYMcDcNrDaMHkdeDUmh6DLpd5dXdxcWzy3IG9bO1+zxswJJkZd7bpDnluOAK26KFoBh6h4emvbjVTHeJFDqdl9mlRoCzIwVlDhtwGMNypHOOoo1Xw6+ourxXxt3Wye1BEeQdzI2T8wyPkwV4yGPIrcoo/r+vvD+v6+45S08Ei20/VIFns4G1BY8CysBBFEyZIOzec54zznryO21qOmzap4fl0+5uEWaaMI80cRC57kKWJA9sn61o0UCsYmreH31K4uporzyGuLVLcAx7gNshf5uRuVs7SvGRnnmqNj4M+xafqMMc9nby3jxyxmysRBFBJHjawj3HPIBOTzzz6dTRR0sPrc5nUfBdveWunIgspZbCNogdRshdRyBsbiU3KQxIByD69c1rQ6X5Hh86bA0NmTC0Yexh8lY2IPzImTt5OeprQooeqsHW5xsPgEpDfr9qsbd7y0FsWsNOEAGG3b2Bdize5Pp750pvDdxqRuH1nUVmlaDyIGtYPJEI3B92GZ9zblQ56fKOOuegooAx7XRrqS8a61y8gvZfs7WyLBbGFAjEF8guxJO0dwOOlUG8GRS+HP7OurmO7n89bj7Rc2yyK7KAq74ycMNihTyM8kEHp09FH9fqBmaDo66NZvCIdOiZ33N/Z9l9lQ8Y5Xc2T75rToooAKKKKACiiigCKb/WQf75/9BNFE3+sg/3z/wCgmigAt/8AVH/ff/0I1LUVv/qj/vv/AOhGpaACiiigAooooAKKKKACiiigAooooAKKKKACiiigAooooAKKKKACiiigAqK2/wCPSH/cX+VS1Fbf8ekP+4v8qAG3ty1patNHbTXTggLDAF3sSccbiAPqSBWdYeJLa+uIbdra5tZ5HljMc4XMbx4yhKsRkg7hgkEA81Nr2lPrGnC2jmijxIrss8PmxSgdUdNy7lPpkcgfSsiDwX9n0GawgvYraZ7s3Uc1paCJICyhWVE3HA27gOeN3fHIr6/12/4Idv6/roXP+Eqglhiew0++vnljaZYoFj3CIMVEnzOBhsZAzuI7dcTR+I7e51GC0sbW6u/Ot47rzolURpE5YBiWYH+HoATzwDzijrHg211C6tri3h00tBbi2EeoaeLqPYDldo3KVIyehwQenSrsOgCG4mkhnW283T47NVtYvLEW0udyDJx9/gdsdTR0/rz/AOAH9fl/wRsXie3DXI1GyvNM+z232om6VDviBILDYzHjjg4PI4pieKoEuDFqVhe6aVtZLstdKhXyk25OUZufm6deOQOM5MPgaK0hvpbya2VZrFreT+zNOMLtyG8w4Z2d8j3z6esdpp954k1aQ6tLNcWY02azeRtNksgTIydElJZmwhJb7v3QB1o/r8/+AHr/AFt/wTpNO1oX901vNYXdjN5YlRLoJmRM43DazdDjIOCMjjmkl1wLqTWdrYXl75TolxNAE2QFsEBtzAnggnaGwDVXw94aXQ5pJDDo4dkCCSw0sWrkd9xDtnOBwAKmGkXttq89zpuoRQ213KktzBLbeYxYAKdjBhtyqgHIb1FPS4tRLbxF9ttbi4tNK1CWOGRolwsYMzq5QhcuOhGctgY71EPFcLwxCLTb6S8knkg+wjyhKrIMtklwmMYPDHIIx3w2fww8nh4aZHdxHF087efb+ZFKGkZyjx7huX5vUcgH2qjH4Klg0aTT4bjSzFNcPPJDJpQaFSwUDZGJBtKlTg5PXueanv8A12/4I/6/P/gE9x4muLHW9QWWxvrq1gs4LgxQRpugB8zeWJYZPyj5QWPHArav9WttP0WXVJN8ttHF5v7pcsy+w79apReHfKF6Ptskv2qxjs98o3ONgcb2OfmJ35PTp71PeaN9r8MnSPP2ZgWHzdmegHOM+3rVdX/Xf/gC1/r5f8Er3viN9Psjd3GiakIUjaWcgQnyEB+837zngE4XcQOoHSoj4meHxFqNrd2ckWnWdnHcm8ym0A7yWOH3EHZgALnIOeMVX8TeD28RXEzPcWnly23kBbux+0NAfm+eIlwEY7hk4Odq+lW7vw19rurkyXKm1vbFbO5hMWWYLv2srZwv3zkFWzgdKXQrT+vl/wAEG8VQQ288l9p97ZNFEsqRTiPdMrNtG3a5A+YqCGK43DOBWna3ctxZtNJYXNtIuf8AR5jHvOPdWK8/731xWDp/hGTT7W5SAaFDPLGIxNbaKIty5G5ZAJDvVgMEDbWtoOkf2LpptjLG+ZGk2wxeVFHn+GNMnYvtk8k+tMnUw9F8S3b6d9r1C11Ge5vbmSO1sVWD7qs2dhDAAADkyN1HHUZ0W8VwCGDbYXz3U1w9r9jVU8xJFQuVYl9o+UZzuxyOaavhua2srIWF+sV5ZSSvHNJBvRlkYllZNwJHI6MOVB9qfb+HHju7a8uLwS3SXb3c7rDtWVmiMQCjJ2gDHUseOvOaS8wH+I9ZutH0uC5tLCS5kkuYYmjBTKh3VT1dRnnA5IyRnjJrPbxVNYalqv26yvZbS1aJnaOOMi0Ro1JLHcN2CSTt3kY9MZ2ta01tV037PFMIJFljmjkZN6hkcOMrkZGV5GR9apXHh17qx1qGW8USatEEZ1hwIz5QQkDdyOM4z7Z70L+vwKVupJd+Jbe1u5YhaXU8NuyrdXUQTy7csARuywY8MCdoOAeahk8RQ2fmDy769kbUGs44kSPd5nl79q8qNuB1Y5yeTjkVbzwVbz65LfrDpEwnZHmW/wBLFxJlQFOx96lQQBwQ2Dz3xV0eHcXiT/avu6k1/t8v1iMezr75z+GKF5/1qv8Agi6f12f62LmpavHpemx3dzbXDeZJHEIY1VnDOwUDrjqecGqU/icQNIq6RqMz28Qku1iER+zAjOG+fDNgZwm49PUZv6rp39p28MXm+V5VzFPnbnOxw2OvfGM1Ru9Evjf3c+l6lHaR34UXKSWvmnIXbujO4bW2gD5gw4HHXK1sCtfUff8AiOKxjjn+w3lxZOiO17CE8qNXOATuYMR3O0HArP8AEXiiW107UP7LtLxzany2vkjRoopOPlILbjjIyQpUZ5PBxX1XwEmoHyo7i0FssMcUP2mx8+a3CAAeVIXAQHAJ+XOc89MW9Q8LXl1Bf2drqyW9hfSmZ4za75EckEhX3gbSRkgqTyeemK0uLWxdufE9jabRPHcKxvxYbQmSHPIY4P3cEHPoadLrx8l5LLTL6+2TyQkW4jH3OGbLuoxnjGckg8cVXvfC0V5qd/dG4ZFvLXyvKCcJIRjzc567VQf8B681Vu/B7XNjp9ubm0uFtY3EqX1l58UzsQTKE3gK+d2DzgMRU62/r+v+HK0v/X9f8MXovFWnTWE94PNWGGzS9yyAF4mUkFRnr8pBHrS+INZudK8NtqNpYyTTfJ+5bblNxAO7LAcZxwTz7VjL4f8ALvNB0mD7RIumwCO8uDAY45Yl2sqZPBJdEOFJwAwOM89LrGnf2rpFxZCXyTKo2ybd20gggkZGRkDjI+opu2thFR/EdvDaX0tza3MEtkqGS2cIZG3gFQuGIOSSvXG4Ee9Qy+LLeKW53affmCzm8m6uQieXCcKcnLZYfNyVBxg5xVWawm1HxdZNIJD9jhBv5RbtFDcMDuiVd2c4Ys3yk46E81FBompX0us28l2LXTrq/YyxNanzJE2pnZJuAAbBGdrd8Edhb/13QP8Ar7jVk8SQR3zQraXUlvHOtvLeqqeTHIcAKctuPLKMhSATyeDjVmjaWB40leFmUgSRgFkPqNwIz9QRXNnwXbrr0l/HBpEkctwJ3F1payzq3Gdku8Y5GRkEgk9sAb9lDcwW5S8uvtUnmO3meWE+UsSq4HoCBnvjNHTUOpzFpqF1pTarearq+o6hb2N6tokAhgy+8R4J2RqSd0nY9OxrVu/EbWEMc13o2oxw4UzS/uStvubb82JOcdTs3YFJP4c863v4/tW37ZfxXmfL+5sMZ29ec+V19+nFUPEHgxtevpppLmz2SqoU3Fj50tuV/wCeTlwEBxk/KT156Yfb5fl/mHf5ly98WW9ldXkTWF9LFYSIl1cxonlwhlVgxywJADc7QSMHI6ZspryS6lc2sFldSx2rFJrpfL8tHCB9pBff0I524561Dd+HftVrrkP2rZ/axBz5efK/dLH6/N93PbrUN34enm1o6nJc258pGEfk2my4ZSpAjeXd86ZJO3aOQvPHMt2XyHuyXTvFVvqDWbNY3tpBfR77a4uURUlO3cVwGLA4BPzAA7TgnjK2XieC9uLZTY3tvb3hItLuZUEdxgFhgBiy5UFhuVcgevFZ/h/Qb6XSNG/tq6V4LO1Xy7QWxidXMWw+YxY7iFZhgKvXnpVyx8O3du1jDeamlzZacc2sYttknClV8x9xDYUnoq5OD7Vckk2iU7xuVLnxjcPptne6Zol9LDc3UUStJ5S71ZsHaDKCD2BOBnnpzWpd68LG8iiuNNvVgkkjiN3iPykd8BVPz7jyQMhSMnr1qA+HJE8NWWm294qz2UkckU7w7lLI2eUDAkH0DD61RvvBb6hrQv57qzci6huFkksN9xHsKny1lL/KhKngLxuPJ5zMd9e/4af8Eb8v63JLTxLcXUVw1/Z3dgsOppaxughPmZcKFPzN6/MeODxzVxvFNutw2LK8ayS4+zNfhU8lZN23GN28gN8u4LjPfAJpjeHJma4T7an2eS/jvkTyDvVldWZS27BB28cDHvTD4auf3lmuoxjSJLk3DWxtsy5L+YUEm7G0v/sE4JGehBHZX/rRf8EHu7f1v/wB48WW/wBr8s2F8Ldbs2T3ZRBEku7aB97cQTgbgpHIBIOcb1YjeHd2nyWv2rG/URfbvL6YmEuzGfbGfxx2rboXwq+//AX63B76BRRRQAUUUUAFFFFAEU3+sg/3z/6CaKJv9ZB/vn/0E0UAFv8A6o/77/8AoRqWorf/AFR/33/9CNS0AFFFFABRRRQAUUUUAFFFFABRRRQAUUUUAFFFFABRRRQAUUUUAFFFFABUVt/x6Q/7i/yqWorb/j0h/wBxf5UAS0VBe3LWlq00dtNdOCAsMAXexJxxuIA+pIFZSeKYZLVGjsL1rx53txYAR+cHTlsnfsAC853YwR3IFAG5RWGniq3ktS8dletcfajaLZ7FEryhdzAZbbgDJ3FgOOCcjI/imBYrbZYX0lzczSQC1VE8xJEBLKxLbRwOu7HTnBoA3KKw08UwTW0DWtjez3czyILFVQSoYztfduYIADgZ3YORjOaP+Eht4JLqS6F7G0cFu5tZI0yrSllVF28lywwckjOMHGaANyisNvFEUcLCbTr2K8EyQLYt5XmuzglSCH2YIDc7v4SOvFaEmoiDR5NQubeaBYoWlkhcKZFCgkjglSeOxx70bK4LV2LlFc5/wmURdo00bVWm8gXUcXlRhpIf+egy4Axx8rEPyPlq1feJYrPTo9QisL28smtxcvcW6ptijIzuIZlJ4ycKCeOnTLsBs0VlT+IrS3gv5HjmLWTIrRgDdKXC7NnOCGLbRnHII7VY1LVI9NjhzBNcT3Enlw28AXfI2CSBuIUYAJJJA4+lINy7RXL6f4nkLak15bXbSjUBa2tjsQS58lHKddp/jbcWxjvjFX/+ElhNrGyWV293JM0AsAE84OvLA/NsAA5zuxgjB5AIBs0Vht4hggnmkvVvbUx2iyvayxoduZGQAbckuSMYBKnjHWqi+J5I9buf7StbvTrW3sPPeGeNGYnfgFTGW3Z6YBzntyKP6+6/+Qf1+X+Z09FZ+m6v9vnmt5rG6sLmFVcw3OwsUbOGBRmUjII65GOR0rOXxPJDq2sRahYzQWWnKjC4ARt2RnGFcsSf4QF+vNGwHQ0VmafrYvbw2lzp93p1z5XnJFdeWTImcEgo7DgkZBIPI4qumt3R8YXOktp032WK1jmFwNh5Yvkkb9xB2gABc5Bzxg0B0NuisBvFsNvBePf6bqFk9pbrcmKVY2aSMkjK7HYZyOQSDyOKnk8QFJIoV0m/kunQyNbJ5W+KPOA7EybcHsAS3twcAGxRWEniuC4tbWXT9Pvr2S5iaZbeJEWRIwdpZt7KBzxjOT6cHDbXxJLe+JILO1sJpLCeyW5S6+QYyepBfdjtjbnPtzR1/r+ugdL/ANf1qb9FYt5rV3b+LrLSo9Pllt7i2kledSnylWQZ5cHA3c/KTyuM81R8O+KXu7PTI9StrtZLxGCXkkaLFM6gkqADuHAYglQDtOCeMnS4HUUVhQ+LLSRRLLa3dvaSRPNBdyovlzoo3EqAxYfLlgGUZAOKkXxGv9nLdz6ZfQNK6pbwP5TPcFhldu1yvr94jGMnA5oA2aKpaZqS6lDK3kTWs0Mhimt59u+NsA4O0lTkEEEE8GqMPii3ls5717O7isYgfLuWCFZ8NtwgVi2SeAGANAG3RWKPE0Mdvcte2N5Z3FuYx9klCNJJ5h2x7djMp3MCvUYIOcDmon8XW8Ed59t0/ULWSySF5YXjRmxK5VduxmDdM8E+nXIoA36K5x/GUEP2kT6TqUTWbL9rVkj/ANHRuVckPhlIyfkLEYOQKt3fiSC0vJohaXU8NsypdXUQTy7csARuywY4DAnaDgHmgDYorCl8V28V3NGbC+MEF0trNdBE8uNztxn5txGXHIBx3xVaHxZLHPrH2/TLiOGxu0t4WUx5lZhHtX/WfeLPkE4UAjJBzQtdv62/zA6aiq1vdyz2BuHsbiCXDf6NKU8zIzxkMV57fNjntXN6H4lu30uK6v7XUbi7v5n+z2SrBwqk52EMAFAwCZGznp1AIB1tFYR8VQeXbiKwvpbmeaS3+yKqeZHIgLMrEsFHAzndg5HPNX9QvFtpLASPPEbi5EQWMIdxKscNnOF4/h5yB2zQBeornR4ztmkjVNM1Jlmmkt4HESYmmQsDGPmyM7SQzYXA5YVL/wAJXb/ZLWVbG+ea6uJLVbVY1MiyoGyrfNtH3DznbyCSBzQBu0VhP4qt0to2Nhem5e7NmbMKhlSXYXAPzbcFQDkMRyOcZwTeKoYXlZtOvjbW7BLq6Cx+XbscZDfPubbkZKBgOeeDgDY3aKy28QWqxzEpMXivFszEFG5pGIxjnGCGDZ9KjtvEkF1eRxJaXa288jRQXrqgimdc5A+bePutglQDjgnIyeYGxRXNW3jWC7W1NvpOqMb6IyWamKMfaAMFgCXwuAer7Qf4ScjNseJ7eWzspbOzu7ue8RnjtIwgkUKQH3bmCjaSAfm6njNAG1RWE3iuBjbpZ6ff3s1xbtcLFCiBlCsFYMXZQGBOMZ7HGaitPFEl/wCILK2s9PnksLuy+0rcEIpXkDkFwQBnBG3Ocds0bv8Arz/yDZf1/XU6KiiigCKb/WQf75/9BNFE3+sg/wB8/wDoJooALf8A1R/33/8AQjUtRW/+qP8Avv8A+hGpaACiiigAooooAKKKKACiiigAooooAKKKKACiiigAooooAKKKKACiiigAqK2/49If9xf5VLUVt/x6Q/7i/wAqAKWvaU+sacLaOaKPEiuyzw+bFKB1R03LuU+mRyB9K5w+Hf8AhGrWC4trsQ3KXcksf2PR5JYQJEAZPJiJIX5QQdwwQMk9+1oo22Dc4m08LS61ory6ksRuH1GS9hGoWQkQhl2YeEkEAjkLkMvy5OQc7Nj4bWzOmsv2GA2UskjR2Nn5EchdSvC7jg4I5yc47Vu0UbbCsc8PDVzbXIvNN1COG8E077prYyRskrBihUOpJBVcEMOnTmkvvCg1OK9GoXUc0l1BboS1sCgkiZmDFCSCpLcr6DGec10VFHSw+tzmIvCbwaTNaQR6BCZ5AZVi0ULDMgB+V4/N+Y5OQdwxjpWlHonl+FX0Y3LPut3g85lzjcCOBnoM4AzwABnvWrRQ9VZgtHdGaukbblJfP+7ZfZcbOvIO7r7dK5/UfALahp8Nm95aSxx2CWYa7sPOaIqpHmRZcCNjkZ4P3V54rsqKP6/P/NgtNv62/wAkcxJp323xlavFHOsFlABdu8LJHO6nMIUkfNtLO2VyAcAnNa2r6ZLftaz2dytrd2cpkhkeLzEOVKsrLkEggnoRzg+1aNFHQDlLjwUby1uPt93bXl1LfC9VrixEkKt5SxlTEW5XAOPmBHHJIybMPheS0tLU6dJp1he2sjur2mn+XA4cYYNEHycgDkODlR24roqKAMC68NS6gZpL7UM3EttHF5kMAQI6SGRXAJPAJHBz061DceFLjVHvH1vUYrhrm0FrshtPLRMPvDBWZ8nPUHIOBXS0Urf16/8ADh/X9fcYvh/w+uiGZvI0mN5ABu07TfsuQM/e+dt36Ypt74da9vNRY3gjt7+NA6LF+8jkT7rq+cYGAcFTyOvatyim9QWhk2GlXqakL/V76G7uI4TDF9ntjCqqxBYkF2JJKr3A46Ul7otxcarPd2t/9mFzZ/ZZQIyXXG8q6NuG0guTyDnA6Vr0UbgtDjrfwF5Ud9m4sIHu7UWzfYdO8heG3b2G9izepJ/+vb8QGTTtZTUbG4uYriW28mSNNKmvFkVWLLjy8BGBZsEnBz04rpqKAOJtvA7XGj6U93HYNfW9sYpU1OxW7XBbd0DLhgSRkHByeDxjet9Ee01KyurSW2gjhtfs00EdrtRlzkeWA37vnsd3HHvWxRR6f1/Vw9TOvNMln1uy1G3uEia3jkhkSSIuJI3KE4IYbWyg55HXiqkHhsQ2OjWzXO8aZIXJ8vHm5jdMdePv579K3KKOlgOV0jwWujSE2Q0iMxxPHb3EekqtzGSMKWkD4YgdflG6mt4Gjm02aC5ksC73CXEcUengWiOoIyYC7Z3BjuO4E8EYIzXWUUAZuhaQujWLQLDp8TM5dv7Psvs0Z4A5Tc3PHXNY8ngv7YL/APtK6tXN5EEb7NYiISMGDCSZSzCVgVHYDBYY546qijcNjkZPC8Wm6LcMy6faTLLFNFNo+jMjB0bK7o0Z2kGewxwT06iHT9KvtdudVub6eRUuFtY45XsXtg3lSM52xO28D5gMseTkjjFdpRQBj6joH2+DV4/tPl/2lCsWfLz5eFIz156+1Z974Lt7jXZdQWDSJRcOjzLf6WLiTIAU7JN6lQQBwQ2Dz3xXUUUdbgYkvh3zbG/tvtWPtl6t1u8v7mCh24zz9zr702fQbsy6p9lvbUQ6i6yNDc2XnDdtVGDfOAyFU6YByep6Vu0UAZ+iaX/Y+lpaGVZMMzfImyNMnO1EydqDoFycCs9PDU9rZ6eNPv0ivLASKk0tvvR0c5ZWQMD2U8MOVHbiugooAw7Xw60N5a3k12JbmO4luZ2EW0Su8ezAGflAGMck8cknmr+o6d9vlsX83y/slyJ8bc78Ky468fe6+1XaKO39bB3Ma18P/ZobBPtO77HezXefLxv8zzfl68Y83r7dOeM2/wBEvra+0wadP+8Op3F0Zmty6RB45DhgCMjJAzkZyK6uigN1/Xn/AJmFD4ckElvcXN6Jbpb8308iw7VkbyjEFVdx2gKV7n7vvTLnw3cym9tYdRjj0u/kZ7i3a23SDd98JJuAUN7qxGTg9MdBRR/X9fcH9f195kvoSv4kj1TzyI0Qf6Nt4MoDKJM+uxyuMenpWbpXgu30nVFnhh0hoUd2jc6WoulznH74PzjOM7ckdeea6iigDH03QP7Pg0iP7T5n9m27Q58vHmZAGevH3fesy68EQ3FnZIWsbiezabBv7AXETLI+4jYWBBBxghux45rq6KHq7gY+naCtheW1whtohDaNbGG1tvJjyzhiyruO0ZHTnr1qHTvDk2mT6bJb3qMLS2a1mDwE+ahYMCuGGw5HfdW9RR5/1/WoBRRRQBFN/rIP98/+gmiib/WQf75/9BNFABb/AOqP++//AKEalqK3/wBUf99//QjUtABRRRQAUUUUAFFFFABRRRQAUUUUAFFFFABRRRQAUUUUAFFFFABRRRQAVFbf8ekP+4v8qlqK2/49If8AcX+VAGZ4m1GbS9MhuLcuCbyCNxHHvZkaRVYAYPJBI45psfieAO0d5ZXdlMk0UUkU4QmMSEhHJRmXaWG3IJOeoqzrelyatYJBDc/ZpI54p1k8vfgo4bGMjrjFZOpaZLBpWpz6tJLqV7fxLbqtjaOoXaGMYVdzbfmYnezYBPJAFF7LXv8A5Ba7/rzN201CK9uryGFJP9ElETuQNrNtDEDnnAYZ96yIvE0SQWUcFtqOoz3YnMSqkQdvKcK245VF68ZxkD1IB0tDsZdO0a3gunElzt33Eg/jlY7nP4sTVPTvDv2C5sJftXmfY0uUx5eN/nSK+evGNuPfPanbWwJ31JLHxNY3wiIWaASWz3H75Qu0I22RTz95Twe3PBNV28X23kieOwvpIUiSa5kVEAtUYbgXBcE/L8xChiB1HSo5/CSz6TBZG9K+XczSSOsf+silZy8WM8Ah8Z9QDjtUeqeDLe+1qXUEh0mQ3ATzV1DSxcnKjGUbepXgAYORxnjnK6gaH9v+Zf3VrZ6beXYtWKSTRGIIJNgfZ8zhskEc425I5qjoviOXUtP0W61CG4spr5WPlqI/LkxHuLH5mIXrjkHPUYqwfD0sniSPU5bm2VISRH5Np5c5TaR5by7vmjBJO3aOQvPHMdn4XeC0022ub1JotOEkcYSAoXjaMoAx3H5gDkkYz6Cjow6klr4qgubqyj/s++ih1BytpcyInlzAIz7uGLKCF4DAE5HHXDZ/E7xm4h/si/iuFtpLi3WYRAXCoQCR+84+8pw204NYem2t/daro1pHdXc9lpbORJLpctoUTymjXc0n+sf5hjYAOGJHIq9pXgf7BqC3U9zaO4tZLZ5Lex8mWffty8shdi7/AC5z3LGiS008/wDgDVr6lvT/ABC1xb6ZcX0N1azXNjJctbgRlGChCWyCxH3vlGehO7nFS2Xiy1umjM9neWMM1qbuGa6RQskagFiMMSCAw4YD2zTLfw3OkNgt1fRyPZ2U1mGjtygZXCAHBc8gJzzzntTrjwzDNY2Vvc3DtDaWEtnIEjO6RXRVJGCcHC9OetEnu1/W/wDwBRWyfz/D/gktn4kS6v7W1k02/tTeKz28k6JtkVQDn5WJXgjhgG9utS6jr9tphvRcRXDGztluCI0DGVWLAKnPLZXGOOo9awNGTUb/AMRadJNcXFzbadbyKZZdMlsgSwVVBEhy7nBOVAUenIre1HQ01DWLC+Mxj+y5EkYXImXIZQfTDqrfh70PyBeZn6z4mEVrE+m+c2JbN2dIwweOaTGwDruKg9uMjmrdv4nglnWC5sryzn+0rbPHOqfu2ZN6ElWK4boCCeeKrWvhJbXTTareFv8AT4rpWMf3UjZdkQGegVAufxx2qPxFprRWuqSwCe4u9RMQtEhgZvKmjH7tmYZAAYAktgDHen0+f+X/AAQ6/wBeZt2mpR30d29tDKwtpnh/hHmsvXbz65XnHIPbmuZi8V6lPpek3kmn3EDz6i9u8EaxsZ1Cy4C/O2OUXJJXkE52811GmWQ07TILUNvMaYd/77Hlm+pJJ/Gsq18NzQJZxSXqPFY3z3UIWAqxVhINjHccnMh+YAdOnel1D/g/8AeniqCS3Xy7C9a9Nw9v9g2oJg6jc2SX2Y2kNndggjnJxU9l4gtbyaGLy5oHljkfEygbTG210OCfmUntkY5BIrM1LwXDqE007vaSyteNcot7ZCeIBo1QqyFhn7gIIIIPtkGvqmh/8S/TNGs7dIbnzyzS6fZG3t44m3LL3KqSjEAbixYgjpkH9f15IDVvvEDJ4Kn13T7SaTFq1xDE4UMRgkMQWAxj5uucds8VXTXbnSNBhuNSsNWvNsJmuZ3W33Qrk8sEZVPAJwgY4HPPXX1PTl1DQ7vTUcQLcW7wBgudgZSuccZxnpWD4h8GNrzOHubQxvai3Au7Hz2gPzfPES4CMcjJwc7V9KOrHpZX/rb/AIJPqOsyRyTLZXM2+PULSFw6JsCSFMhOM4IbknnJOO1WvEOs3WjiwNnYSXpubpYXEZQEA54G515Pbtwc1HJ4a8ySdvtePNu7a5x5fTydny9e+zr2z3q7rOmy6lbQi2uEt57edJ4nkiMi7l7FQykjBPQijp8/w0/4JOv4fjqU5vFMEM0v+g3r2lvKIZ71VTyonyAQctuIBIBKqQOeeDi/q2qw6PZLc3Ec0qtLHEEhTcxZ2Cjj6msqXw1dOt1ZpqUa6XeStLPbm1zJljl1STdgKxz1ViNxwemNTVdO/tO3hi83yvKuYp87c52OGx174xmjt/XqPv8A16GWvjGAsyyaZqMXk3C290XSPFq7EBdxDncDuBym7APOKtS+JII79oRaXUlvHOtvLeqqeVHKcAKctuPLKMhSATyeDhLrw/8AaYdSj+07ft11FcZ8vOzYIxt6858vrx19qot4Mt11+TUI4NIlSa4Fw/2rS1lnVuM7JdwxyMjIOCT2wALdX/rb/gg9tC6viaF7vy47G8e3aZreO7AQRSSrnKDLbhypUEqFJHXkZd4Y1i61vRxd3tjJaSeY6AMUwwDEZG129MHOOQccYqhY+C7fT9aN3FBpDxee86tJpam5UsS3EwcdCeDtzjjPetbRdNm0mze1kuEniErvDtiKMisxbDHcdxyTyAPpQtge5z8virUX0+5mawuLQ2+qxWwIWNzKhlVSoAdjuweTwORg+mqvimDyJ/Osb2C7hnWD7E6oZXdl3KFKsUII77sDByRimt4cmZrhPtqfZ5L+O+RPIO9WV1ZlLbsEHbxwMe9R6v4Sh1aS7kmkhdppoZo0uLYTRo0alcMhPzggn0Izwc80lflX9dF/wQ+0/wCu/wDwDV0zUl1KGVvImtZoZDFNbz7d8bYBwdpKnIIIIJ4NU38RCLUDaz6XfxbllaCRlj23BjGSqgPuBIyRuC5AqfQtIXRrFoFh0+Jmcu39n2X2aM8AcpubnjrmsfTfBjWOvW+py3NnLJbtIfNSx2TzhwR+9l3kuRkdgOOnTDe+gGlN4o06GCCYmR457X7WrIm7CEqFyOuWLAADOTmopPFUNvZ3Mt9p99ay2zRB7Z1RpCJX2Iy7HZSC2R1z8p46ZgPg23k03U7O4uPOS9YCPdECIEVy6JtOQwVmJ56jimW3g9YdOmttuk2zyTQS+Zp2mfZsiOQPhhvbdnGM5GM96elwLt34jawhjmu9G1GOHCmaX9yVt9zbfmxJzjqdm7Apmp+KrfTftr/YL66t7BSbq4t0QrE23dtwWDE4K/dBAzyRg4peIPBja9fTTSXNnslVQpuLHzpbcr/zycuAgOMn5SevPTGd4ks7wnWNL0ie6b+1OXg/suVgJHQKStzxGqYAJzk/eAOSAEt9Rrc6K68S29tdSxi0upobdlW6uo1Ty7csARuywY4DAnaGwDzVrVdWTS0t82811Ncy+VDBBtDO20seXZVHCk8kdPWsa78FW9xrkuoLDpEwnZHmW+0sXEm5QFOyTepUEAcENg898Vra5pk2q2ItonsthbMkd9Z/aYpB2BTcvIOCDntR0EvMh1HxCdNslu5tI1B4Vh8+4ZFj/wBGXvuy4yRzkJu6e4znN4hnTxNqJu1vLfS9Ot0fKLC0cpbdycEyEnjaFx0OeoqvqngJtRs0tZL+CeNbIWoe/s/tMkRG7MkTFxsY5GTgn5V54rUu/C8N7FqcVzNujv4IoiPLB2GMHDYOQ3JBwRjjvQ/IOqK2p+LLi00m7lh0e7ivbfy2NtceVnY7YD5WTaRwRw2QeoxV5/EdvDaX0tza3MEtkqGS2cIZG3gFQuGIOSSvXG4Ee9ULfwesWk31pt0m2kuVULNp2l/ZsFTkbx5jbxnHGR39aSawm1HxdZNIJD9jhBv5RbtFDcMDuiVd2c4Ys3yk46E80dbB0udQDlQSMex7UUUUAFFFFABRRRQAUUUUARTf6yD/AHz/AOgmiib/AFkH++f/AEE0UAFv/qj/AL7/APoRqWorf/VH/ff/ANCNS0AFFFFABRRRQAUUUUAFFFFABRRRQAUUUUAFFFFABRRRQAUUUUAFFFFABUVt/wAekP8AuL/Kpaitv+PSH/cX+VAEtFUtW1WHR7Jbm5jmkRpUiCwpvYs7BRx35NUh4nt0guTeWd3aXNuYwbSVUaRzIcR7djMp3NkD5uCDnHWgDaorCfxVFFCPO02/juvtC232MrGZN7KWU5DlcEDruwO+MHFD/hI7pPEV8+oW9/Zafp9tGxjCwOHd84DbWZyxOAoXjIOeooA6yisJ/FUNtbXkmo6dfWMlpbm6aCURs8kY4JXY7KeeMZB5HHIpLjxSLeRIm0bU3uHge4ECLEWEasAST5mB1BAzn2zxQBvUVjab4mtdUu4Yoba6jjubc3NrPKgCXEY25KjO4ffXhgpOeM1C/iyG3hvHv9Nv7M2tqbvZMsZaWMHBKhXPI44ODyOKAN+isWPxPbBrtb+1u9PNtCJ8XCKfMjJIDKEZs8jG04bJHHNK3iIxQBrnR9Qt55JFjgtnERediCflKyFRgKxO5hjH0oA2aKpWGprqFlJPHbzxyxM0cltJtEiOP4Tglcngg5xgg5rntF8S3b6d9r1C11Ge5vbmSO1sVWD7qs2dhDAAADkyN1HHUZAOuorDfxVbpaQyfYb1riS6NmbNVTzUlCltrfNt6DOd2OQc4yQ/xFrN1pGiRXtrYSTyvNDG0OUygd1U5y4GecDBIyR2yaANmiuXm8UXFhq2pfarC+mtra3gmaOGOMm2Uhi5Y7hu6dFLHjgVeuPE9tBcSLHa3VxbwFBc3cQTyrcsARuywY8MCdoOAeaANqisGTxFDZ+YPLvr2RtQazjiRI93meXv2ryo24HVjnJ5OORL4i1m60jRIr21sJJ5XmhjaHKZQO6qc5cDPOBgkZI7ZNH9feHWxs0VkSeI7eG0vZZ7a4ilsjGsluwTzGZwuwLhsHJbbnOMg+lQf8JZb+ZITYXwtobk2012UQRxOG28/NuIyRyoIGecYODrYOlzeorHbxJAt+YRaXTWy3AtnvgqeSkpOApy28/MQuQpGTjPXGxR0uAUUUUAFFFFABRRRQAUUUUAFFFFABRRRQAUUUUAFFFFABRRRQAUUUUAFFFFABRRRQAUUUUAFFFFABRRRQBFN/rIP98/+gmiib/WQf75/wDQTRQAW/8Aqj/vv/6EalqK3/1R/wB9/wD0I1LQAUUUUAFFFFABRRRQAUUUUAFFFFABRRRQAUUUUAFFFFABRRRQAUUUUAFRW3/HpD/uL/Kpaitv+PSH/cX+VAGT4rtrm60q3jst/mi+tmDJHv2ASqSxHoOp9qrXfhN9UtLz+2buC6u7kxbXFpiFBExZF8pmbcMs27LchiOOK6Sijpb+un+QdTnLHwotpHb4XTLZ4bxbk/2dp32ZZAEZQpG9ufmPOfwq1e+HUvpdSd7l0+3LDtKKMwtESVYZyDzg4x2rZooDrc5258NXmp295/a2pQy3M9o1pE9vaGNIkYgsdpdixJA/iA4GAOSdN9M360uoedjFo1t5e31YNuzn26Vfoo/r+vvD+v6+4w08OFItOVb50ax0+SyDxphjvCDeDn5SNmcc9fasmDwD5cd6HubGKS7sWtGaz07yc5IPmP8AOxduD1POe3fsqKd3e/8AX9ah0sY2p+HY9UuppZbh4xJaC3GxRuRg+8OCeMggcY7VV1Hw1ea1YRx6zd6fdzwTLLBv03MIwCCHjaRt2Qx6MMcY6c9HRS8v67h/X6GfomlrpGnC2WGxiJYswsLT7NGSe+zc3OMc5qgvhua2srIWF+sV5ZSSvHNJBvRlkYllZNwJHI6MOVB9q36KNwMOLw44ktp7i8El0l8b6eRYdqyt5RjCquTtABHUsfl75zV7WdNOraW9qkwgffHIkhTeFZHDrkZGRlRkZHHcVeooDzMaTQpJ11Uz3amTUrVLd2SHCoQrKWALHg7s4zxjqazZfA1u2qG7WLSJxJ5ZmF/pYnkyqhSUfepUEKOCGwee+K6uijrcOljEHh3F4k/2r7upNf7fL9YjHs6++c/hirus6adW0t7VJhA++ORJCm8KyOHXIyMjKjIyOO4q9RR0sHW/9dzmHsJdQ8ZWspWXZaQD7dIYGiiuJVOYgm7rtLO3BIHAJzUNhompXiX0Fxdi30+XUppZLdrUiWRfMyAsm4AI2B/CTgnBGRjraKFp/XncHqcwvgu3i157+ODSJI5Ln7S32nS1kuFYnJ2zbxjnkZUkZ+lb9jDcQWaR3t19rmBO6bywm7kkfKOBgYH4VYoo6WDrcKKKKACiiigAooooAKKKKACiiigAooooAKKKKACiiigAooooAKKKKACiiigAooooAKKKKACiiigAooooAim/1kH++f8A0E0UTf6yD/fP/oJooAZCJSjbHQDe+AUJ/iPvT9s//PSP/v2f/iqLf/VH/ff/ANCNS0ARbZ/+ekf/AH7P/wAVRtn/AOekf/fs/wDxVS0UARbZ/wDnpH/37P8A8VRtn/56R/8Afs//ABVS0UARbZ/+ekf/AH7P/wAVRtn/AOekf/fs/wDxVS0UARbZ/wDnpH/37P8A8VRtn/56R/8Afs//ABVS0UARbZ/+ekf/AH7P/wAVRtn/AOekf/fs/wDxVS0UARbZ/wDnpH/37P8A8VRtn/56R/8Afs//ABVS0UARbZ/+ekf/AH7P/wAVRtn/AOekf/fs/wDxVS0UARbZ/wDnpH/37P8A8VRtn/56R/8Afs//ABVS0UARbZ/+ekf/AH7P/wAVRtn/AOekf/fs/wDxVS0UARbZ/wDnpH/37P8A8VRtn/56R/8Afs//ABVS0UARbZ/+ekf/AH7P/wAVUdus32WLbJGBsGMxn0+tWaitv+PSH/cX+VABtn/56R/9+z/8VRtn/wCekf8A37P/AMVUtFAEW2f/AJ6R/wDfs/8AxVG2f/npH/37P/xVS0UARbZ/+ekf/fs//FUbZ/8AnpH/AN+z/wDFVLRQBFtn/wCekf8A37P/AMVRtn/56R/9+z/8VUtFAEW2f/npH/37P/xVG2f/AJ6R/wDfs/8AxVS0UARbZ/8AnpH/AN+z/wDFUbZ/+ekf/fs//FVLRQBFtn/56R/9+z/8VRtn/wCekf8A37P/AMVUtFAEW2f/AJ6R/wDfs/8AxVG2f/npH/37P/xVS0UARbZ/+ekf/fs//FUbZ/8AnpH/AN+z/wDFVLRQBFtn/wCekf8A37P/AMVRtn/56R/9+z/8VUtFAEW2f/npH/37P/xVG2f/AJ6R/wDfs/8AxVS0UARbZ/8AnpH/AN+z/wDFUbZ/+ekf/fs//FVLRQBFtn/56R/9+z/8VRtn/wCekf8A37P/AMVUtFAEW2f/AJ6R/wDfs/8AxVG2f/npH/37P/xVS0UARbZ/+ekf/fs//FUbZ/8AnpH/AN+z/wDFVLRQBFtn/wCekf8A37P/AMVRtn/56R/9+z/8VUtFAEW2f/npH/37P/xVG2f/AJ6R/wDfs/8AxVS0UARbZ/8AnpH/AN+z/wDFUbZ/+ekf/fs//FVLRQBFtn/56R/9+z/8VRtn/wCekf8A37P/AMVUtFAEW2f/AJ6R/wDfs/8AxVG2f/npH/37P/xVS0UARbZ/+ekf/fs//FUbZ/8AnpH/AN+z/wDFVLRQBFtn/wCekf8A37P/AMVRtn/56R/9+z/8VUtFAEW2f/npH/37P/xVG2f/AJ6R/wDfs/8AxVS0UARbZ/8AnpH/AN+z/wDFUbZ/+ekf/fs//FVLRQBFtn/56R/9+z/8VRtn/wCekf8A37P/AMVUtFAEW2f/AJ6R/wDfs/8AxVG2f/npH/37P/xVS0UAV3Eomh8x0Ybz91CP4T7minzf6yD/AHz/AOgmigAt/wDVH/ff/wBCNVNfv5dL8O6hf26o0ttbSSoJASpKqSM4I4q3b/6o/wC+/wD6Eaqa/YS6r4d1Cwtyiy3VtJEhkJCgspAzjPHNA42urmbFrlzpl9Pb+IbuykjS0F159tC8WwFtoQoWcksfu4OSQRj1ff8AjCwtdFvL+CO5ma02h7d7WaKQZ6Eqybgp5+bGODzTrvwzbRaN9m0K0srCWOeO5RY4QkckkbBgHCjocYzyR15xiqt5oWpatbapNei0tru7tVtoYoZWkQBSzAs5VTyWxwvA9c0f1/X5fiSr2/r+vP8AA0brxNpdmkbXMk6eZF5xX7JKWiT+9IoXMY68vgcH0NJd+KtHsrqS3uLpg8JQSlIJHWLcAVLsqkKpz94kDrzwaydU8Oahe6mdQ+zxSPc2yRXFuusXNqqFS3Ro1/eAhj95RjHvVifw1O2k69Z2zQxjUIFitgzsQmIRH8xIz1HXnigpWuTS+KYPt+r2W2W2bTrfzjdS2krxgbSSTgAEDHQN83OOlXLrxDp1jcRQXcsqtIE/eLbSNGpc7V3OFKpk9mI6is/UdDv7iXWkt/sxh1PTxAHeVlaOQK6j5QpBU7s5zkehqlrnhvWdUmeNZYmt/wB15TG/miEQXaWUwou2TJBO5jxnpxyC6f15G/pOoS30morMqKLW8aBNoPKhVOTz1+Y1G3iXS1nnjM0pEAcySi2lMQ2AlgJAuwkYOQCTkEYyKk0nT5bGTUWmZCLq8adNpPClVGD7/KayotH1iHRLrQwti1mYJoobozOJGDA7QybMDBbltxzjOOeE78unb8bDVr69/wALl9/FOlpZJd7rt4XJ2GOxncsAAS4AQkpgj5/u89akfxDpq3FvCk0kzXCJIhgt5JVCucKzMqkIDzgsQOD6Gs/WNH1W6isobV0e3igMcsYv5rQh+AHDRKWcAbvlJA5/Knb+GtVtYdIhg+ywy2drBDJfRXUqv8n3lMW3bKp5A3kY3EjBqtL/AD/zJ1sXtP8AFlpNdy2l9J5c4vpLWMpBJ5eQxCq0mCocgDgkE5GByK1tR1S10uKN7tpP3j7I0hheV3OCcBEBY8AngcYrIfw/dNpctsJId76st6DuONguFkx064H0z3q34h0+41C2hW1tbe4eN9wMl3JavGcEbkljVmB5II7gkZ7Gfsrv/wABf8Erq/mOuPEmmWjQC4knQTKjK/2SUqgc4XewXCZP94irDaxYrBJK0+EiuBbP8jZEhYKFxjJySPzz0rltW8MeIdStfs1xeRXeYI0Fw17NbhWAG/MMa7ZMkZyx4z0452pNClfxQt6HiFhlbh4edzXCqUDemNpH4otV1JHDxNp9vBB9rvPPlnaYRLbWkpaTy32sFQBmJXIz64JHHSV/EulrY2t2k8k0d4C0C29vJLI4HU+Wilhjocjg8HBqlpfh+6sb+xnlkhK24vd4Vjk+dMrrjjsBz7+tZU8MnhSayvJ9Q0iOU/aozDf3v2dXSSbzAyOVJ3D5QRt79eOUM3z4r0f7LDcRXElxHMZBH9mtpZmbY21ztRSdoPG7GORzyK2AcgEdDXCafo+q3/hu0lt4oFuXlupku2uJbWWHzJmZWUKp3KQQxjfAOFznt3MassSrI+9woDNjG4+uKYddB1FFFIAqK2/49If9xf5VLUVt/wAekP8AuL/KgCh4iv7rTtKWWwMInkuIIFaZC6r5kqoSVDKTgNnqKpW/iJrGa+t9engkktZIo1ls4JP3zSLkIIgXbeAM4Bbgg8c4u+ItJ/tvSlsisLobiCSRJhlXRJVZlIwc5AIx0qve6D9nisH8O2tlbPYTtLHalfKhkDKysMqp2nDZztPI6c0Lb+vL/gjGX3jCwtbG3uoI7m4Sa7W1ZFtZvMiYnB3JsLAgEEKQCcjHWrk3iLTLe+W0lmkEpKKxFvIUjZ8bVdwu1CcjAYg8j1FZc2halNaz3RFoNRlv4bzyBK3lDy9qhPM25yQud2zrxjjNQXPhS4k1q6maBbm0vZkmlX+17m38s7VVh5aApJ93IJ256Hpmhef9bf8ABE/L+t/+Aa48U6Q1+LMXLmXzzbFvIk8tZR/AZNu0N6AnJyMdRVW38VQXqX20SWX2O8S2MlxaSlXyyqMZC8ktjGTjgnikfw/dNpctsJId76st6DuONguFkx064H0z3pk+g6hLHqVsv2bybnUIb2KUytu+V42ZWXbgcRnBBOc9qI9L/wBbf8Eb8u/+f/ANRtf09NWXTnkmW4d/LUm3kEbPt3bRJt2FsA8ZzxRoWoSano0d3chEdnkUhAQAFkZR1PoKw5/D2sXXiGC6uJYnhgvhcLKb+bmIZ2p9n2+WCAQN2STjPfjW07Rng8MvpV3IuZBMrPETwHZjxnHOGpa8t+ovtW6DR4s0fyJZ2uJUgiUMZ3tpVjZSwUMjldrjJHKkjnPSnT+KNLtY45LlrqJJF3ZexnHlrnbl/k/djIPLY6Z6VRfS9cu9D/sy8TT41h8kRzRTOfN2SKclSg2fKp4Bbk9eMmv4s8PaxrjXUNrJGbaa18qLdfzW4hc7txaONcSg/L948YPHXNaXBa7m9/bdkdUOnI0z3AO1ilvI0aNt3bWkC7FOMHBIPI9RWb4e8WWmr29lHPJsvbiMttWCRYnZfvKjkbWI7gMSMHPQ0DSNRHiZbyBbe1g3gyyw3Uha5UJja8BXZuzj95ndhQOnFFnoF1b2Ph6F5IS2mSl5iGOGBikT5eOeXHXHekg6GlqOs2WlyRx3bTGSUFlSC3kmbaMZYhFJAGRyeOaZJr+nxaomnySTLO7iNWNtJ5ZcruC+Zt2bsds5ql4i0q/1GaF9Njt0mRGVLw3UkMtuSRyAikSrwCY2IUlRn2oXXh3WbzXIbi5miligvY51mN/MuY1IOz7OF8sHr82ST7Z4Fq0D0Tsbx1qxezt54rkbbpmSAmNjlgGJyvXja2c46VSbxbpNrbQm6vGlke0S6Jt7OVsxMD+82qGKrwevTjJ5GWW/h6aHWbydniNpiU2cQzmN5cGQnjH3lJBH99qbpHh+60/b50kLY0m3sfkYn549+T0+78wx368Uul/66/8AAHpf+u6/Qv3fiHTLNolluGfzYxMDBC8oWM9HYoCEX/abA4PPBpq+JdLka0EM0032uNJYzDbSuAj/AHGcqpCA+rY6H0NcvI7+EPLik1LSBPLpkEEkNzdFJVaIMoaJApaUHJwvykkdeeLOn6Bqy6fofkxQWk1vZ20ct0LmSOVdoG9GiClJR1A3EbdxI5qrK79f8yemu/8Awx1GpatZaRFFJqEpjE0nlRhY2cu+CQoCgkkhTgdzx1IqnbeK9Gu7iCG3unZ5nMSk28gVZBnMbsVwj8H5GIbpxyKn1TT5b670uWJkC2d358m4nJXy3XA465cfrVF9AuDbhEaFT/awvjyeU37sdPvY/wD10lvZ/wBbf8H7hvRaf1v/AMD7y9Hr+nyaoNOEkouCzKu+3kWNyv3gshXYxHPAJ6H0NQ2XijSNRnhitLl38/IikMEixyMM5UOVClhg/LnPB44NZEXh3WH8SWd/fSxOlrdSytL9vmfzEZJFUCAqI4yAyjjOcHnk5i8NWWqahoWiJcJZx2FsVuFlSRmlkIztXYVwvJ5O45x0GeDsD6nSafrVlqksiWTTPs53tbyIjjOMo7KFce6kiqd/rUlrdGKCWGZhf29s8ZiYGJZMZyc4Y85BGAM4IOKj8P6TqOn3sz3K29rbMmBa211JNGXzkuodR5Q6/IuRz7ctutAuptSuLhZIQkuoW10oLHIWNVDDp14OKFuvl+f+QPZ/P8izpGuLeu0F0yJctcXSRIinDJDLsznkZwVz654p83iXS4YY5DNNKJWkVVgtZZXPlttc7UUkAHjOMcjnkVlx6DqlhdQXtkLO4niuLxjFNM0amOeTeDuCMQw2rxjHJ5qu3hrV00m2t4xZNeRvcP8AbI7qW3aBpJCwK7VO9eQTGx2kqMk9aOiG7XfzNVfFdmNV1O0uI7iGPToRPJcNby7CuCWOdmOAOOTu5x0NSTeKtKgs1upGu/JYMwZbGdvlXGXwEzs5HzfdPY1Tv9C1G4fWY4ntpI9T04W/myOyMkoR1HyhSCp3ZznI9DTdf0XVtRWKG0kRrb7MYmT7fNa+XJ03/uhmQY/hJA49+E9NgXS/9bF3/hJLY+JF0kRTMHthcLcLDIYyD/tBduMc7t2M8dasafr+narOYbKaRm2eYpeB41lTONyMygOvI+ZSRyPUVlp4evENpETA0J0r+z7phKysmB95PlO7n1K46+1N8OeHbnTLuKS+t0LW8BijuF1a5uN3TOIpBtQHAOAxxgDnrVdbev5v/gE62v8A10/4JrX+vafpl0kF7JMjNt+dbaR403NtXc6qVTJ/vEVDdeKdIsr2W1uLl1lhkSObbBIywlgCu9gpVAdwwSQOvPBxk+JvD2sa1cXMcMkTW0iKIS1/NCIcfeBiRdsmSOrHjPTjm5faBdXNl4jhjkhDaqQYCzHC/uUT5uOOVPTPFJeYzZvr63060a5vJPLiUgcKWLEnAUKMliScAAEk9KonxNpYs1ufMnIaUwiIWkpm3gZK+Vt35xz93pz0pviPR5NY0uKKBsTQTJOgMzwhyv8ACXT5lyCeRnBwcHpWSfDd2NNwmmWxuXuPNcvrl0zqQm0OlwU3qcfKVAwR37Uu4djS/wCEot31xdNjhuFMloLlJ2tZdoz0B+UADHqRz8vWh/Fmk2lrbteXu95LVbotDaykGIj/AFm0BiqepJ+XIyeajj0jVIr61nlngvGOn/ZLqaRjG27rvVQpByeoyuOvPSo9P8OXVrAsczwNjR4rA4JILruyen3efr7UbL+v73/ADr/Xl/wTRtPEWl3ss0dtcljDF5xZonVXj/voxADr/tKSKo33jPT7bSL28t47qaSzVS9u9pNE+GztJVkyFOD82McdaSXQtRT7M9hcQQT2+kyWaPydsp2bWAxjaNh/Tg1mR+EtSkh1jzjFC97ZxwRI+oz3eHVnbJeRQQp3DgDjng960/r1Ytbf15G/deJtLs0ja5knTzIvOK/ZJS0Sf3pFC5jHXl8Dg+hq/d31tY2Ml5dzLFbxruaQnjH9c9gOtczqnhzUL3UzqH2eKR7m2SK4t11i5tVQqW6NGv7wEMfvKMY962NU0hrrQY7KxZIZLdoZIBISyBomVlVj1IO0Anr3pdB9SrfeLrG30LUb+3S4kksYvMa3ktZYpOQdpKMoYKSD82McHng0+TXJdO8Gy6xfK11JDA0pWKzlg3kZwPLbc6DoCT068Cql7oeqavaatJerZ2t1d2BsoIoZnkQD5juZyinq3QLwB1OeNrVbBtR0G909XCNc2zwhyMhSykZ/Wh7DVuZX2/4b/gmTJ4ugh1K1WZJktbiya4C/Y5jPuDqv+rC7sYJOdvoc4q7ceJ9It4IJmuWljnh89Gt4JJsR/wB9tinavu2B19KZZadff2tbX96tvE0di1s8cMrSYYupBBKrkYX0HP51gL4Mv7ZLV41junFmltPGuq3NmoKMxBBiB3g7zwwGMcHk0P8Az/N/8Alefl+S/wCCdurB1DIQysMgg5BFLUNpbpaWUFtCnlxwxrGqBi20AYAyeT9TU1N76AtgooopDCiiigAooooAim/1kH++f/QTRRN/rIP98/8AoJooALf/AFR/33/9CNS1Fb/6o/77/wDoRqWgAooooAKKKKACiiigAooooAKKKKACiiigAooooAKKKKACiiigAooooAKitv8Aj0h/3F/lUtRW3/HpD/uL/KgCWiquo6laaVafadQmEMO9U3lSfmYgAcepIqtb+I9Muoi8c8i4uFtmSWCSN1kbG1SjKGGcjkjHNG4bGnRWdd6/plj532q58vyJUhk+Rjh3AKrwOc5HT1qtF4u0WaSNEuZN0kohIa2lXypCcBJMr+7YnoHwTkYzQtdg2Nqiueh8W2kWpaja6jJ5f2W7EKtHBIyopRCDI4BVMliAWKjj2NX7jxBptrqH2KadxNuVGKwO0cbN91XkAKoTkYDEHkeoo7eYdzSoqjZ6zZaheT2tnJJJJbsySkQuEVlOCu8jbu9s5xz0qC88S6XYXj2tzPIHj2+ayW8jxw7unmOqlU9fmI456UAatFYVnrst/wCLrzTYQ0dvZou/fZS5kY85EhwgA4wMEtyQcCrtzrthaagtlK8rTkqCIbeSUR7jhd7KpCZ/2iKANCisqPxLpksNxNDJPLHbv5btHaSsC+8oVXC/M24YwuTTf+Eo0r7FHcrLcOssjRLGlpM029c7gYgu8YxzkcceooA16K52fxfaWWsXcF+7JaxWsNwjx28jsFffuZ9oO1RtHJAAzyav3viLTNPnWK5uG3FA7GKF5FjQ9GdlBCKcHliBwfQ0AadFUF1qyfVTp8bTPOp2sVt5DGrbd20yBdgOOcE55FJqGu6fpdzFb3csn2iZGeOGKB5XcKQDhUUk43Dp256A0AaFFZcviPTIrO2uRPJMl0CYVt4JJZHA6nYiluOh44PBwaVfEWmPc21vDcNNLdRLNEsMLyZjY4DkqCAuepOAOM4zQHS5p0Vn6lrlhpMsMV7LIJZ1ZooooXleQLjdhUBJxuB+mT0BqKy8TaTqdzHb2F35rzRmSJxE/lyAYztcjaxGeQDkc5xg0AatFYFt4jRri2M91bNYvppvXu/LaIHDKN2GJ2rgk4OT71o6drFnqvmi0aYPFjfHPbyQuoPQ7XUHBwcHGOD6U/6/QOti9RXMal4wW3TXora2kWfSoPMWSaCQROdueWKgD/vrkcitO28R6Zdrc+VNIDaxiWVZLeRDsOcMoZQXU4OCuQe1IDUornr7xnp9rpcl5BFdzmK5it5ITaTJIhdl5KFNwGGyOME8A5NbMt/bW+nm+uJPJt1TezSqUKj3BGQfbGc8UdLgWKKyT4n0xbT7Q7XSAy+SsT2UyzO+N2FiKb2454B4BPY1Nb67p11HbNDOf9KmaCNWidW8xQzMrKQCpAU8MB0+lAGhRWPea4qXllDZMkgk1A2dxuU/IRE7nHTnheeRyarTeLLWTVNNs9Ocy/arows728io6CN2JjcgK+CoGVJHNAf1+f8AkdDRWPrWuLo9/psc2BBdSSI+I2dzhCwCKvJJI6AEmpD4k0sael2J5GSSQxLGtvI0xcZyvlBd+4YJI25AGTxQBqUVXtb+2vbBby2k3wMCdxUgjHBBBGQQQQQRkEYrPj8VaTLp8d7FNO8ErBYStpKWmJXd+7XbufjklQcYOehoA2KKy5PEmmR2dvcedLItzu8qOG2kklbb9792qlxtPByODwcGoNA8RQ6tawmSSPzriS58hY1bDxxSlN2eecFfz4oDpc26KzJfEOmxWsdwZpJFlkeKNIYJJJHZCQwCKpY4IOSBjvTJvFGk24iMs8oEkayki2lbykbo0mF/dA88vt6H0NAGtRXP+I/Flpoun3/lOXvLWBnA8iR4kfblVkdRtUnjgsCcj1Fal/eC0sVneeOAGSNC7xNIPmdVxgEHJzgHtnJyBQBcorB0nXZdV8R6naoGjtbFvJ2yWUqs77VJbzGwuPmwFxkgBs4Iqre+Mljt9e+zW8kcuknAe4gkWN/lUkklQB97pnkDcODR/wAOB1FFZUXibSZo7pxctGLRVaUTQyRMFbIUgMoLAkEAjOTwM1Z07VLXVI5GtGkzE2yRJoXhdDgHlHAYcEHpzQBcorObXbBdT+wCSV5wwRjHbyPGjEZCtIFKKcYOCQeR6iq8XivSbixW8t3upoHYKjRWM7+YSCflATLYAOSM4xg4NHmBs0Vkv4m0pLW1uFmlmS7jMkQgtpZWKDGWKqpKgZAJIGDwaqQeLbRNUvrPUZPKMN6tvGyQSMoDIhXzHAKqSzkDJGaOtg2OhooooAKKKKAIpv8AWQf75/8AQTRRN/rIP98/+gmigAt/9Uf99/8A0I1LUVv/AKo/77/+hGpaACiiigAooooAKKKKACiiigAooooAKKKKACiiigAooooAKKKKACiiigAqK2/49If9xf5VLUVt/wAekP8AuL/KgCnrWny6la28cDIrR3cE53kj5UkViOB1wKzdR0C9nvL27tXtzI9za3ECSMwDGLGVYgHbnnkA/TtXR0Uf53/r7g/4Y5ddB1W4uZ7m9NnHJNqFtdeXFIzBEjVQV3FRk8cHAz7VYu/D9xPb6kkTQq13qMF2pJI+VDDnPHX92cfhzXQUULTb+tv8kHW/9df8zlbrQ9Yl/tmyiFibLV5iXmaVxJCjRojYTYQzYU4+YAcdajufCcza1dSCEXVleTJLIG1e5tinyqpHlICj/dBGdvoema66ihaWB6mfo2ny6fDdJMyMZruaddhJwrsSAeOtZV7ouqltWtLIWUllqzFpJZ5HWSDcgR8IFIk4XIyy9cds10tFH/DDvrf5mZp2mSWWqX9wzK0VwIRGMksNibTmq8djqun61dyWKWc9nfTpPK00rJJCQqowACkPwgIyVwfWtuijrcXSxzh0XVIPDQsbSWLzvtcksircPCJI3ld9olVSyHDDkDtjvms2LwtqkGmvGLe1mne7kuEY6pcJJBuVQNs+0u3Qgg4DDH0rtaKP6/r7g/r+vvMBNDvt2pNcXMU8l5p0Vr5pG0tIqyBmIAwAS4PGe9Zdz4Qu/tBZYkvIri2ihnjOrXNmAUTYeIwQ6keoBHPXPHZ0Udb/ANdf8w2X9eX+RzsOjX8PiUXVulvZ2obMrw3UjG5XZtAeErsDZ2/vNxbCAdDgM1V79PG1i2mQ288v9nz5juJWiUjzIv4grY/I/hXS0UdV/XSwdP67nHT+Eb1UsriJknuoxP8AaI0v57JSZpPMYq8WTgNxgg5GDwRWro+hvpuoJOsccMIskg8pZ3mKuHZ2+dxlh83U8+wrcoo/r+vvDczrnT5ZvEdhfqyCK3t54nUk7iXMZGOOnyH9KoWegXFtHoa7oQNOMvmhSedyMBt49T3xXQUUrXVgON/4Qy7l0e2spriFWi0kWZZGf/Wh0YHjB2/J2INavh7R5rCe4uLy1EM8iKgcatcXpZQScfvVG3BPbPU1u0VX9f194PX+v67HN6roWoXb65Fb/ZvJ1S1VFkklYNHIF24KhSCvfOc+3ep9V0nUZ76e702eKKRrEW8ZZip3b9x5AO0EZG4ZIznHFbtFTYDjIfCmpraamW8lJrmS1lhikv5rkAwvu2tLIu7Bx2HGenHPQavp9zquirEpigvEeKdASXjEiOHCk4BK5XGcA98Vp0UwOfuLTXLma01E2+nx3tpI4S2+0u0ckbqAcyeWCrZGfuHgY75ED6Dqa+XqEYs21Eagb17cyusPMJh2B9pPC4O7byR0GeOnoo22A5eDw7qLvHLeyWof+1XvpFhZsBGhaPaCRyQSOeM4zx0plnoWtRrodpcGwFpo8oIljkcvcIsTxqdhUBD8wJG5u/PHPV0U9vw/DYP6+/8A4cx9asdQnv8ATbzTFtneykkZo7iRkDhkK4DBWx164NY934Vv7kJfOYmvzdSXEkEV7NbR4dFTassYD5ARTkrz83AyMdhRSAy9L0w2Whm0EK28j72dPtclyNzEknzJAGbOc8isi78L3cmi6HFGyyXWlwiJ0W9mtlk/dhWxLH8w5AI4ORkY5yOroo/r7g/r7zl7fQtQ0ySzvdLtbXz0jmjntbi/mkU+Y4cuJ2RmJyvIK8568cx2egazpq2NzCbG6vLeW882N5XijZZ5fMyGCMQRheMdzzXWUUwOVstA1fTEsbq3ayur2D7SksTyPFHIk0vmZVtrFSCF4wepGehqHUfDF9d6jNdyQRXIvYY1uYV1e6tFRgu1gBGCJFI/vAHr1zx2FFIDktT8Paw1jrWm6V9h+y6orETTyuHgJjCFdoU7x8o+bcMZ6HHO3rWnTalpK2sDIrieCTLkgYSVHPQeinFaVFO+wGdpmny2V9qs0rIVvLoTRhSchRFGnPHXKH9Ky9Q0HULn+3oIfs3k6pskjkeVgyOERNpXaRjCZ3Z74x3rpaKQHNeIPDU+sXdzNHKiBreFYh5joTJHKZBllwVB4GQcjrjirfh7SZNO+0y3NqIJ5ioYjU573cq5x80oBGMngVtUULRWB6u5iWFjqum308EKWcunz3L3BmeV1lj3ncV2bSG+bODuHB6cc0ToOrweG9I063eKT7JEI7mJL6W1EhCgArLGpfAPbAznnpiupoo6W/rQd9bnGL4X1a30WwtLcWv2u3WUC+W9mjkgLOWBGFPmryCUcgEqM56jRn8P3cumazb+bCZL+7WeNiSAAFjBzxwfkPTPauiooJsFFFFAwooooAim/wBZB/vn/wBBNFE3+sg/3z/6CaKAC3/1R/33/wDQjUtRW/8Aqj/vv/6EaloAKKKKACiiigAooooAKKKKACiiigAooooAKKKKACiiigAooooAKKKKACorb/j0h/3F/lUtRW3/AB6Q/wC4v8qAItR1K00q0+038vlRb1j3bS2WYgKMAE8kgVTm8TaZbyQpO9zF5wTDPZTBU3naodimIyTxhsGpda0+XUrW3jgZFaO7gnO8kfKkisRwOuBWH4i8PaxrF9OI5YmtnaMws1/NEIQpBZTCi7JMkE7mPGenHIv1A0rXxTZz32rW86TWqaY+HnmhkVGG1STuZQBy2AMkkDI4NXtO1e01US/ZGlDRECSOeCSF1yMg7XUHB7HGDg+lY2o+HLy+OtwBoVt9ReOeKUTOrpIixgKQoHyny87gwPPTvVrw9pEuny3M93aiGeVUTeNVnvSyrkgZlA24LHgepoWwPyK0XiuNtb1VLmT7LYaYAjmWymDO5CnIkOF6sAEALNwRkEVfXxPpJsri6kuJII7UqJhcW8kTx7jhSUdQ2CT1xjg+hqneeH7uZtUlhlhWWe9gvLYPkrmJIxtfjgEoRkZxkHqMVFdaFqeqC7ub1bO2uplt4kihmeRAkcvmElyikk5OBt49eeBbDZvRX8Eunm9/eRwBS5M0LxsAOpKsAw6elRabrNlqrTJZtMJIMeZHPbyQuueh2uoODg84xwak1OK7n0q5i02ZYLto2EMjdFbHGeD+eD9DWL4b0K90zVr68vQiLcwwxpH/AGhNeMpQuSS8oBwd44HHX6kF0NGTxFpcN7c2styVktBuuGMT7IRtD5d8bVypyMnnnHINFn4h069WYxSTRmCPzXW4tpIGCc/MFdQSODyM1TufD091FrqGeOP+0J45YGwW2FI4wNw4yNydAeRUcum67fSTX0xsrC+js5Le1FvM0q7nKkszMi45QADaccnnpQMvQ+JtLmtrmfzpYltdvnLcW0kLru+7hHUMcngYByeBk1DpPiBNX16+tLcMILaCF8SwSRSh3aQEMrgEDCqRwOuec1iweEtUEt5cloYZnNrJBFJqE94C8MjvhpJAGCtuA4HHJwcc7Wk2Gprr19qeqraxfabeGJIbeVpNmxpCcsVXOd4PQenbJeguhc/tqyOqnTlaZ7hTtYpbyNGjbd21pAuxTjnBIPI9RUdn4i0u/uGhtrhiQjSK7wukciqcFkdgFcDI5Ukcj1qhPot/N4je5iEFpbSN++lgupN1wmzbteHbs3Zx+8zuwoHTisux8HSwWD2eoBUiis5LeO9GrXMu0FNm7yJBsT5ecBjjoKm+lx6XsdBbeKNJu7lIIbiQSSqzxCS3kQSqoyWQsoDLjHzDI5HrUEfjTQpkVobqWTfGJYlS0mZpkP8AFGoTMgHfbnb3xWDpt/c67runQR3Ol3SWNpMssmm3JnTLKqqWbaAhJzhPmOM88VvaZoc9nJojStCx0/TntJCpJy58rleOn7tvTqKq2v8AXn/wCV/X4FmfxJpcFrbXBnkmS6j82EW8EkzsmAd+1FLBRkZJGBkDvUd54r0ayYCa6dybdbkCC3km/dHOJPkU/L8p56DjPUVhnwhfwwaa8Wyee3tPs00a6ncWYPzbgweIZPUggr6HIxzrafoD2V1I8SxQwNpsVokQmeQoytIT8zDJHzjBPJx0FLpf+uv/AACtL/15f8EmTxJbSeJI9Jiimk8y2E6XCQyNGwPT5gu3GOd27GeOtWtR1my0to0u3lMkgLLFBbyTuVHVtqKTtGRzjHI9azNK0W/0y60p/wDR5Ug05LK5PmspUrg7kG07snjB24689KsX9lqUOuf2npCWtw0luLeWG6maIAKxZWVlVv7xBGOeORjkemnr+tv0JWu/l+l/1HXHijSbW48ma4kyoRpHS3kdIQ33fMdVKx8c/MRxz0q1LrFjBDfSyz7U0/8A4+TsY+X8of05+VgeM1i3Wi6uV1SzthYyWmrHdNNLI6vAWjCPhApEgwuRll647ZqHVPDurvDrFnphsjbaoi5muJXDxMI1jI2hSGBCDncMZPBxgvT+v6/4cf8AX9f1oag1+OC81QX7LHBZyxRxFEZncuitjaMlmJOAAM+1LouurrOo6jFCMQ2rRqu+J45AWXJDq+CD9QOKp3nh++bULi+tXtzML2G6gjlZgr7IvLZWIB25ycEBscHFXNFsNRg1LUr7VPsyteNGUit3ZxGFXbgsVXPrnA69KlB2K1t4stFvr611CTy2t7026tHBIyIuF2mRwCqElv4iM1fk8QabFqX2F5387eI2ZYXaNHPRGkA2KxyPlJB5HqKyLjQ9YlTVbBRY/YdUuWkecyv5kUbKqsAmzDNhTg7gBkdccxHwpOmtzOYRdWU92Lks2r3MJQ5Bx5KgxvgjI5GeAemS10v/AFt/wQfX+u5u6pqEtld6XFEqFby78iTcDkL5btkc9coP1qOLxNpU14LaKeRmZ2jST7PJ5UjrnKrJt2MwweASeD6GpNV0+W+utLkiZAtnd+fJuJyV8t0wOOuXH61k2mhapHbWOlXH2P8As+wnSVLlJXM0io25FKbcKegLbznB454Bvy7f5/8AANeHXtMuJrOKG7RnvoDcW64I3xjGW5HH3hwefyNV5PFWjxJC7XMhSaJZgyW8jCONvuvIQv7tTzy+BwfQ1iz+Dr9rK5S3u4luFnK2UhLfurdt4Knj7wEzgdvlTnipNU8JzS6pPNaQLc2t1FHHJC2q3NmECrtxiIFXBXHBAxzyc8H9f1+H4iN06/pq6hcWbXBEtqN1wTE/lwjYHy742qNpzyeefQ1HB4m0qe3uJhPJEluivILi3khba2QpCuoLAkEAgHJ4HNVJvDT3Fnr9o8qxxaoQImUsSgEKR/N0PVex5Hes5PCt9JayvJBFb3yGJ4JH1a5vVcxyCTawlA2KSo5GSM+3J1Doa2l+IU1XxBd2durCC3topSJoJIZQ7M4IKuAQMKpHHenQ+JbV9c1HTpo5YFsI1ke4lidY8EEsS5UKAMdc8846Gm6ZY6p/wkF1qmqLaRCa1igSG3laTZsZycsVXOd47D07ZMOo6BdX17q6B4UtNTtEiMu4+ZE6hgPkxhl+YH7w6Yx3o6B1+4v6br+n6rMYrR5hJsEgSe2khLp/eXeo3DpyMjkeoqvc+I4oPEL6QLecyi1M4l8iQpnngsF24467sZ460llZarc6vb3+sxWVu1rA8Ua2kzy+YXK7mJZV2j5B8vPXrxT7zTrx/EC3tsIHhktGtpfMkKsnO4MoCkNzwQSMe/SlK/Tz/J2/Qa8/L9L/AKkPh/xVZaxZ2avLsvJ7Rbhl8l0jbgb9jMNrAFsHBOO9XdP1/TtVnMNlNIzbPMUvA8aypnG5GZQHXkfMpI5HqKzB4ank07RrSeWMLZ2T2s7IxyS0QTK8eoPXFM8OeHbnTLuKS+t0LW8BijuF1a5uN3TOIpBtQHAOAxxgDnrVu3M+3/D/APAIV+VGtqWvafpMqpfSSplQzMlvJIkYJwC7KpCDPdiOh9KkbWLBYJJjP8kVwLZvkbIkLBQuMZOSR+eelc/4s8PaxrjXUNrJGbaa18qLdfzW4hc7txaONcSg/L948YPHXOg2gTN4lS83xCxytw8XO5rhUMYbpjG0j3yi1KKZbg8Qabc6h9ihndpdzIreQ4jdl+8qyEbGYYOQCSMH0NQw+KdKudPF7bSXM1uxVUaOymbzCQT8gCZfGDnbnGDnGKydH8KT6dqEKzwrPb20ryQ3B1e5JGd2D9nIMYOGwcNjqQBnFTnQtWg8K6TptrJE72qKl1Gt5JbCUBCPllRS64bB4Az0PoToPqaTeJdLWytrpZpZUut3kpDbSSSNt4b92qlxg8HI4OAcUn/CT6SbGG7iuXnind0iFvBJK8hQkNhFUsQCDk4x+YrmY7Sbwcmn3N1qOkRzgXUZhv8AUGiV1km8wFZWVmZh8oOQc56+rdP8PX+oaPp2ooN9wsl2xjN5PY745pi4YNHlh0U7SDkHsRQI7aG+tp9PW+hlD2zR+aJAD93Gc46/h1rPHirSmsUvI3u5YJP9W0VjO5cYB3ABCSuCPmHHOM5qWz0z7N4c+wRRLA7ROCn2h5grNkn9443NySckZrLvNE1ZtN0q0t5I5IrW2EU8S381plwqgOHjXcwGG+U4Bzk9BgfW39bguly4fFNm2uafYQRzTx39sbiK5ihkZMZULyFIwQ2SSRtwM/eFWbLxBpuoXn2W0md5MMyM0DqkoU4JRyAr4yPuk1k6d4ev9Oj0IZt5jZWDWVz+9ZeG8sl0O07iPL6HHXrUfh3wtPpN1ardQLJHYoUguP7WuZM8bQfs7jYmVPZjjtT0v9/9fkHQvX2vSReLLTR4Mxq0TTzyyWcsilQQNocYVepyxJA4GMmrVh4j0zUrlYLSaRmdS8TPbyRpMo6mN2UK45BypPHPSmX2jPfaxJO8irbyafJaNgneC7A5H4A96qWWlatJcaauqrYxxaXkxyW0js07eWYwSpUCMYYnGW5xzxkytv68/wDgA9/67L/gmppWs2WtW5n02SSWHAIkaB0Vs/3SwAb3xnB4PNXqz9A0+XSvDthYXDI0ttAkblCSpIGOMgVoVTtfQCKb/WQf75/9BNFE3+sg/wB8/wDoJopAFv8A6o/77/8AoRqWorf/AFR/33/9CNS0AFFFFABRRRQAUUUUAFFFFABRRRQAUUUUAFFFFABRRRQAUUUUAFFFFABUVt/x6Q/7i/yqWorb/j0h/wBxf5UAS0VWv9QttMtfPvGZU3BFEcbSMzE4AVVBZj7AGqT69ZxsJ5LryrYWkly0ctrIsgVCAzHOCMZxtK5OfagDWorCbxpoSrITdTExp5hVbSZmMf8Az0ChMmPj74BX35o1nXjYWt5NZz28rw2aXEcLRMcgsRuLg4IPoOeM55oDpc3aKzrjX9PtdSSxnklWZ3WMN9nkMYdvuqZAuwE8cE55HqKfY6zY6ldT29lJJK9u7JK3kOEVlbay7yNuQR0znHPQ5o3AvUVnx63Yy6lJYxvK0sRKu/2eTygQMkebt2ZA7ZzUdp4k0q9Mvk3JVY4jMZJoniRox1kVnADp0+ZSRyOeRQBqUVjw+K9ImZ1E80bpA9yUmtZYm8pcZcBlBI5HI684zg1F/wAJpoW1yt1MxVBLtS0mZnjOf3iqFy0fH31yvvQBu0VmXniPS7BYmnuHcSRecDBA82I/77bFO1f9o4FR3/inSNNnkiurl98cSzSeVBJKEjbOHJRSAvyn5jwO9AGvRWH/AMJVZLrt7p8yyxx2lslw10YZPLKncT823aAAvBzg5IHINaOn6lb6nC0tqtwqq20i4tpIGzgH7rqDjnrjFAFuisPxNeavp1ql1pdzZJH5sUTR3Fq8hJeRUyGWRcAbs4wenWorjxBLo+rW9jrEqTb7R5me0s5SzMHA+WNS7bQDz19cij+v1A6Gism48T6RbwQTNctLHPD56NbwSTYj/vtsU7V92wOvpUz65YJqKWIklkmcKcxW8kiLu+7udVKrntkjt60AaFFZsHiDTbnUfsUE7tKWZFbyXEbsv3lWQjYzDByASRg+hpdS1/TtImSG+mkWWSNpEjigklZlUgMQEUnjIz7c0AaNFZlj4j0rUbsW9ldeazRmVHEbiOVBjJRyNr4yM7Scd6jh8UaTPFdSCaaNbSD7RL51rLEfK5+dQygsODyuf1oDfY16KyYPE+kXAlKXRVYoTOXlheNXiHV0ZgA6jI+Zcjkeoq3p+pW+pwtLarcKqttIuLaSBs4B+66g4564xQBborOXXtPfUTZJJK0qsUZ1t5DEGAyVMu3YCADxnNQR+K9He3up2uJYUtIhNN9otZYSsZJAcB1BK8HkZHFAGxRVDT9bsdUmmhs5JDLAAXjlheJsHOGAcDKnBwwyDjrWa/iy0stZ1Gz1OTyktpIlR44JHCK6Kd0jKCEG4kAttHB9DQB0NFZt14g02zvhaTzOJcqrFIXdIyxwod1BVM5GNxHUVUTxNb232ttWkSBY9Qazg2RsxkOwMFwMksecAdeAOTyb/wBf13A3aKqafqdrqkDy2buwjco6SRNG8bdcMjAMpwQeR0IPesq08ZafNb3k90lxaR2t19m3S20oDksFXGUHJJ6DJHGetHWwdLnQUVkz+JdMtWhFw1zF5wQhmspgEDHau87MR5P9/FJN4p0iC+e0luXEscywSEQSFI3bG0M4XaudwxkjOaANeis7+3tPN9Nah5i8G7zHFtIY1KjJHmbdhIHbOajsPE2k6lMkdncs3mx+bE7wuiSqACSjsoVsZGcE470AatFZdh4j0zUrlYLSaRmdS8TPbyRpMo6mN2UK45BypPHPSs+48caYlraXNnHd3cFzOkQkispyuGGcqQh3Y6YHfI6g0AdJRWbJ4g06LUksJHmWZ3CKTbS+WXK7gvmbdm7HbOaoaf4qg1S2MsYkstl/9lIubSX95+8KAAkLhjj32ng0bhsrnQ0Vlf8ACS6X/aP2ITyGTzfI8wW8nkiT+55u3ZuzxjdnPHXimx+KdIlv1s0uXMrTtbbvIk8sSqSDGZNu0NwcAnJ4x1FG4bGvRVa/1CDTbcTXXmlWYKqwwvK7H0CoCx4BPA7VTbxLpa2VtdLNLKl1u8lIbaSSRtvDfu1UuMHg5HBwDigDVorJ/wCEn0k2MN3FcvPFO7pELeCSV5ChIbCKpYgEHJxj8xST+KdIgWAtcSSG4h8+JYLeSVnjyAW2opPGRnjjvQBr0Vlz+I9Lgtrafz3nS6j82EWsEk7OmB8+1FJ28jnGBkDvTf7fsoVupLi7V0imSNY4reQyAsisEAGTIxDZ+UdDjHBNAGtRWU3iXTFsobkSTusztGkcdpK8u5c7gYgpcYxzkcceorTikWaFJI8lXUMpII4PsaAHUUUUARTf6yD/AHz/AOgmiib/AFkH++f/AEE0UAFv/qj/AL7/APoRqWorf/VH/ff/ANCNS0AFFFFABRRRQAUUUUAFFFFABRRRQAUUUUAFFFFABRRRQAUUUUAFFFFABUVt/wAekP8AuL/Kpaitv+PSH/cX+VAFHXrKa/09Yre2t7lhIG2T3DwYxn5lkQFkYHGCB69Kxp/DOqXVgY7i7hlnbSrmzLO7HDyFSg3YywUDBY8nGcZJrrKKP6/Cw7/1+JjyaPK97NODF+804WgPOd2SfTpzWXP4WvZdOe3WW3DtpMNkCWbG9GJJ6fd5+vtXWUULT+vX/Nk20t/XT/JHI6t4d1jUta81pYnt0vIJ4nN/MgSNHRin2dV8tjkN8xJPI6cY3dF0+XTbS4inZGaS7nnGwkja8jMByOuDzWjRQtFb+v60G9f6/rucy+gX9xrF0x8mys7lZVma2upGNwGUqMwlQiOOCXUknbjoeM1fCU0ej3UOpmK1Edi8KX7atc3CoMDLGKX5UU7QSAxwBjPeu4opbLQfU4KG4vPFerzCKbTJVTSLi2Mmn3LXEKySFNu6TaME7T8oBIAzzkV0qaRKt9HOTF8unfZCec7sg+nTitiim7Nf15/5sX9fl/kcU/g++hWyeJUuXTTobO4jGq3NmoMYOCDEDvB3NwwGPxIrWTw/JCdSW38qOG506K0gTezbCiyDkkZI+cc8ng1v0US95NPqC0tboc0ND1C3mlMcNjdxXGmRWksdxIwXdGH4wEO5W34J4xjoelTaPp+tafGiO8Aga4y0El1LcmGLYRhJXAZiXwfmGACQO1b9FNu7uK2lv62sZ2u6fLqeli2t2RX+0QS5ckDCSq56DrhTQ2nyt4mTUQyeStm0BXJ3bi6tnp0wK0aKX9fhYe6scOvgy/tktXjWO6cWaW08a6rc2agozEEGIHeDvPDAYxweTWl/YN9DrFo+nRW9lbwiJDPHeSl2jRcGN4iu2TuA7NkA5HI56aihaA9TktH8KT6bqMAnhE9tbSvJDcHV7kkZ3YP2cgxg4bBw2OpAGcVtzadLJ4kg1AFPJjs5YGUk7izOhHGMYwprSoo6f16Bv/XzObtfD19a2eixwzwRTafp8lszgFgJGRAGAxyAVJ5xWJeaBqdlpWtajqPlrnRriBgNRnuyzkbtw8xQFBwflUAf07+ih6tv+v61GnqjmBpmrakEm1C200rBZvDBD5julyXABMmUGxcKPlG/r1OOdDw9p99p9rMl+4CtJmGAXT3PkrgDHmyAM2Tk8jjOBxWvRT63JSsrHPWmna5p9vc6fZtYrbM07wXjSMZULlmUGPbtOGbru5A6c1kL4R1aZdQacwxPdWQt1D6lPd/Pv3Ft0ijaD/dUYH48dxRSWjuN6qxnpp8q+JpdRLJ5L2iQBcnduDsxPTphhWfqGg3V1Z+JIo5IQ2qx7ICzHCnygnzcccjtniugooHezuche+E55dYu5RCt3aXzo8ytq9zbbCFVGHlxgo4woPOPQ8c0zVLC90+8snt/s8k1xrrXEKu7BSDbONrEAkH5TyAccHnpXZUULT+vT/IXT+uzX6mXo9jdwS3l5qQgS5vJQ7RW7F0jCqFUBiAWOBknA64xxznPoOoN9pgH2byG1SK+jk81txAkVmUrtwCNuByc+1dLRQtHdf1s/wBAeqscl4m8PaxrVxcxwyRNbSIohLX80Ihx94GJF2yZI6seM9OOblzoF1Np+tQLJCGv7xZ4iWOFULGMHjr8h6Z7V0NFC0B6nLXOk6jFqF9eKtvaWrRzNL5F1I32kFSF3QlQiN0JdSSduOh4r6XpOo6zoukJqQtYLOCy/dvbyM0kpeHywSCoCAKzHALZOORjnsaKVtGn/W/+YdU/66f5HO2WlatJcaauqrYxxaXkxyW0js07eWYwSpUCMYYnGW5xzxktXQb+38KaPZQG3kvNNaFyryMschQYI3BSR167T9K6Siqu27gtFY5G78Paze67Fc3EkTRQ3yXCyf2hMB5akHy/s4UR5HPzEknHbPFlNB1ARG2b7N5SasL6OQStudDKZGBXb8pGcDk59q6WiktLW/rb/IHre/8AW/8Amcuug6oLc6S32M6Z9s+0i581/O2+b5u3y9uM7uN2/pzjPFTf8I/df2V9m8yHf/axvs7jjZ9o83HT723j0z3710VFC0/r+uwPVW/r+tTI8Q2Wo31vAmmspVZMzwm7ktTIu04AljUsuGwcDr0zjg81HaTeDk0+5utR0iOcC6jMN/qDRK6yTeYCsrKzMw+UHIOc9fXvKKNtg30ZwOn+Hr/UNH07UUG+4WS7Yxm8nsd8c0xcMGjyw6KdpByD2IroNK0KSw1C1nWOOCKOyeF4hcPORI8gcne4yw68nB56VvUU/wCv6+8Hrv8A11OVsNC1fRUs5rAWV1OlmtrPFPM8a/KxZWVwjH+IggqM8cjHLNS8K3t5cXN2HjaY30d3FGl1LbhgIFiYGSP5kP3iCM9geprraKX9fqO+tzkpPDl4ulxx22nWy3JleV2bWbkyRuQFDrOULngYKkAHj8entI5obKGO6n+0TpGqyTbQvmMBy2B0yecVNRQIKKKKAIpv9ZB/vn/0E0UTf6yD/fP/AKCaKAC3/wBUf99//QjUtRW/+qP++/8A6EaloAKKKKACiiigAooooAKKKKACiiigAooooAKKKKACiiigAooooAKKKKACorb/AI9If9xf5VLUVt/x6Q/7i/yoAi1HUrTSrT7TqEwhh3qm8qT8zEADj1JFZ8fi/RZXRFuZQzSiFla1lUxOSAqyZX92SSMb8Z7ZqzrWny6la28cDIrR3cE53kj5UkViOB1wKoXmgXFxDq6xNCrX17DcISSMKgiBB46/u29eooXn/W3/AAQL8mvafFqqadJJMs7uI1JtpPLLldwXzNuzdjtnNVtM8QxXLeTeOi3Ul5cwQxRIzEpFIy7jjOBgDLHAyQO4FZl54e1i91+K5mkieCG+S4SQ38w/dqQQn2cL5eR/eJJOO2eH6b4ZvtL1G7uIZLeVNRuJvtaO7ApG0jsjRttJBAblPuknIIOSyV7X/roN22/rr/wDYsfEGm6ldfZ7OZ3cqXRmgdElUEAtG7AK4GRypI5HrRd6za6dc3ZvryOOG1tknkXyW3RqWYbi2cEHb0AyMHPUVjeHPDFxpN1bC8gV1s4jHDcjVrmXPG3PkONiZHYMcdBVnWvD91qVxqkkEkKi8sIraPexGGV3Yk4HTDD9arToLoy5B4n0m4kaNLiRHWSOMrLbyRnLkhDhlGVYggN0J71Lc69p1p5wmnYtBKsLJHE8jGRl3BFVQSzbTnC5IHJqnqmgy6jqF7NvjVZrFIYic7klV2dXxjsSp+oqjd+Fru40mzYtG+ow3T3c4S6lt0ldwwYCWP51wGABweFAI54XT+v6/pD6/wBdv6RrP4l0xLOG4Es8izsypHFayyS5U4YGNVLjB4OQMHrVaPxbYtqWpW00dxFFp8C3D3DW8uwptLE52YGAOOTnnHQ1Qm8OXo0uCOzsLaO53ySPI2sXJkidsAMs5QuwIHKEAHj0qa70HVJl1aIS2041LTVt2uJGMbCZUZc7ApG07s5B46YNHQFurlpvGmhKshN1MTGnmFVtJmYx/wDPQKEyY+PvgFffmrV94h0zTtn2md23x+aPIgebbH/fbYp2r/tHA96ik0eV72acGL95pwtAec7sk+nTmsW48JXqPaSwKly40+G0njGq3NkAYwcEGIHeDubhgMfiRR/X5/5L7xf1+X/B+4273xTo+nzyQ3N026JFkl8uCSQRo2cOxVSFXg/MePei38QwXHii40ZYJ98MMcom8mTY27dxu27QMKMHOCSQOQaqf8I7LHbavBb+VHHeWEdrboZGbyysbLySM4+Yc8mrFlpd5Za99qAgkt5bKG3lPmEOjRlyCo24YHf3IxjvT0uxfZ/ryLGpa9YaXJ5VzJJ5vlmQrFBJLsXpufYDsXOfmbA4PPBqjZ+LLNdB0281Rys91ZpcyJbW8kojBUEsQoYqmc8txx14p95p+qw61c3mlCzkS9gSGT7TIyGEoWwy4Vt4w5+X5enXnjFXwbf20NgYxHdSR6dDZ3CLqtzZLmMHkGIHeDubhgMfiRSW39ef/AK/r8jprrX9Os7pLeSWSSR1V8QW8kwRWOFZyikIDzgtgHB9DUH/AAkNlbW++5uWuGa4lhRbWzldiUYhhsUMx24wW6Z9MgVWtdJ1HRr6T+yIbN7O5WIOk9w6tb7ECfKdreYNqjgleQeeeKlz4c1EWXlW8VpLL9rup0m+2S28kPmSFlKuikng/Mp4OBycUPyEtv67Gudds7db2a6vY/Jt2jG1YHDJvUFV7l2bIwFGeQME0DxNpI0+e9luXght3WOb7RBJE8ZYgLuRlDAHcOSMVmyeHdR3XFwLmCa7Fzb3MTSAqsrRxBGDgD5d3zdM4yDg4xS3Gg6lqK3dzdi0t7u4ktMRRSs6JHDLv++VBLHLfwjsPejr/XkHYvp4p0l7WaYTTjyJFieFrSVZgzcqBEV3nI5GAc4Poa0rW6jvLVLiDeEcZAkjaNh25VgCD7EVg6roV3c6le3UMFpdJcJbqsc1zJAymMyEssiKSjAuuCOevTrV7SLbV7SO3g1CeCeJIDvfczSCTdwu4gblC8biAxIyetAGrRRRQAUUUUAFFFFABRRRQAUUUUAFFFFABRRRQAUUUUAFFFFABRRRQAUUUUAFFFFABRRRQAUUUUAFFFFAEU3+sg/3z/6CaKJv9ZB/vn/0E0UAFv8A6o/77/8AoRqWoEE0YKhI2G5iCXI6kn096dvn/wCecf8A38P/AMTQBLRUW+f/AJ5x/wDfw/8AxNG+f/nnH/38P/xNAEtFRb5/+ecf/fw//E0b5/8AnnH/AN/D/wDE0AS0VFvn/wCecf8A38P/AMTRvn/55x/9/D/8TQBLRUW+f/nnH/38P/xNG+f/AJ5x/wDfw/8AxNAEtFRb5/8AnnH/AN/D/wDE0b5/+ecf/fw//E0AS0VFvn/55x/9/D/8TRvn/wCecf8A38P/AMTQBLRUW+f/AJ5x/wDfw/8AxNG+f/nnH/38P/xNAEtFRb5/+ecf/fw//E0b5/8AnnH/AN/D/wDE0AS0VFvn/wCecf8A38P/AMTRvn/55x/9/D/8TQBLRUW+f/nnH/38P/xNG+f/AJ5x/wDfw/8AxNAEtRW3/HpD/uL/ACo3z/8APOP/AL+H/wCJpkQnjhRPLjO1QM+Yef0oAsUVFvn/AOecf/fw/wDxNG+f/nnH/wB/D/8AE0AS0VFvn/55x/8Afw//ABNG+f8A55x/9/D/APE0AS0VFvn/AOecf/fw/wDxNG+f/nnH/wB/D/8AE0AS0VFvn/55x/8Afw//ABNG+f8A55x/9/D/APE0AS0VFvn/AOecf/fw/wDxNG+f/nnH/wB/D/8AE0AS0VFvn/55x/8Afw//ABNG+f8A55x/9/D/APE0AS0VFvn/AOecf/fw/wDxNG+f/nnH/wB/D/8AE0AS0VFvn/55x/8Afw//ABNG+f8A55x/9/D/APE0AS0VFvn/AOecf/fw/wDxNG+f/nnH/wB/D/8AE0AS0VFvn/55x/8Afw//ABNG+f8A55x/9/D/APE0AS0VFvn/AOecf/fw/wDxNG+f/nnH/wB/D/8AE0AS0VFvn/55x/8Afw//ABNG+f8A55x/9/D/APE0AS0VFvn/AOecf/fw/wDxNG+f/nnH/wB/D/8AE0AS0VFvn/55x/8Afw//ABNG+f8A55x/9/D/APE0AS0VFvn/AOecf/fw/wDxNG+f/nnH/wB/D/8AE0AS0VFvn/55x/8Afw//ABNG+f8A55x/9/D/APE0AS0VFvn/AOecf/fw/wDxNG+f/nnH/wB/D/8AE0AS0VFvn/55x/8Afw//ABNG+f8A55x/9/D/APE0AS0VFvn/AOecf/fw/wDxNG+f/nnH/wB/D/8AE0AS0VFvn/55x/8Afw//ABNG+f8A55x/9/D/APE0AS0VFvn/AOecf/fw/wDxNG+f/nnH/wB/D/8AE0AS0VFvn/55x/8Afw//ABNG+f8A55x/9/D/APE0AS0VFvn/AOecf/fw/wDxNG+f/nnH/wB/D/8AE0AS0VFvn/55x/8Afw//ABNG+f8A55x/9/D/APE0AS0VFvn/AOecf/fw/wDxNG+f/nnH/wB/D/8AE0AS0VFvn/55x/8Afw//ABNG+f8A55x/9/D/APE0AE3+sg/3z/6CaKaRK8kZdUUK2ThyexHp70UAf//Z\">"
   ]
  },
  {
   "cell_type": "code",
   "execution_count": 27,
   "metadata": {},
   "outputs": [
    {
     "data": {
      "text/plain": [
       "[<Item title:\"Maryland Interstate Transportation Risk Map: Crash Rate Risk\" type:Web Map owner:albe9057@esri.com_esrifederal>,\n",
       " <Item title:\"Maryland Interstate Transportation Risk Map: Crash Rate Ratio Risk\" type:Web Map owner:albe9057@esri.com_esrifederal>,\n",
       " <Item title:\"Maryland Interstate Transportation Risk Map: Crash Density Risk\" type:Web Map owner:albe9057@esri.com_esrifederal>,\n",
       " <Item title:\"Maryland Interstate Transportation Risk Map: Potential Crash Savings Risk\" type:Web Map owner:albe9057@esri.com_esrifederal>]"
      ]
     },
     "execution_count": 27,
     "metadata": {},
     "output_type": "execute_result"
    }
   ],
   "source": [
    "webmaps = gis.content.search(\"Maryland Interstate Transportation Risk Map\", item_type=\"Web Map\")\n",
    "webmaps"
   ]
  },
  {
   "cell_type": "code",
   "execution_count": 28,
   "metadata": {},
   "outputs": [
    {
     "data": {
      "text/html": [
       "<div class=\"item_container\" style=\"height: auto; overflow: hidden; border: 1px solid #cfcfcf; border-radius: 2px; background: #f6fafa; line-height: 1.21429em; padding: 10px;\">\n",
       "                    <div class=\"item_left\" style=\"width: 210px; float: left;\">\n",
       "                       <a href='https://esrifederal.maps.arcgis.com/home/item.html?id=939661a34cd640a59d82015da2724060' target='_blank'>\n",
       "                        <img src='data:image/png;base64,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' width='200' height='133' class=\"itemThumbnail\">\n",
       "                       </a>\n",
       "                    </div>\n",
       "\n",
       "                    <div class=\"item_right\"     style=\"float: none; width: auto; overflow: hidden;\">\n",
       "                        <a href='https://esrifederal.maps.arcgis.com/home/item.html?id=939661a34cd640a59d82015da2724060' target='_blank'><b>Maryland Interstate Transportation Risk Map: Crash Rate Risk</b>\n",
       "                        </a>\n",
       "                        <br/>Web map containing the results from FHWA Network Screening and usRAP crash risk and potential crash savings from the ArcGIS solution template.<img src='https://esrifederal.maps.arcgis.com/home/js/jsapi/esri/css/images/item_type_icons/maps16.png' style=\"vertical-align:middle;\">Web Map by albe9057@esri.com_esrifederal\n",
       "                        <br/>Last Modified: January 07, 2019\n",
       "                        <br/>0 comments, 1 views\n",
       "                    </div>\n",
       "                </div>\n",
       "                "
      ],
      "text/plain": [
       "<Item title:\"Maryland Interstate Transportation Risk Map: Crash Rate Risk\" type:Web Map owner:albe9057@esri.com_esrifederal>"
      ]
     },
     "metadata": {},
     "output_type": "display_data"
    },
    {
     "data": {
      "text/html": [
       "<div class=\"item_container\" style=\"height: auto; overflow: hidden; border: 1px solid #cfcfcf; border-radius: 2px; background: #f6fafa; line-height: 1.21429em; padding: 10px;\">\n",
       "                    <div class=\"item_left\" style=\"width: 210px; float: left;\">\n",
       "                       <a href='https://esrifederal.maps.arcgis.com/home/item.html?id=62d0db709c004224bb1126ff6fc387c4' target='_blank'>\n",
       "                        <img src='data:image/png;base64,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' width='200' height='133' class=\"itemThumbnail\">\n",
       "                       </a>\n",
       "                    </div>\n",
       "\n",
       "                    <div class=\"item_right\"     style=\"float: none; width: auto; overflow: hidden;\">\n",
       "                        <a href='https://esrifederal.maps.arcgis.com/home/item.html?id=62d0db709c004224bb1126ff6fc387c4' target='_blank'><b>Maryland Interstate Transportation Risk Map: Crash Rate Ratio Risk</b>\n",
       "                        </a>\n",
       "                        <br/>Web map containing the results from FHWA Network Screening and usRAP crash risk and potential crash savings from the ArcGIS solution template.<img src='https://esrifederal.maps.arcgis.com/home/js/jsapi/esri/css/images/item_type_icons/maps16.png' style=\"vertical-align:middle;\">Web Map by albe9057@esri.com_esrifederal\n",
       "                        <br/>Last Modified: January 07, 2019\n",
       "                        <br/>0 comments, 1 views\n",
       "                    </div>\n",
       "                </div>\n",
       "                "
      ],
      "text/plain": [
       "<Item title:\"Maryland Interstate Transportation Risk Map: Crash Rate Ratio Risk\" type:Web Map owner:albe9057@esri.com_esrifederal>"
      ]
     },
     "metadata": {},
     "output_type": "display_data"
    },
    {
     "data": {
      "text/html": [
       "<div class=\"item_container\" style=\"height: auto; overflow: hidden; border: 1px solid #cfcfcf; border-radius: 2px; background: #f6fafa; line-height: 1.21429em; padding: 10px;\">\n",
       "                    <div class=\"item_left\" style=\"width: 210px; float: left;\">\n",
       "                       <a href='https://esrifederal.maps.arcgis.com/home/item.html?id=b48919655aac4e4ca7ed19649b6b0378' target='_blank'>\n",
       "                        <img src='data:image/png;base64,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' width='200' height='133' class=\"itemThumbnail\">\n",
       "                       </a>\n",
       "                    </div>\n",
       "\n",
       "                    <div class=\"item_right\"     style=\"float: none; width: auto; overflow: hidden;\">\n",
       "                        <a href='https://esrifederal.maps.arcgis.com/home/item.html?id=b48919655aac4e4ca7ed19649b6b0378' target='_blank'><b>Maryland Interstate Transportation Risk Map: Crash Density Risk</b>\n",
       "                        </a>\n",
       "                        <br/>Web map containing the results from FHWA Network Screening and usRAP crash risk and potential crash savings from the ArcGIS solution template.<img src='https://esrifederal.maps.arcgis.com/home/js/jsapi/esri/css/images/item_type_icons/maps16.png' style=\"vertical-align:middle;\">Web Map by albe9057@esri.com_esrifederal\n",
       "                        <br/>Last Modified: January 07, 2019\n",
       "                        <br/>0 comments, 0 views\n",
       "                    </div>\n",
       "                </div>\n",
       "                "
      ],
      "text/plain": [
       "<Item title:\"Maryland Interstate Transportation Risk Map: Crash Density Risk\" type:Web Map owner:albe9057@esri.com_esrifederal>"
      ]
     },
     "metadata": {},
     "output_type": "display_data"
    },
    {
     "data": {
      "text/html": [
       "<div class=\"item_container\" style=\"height: auto; overflow: hidden; border: 1px solid #cfcfcf; border-radius: 2px; background: #f6fafa; line-height: 1.21429em; padding: 10px;\">\n",
       "                    <div class=\"item_left\" style=\"width: 210px; float: left;\">\n",
       "                       <a href='https://esrifederal.maps.arcgis.com/home/item.html?id=121b19e3b0d94efa8e9226b8d0278320' target='_blank'>\n",
       "                        <img src='data:image/png;base64,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' width='200' height='133' class=\"itemThumbnail\">\n",
       "                       </a>\n",
       "                    </div>\n",
       "\n",
       "                    <div class=\"item_right\"     style=\"float: none; width: auto; overflow: hidden;\">\n",
       "                        <a href='https://esrifederal.maps.arcgis.com/home/item.html?id=121b19e3b0d94efa8e9226b8d0278320' target='_blank'><b>Maryland Interstate Transportation Risk Map: Potential Crash Savings Risk</b>\n",
       "                        </a>\n",
       "                        <br/>Web map containing the results from FHWA Network Screening and usRAP crash risk and potential crash savings from the ArcGIS solution template.<img src='https://esrifederal.maps.arcgis.com/home/js/jsapi/esri/css/images/item_type_icons/maps16.png' style=\"vertical-align:middle;\">Web Map by albe9057@esri.com_esrifederal\n",
       "                        <br/>Last Modified: January 07, 2019\n",
       "                        <br/>0 comments, 28 views\n",
       "                    </div>\n",
       "                </div>\n",
       "                "
      ],
      "text/plain": [
       "<Item title:\"Maryland Interstate Transportation Risk Map: Potential Crash Savings Risk\" type:Web Map owner:albe9057@esri.com_esrifederal>"
      ]
     },
     "metadata": {},
     "output_type": "display_data"
    }
   ],
   "source": [
    "for webmap in webmaps:\n",
    "    display(webmap)"
   ]
  },
  {
   "cell_type": "code",
   "execution_count": 29,
   "metadata": {},
   "outputs": [
    {
     "name": "stdout",
     "output_type": "stream",
     "text": [
      "Maryland Interstate Transportation Risk Map: Crash Density Risk\n"
     ]
    },
    {
     "data": {
      "application/vnd.jupyter.widget-view+json": {
       "model_id": "3f03ede7f8044d9bbe2c7a964a394b0b",
       "version_major": 2,
       "version_minor": 0
      },
      "text/plain": [
       "MapView(hide_mode_switch=True, layout=Layout(height='400px', width='100%'))"
      ]
     },
     "metadata": {},
     "output_type": "display_data"
    },
    {
     "data": {
      "text/html": [
       "<div class=\"map-static-img-preview-7cf9e91c-fea5-40d5-aea3-4b326639516e\"><img src=\"\"></img></div>"
      ],
      "text/plain": [
       "<IPython.core.display.HTML object>"
      ]
     },
     "metadata": {},
     "output_type": "display_data"
    }
   ],
   "source": [
    "print(webmaps[2].title)\n",
    "WebMap(webmaps[2])"
   ]
  },
  {
   "cell_type": "code",
   "execution_count": 30,
   "metadata": {},
   "outputs": [
    {
     "name": "stdout",
     "output_type": "stream",
     "text": [
      "Maryland Interstate Transportation Risk Map: Crash Rate Risk\n"
     ]
    },
    {
     "data": {
      "application/vnd.jupyter.widget-view+json": {
       "model_id": "206d8873938b422c8a9317fe01020393",
       "version_major": 2,
       "version_minor": 0
      },
      "text/plain": [
       "MapView(hide_mode_switch=True, layout=Layout(height='400px', width='100%'))"
      ]
     },
     "metadata": {},
     "output_type": "display_data"
    },
    {
     "data": {
      "text/html": [
       "<div class=\"map-static-img-preview-10ecf038-b9f9-408d-be71-82d0282437ed\"><img src=\"\"></img></div>"
      ],
      "text/plain": [
       "<IPython.core.display.HTML object>"
      ]
     },
     "metadata": {},
     "output_type": "display_data"
    }
   ],
   "source": [
    "print(webmaps[0].title)\n",
    "WebMap(webmaps[0])"
   ]
  },
  {
   "cell_type": "code",
   "execution_count": 31,
   "metadata": {},
   "outputs": [
    {
     "name": "stdout",
     "output_type": "stream",
     "text": [
      "Maryland Interstate Transportation Risk Map: Crash Rate Ratio Risk\n"
     ]
    },
    {
     "data": {
      "application/vnd.jupyter.widget-view+json": {
       "model_id": "bf50e84e261a49cd916f6c0c6db1b967",
       "version_major": 2,
       "version_minor": 0
      },
      "text/plain": [
       "MapView(hide_mode_switch=True, layout=Layout(height='400px', width='100%'))"
      ]
     },
     "metadata": {},
     "output_type": "display_data"
    },
    {
     "data": {
      "text/html": [
       "<div class=\"map-static-img-preview-97204594-54dd-42c0-9399-8bf269035f57\"><img src=\"\"></img></div>"
      ],
      "text/plain": [
       "<IPython.core.display.HTML object>"
      ]
     },
     "metadata": {},
     "output_type": "display_data"
    }
   ],
   "source": [
    "print(webmaps[1].title)\n",
    "WebMap(webmaps[1])"
   ]
  },
  {
   "cell_type": "code",
   "execution_count": 32,
   "metadata": {},
   "outputs": [
    {
     "name": "stdout",
     "output_type": "stream",
     "text": [
      "Maryland Interstate Transportation Risk Map: Potential Crash Savings Risk\n"
     ]
    },
    {
     "data": {
      "application/vnd.jupyter.widget-view+json": {
       "model_id": "988e863bfae4499ea88ab74cf423d4b5",
       "version_major": 2,
       "version_minor": 0
      },
      "text/plain": [
       "MapView(hide_mode_switch=True, layout=Layout(height='400px', width='100%'))"
      ]
     },
     "metadata": {},
     "output_type": "display_data"
    },
    {
     "data": {
      "text/html": [
       "<div class=\"map-static-img-preview-a49831e3-4d43-4115-b815-d19e77c3c992\"><img src=\"\"></img></div>"
      ],
      "text/plain": [
       "<IPython.core.display.HTML object>"
      ]
     },
     "metadata": {},
     "output_type": "display_data"
    }
   ],
   "source": [
    "print(webmaps[3].title)\n",
    "WebMap(webmaps[3])"
   ]
  },
  {
   "cell_type": "code",
   "execution_count": 33,
   "metadata": {},
   "outputs": [],
   "source": [
    "# from ipywidgets import *\n",
    "\n",
    "# WebMap(webmaps[3]).layout = Layout(flex='1 1', padding='6px')\n",
    "# WebMap(webmaps[1]).layout = Layout(flex='1 1', padding='6px')\n",
    "# box = HBox([WebMap(webmaps[3]), WebMap(webmaps[1])])\n",
    "# box"
   ]
  },
  {
   "cell_type": "markdown",
   "metadata": {},
   "source": [
    "## <span style=\"color:Navy\">Analysis 1: </span><span> Defining, Finding, and Describing Spatial Clusters of Accident Events</span>"
   ]
  },
  {
   "cell_type": "markdown",
   "metadata": {},
   "source": [
    "The first analytic that will be tested as a supplement for the FHWA Network Screening process is briefly referred to as the Density-based Clustering analysis, and is composed of four steps:\n",
    "\n",
    "1. Define and find accident clusters\n",
    "2. Measure spatial characteristics of each cluster\n",
    "3. Measure aspatial characteristics of each cluster\n",
    "4. Rank sites\n",
    "\n",
    "This portion of the notebook contains the python code to run this analytic on the state of Maryland, and can be adapted to run for another region. "
   ]
  },
  {
   "cell_type": "markdown",
   "metadata": {},
   "source": [
    "### Step 1. Define and find accident clusters"
   ]
  },
  {
   "cell_type": "markdown",
   "metadata": {
    "slideshow": {
     "slide_type": "slide"
    }
   },
   "source": [
    "A case is made that fatal accidents concentrated in a dense geographic region suggest the presence of a systemic problem. The concentration of events may be related to issues pertaining to the roadway characteristics or human factors(or both), but the leading effort is to find and compare these sites as part of supplemental network screening. \n",
    "\n",
    "This workflow suggests that the concept of spatial clustering of events can help identify these areas, and the use of the Density-based Clustering tool in ArcGIS is an effective method to find these locations."
   ]
  },
  {
   "cell_type": "markdown",
   "metadata": {},
   "source": [
    "![clustering](https://github.com/Qberto/arcgispythonapi_arcpy-spatial_statistics_examples/raw/5f8994ab80301d8ae145e9081b16c1389a5729d0/img/dbclustering_01.png \"Density-based Clustering\")\n",
    "\n",
    "The [Density-based Clustering tool](http://pro.arcgis.com/en/pro-app/tool-reference/spatial-statistics/how-density-based-clustering-works.htm) works by detecting areas where points are concentrated and where they are separated by areas that are empty or sparse. Points that are not part of a cluster are labeled as noise.\n",
    "\n",
    "This tool uses unsupervised machine learning clustering algorithms which automatically detect patterns based purely on spatial location and the distance to a specified number of neighbors. These algorithms are considered unsupervised because they do not require any training on what it means to be a cluster."
   ]
  },
  {
   "cell_type": "markdown",
   "metadata": {},
   "source": [
    "#### Three clustering algorithms:\n",
    "\n",
    "The Density-based Clustering tool provides three different Clustering Methods with which to find clusters in your point data:\n",
    "\n",
    "- _Defined distance (DBSCAN)_ — Uses a specified distance to separate dense clusters from sparser noise. The DBSCAN algorithm is the fastest of the clustering methods, but is only appropriate if there is a very clear Search Distance to use, and that works well for all potential clusters. This requires that all meaningful clusters have similar densities.\n",
    "\n",
    "- _Self-adjusting (HDBSCAN)_ — Uses a range of distances to separate clusters of varying densities from sparser noise. The HDBSCAN algorithm is the most data-driven of the clustering methods, and thus requires the least user input.\n",
    "\n",
    "- _Multi-scale (OPTICS)_ — Uses the distance between neighboring features to create a reachability plot which is then used to separate clusters of varying densities from noise. The OPTICS algorithm offers the most flexibility in fine-tuning the clusters that are detected, though it is computationally intensive, particularly with a large Search Distance."
   ]
  },
  {
   "cell_type": "markdown",
   "metadata": {},
   "source": [
    "The definition of a cluster in this analysis and in each version of the workflow is an important step in the sequence, and this workflow attempts to leverage both data-driven and domain-driven reasons to define clusters. "
   ]
  },
  {
   "cell_type": "markdown",
   "metadata": {},
   "source": [
    "#### Data-driven: Using HDBSCAN to let the distribution of the events determine a cluster definition"
   ]
  },
  {
   "cell_type": "code",
   "execution_count": 34,
   "metadata": {},
   "outputs": [
    {
     "ename": "ValueError",
     "evalue": "The truth value of a Series is ambiguous. Use a.empty, a.bool(), a.item(), a.any() or a.all().",
     "output_type": "error",
     "traceback": [
      "\u001b[1;31m---------------------------------------------------------------------------\u001b[0m",
      "\u001b[1;31mValueError\u001b[0m                                Traceback (most recent call last)",
      "\u001b[1;32mC:\\ProgramData\\Anaconda3\\lib\\site-packages\\pandas\\core\\generic.py\u001b[0m in \u001b[0;36m__nonzero__\u001b[1;34m(self)\u001b[0m\n\u001b[0;32m   1574\u001b[0m         raise ValueError(\"The truth value of a {0} is ambiguous. \"\n\u001b[0;32m   1575\u001b[0m                          \u001b[1;34m\"Use a.empty, a.bool(), a.item(), a.any() or a.all().\"\u001b[0m\u001b[1;33m\u001b[0m\u001b[0m\n\u001b[1;32m-> 1576\u001b[1;33m                          .format(self.__class__.__name__))\n\u001b[0m\u001b[0;32m   1577\u001b[0m \u001b[1;33m\u001b[0m\u001b[0m\n\u001b[0;32m   1578\u001b[0m     \u001b[0m__bool__\u001b[0m \u001b[1;33m=\u001b[0m \u001b[0m__nonzero__\u001b[0m\u001b[1;33m\u001b[0m\u001b[0m\n",
      "\u001b[1;31mValueError\u001b[0m: The truth value of a Series is ambiguous. Use a.empty, a.bool(), a.item(), a.any() or a.all()."
     ]
    },
    {
     "ename": "ValueError",
     "evalue": "The truth value of a Series is ambiguous. Use a.empty, a.bool(), a.item(), a.any() or a.all().",
     "output_type": "error",
     "traceback": [
      "\u001b[1;31m---------------------------------------------------------------------------\u001b[0m",
      "\u001b[1;31mValueError\u001b[0m                                Traceback (most recent call last)",
      "\u001b[1;32mC:\\ProgramData\\Anaconda3\\lib\\site-packages\\pandas\\core\\generic.py\u001b[0m in \u001b[0;36m__nonzero__\u001b[1;34m(self)\u001b[0m\n\u001b[0;32m   1574\u001b[0m         raise ValueError(\"The truth value of a {0} is ambiguous. \"\n\u001b[0;32m   1575\u001b[0m                          \u001b[1;34m\"Use a.empty, a.bool(), a.item(), a.any() or a.all().\"\u001b[0m\u001b[1;33m\u001b[0m\u001b[0m\n\u001b[1;32m-> 1576\u001b[1;33m                          .format(self.__class__.__name__))\n\u001b[0m\u001b[0;32m   1577\u001b[0m \u001b[1;33m\u001b[0m\u001b[0m\n\u001b[0;32m   1578\u001b[0m     \u001b[0m__bool__\u001b[0m \u001b[1;33m=\u001b[0m \u001b[0m__nonzero__\u001b[0m\u001b[1;33m\u001b[0m\u001b[0m\n",
      "\u001b[1;31mValueError\u001b[0m: The truth value of a Series is ambiguous. Use a.empty, a.bool(), a.item(), a.any() or a.all()."
     ]
    },
    {
     "ename": "ValueError",
     "evalue": "The truth value of a Series is ambiguous. Use a.empty, a.bool(), a.item(), a.any() or a.all().",
     "output_type": "error",
     "traceback": [
      "\u001b[1;31m---------------------------------------------------------------------------\u001b[0m",
      "\u001b[1;31mValueError\u001b[0m                                Traceback (most recent call last)",
      "\u001b[1;32mC:\\ProgramData\\Anaconda3\\lib\\site-packages\\pandas\\core\\generic.py\u001b[0m in \u001b[0;36m__nonzero__\u001b[1;34m(self)\u001b[0m\n\u001b[0;32m   1574\u001b[0m         raise ValueError(\"The truth value of a {0} is ambiguous. \"\n\u001b[0;32m   1575\u001b[0m                          \u001b[1;34m\"Use a.empty, a.bool(), a.item(), a.any() or a.all().\"\u001b[0m\u001b[1;33m\u001b[0m\u001b[0m\n\u001b[1;32m-> 1576\u001b[1;33m                          .format(self.__class__.__name__))\n\u001b[0m\u001b[0;32m   1577\u001b[0m \u001b[1;33m\u001b[0m\u001b[0m\n\u001b[0;32m   1578\u001b[0m     \u001b[0m__bool__\u001b[0m \u001b[1;33m=\u001b[0m \u001b[0m__nonzero__\u001b[0m\u001b[1;33m\u001b[0m\u001b[0m\n",
      "\u001b[1;31mValueError\u001b[0m: The truth value of a Series is ambiguous. Use a.empty, a.bool(), a.item(), a.any() or a.all()."
     ]
    }
   ],
   "source": [
    "# Create a temporary file geodatabase on disk\n",
    "workspace_fgdb = arcpy.CreateFileGDB_management(workspace_dir, \"maryland_analysis\").getOutput(0)"
   ]
  },
  {
   "cell_type": "code",
   "execution_count": 35,
   "metadata": {},
   "outputs": [
    {
     "name": "stderr",
     "output_type": "stream",
     "text": [
      "C:\\ProgramData\\Anaconda3\\lib\\site-packages\\pandas\\core\\indexing.py:543: SettingWithCopyWarning: \n",
      "A value is trying to be set on a copy of a slice from a DataFrame.\n",
      "Try using .loc[row_indexer,col_indexer] = value instead\n",
      "\n",
      "See the caveats in the documentation: http://pandas.pydata.org/pandas-docs/stable/indexing.html#indexing-view-versus-copy\n",
      "  self.obj[item] = s\n"
     ]
    }
   ],
   "source": [
    "# Save our input data into a temporary feature class on disk\n",
    "crashes_fc = crashes_q_sedf.spatial.to_featureclass(os.path.join(workspace_fgdb, \"crashes_fc\"))"
   ]
  },
  {
   "cell_type": "code",
   "execution_count": 36,
   "metadata": {},
   "outputs": [
    {
     "data": {
      "text/plain": [
       "<Result 'C:\\\\Users\\\\albe9057\\\\Documents\\\\GitHub\\\\traffic_accidents_spatial_analysis\\\\src\\\\nhtsa_analysis\\\\..\\\\..\\\\workspace\\\\maryland_analysis.gdb\\\\CrashClusters_HDBSCAN'>"
      ]
     },
     "execution_count": 36,
     "metadata": {},
     "output_type": "execute_result"
    }
   ],
   "source": [
    "# Run HDBSCAN \n",
    "output_path = \"{0}//{1}_HDBSCAN\".format(workspace_fgdb, \"CrashClusters\")\n",
    "hdbscan_result = arcpy.stats.DensityBasedClustering(crashes_fc, output_path, \"HDBSCAN\", 5)\n",
    "hdbscan_result"
   ]
  },
  {
   "cell_type": "code",
   "execution_count": 37,
   "metadata": {},
   "outputs": [
    {
     "data": {
      "text/plain": [
       "'Start Time: Monday, January 7, 2019 9:44:52 PM\\nRunning script DensityBasedClustering...\\nNumber of Clusters 18\\nNoise features 64\\nThis tool creates a chart to help explore and interpret the results of the analysis. Charts can be viewed from the List by Charts tab at the top of the Contents pane.\\nCompleted script Density-based Clustering...\\nSucceeded at Monday, January 7, 2019 9:44:54 PM (Elapsed Time: 1.80 seconds)'"
      ]
     },
     "execution_count": 37,
     "metadata": {},
     "output_type": "execute_result"
    }
   ],
   "source": [
    "hdbscan_result.getMessages()"
   ]
  },
  {
   "cell_type": "code",
   "execution_count": 38,
   "metadata": {
    "scrolled": true
   },
   "outputs": [
    {
     "data": {
      "text/html": [
       "<div>\n",
       "<style scoped>\n",
       "    .dataframe tbody tr th:only-of-type {\n",
       "        vertical-align: middle;\n",
       "    }\n",
       "\n",
       "    .dataframe tbody tr th {\n",
       "        vertical-align: top;\n",
       "    }\n",
       "\n",
       "    .dataframe thead th {\n",
       "        text-align: right;\n",
       "    }\n",
       "</style>\n",
       "<table border=\"1\" class=\"dataframe\">\n",
       "  <thead>\n",
       "    <tr style=\"text-align: right;\">\n",
       "      <th></th>\n",
       "      <th>OBJECTID</th>\n",
       "      <th>SOURCE_ID</th>\n",
       "      <th>CLUSTER_ID</th>\n",
       "      <th>PROB</th>\n",
       "      <th>OUTLIER</th>\n",
       "      <th>EXEMPLAR</th>\n",
       "      <th>STABILITY</th>\n",
       "      <th>COLOR_ID</th>\n",
       "      <th>SHAPE</th>\n",
       "    </tr>\n",
       "  </thead>\n",
       "  <tbody>\n",
       "    <tr>\n",
       "      <th>0</th>\n",
       "      <td>1</td>\n",
       "      <td>1</td>\n",
       "      <td>13</td>\n",
       "      <td>1.000000</td>\n",
       "      <td>0.000000</td>\n",
       "      <td>1</td>\n",
       "      <td>0.098170</td>\n",
       "      <td>6</td>\n",
       "      <td>{\"x\": -8542621.5446, \"y\": 4762877.223099999, \"...</td>\n",
       "    </tr>\n",
       "    <tr>\n",
       "      <th>1</th>\n",
       "      <td>2</td>\n",
       "      <td>2</td>\n",
       "      <td>3</td>\n",
       "      <td>1.000000</td>\n",
       "      <td>0.000000</td>\n",
       "      <td>1</td>\n",
       "      <td>0.101510</td>\n",
       "      <td>3</td>\n",
       "      <td>{\"x\": -8657524.2863, \"y\": 4812674.592200004, \"...</td>\n",
       "    </tr>\n",
       "    <tr>\n",
       "      <th>2</th>\n",
       "      <td>3</td>\n",
       "      <td>3</td>\n",
       "      <td>6</td>\n",
       "      <td>1.000000</td>\n",
       "      <td>0.000000</td>\n",
       "      <td>1</td>\n",
       "      <td>0.474244</td>\n",
       "      <td>1</td>\n",
       "      <td>{\"x\": -8496768.7369, \"y\": 4786047.209899999, \"...</td>\n",
       "    </tr>\n",
       "    <tr>\n",
       "      <th>3</th>\n",
       "      <td>4</td>\n",
       "      <td>4</td>\n",
       "      <td>3</td>\n",
       "      <td>0.656066</td>\n",
       "      <td>0.343934</td>\n",
       "      <td>0</td>\n",
       "      <td>0.101510</td>\n",
       "      <td>3</td>\n",
       "      <td>{\"x\": -8653474.1124, \"y\": 4818217.715800002, \"...</td>\n",
       "    </tr>\n",
       "    <tr>\n",
       "      <th>4</th>\n",
       "      <td>5</td>\n",
       "      <td>5</td>\n",
       "      <td>-1</td>\n",
       "      <td>0.000000</td>\n",
       "      <td>0.076212</td>\n",
       "      <td>0</td>\n",
       "      <td>0.000000</td>\n",
       "      <td>-1</td>\n",
       "      <td>{\"x\": -8528423.3625, \"y\": 4765538.370399997, \"...</td>\n",
       "    </tr>\n",
       "  </tbody>\n",
       "</table>\n",
       "</div>"
      ],
      "text/plain": [
       "   OBJECTID  SOURCE_ID  CLUSTER_ID      PROB   OUTLIER  EXEMPLAR  STABILITY  \\\n",
       "0         1          1          13  1.000000  0.000000         1   0.098170   \n",
       "1         2          2           3  1.000000  0.000000         1   0.101510   \n",
       "2         3          3           6  1.000000  0.000000         1   0.474244   \n",
       "3         4          4           3  0.656066  0.343934         0   0.101510   \n",
       "4         5          5          -1  0.000000  0.076212         0   0.000000   \n",
       "\n",
       "   COLOR_ID                                              SHAPE  \n",
       "0         6  {\"x\": -8542621.5446, \"y\": 4762877.223099999, \"...  \n",
       "1         3  {\"x\": -8657524.2863, \"y\": 4812674.592200004, \"...  \n",
       "2         1  {\"x\": -8496768.7369, \"y\": 4786047.209899999, \"...  \n",
       "3         3  {\"x\": -8653474.1124, \"y\": 4818217.715800002, \"...  \n",
       "4        -1  {\"x\": -8528423.3625, \"y\": 4765538.370399997, \"...  "
      ]
     },
     "execution_count": 38,
     "metadata": {},
     "output_type": "execute_result"
    }
   ],
   "source": [
    "hdbscan_sedf = pd.DataFrame.spatial.from_featureclass(hdbscan_result.getOutput(0))\n",
    "hdbscan_sedf.head()"
   ]
  },
  {
   "cell_type": "code",
   "execution_count": 39,
   "metadata": {},
   "outputs": [
    {
     "data": {
      "text/plain": [
       "(262, 9)"
      ]
     },
     "execution_count": 39,
     "metadata": {},
     "output_type": "execute_result"
    }
   ],
   "source": [
    "hdbscan_sedf.shape"
   ]
  },
  {
   "cell_type": "code",
   "execution_count": 40,
   "metadata": {},
   "outputs": [
    {
     "data": {
      "application/vnd.jupyter.widget-view+json": {
       "model_id": "43333245475a4951a885f9e45a0fff4b",
       "version_major": 2,
       "version_minor": 0
      },
      "text/plain": [
       "MapView(layout=Layout(height='400px', width='100%'))"
      ]
     },
     "metadata": {},
     "output_type": "display_data"
    },
    {
     "data": {
      "text/html": [
       "<div class=\"map-static-img-preview-18b4c905-c734-4f12-9550-9d5835932fde\"><img src=\"\"></img></div>"
      ],
      "text/plain": [
       "<IPython.core.display.HTML object>"
      ]
     },
     "metadata": {},
     "output_type": "display_data"
    }
   ],
   "source": [
    "hdbscan_map = gis.map(\"Maryland\")\n",
    "hdbscan_map.basemap = 'gray'\n",
    "hdbscan_map"
   ]
  },
  {
   "cell_type": "code",
   "execution_count": 41,
   "metadata": {},
   "outputs": [
    {
     "data": {
      "text/plain": [
       "True"
      ]
     },
     "execution_count": 41,
     "metadata": {},
     "output_type": "execute_result"
    }
   ],
   "source": [
    "hdbscan_sedf.spatial.plot(map_widget=hdbscan_map, renderer_type='u', col='COLOR_ID')"
   ]
  },
  {
   "cell_type": "code",
   "execution_count": 42,
   "metadata": {},
   "outputs": [
    {
     "name": "stderr",
     "output_type": "stream",
     "text": [
      "C:\\ProgramData\\Anaconda3\\lib\\site-packages\\pandas\\core\\indexing.py:543: SettingWithCopyWarning: \n",
      "A value is trying to be set on a copy of a slice from a DataFrame.\n",
      "Try using .loc[row_indexer,col_indexer] = value instead\n",
      "\n",
      "See the caveats in the documentation: http://pandas.pydata.org/pandas-docs/stable/indexing.html#indexing-view-versus-copy\n",
      "  self.obj[item] = s\n"
     ]
    },
    {
     "data": {
      "text/html": [
       "<div class=\"item_container\" style=\"height: auto; overflow: hidden; border: 1px solid #cfcfcf; border-radius: 2px; background: #f6fafa; line-height: 1.21429em; padding: 10px;\">\n",
       "                    <div class=\"item_left\" style=\"width: 210px; float: left;\">\n",
       "                       <a href='https://esrifederal.maps.arcgis.com/home/item.html?id=a9eaead5e0bf44b6887c1d2842a4f487' target='_blank'>\n",
       "                        <img src='http://static.arcgis.com/images/desktopapp.png' class=\"itemThumbnail\">\n",
       "                       </a>\n",
       "                    </div>\n",
       "\n",
       "                    <div class=\"item_right\"     style=\"float: none; width: auto; overflow: hidden;\">\n",
       "                        <a href='https://esrifederal.maps.arcgis.com/home/item.html?id=a9eaead5e0bf44b6887c1d2842a4f487' target='_blank'><b>cd093230e45f47ffa18adc3782822bd7</b>\n",
       "                        </a>\n",
       "                        <br/><img src='https://esrifederal.maps.arcgis.com/home/js/jsapi/esri/css/images/item_type_icons/featureshosted16.png' style=\"vertical-align:middle;\">Feature Layer Collection by Anieto_esrifederal\n",
       "                        <br/>Last Modified: January 07, 2019\n",
       "                        <br/>0 comments, 0 views\n",
       "                    </div>\n",
       "                </div>\n",
       "                "
      ],
      "text/plain": [
       "<Item title:\"cd093230e45f47ffa18adc3782822bd7\" type:Feature Layer Collection owner:Anieto_esrifederal>"
      ]
     },
     "execution_count": 42,
     "metadata": {},
     "output_type": "execute_result"
    }
   ],
   "source": [
    "# Publish outputs to WebGIS to run summarize tools\n",
    "interstatecrashes_item = gis.content.import_data(crashes_q_sedf)\n",
    "interstatecrashes_item"
   ]
  },
  {
   "cell_type": "code",
   "execution_count": 43,
   "metadata": {},
   "outputs": [
    {
     "name": "stdout",
     "output_type": "stream",
     "text": [
      "{'pointClustersResultLayer': {'url': 'https://services.arcgis.com/hRUr1F8lE8Jq2uJo/arcgis/rest/services/hdbscan_accidents_03/FeatureServer/0', 'itemId': '6170e1ea9d2642e2a9f4f9f161227019'}}\n"
     ]
    },
    {
     "data": {
      "text/html": [
       "<div class=\"item_container\" style=\"height: auto; overflow: hidden; border: 1px solid #cfcfcf; border-radius: 2px; background: #f6fafa; line-height: 1.21429em; padding: 10px;\">\n",
       "                    <div class=\"item_left\" style=\"width: 210px; float: left;\">\n",
       "                       <a href='https://esrifederal.maps.arcgis.com/home/item.html?id=6170e1ea9d2642e2a9f4f9f161227019' target='_blank'>\n",
       "                        <img src='http://static.arcgis.com/images/desktopapp.png' class=\"itemThumbnail\">\n",
       "                       </a>\n",
       "                    </div>\n",
       "\n",
       "                    <div class=\"item_right\"     style=\"float: none; width: auto; overflow: hidden;\">\n",
       "                        <a href='https://esrifederal.maps.arcgis.com/home/item.html?id=6170e1ea9d2642e2a9f4f9f161227019' target='_blank'><b>hdbscan_accidents_03</b>\n",
       "                        </a>\n",
       "                        <br/><img src='https://esrifederal.maps.arcgis.com/home/js/jsapi/esri/css/images/item_type_icons/featureshosted16.png' style=\"vertical-align:middle;\">Feature Layer Collection by Anieto_esrifederal\n",
       "                        <br/>Last Modified: January 07, 2019\n",
       "                        <br/>0 comments, 0 views\n",
       "                    </div>\n",
       "                </div>\n",
       "                "
      ],
      "text/plain": [
       "<Item title:\"hdbscan_accidents_03\" type:Feature Layer Collection owner:Anieto_esrifederal>"
      ]
     },
     "execution_count": 43,
     "metadata": {},
     "output_type": "execute_result"
    }
   ],
   "source": [
    "arcgis.find_point_clusters(interstatecrashes_item.layers[0], 5, output_name=\"hdbscan_accidents_04\")"
   ]
  },
  {
   "cell_type": "code",
   "execution_count": 46,
   "metadata": {},
   "outputs": [
    {
     "data": {
      "text/html": [
       "<div class=\"item_container\" style=\"height: auto; overflow: hidden; border: 1px solid #cfcfcf; border-radius: 2px; background: #f6fafa; line-height: 1.21429em; padding: 10px;\">\n",
       "                    <div class=\"item_left\" style=\"width: 210px; float: left;\">\n",
       "                       <a href='https://esrifederal.maps.arcgis.com/home/item.html?id=6170e1ea9d2642e2a9f4f9f161227019' target='_blank'>\n",
       "                        <img src='http://static.arcgis.com/images/desktopapp.png' class=\"itemThumbnail\">\n",
       "                       </a>\n",
       "                    </div>\n",
       "\n",
       "                    <div class=\"item_right\"     style=\"float: none; width: auto; overflow: hidden;\">\n",
       "                        <a href='https://esrifederal.maps.arcgis.com/home/item.html?id=6170e1ea9d2642e2a9f4f9f161227019' target='_blank'><b>hdbscan_accidents_03</b>\n",
       "                        </a>\n",
       "                        <br/><img src='https://esrifederal.maps.arcgis.com/home/js/jsapi/esri/css/images/item_type_icons/featureshosted16.png' style=\"vertical-align:middle;\">Feature Layer Collection by Anieto_esrifederal\n",
       "                        <br/>Last Modified: January 07, 2019\n",
       "                        <br/>0 comments, 0 views\n",
       "                    </div>\n",
       "                </div>\n",
       "                "
      ],
      "text/plain": [
       "<Item title:\"hdbscan_accidents_03\" type:Feature Layer Collection owner:Anieto_esrifederal>"
      ]
     },
     "execution_count": 46,
     "metadata": {},
     "output_type": "execute_result"
    }
   ],
   "source": [
    "hdbscan_clusters_item = gis.content.search(\"hdbscan_accidents_03\", item_type=\"Feature Service\")[0]\n",
    "hdbscan_clusters_item"
   ]
  },
  {
   "cell_type": "code",
   "execution_count": 47,
   "metadata": {},
   "outputs": [
    {
     "data": {
      "application/vnd.jupyter.widget-view+json": {
       "model_id": "6c1ba0718a68472aa092ca7a992efe08",
       "version_major": 2,
       "version_minor": 0
      },
      "text/plain": [
       "MapView(layout=Layout(height='400px', width='100%'))"
      ]
     },
     "metadata": {},
     "output_type": "display_data"
    },
    {
     "data": {
      "text/html": [
       "<div class=\"map-static-img-preview-944fff2a-0d8d-43d7-8227-d941edae8d5e\"><img src=\"\"></img></div>"
      ],
      "text/plain": [
       "<IPython.core.display.HTML object>"
      ]
     },
     "metadata": {},
     "output_type": "display_data"
    }
   ],
   "source": [
    "clusters_map = gis.map(\"Maryland\")\n",
    "clusters_map"
   ]
  },
  {
   "cell_type": "code",
   "execution_count": 48,
   "metadata": {},
   "outputs": [],
   "source": [
    "clusters_map.add_layer(hdbscan_clusters_item)"
   ]
  },
  {
   "cell_type": "code",
   "execution_count": 49,
   "metadata": {
    "scrolled": true
   },
   "outputs": [
    {
     "data": {
      "text/html": [
       "<div>\n",
       "<style scoped>\n",
       "    .dataframe tbody tr th:only-of-type {\n",
       "        vertical-align: middle;\n",
       "    }\n",
       "\n",
       "    .dataframe tbody tr th {\n",
       "        vertical-align: top;\n",
       "    }\n",
       "\n",
       "    .dataframe thead th {\n",
       "        text-align: right;\n",
       "    }\n",
       "</style>\n",
       "<table border=\"1\" class=\"dataframe\">\n",
       "  <thead>\n",
       "    <tr style=\"text-align: right;\">\n",
       "      <th></th>\n",
       "      <th>OBJECTID</th>\n",
       "      <th>SOURCE_ID</th>\n",
       "      <th>CLUSTER_ID</th>\n",
       "      <th>PROB</th>\n",
       "      <th>OUTLIER</th>\n",
       "      <th>EXEMPLAR</th>\n",
       "      <th>STABILITY</th>\n",
       "      <th>COLOR_ID</th>\n",
       "      <th>SHAPE</th>\n",
       "    </tr>\n",
       "  </thead>\n",
       "  <tbody>\n",
       "    <tr>\n",
       "      <th>0</th>\n",
       "      <td>1</td>\n",
       "      <td>1</td>\n",
       "      <td>13</td>\n",
       "      <td>1.000000</td>\n",
       "      <td>0.000000</td>\n",
       "      <td>1</td>\n",
       "      <td>0.098170</td>\n",
       "      <td>6</td>\n",
       "      <td>{\"x\": -8542621.5446, \"y\": 4762877.223099999, \"...</td>\n",
       "    </tr>\n",
       "    <tr>\n",
       "      <th>1</th>\n",
       "      <td>2</td>\n",
       "      <td>2</td>\n",
       "      <td>3</td>\n",
       "      <td>1.000000</td>\n",
       "      <td>0.000000</td>\n",
       "      <td>1</td>\n",
       "      <td>0.101510</td>\n",
       "      <td>3</td>\n",
       "      <td>{\"x\": -8657524.2863, \"y\": 4812674.592200004, \"...</td>\n",
       "    </tr>\n",
       "    <tr>\n",
       "      <th>2</th>\n",
       "      <td>3</td>\n",
       "      <td>3</td>\n",
       "      <td>6</td>\n",
       "      <td>1.000000</td>\n",
       "      <td>0.000000</td>\n",
       "      <td>1</td>\n",
       "      <td>0.474244</td>\n",
       "      <td>1</td>\n",
       "      <td>{\"x\": -8496768.7369, \"y\": 4786047.209899999, \"...</td>\n",
       "    </tr>\n",
       "    <tr>\n",
       "      <th>3</th>\n",
       "      <td>4</td>\n",
       "      <td>4</td>\n",
       "      <td>3</td>\n",
       "      <td>0.656066</td>\n",
       "      <td>0.343934</td>\n",
       "      <td>0</td>\n",
       "      <td>0.101510</td>\n",
       "      <td>3</td>\n",
       "      <td>{\"x\": -8653474.1124, \"y\": 4818217.715800002, \"...</td>\n",
       "    </tr>\n",
       "    <tr>\n",
       "      <th>4</th>\n",
       "      <td>5</td>\n",
       "      <td>5</td>\n",
       "      <td>-1</td>\n",
       "      <td>0.000000</td>\n",
       "      <td>0.076212</td>\n",
       "      <td>0</td>\n",
       "      <td>0.000000</td>\n",
       "      <td>-1</td>\n",
       "      <td>{\"x\": -8528423.3625, \"y\": 4765538.370399997, \"...</td>\n",
       "    </tr>\n",
       "    <tr>\n",
       "      <th>5</th>\n",
       "      <td>6</td>\n",
       "      <td>6</td>\n",
       "      <td>1</td>\n",
       "      <td>1.000000</td>\n",
       "      <td>0.000000</td>\n",
       "      <td>1</td>\n",
       "      <td>0.008197</td>\n",
       "      <td>4</td>\n",
       "      <td>{\"x\": -8820861.829, \"y\": 4819880.209200002, \"s...</td>\n",
       "    </tr>\n",
       "    <tr>\n",
       "      <th>6</th>\n",
       "      <td>7</td>\n",
       "      <td>7</td>\n",
       "      <td>-1</td>\n",
       "      <td>0.000000</td>\n",
       "      <td>0.015823</td>\n",
       "      <td>0</td>\n",
       "      <td>0.000000</td>\n",
       "      <td>-1</td>\n",
       "      <td>{\"x\": -8528795.9733, \"y\": 4750661.747699998, \"...</td>\n",
       "    </tr>\n",
       "    <tr>\n",
       "      <th>7</th>\n",
       "      <td>8</td>\n",
       "      <td>8</td>\n",
       "      <td>2</td>\n",
       "      <td>1.000000</td>\n",
       "      <td>0.000000</td>\n",
       "      <td>1</td>\n",
       "      <td>0.030755</td>\n",
       "      <td>5</td>\n",
       "      <td>{\"x\": -8750348.6615, \"y\": 4824208.487899996, \"...</td>\n",
       "    </tr>\n",
       "    <tr>\n",
       "      <th>8</th>\n",
       "      <td>9</td>\n",
       "      <td>9</td>\n",
       "      <td>11</td>\n",
       "      <td>1.000000</td>\n",
       "      <td>0.000000</td>\n",
       "      <td>1</td>\n",
       "      <td>0.004703</td>\n",
       "      <td>4</td>\n",
       "      <td>{\"x\": -8553609.0878, \"y\": 4743557.832900003, \"...</td>\n",
       "    </tr>\n",
       "    <tr>\n",
       "      <th>9</th>\n",
       "      <td>10</td>\n",
       "      <td>10</td>\n",
       "      <td>-1</td>\n",
       "      <td>0.000000</td>\n",
       "      <td>0.302658</td>\n",
       "      <td>0</td>\n",
       "      <td>0.000000</td>\n",
       "      <td>-1</td>\n",
       "      <td>{\"x\": -8458196.8429, \"y\": 4811792.119999997, \"...</td>\n",
       "    </tr>\n",
       "    <tr>\n",
       "      <th>10</th>\n",
       "      <td>11</td>\n",
       "      <td>11</td>\n",
       "      <td>9</td>\n",
       "      <td>0.865593</td>\n",
       "      <td>0.134407</td>\n",
       "      <td>0</td>\n",
       "      <td>0.104573</td>\n",
       "      <td>5</td>\n",
       "      <td>{\"x\": -8520741.3893, \"y\": 4765762.5616, \"spati...</td>\n",
       "    </tr>\n",
       "    <tr>\n",
       "      <th>11</th>\n",
       "      <td>12</td>\n",
       "      <td>12</td>\n",
       "      <td>-1</td>\n",
       "      <td>0.000000</td>\n",
       "      <td>0.038024</td>\n",
       "      <td>0</td>\n",
       "      <td>0.000000</td>\n",
       "      <td>-1</td>\n",
       "      <td>{\"x\": -8532044.3373, \"y\": 4744709.101899996, \"...</td>\n",
       "    </tr>\n",
       "    <tr>\n",
       "      <th>12</th>\n",
       "      <td>13</td>\n",
       "      <td>13</td>\n",
       "      <td>-1</td>\n",
       "      <td>0.000000</td>\n",
       "      <td>0.450261</td>\n",
       "      <td>0</td>\n",
       "      <td>0.000000</td>\n",
       "      <td>-1</td>\n",
       "      <td>{\"x\": -8445130.7176, \"y\": 4814085.182499997, \"...</td>\n",
       "    </tr>\n",
       "    <tr>\n",
       "      <th>13</th>\n",
       "      <td>14</td>\n",
       "      <td>14</td>\n",
       "      <td>17</td>\n",
       "      <td>1.000000</td>\n",
       "      <td>0.000000</td>\n",
       "      <td>1</td>\n",
       "      <td>0.061304</td>\n",
       "      <td>1</td>\n",
       "      <td>{\"x\": -8555161.9948, \"y\": 4713971.6897, \"spati...</td>\n",
       "    </tr>\n",
       "    <tr>\n",
       "      <th>14</th>\n",
       "      <td>15</td>\n",
       "      <td>15</td>\n",
       "      <td>6</td>\n",
       "      <td>0.113805</td>\n",
       "      <td>0.886195</td>\n",
       "      <td>0</td>\n",
       "      <td>0.474244</td>\n",
       "      <td>1</td>\n",
       "      <td>{\"x\": -8488293.9228, \"y\": 4791273.5173999965, ...</td>\n",
       "    </tr>\n",
       "    <tr>\n",
       "      <th>15</th>\n",
       "      <td>16</td>\n",
       "      <td>16</td>\n",
       "      <td>-1</td>\n",
       "      <td>0.000000</td>\n",
       "      <td>0.054276</td>\n",
       "      <td>0</td>\n",
       "      <td>0.000000</td>\n",
       "      <td>-1</td>\n",
       "      <td>{\"x\": -8585162.2881, \"y\": 4723877.730599999, \"...</td>\n",
       "    </tr>\n",
       "    <tr>\n",
       "      <th>16</th>\n",
       "      <td>17</td>\n",
       "      <td>17</td>\n",
       "      <td>18</td>\n",
       "      <td>1.000000</td>\n",
       "      <td>0.000000</td>\n",
       "      <td>1</td>\n",
       "      <td>0.212171</td>\n",
       "      <td>6</td>\n",
       "      <td>{\"x\": -8554187.3302, \"y\": 4703595.499499999, \"...</td>\n",
       "    </tr>\n",
       "    <tr>\n",
       "      <th>17</th>\n",
       "      <td>18</td>\n",
       "      <td>18</td>\n",
       "      <td>9</td>\n",
       "      <td>1.000000</td>\n",
       "      <td>0.000000</td>\n",
       "      <td>1</td>\n",
       "      <td>0.104573</td>\n",
       "      <td>5</td>\n",
       "      <td>{\"x\": -8515362.1843, \"y\": 4770941.143299997, \"...</td>\n",
       "    </tr>\n",
       "    <tr>\n",
       "      <th>18</th>\n",
       "      <td>19</td>\n",
       "      <td>19</td>\n",
       "      <td>12</td>\n",
       "      <td>1.000000</td>\n",
       "      <td>0.000000</td>\n",
       "      <td>1</td>\n",
       "      <td>0.060421</td>\n",
       "      <td>5</td>\n",
       "      <td>{\"x\": -8567358.2817, \"y\": 4694829.042999998, \"...</td>\n",
       "    </tr>\n",
       "    <tr>\n",
       "      <th>19</th>\n",
       "      <td>20</td>\n",
       "      <td>20</td>\n",
       "      <td>-1</td>\n",
       "      <td>0.000000</td>\n",
       "      <td>0.084075</td>\n",
       "      <td>0</td>\n",
       "      <td>0.000000</td>\n",
       "      <td>-1</td>\n",
       "      <td>{\"x\": -8528458.9224, \"y\": 4765590.719999999, \"...</td>\n",
       "    </tr>\n",
       "    <tr>\n",
       "      <th>20</th>\n",
       "      <td>21</td>\n",
       "      <td>21</td>\n",
       "      <td>9</td>\n",
       "      <td>1.000000</td>\n",
       "      <td>0.401422</td>\n",
       "      <td>0</td>\n",
       "      <td>0.104573</td>\n",
       "      <td>5</td>\n",
       "      <td>{\"x\": -8519244.7611, \"y\": 4777249.782499999, \"...</td>\n",
       "    </tr>\n",
       "    <tr>\n",
       "      <th>21</th>\n",
       "      <td>22</td>\n",
       "      <td>22</td>\n",
       "      <td>2</td>\n",
       "      <td>0.824472</td>\n",
       "      <td>0.175528</td>\n",
       "      <td>0</td>\n",
       "      <td>0.030755</td>\n",
       "      <td>5</td>\n",
       "      <td>{\"x\": -8745972.5687, \"y\": 4823128.853699997, \"...</td>\n",
       "    </tr>\n",
       "    <tr>\n",
       "      <th>22</th>\n",
       "      <td>23</td>\n",
       "      <td>23</td>\n",
       "      <td>-1</td>\n",
       "      <td>0.000000</td>\n",
       "      <td>0.315146</td>\n",
       "      <td>0</td>\n",
       "      <td>0.000000</td>\n",
       "      <td>-1</td>\n",
       "      <td>{\"x\": -8534404.3105, \"y\": 4807516.567199998, \"...</td>\n",
       "    </tr>\n",
       "    <tr>\n",
       "      <th>23</th>\n",
       "      <td>24</td>\n",
       "      <td>24</td>\n",
       "      <td>3</td>\n",
       "      <td>0.733881</td>\n",
       "      <td>0.266119</td>\n",
       "      <td>0</td>\n",
       "      <td>0.101510</td>\n",
       "      <td>3</td>\n",
       "      <td>{\"x\": -8652513.9819, \"y\": 4808816.059199996, \"...</td>\n",
       "    </tr>\n",
       "    <tr>\n",
       "      <th>24</th>\n",
       "      <td>25</td>\n",
       "      <td>25</td>\n",
       "      <td>-1</td>\n",
       "      <td>0.000000</td>\n",
       "      <td>0.232922</td>\n",
       "      <td>0</td>\n",
       "      <td>0.000000</td>\n",
       "      <td>-1</td>\n",
       "      <td>{\"x\": -8542444.6702, \"y\": 4714975.258599997, \"...</td>\n",
       "    </tr>\n",
       "    <tr>\n",
       "      <th>25</th>\n",
       "      <td>26</td>\n",
       "      <td>26</td>\n",
       "      <td>14</td>\n",
       "      <td>1.000000</td>\n",
       "      <td>0.000000</td>\n",
       "      <td>1</td>\n",
       "      <td>0.091302</td>\n",
       "      <td>7</td>\n",
       "      <td>{\"x\": -8532966.4346, \"y\": 4760626.983599998, \"...</td>\n",
       "    </tr>\n",
       "    <tr>\n",
       "      <th>26</th>\n",
       "      <td>27</td>\n",
       "      <td>27</td>\n",
       "      <td>9</td>\n",
       "      <td>1.000000</td>\n",
       "      <td>0.219840</td>\n",
       "      <td>0</td>\n",
       "      <td>0.104573</td>\n",
       "      <td>5</td>\n",
       "      <td>{\"x\": -8527312.6412, \"y\": 4781139.809799999, \"...</td>\n",
       "    </tr>\n",
       "    <tr>\n",
       "      <th>27</th>\n",
       "      <td>28</td>\n",
       "      <td>28</td>\n",
       "      <td>-1</td>\n",
       "      <td>0.000000</td>\n",
       "      <td>0.018428</td>\n",
       "      <td>0</td>\n",
       "      <td>0.000000</td>\n",
       "      <td>-1</td>\n",
       "      <td>{\"x\": -8549042.2057, \"y\": 4781718.9802, \"spati...</td>\n",
       "    </tr>\n",
       "    <tr>\n",
       "      <th>28</th>\n",
       "      <td>29</td>\n",
       "      <td>29</td>\n",
       "      <td>5</td>\n",
       "      <td>1.000000</td>\n",
       "      <td>0.000000</td>\n",
       "      <td>1</td>\n",
       "      <td>0.042235</td>\n",
       "      <td>1</td>\n",
       "      <td>{\"x\": -8604592.7957, \"y\": 4777065.742399998, \"...</td>\n",
       "    </tr>\n",
       "    <tr>\n",
       "      <th>29</th>\n",
       "      <td>30</td>\n",
       "      <td>30</td>\n",
       "      <td>3</td>\n",
       "      <td>0.446796</td>\n",
       "      <td>0.553204</td>\n",
       "      <td>0</td>\n",
       "      <td>0.101510</td>\n",
       "      <td>3</td>\n",
       "      <td>{\"x\": -8637307.7394, \"y\": 4794655.966700003, \"...</td>\n",
       "    </tr>\n",
       "    <tr>\n",
       "      <th>...</th>\n",
       "      <td>...</td>\n",
       "      <td>...</td>\n",
       "      <td>...</td>\n",
       "      <td>...</td>\n",
       "      <td>...</td>\n",
       "      <td>...</td>\n",
       "      <td>...</td>\n",
       "      <td>...</td>\n",
       "      <td>...</td>\n",
       "    </tr>\n",
       "    <tr>\n",
       "      <th>232</th>\n",
       "      <td>233</td>\n",
       "      <td>233</td>\n",
       "      <td>17</td>\n",
       "      <td>1.000000</td>\n",
       "      <td>0.000000</td>\n",
       "      <td>1</td>\n",
       "      <td>0.061304</td>\n",
       "      <td>1</td>\n",
       "      <td>{\"x\": -8555914.9475, \"y\": 4713839.690899998, \"...</td>\n",
       "    </tr>\n",
       "    <tr>\n",
       "      <th>233</th>\n",
       "      <td>234</td>\n",
       "      <td>234</td>\n",
       "      <td>9</td>\n",
       "      <td>0.950881</td>\n",
       "      <td>0.049119</td>\n",
       "      <td>0</td>\n",
       "      <td>0.104573</td>\n",
       "      <td>5</td>\n",
       "      <td>{\"x\": -8531433.0085, \"y\": 4782343.817699999, \"...</td>\n",
       "    </tr>\n",
       "    <tr>\n",
       "      <th>234</th>\n",
       "      <td>235</td>\n",
       "      <td>235</td>\n",
       "      <td>16</td>\n",
       "      <td>1.000000</td>\n",
       "      <td>0.000000</td>\n",
       "      <td>1</td>\n",
       "      <td>0.041380</td>\n",
       "      <td>7</td>\n",
       "      <td>{\"x\": -8578246.2553, \"y\": 4723734.060699999, \"...</td>\n",
       "    </tr>\n",
       "    <tr>\n",
       "      <th>235</th>\n",
       "      <td>236</td>\n",
       "      <td>236</td>\n",
       "      <td>-1</td>\n",
       "      <td>0.000000</td>\n",
       "      <td>0.080150</td>\n",
       "      <td>0</td>\n",
       "      <td>0.000000</td>\n",
       "      <td>-1</td>\n",
       "      <td>{\"x\": -8461414.2856, \"y\": 4809840.760600001, \"...</td>\n",
       "    </tr>\n",
       "    <tr>\n",
       "      <th>236</th>\n",
       "      <td>237</td>\n",
       "      <td>237</td>\n",
       "      <td>9</td>\n",
       "      <td>1.000000</td>\n",
       "      <td>0.000000</td>\n",
       "      <td>1</td>\n",
       "      <td>0.104573</td>\n",
       "      <td>5</td>\n",
       "      <td>{\"x\": -8515642.6471, \"y\": 4771736.854800001, \"...</td>\n",
       "    </tr>\n",
       "    <tr>\n",
       "      <th>237</th>\n",
       "      <td>238</td>\n",
       "      <td>238</td>\n",
       "      <td>9</td>\n",
       "      <td>1.000000</td>\n",
       "      <td>0.000000</td>\n",
       "      <td>1</td>\n",
       "      <td>0.104573</td>\n",
       "      <td>5</td>\n",
       "      <td>{\"x\": -8534546.8618, \"y\": 4778116.014600001, \"...</td>\n",
       "    </tr>\n",
       "    <tr>\n",
       "      <th>238</th>\n",
       "      <td>239</td>\n",
       "      <td>239</td>\n",
       "      <td>-1</td>\n",
       "      <td>0.000000</td>\n",
       "      <td>0.044850</td>\n",
       "      <td>0</td>\n",
       "      <td>0.000000</td>\n",
       "      <td>-1</td>\n",
       "      <td>{\"x\": -8530682.2198, \"y\": 4768107.483199999, \"...</td>\n",
       "    </tr>\n",
       "    <tr>\n",
       "      <th>239</th>\n",
       "      <td>240</td>\n",
       "      <td>240</td>\n",
       "      <td>18</td>\n",
       "      <td>1.000000</td>\n",
       "      <td>0.000000</td>\n",
       "      <td>1</td>\n",
       "      <td>0.212171</td>\n",
       "      <td>6</td>\n",
       "      <td>{\"x\": -8554955.4347, \"y\": 4709334.454099998, \"...</td>\n",
       "    </tr>\n",
       "    <tr>\n",
       "      <th>240</th>\n",
       "      <td>241</td>\n",
       "      <td>241</td>\n",
       "      <td>-1</td>\n",
       "      <td>0.000000</td>\n",
       "      <td>0.225278</td>\n",
       "      <td>0</td>\n",
       "      <td>0.000000</td>\n",
       "      <td>-1</td>\n",
       "      <td>{\"x\": -8584326.7729, \"y\": 4772135.933200002, \"...</td>\n",
       "    </tr>\n",
       "    <tr>\n",
       "      <th>241</th>\n",
       "      <td>242</td>\n",
       "      <td>242</td>\n",
       "      <td>2</td>\n",
       "      <td>1.000000</td>\n",
       "      <td>0.000000</td>\n",
       "      <td>1</td>\n",
       "      <td>0.030755</td>\n",
       "      <td>5</td>\n",
       "      <td>{\"x\": -8764186.6026, \"y\": 4818555.977499999, \"...</td>\n",
       "    </tr>\n",
       "    <tr>\n",
       "      <th>242</th>\n",
       "      <td>243</td>\n",
       "      <td>243</td>\n",
       "      <td>-1</td>\n",
       "      <td>0.000000</td>\n",
       "      <td>0.224079</td>\n",
       "      <td>0</td>\n",
       "      <td>0.000000</td>\n",
       "      <td>-1</td>\n",
       "      <td>{\"x\": -8568677.7272, \"y\": 4766960.733999997, \"...</td>\n",
       "    </tr>\n",
       "    <tr>\n",
       "      <th>243</th>\n",
       "      <td>244</td>\n",
       "      <td>244</td>\n",
       "      <td>5</td>\n",
       "      <td>1.000000</td>\n",
       "      <td>0.000000</td>\n",
       "      <td>1</td>\n",
       "      <td>0.042235</td>\n",
       "      <td>1</td>\n",
       "      <td>{\"x\": -8617063.6711, \"y\": 4779159.993199997, \"...</td>\n",
       "    </tr>\n",
       "    <tr>\n",
       "      <th>244</th>\n",
       "      <td>245</td>\n",
       "      <td>245</td>\n",
       "      <td>10</td>\n",
       "      <td>1.000000</td>\n",
       "      <td>0.000000</td>\n",
       "      <td>1</td>\n",
       "      <td>0.117376</td>\n",
       "      <td>3</td>\n",
       "      <td>{\"x\": -8531265.7199, \"y\": 4731854.389899999, \"...</td>\n",
       "    </tr>\n",
       "    <tr>\n",
       "      <th>245</th>\n",
       "      <td>246</td>\n",
       "      <td>246</td>\n",
       "      <td>12</td>\n",
       "      <td>1.000000</td>\n",
       "      <td>0.000000</td>\n",
       "      <td>1</td>\n",
       "      <td>0.060421</td>\n",
       "      <td>5</td>\n",
       "      <td>{\"x\": -8563480.9614, \"y\": 4695901.766000003, \"...</td>\n",
       "    </tr>\n",
       "    <tr>\n",
       "      <th>246</th>\n",
       "      <td>247</td>\n",
       "      <td>247</td>\n",
       "      <td>17</td>\n",
       "      <td>1.000000</td>\n",
       "      <td>0.000000</td>\n",
       "      <td>1</td>\n",
       "      <td>0.061304</td>\n",
       "      <td>1</td>\n",
       "      <td>{\"x\": -8556150.2648, \"y\": 4714629.3257, \"spati...</td>\n",
       "    </tr>\n",
       "    <tr>\n",
       "      <th>247</th>\n",
       "      <td>248</td>\n",
       "      <td>248</td>\n",
       "      <td>18</td>\n",
       "      <td>1.000000</td>\n",
       "      <td>0.000000</td>\n",
       "      <td>1</td>\n",
       "      <td>0.212171</td>\n",
       "      <td>6</td>\n",
       "      <td>{\"x\": -8554991.9231, \"y\": 4709307.827799998, \"...</td>\n",
       "    </tr>\n",
       "    <tr>\n",
       "      <th>248</th>\n",
       "      <td>249</td>\n",
       "      <td>249</td>\n",
       "      <td>-1</td>\n",
       "      <td>0.000000</td>\n",
       "      <td>0.052164</td>\n",
       "      <td>0</td>\n",
       "      <td>0.000000</td>\n",
       "      <td>-1</td>\n",
       "      <td>{\"x\": -8559338.0219, \"y\": 4736034.542800002, \"...</td>\n",
       "    </tr>\n",
       "    <tr>\n",
       "      <th>249</th>\n",
       "      <td>250</td>\n",
       "      <td>250</td>\n",
       "      <td>10</td>\n",
       "      <td>1.000000</td>\n",
       "      <td>0.000000</td>\n",
       "      <td>1</td>\n",
       "      <td>0.117376</td>\n",
       "      <td>3</td>\n",
       "      <td>{\"x\": -8530045.2251, \"y\": 4733323.799599998, \"...</td>\n",
       "    </tr>\n",
       "    <tr>\n",
       "      <th>250</th>\n",
       "      <td>251</td>\n",
       "      <td>251</td>\n",
       "      <td>8</td>\n",
       "      <td>1.000000</td>\n",
       "      <td>0.000000</td>\n",
       "      <td>1</td>\n",
       "      <td>0.049467</td>\n",
       "      <td>2</td>\n",
       "      <td>{\"x\": -8590655.2859, \"y\": 4740426.899400003, \"...</td>\n",
       "    </tr>\n",
       "    <tr>\n",
       "      <th>251</th>\n",
       "      <td>252</td>\n",
       "      <td>252</td>\n",
       "      <td>3</td>\n",
       "      <td>1.000000</td>\n",
       "      <td>0.000000</td>\n",
       "      <td>1</td>\n",
       "      <td>0.101510</td>\n",
       "      <td>3</td>\n",
       "      <td>{\"x\": -8655104.0146, \"y\": 4815601.196999997, \"...</td>\n",
       "    </tr>\n",
       "    <tr>\n",
       "      <th>252</th>\n",
       "      <td>253</td>\n",
       "      <td>253</td>\n",
       "      <td>-1</td>\n",
       "      <td>0.000000</td>\n",
       "      <td>0.010121</td>\n",
       "      <td>0</td>\n",
       "      <td>0.000000</td>\n",
       "      <td>-1</td>\n",
       "      <td>{\"x\": -8558252.0379, \"y\": 4737417.684600003, \"...</td>\n",
       "    </tr>\n",
       "    <tr>\n",
       "      <th>253</th>\n",
       "      <td>254</td>\n",
       "      <td>254</td>\n",
       "      <td>11</td>\n",
       "      <td>0.962203</td>\n",
       "      <td>0.037797</td>\n",
       "      <td>0</td>\n",
       "      <td>0.004703</td>\n",
       "      <td>4</td>\n",
       "      <td>{\"x\": -8554350.2898, \"y\": 4742344.495700002, \"...</td>\n",
       "    </tr>\n",
       "    <tr>\n",
       "      <th>254</th>\n",
       "      <td>255</td>\n",
       "      <td>255</td>\n",
       "      <td>-1</td>\n",
       "      <td>0.000000</td>\n",
       "      <td>0.217214</td>\n",
       "      <td>0</td>\n",
       "      <td>0.000000</td>\n",
       "      <td>-1</td>\n",
       "      <td>{\"x\": -8590924.9274, \"y\": 4718935.632600002, \"...</td>\n",
       "    </tr>\n",
       "    <tr>\n",
       "      <th>255</th>\n",
       "      <td>256</td>\n",
       "      <td>256</td>\n",
       "      <td>9</td>\n",
       "      <td>1.000000</td>\n",
       "      <td>0.000000</td>\n",
       "      <td>1</td>\n",
       "      <td>0.104573</td>\n",
       "      <td>5</td>\n",
       "      <td>{\"x\": -8516333.1373, \"y\": 4764164.555200003, \"...</td>\n",
       "    </tr>\n",
       "    <tr>\n",
       "      <th>256</th>\n",
       "      <td>257</td>\n",
       "      <td>257</td>\n",
       "      <td>3</td>\n",
       "      <td>0.518711</td>\n",
       "      <td>0.481289</td>\n",
       "      <td>0</td>\n",
       "      <td>0.101510</td>\n",
       "      <td>3</td>\n",
       "      <td>{\"x\": -8645349.0265, \"y\": 4807793.066399999, \"...</td>\n",
       "    </tr>\n",
       "    <tr>\n",
       "      <th>257</th>\n",
       "      <td>258</td>\n",
       "      <td>258</td>\n",
       "      <td>7</td>\n",
       "      <td>1.000000</td>\n",
       "      <td>0.000000</td>\n",
       "      <td>1</td>\n",
       "      <td>0.008840</td>\n",
       "      <td>2</td>\n",
       "      <td>{\"x\": -8467199.1878, \"y\": 4807364.877300002, \"...</td>\n",
       "    </tr>\n",
       "    <tr>\n",
       "      <th>258</th>\n",
       "      <td>259</td>\n",
       "      <td>259</td>\n",
       "      <td>10</td>\n",
       "      <td>0.659261</td>\n",
       "      <td>0.340739</td>\n",
       "      <td>0</td>\n",
       "      <td>0.117376</td>\n",
       "      <td>3</td>\n",
       "      <td>{\"x\": -8530278.6865, \"y\": 4736364.072300002, \"...</td>\n",
       "    </tr>\n",
       "    <tr>\n",
       "      <th>259</th>\n",
       "      <td>260</td>\n",
       "      <td>260</td>\n",
       "      <td>3</td>\n",
       "      <td>0.417712</td>\n",
       "      <td>0.582288</td>\n",
       "      <td>0</td>\n",
       "      <td>0.101510</td>\n",
       "      <td>3</td>\n",
       "      <td>{\"x\": -8636355.9578, \"y\": 4794399.868900001, \"...</td>\n",
       "    </tr>\n",
       "    <tr>\n",
       "      <th>260</th>\n",
       "      <td>261</td>\n",
       "      <td>261</td>\n",
       "      <td>1</td>\n",
       "      <td>1.000000</td>\n",
       "      <td>0.000000</td>\n",
       "      <td>1</td>\n",
       "      <td>0.008197</td>\n",
       "      <td>4</td>\n",
       "      <td>{\"x\": -8842922.8785, \"y\": 4815813.657499999, \"...</td>\n",
       "    </tr>\n",
       "    <tr>\n",
       "      <th>261</th>\n",
       "      <td>262</td>\n",
       "      <td>262</td>\n",
       "      <td>1</td>\n",
       "      <td>1.000000</td>\n",
       "      <td>0.000000</td>\n",
       "      <td>1</td>\n",
       "      <td>0.008197</td>\n",
       "      <td>4</td>\n",
       "      <td>{\"x\": -8845661.0285, \"y\": 4816696.082900003, \"...</td>\n",
       "    </tr>\n",
       "  </tbody>\n",
       "</table>\n",
       "<p>262 rows × 9 columns</p>\n",
       "</div>"
      ],
      "text/plain": [
       "     OBJECTID  SOURCE_ID  CLUSTER_ID      PROB   OUTLIER  EXEMPLAR  STABILITY  \\\n",
       "0           1          1          13  1.000000  0.000000         1   0.098170   \n",
       "1           2          2           3  1.000000  0.000000         1   0.101510   \n",
       "2           3          3           6  1.000000  0.000000         1   0.474244   \n",
       "3           4          4           3  0.656066  0.343934         0   0.101510   \n",
       "4           5          5          -1  0.000000  0.076212         0   0.000000   \n",
       "5           6          6           1  1.000000  0.000000         1   0.008197   \n",
       "6           7          7          -1  0.000000  0.015823         0   0.000000   \n",
       "7           8          8           2  1.000000  0.000000         1   0.030755   \n",
       "8           9          9          11  1.000000  0.000000         1   0.004703   \n",
       "9          10         10          -1  0.000000  0.302658         0   0.000000   \n",
       "10         11         11           9  0.865593  0.134407         0   0.104573   \n",
       "11         12         12          -1  0.000000  0.038024         0   0.000000   \n",
       "12         13         13          -1  0.000000  0.450261         0   0.000000   \n",
       "13         14         14          17  1.000000  0.000000         1   0.061304   \n",
       "14         15         15           6  0.113805  0.886195         0   0.474244   \n",
       "15         16         16          -1  0.000000  0.054276         0   0.000000   \n",
       "16         17         17          18  1.000000  0.000000         1   0.212171   \n",
       "17         18         18           9  1.000000  0.000000         1   0.104573   \n",
       "18         19         19          12  1.000000  0.000000         1   0.060421   \n",
       "19         20         20          -1  0.000000  0.084075         0   0.000000   \n",
       "20         21         21           9  1.000000  0.401422         0   0.104573   \n",
       "21         22         22           2  0.824472  0.175528         0   0.030755   \n",
       "22         23         23          -1  0.000000  0.315146         0   0.000000   \n",
       "23         24         24           3  0.733881  0.266119         0   0.101510   \n",
       "24         25         25          -1  0.000000  0.232922         0   0.000000   \n",
       "25         26         26          14  1.000000  0.000000         1   0.091302   \n",
       "26         27         27           9  1.000000  0.219840         0   0.104573   \n",
       "27         28         28          -1  0.000000  0.018428         0   0.000000   \n",
       "28         29         29           5  1.000000  0.000000         1   0.042235   \n",
       "29         30         30           3  0.446796  0.553204         0   0.101510   \n",
       "..        ...        ...         ...       ...       ...       ...        ...   \n",
       "232       233        233          17  1.000000  0.000000         1   0.061304   \n",
       "233       234        234           9  0.950881  0.049119         0   0.104573   \n",
       "234       235        235          16  1.000000  0.000000         1   0.041380   \n",
       "235       236        236          -1  0.000000  0.080150         0   0.000000   \n",
       "236       237        237           9  1.000000  0.000000         1   0.104573   \n",
       "237       238        238           9  1.000000  0.000000         1   0.104573   \n",
       "238       239        239          -1  0.000000  0.044850         0   0.000000   \n",
       "239       240        240          18  1.000000  0.000000         1   0.212171   \n",
       "240       241        241          -1  0.000000  0.225278         0   0.000000   \n",
       "241       242        242           2  1.000000  0.000000         1   0.030755   \n",
       "242       243        243          -1  0.000000  0.224079         0   0.000000   \n",
       "243       244        244           5  1.000000  0.000000         1   0.042235   \n",
       "244       245        245          10  1.000000  0.000000         1   0.117376   \n",
       "245       246        246          12  1.000000  0.000000         1   0.060421   \n",
       "246       247        247          17  1.000000  0.000000         1   0.061304   \n",
       "247       248        248          18  1.000000  0.000000         1   0.212171   \n",
       "248       249        249          -1  0.000000  0.052164         0   0.000000   \n",
       "249       250        250          10  1.000000  0.000000         1   0.117376   \n",
       "250       251        251           8  1.000000  0.000000         1   0.049467   \n",
       "251       252        252           3  1.000000  0.000000         1   0.101510   \n",
       "252       253        253          -1  0.000000  0.010121         0   0.000000   \n",
       "253       254        254          11  0.962203  0.037797         0   0.004703   \n",
       "254       255        255          -1  0.000000  0.217214         0   0.000000   \n",
       "255       256        256           9  1.000000  0.000000         1   0.104573   \n",
       "256       257        257           3  0.518711  0.481289         0   0.101510   \n",
       "257       258        258           7  1.000000  0.000000         1   0.008840   \n",
       "258       259        259          10  0.659261  0.340739         0   0.117376   \n",
       "259       260        260           3  0.417712  0.582288         0   0.101510   \n",
       "260       261        261           1  1.000000  0.000000         1   0.008197   \n",
       "261       262        262           1  1.000000  0.000000         1   0.008197   \n",
       "\n",
       "     COLOR_ID                                              SHAPE  \n",
       "0           6  {\"x\": -8542621.5446, \"y\": 4762877.223099999, \"...  \n",
       "1           3  {\"x\": -8657524.2863, \"y\": 4812674.592200004, \"...  \n",
       "2           1  {\"x\": -8496768.7369, \"y\": 4786047.209899999, \"...  \n",
       "3           3  {\"x\": -8653474.1124, \"y\": 4818217.715800002, \"...  \n",
       "4          -1  {\"x\": -8528423.3625, \"y\": 4765538.370399997, \"...  \n",
       "5           4  {\"x\": -8820861.829, \"y\": 4819880.209200002, \"s...  \n",
       "6          -1  {\"x\": -8528795.9733, \"y\": 4750661.747699998, \"...  \n",
       "7           5  {\"x\": -8750348.6615, \"y\": 4824208.487899996, \"...  \n",
       "8           4  {\"x\": -8553609.0878, \"y\": 4743557.832900003, \"...  \n",
       "9          -1  {\"x\": -8458196.8429, \"y\": 4811792.119999997, \"...  \n",
       "10          5  {\"x\": -8520741.3893, \"y\": 4765762.5616, \"spati...  \n",
       "11         -1  {\"x\": -8532044.3373, \"y\": 4744709.101899996, \"...  \n",
       "12         -1  {\"x\": -8445130.7176, \"y\": 4814085.182499997, \"...  \n",
       "13          1  {\"x\": -8555161.9948, \"y\": 4713971.6897, \"spati...  \n",
       "14          1  {\"x\": -8488293.9228, \"y\": 4791273.5173999965, ...  \n",
       "15         -1  {\"x\": -8585162.2881, \"y\": 4723877.730599999, \"...  \n",
       "16          6  {\"x\": -8554187.3302, \"y\": 4703595.499499999, \"...  \n",
       "17          5  {\"x\": -8515362.1843, \"y\": 4770941.143299997, \"...  \n",
       "18          5  {\"x\": -8567358.2817, \"y\": 4694829.042999998, \"...  \n",
       "19         -1  {\"x\": -8528458.9224, \"y\": 4765590.719999999, \"...  \n",
       "20          5  {\"x\": -8519244.7611, \"y\": 4777249.782499999, \"...  \n",
       "21          5  {\"x\": -8745972.5687, \"y\": 4823128.853699997, \"...  \n",
       "22         -1  {\"x\": -8534404.3105, \"y\": 4807516.567199998, \"...  \n",
       "23          3  {\"x\": -8652513.9819, \"y\": 4808816.059199996, \"...  \n",
       "24         -1  {\"x\": -8542444.6702, \"y\": 4714975.258599997, \"...  \n",
       "25          7  {\"x\": -8532966.4346, \"y\": 4760626.983599998, \"...  \n",
       "26          5  {\"x\": -8527312.6412, \"y\": 4781139.809799999, \"...  \n",
       "27         -1  {\"x\": -8549042.2057, \"y\": 4781718.9802, \"spati...  \n",
       "28          1  {\"x\": -8604592.7957, \"y\": 4777065.742399998, \"...  \n",
       "29          3  {\"x\": -8637307.7394, \"y\": 4794655.966700003, \"...  \n",
       "..        ...                                                ...  \n",
       "232         1  {\"x\": -8555914.9475, \"y\": 4713839.690899998, \"...  \n",
       "233         5  {\"x\": -8531433.0085, \"y\": 4782343.817699999, \"...  \n",
       "234         7  {\"x\": -8578246.2553, \"y\": 4723734.060699999, \"...  \n",
       "235        -1  {\"x\": -8461414.2856, \"y\": 4809840.760600001, \"...  \n",
       "236         5  {\"x\": -8515642.6471, \"y\": 4771736.854800001, \"...  \n",
       "237         5  {\"x\": -8534546.8618, \"y\": 4778116.014600001, \"...  \n",
       "238        -1  {\"x\": -8530682.2198, \"y\": 4768107.483199999, \"...  \n",
       "239         6  {\"x\": -8554955.4347, \"y\": 4709334.454099998, \"...  \n",
       "240        -1  {\"x\": -8584326.7729, \"y\": 4772135.933200002, \"...  \n",
       "241         5  {\"x\": -8764186.6026, \"y\": 4818555.977499999, \"...  \n",
       "242        -1  {\"x\": -8568677.7272, \"y\": 4766960.733999997, \"...  \n",
       "243         1  {\"x\": -8617063.6711, \"y\": 4779159.993199997, \"...  \n",
       "244         3  {\"x\": -8531265.7199, \"y\": 4731854.389899999, \"...  \n",
       "245         5  {\"x\": -8563480.9614, \"y\": 4695901.766000003, \"...  \n",
       "246         1  {\"x\": -8556150.2648, \"y\": 4714629.3257, \"spati...  \n",
       "247         6  {\"x\": -8554991.9231, \"y\": 4709307.827799998, \"...  \n",
       "248        -1  {\"x\": -8559338.0219, \"y\": 4736034.542800002, \"...  \n",
       "249         3  {\"x\": -8530045.2251, \"y\": 4733323.799599998, \"...  \n",
       "250         2  {\"x\": -8590655.2859, \"y\": 4740426.899400003, \"...  \n",
       "251         3  {\"x\": -8655104.0146, \"y\": 4815601.196999997, \"...  \n",
       "252        -1  {\"x\": -8558252.0379, \"y\": 4737417.684600003, \"...  \n",
       "253         4  {\"x\": -8554350.2898, \"y\": 4742344.495700002, \"...  \n",
       "254        -1  {\"x\": -8590924.9274, \"y\": 4718935.632600002, \"...  \n",
       "255         5  {\"x\": -8516333.1373, \"y\": 4764164.555200003, \"...  \n",
       "256         3  {\"x\": -8645349.0265, \"y\": 4807793.066399999, \"...  \n",
       "257         2  {\"x\": -8467199.1878, \"y\": 4807364.877300002, \"...  \n",
       "258         3  {\"x\": -8530278.6865, \"y\": 4736364.072300002, \"...  \n",
       "259         3  {\"x\": -8636355.9578, \"y\": 4794399.868900001, \"...  \n",
       "260         4  {\"x\": -8842922.8785, \"y\": 4815813.657499999, \"...  \n",
       "261         4  {\"x\": -8845661.0285, \"y\": 4816696.082900003, \"...  \n",
       "\n",
       "[262 rows x 9 columns]"
      ]
     },
     "execution_count": 49,
     "metadata": {},
     "output_type": "execute_result"
    }
   ],
   "source": [
    "hdbscan_sedf"
   ]
  },
  {
   "cell_type": "markdown",
   "metadata": {},
   "source": [
    "### Step 2. Measure spatial characteristics of each cluster"
   ]
  },
  {
   "cell_type": "code",
   "execution_count": null,
   "metadata": {},
   "outputs": [],
   "source": []
  },
  {
   "cell_type": "markdown",
   "metadata": {},
   "source": [
    "### Step 3. Measure aspatial characteristics of each cluster"
   ]
  },
  {
   "cell_type": "code",
   "execution_count": null,
   "metadata": {},
   "outputs": [],
   "source": []
  },
  {
   "cell_type": "markdown",
   "metadata": {},
   "source": [
    "### Step 4. Rank sites"
   ]
  },
  {
   "cell_type": "code",
   "execution_count": null,
   "metadata": {},
   "outputs": [],
   "source": []
  },
  {
   "cell_type": "markdown",
   "metadata": {},
   "source": [
    "## <span style=\"color:Navy\">Analysis 2: </span><span> Finding Statistically Significant Clustering of High Crash Rate Values for Interstate Highway Segments</span>"
   ]
  },
  {
   "cell_type": "markdown",
   "metadata": {},
   "source": [
    "< Description placeholder >"
   ]
  },
  {
   "cell_type": "markdown",
   "metadata": {},
   "source": [
    "### Step 1. Prepare HPMS segments and Crash Points"
   ]
  },
  {
   "cell_type": "code",
   "execution_count": null,
   "metadata": {},
   "outputs": [],
   "source": []
  },
  {
   "cell_type": "markdown",
   "metadata": {},
   "source": [
    "### Step 2. Define neighborhood"
   ]
  },
  {
   "cell_type": "code",
   "execution_count": null,
   "metadata": {},
   "outputs": [],
   "source": []
  },
  {
   "cell_type": "markdown",
   "metadata": {},
   "source": [
    "### Step 3. Run Optimized Hot Spots"
   ]
  },
  {
   "cell_type": "code",
   "execution_count": null,
   "metadata": {},
   "outputs": [],
   "source": []
  },
  {
   "cell_type": "markdown",
   "metadata": {},
   "source": [
    "### Step 4. Rank Sites"
   ]
  },
  {
   "cell_type": "code",
   "execution_count": null,
   "metadata": {},
   "outputs": [],
   "source": []
  }
 ],
 "metadata": {
  "kernelspec": {
   "display_name": "Python 3",
   "language": "python",
   "name": "python3"
  },
  "language_info": {
   "codemirror_mode": {
    "name": "ipython",
    "version": 3
   },
   "file_extension": ".py",
   "mimetype": "text/x-python",
   "name": "python",
   "nbconvert_exporter": "python",
   "pygments_lexer": "ipython3",
   "version": "3.6.6"
  }
 },
 "nbformat": 4,
 "nbformat_minor": 2
}
