{
 "cells": [
  {
   "cell_type": "markdown",
   "metadata": {},
   "source": [
    "# Maryland Crash Analysis Prototyping\n",
    "\n",
    "This Jupyter Notebook contains prototyping of workflows to explore the Maryland crash data for 2016. \n",
    "\n",
    "The purpose is to explore the nature of crashes and related spatial and non-spatial variables. The output would be feature engineering for each crash feature, composed of a set of attributes that can be passed to a Machine Learning model that can accurately predict crashes on a given intersection in a given time period. \n",
    "\n",
    "The prototyping start plan includes conversion of the crash locations to GIS-ready formats so we can explore the nature of the data in Insights for ArcGIS, as well as exploration via the Spatial Statistics tools. Some of the outputs of the Spatial Statistics tools may be candidate features during the feature engineering phase.\n",
    "\n",
    "Additionally, the workflow may be leveraged in Spatial Statistics workshops for understanding how the tools can get us closer to understanding the characteristics and important information from Maryland crash data. \n",
    "\n",
    "Let's get started."
   ]
  },
  {
   "cell_type": "markdown",
   "metadata": {},
   "source": [
    "## Data Sources\n",
    "\n",
    "Maryland 2016 Crash Data:\n",
    "https://esri.box.com/s/m7dyfet29gtyb9wy02rkrx21j817llr8 \n",
    "\n",
    "Data Dictionary:\n",
    "https://data.maryland.gov/Public-Safety/Maryland-Statewide-Vehicle-Crash-Data-Dictionary/7xpx-5fte/data \n",
    "\n",
    "Maryland Road Network Layer (with Average Daily Traffic):\n",
    "http://data.imap.maryland.gov/datasets/maryland-annual-average-daily-traffic-annual-average-daily-traffic-sha-statewide-aadt-lines?geometry=-86.553%2C37.336%2C-67.986%2C40.331\n",
    "\n",
    "Maryland Road Network Layer (another version, applicant can choose to work with either this or the previous road layer)\n",
    "https://data.maryland.gov/Transportation/MD-iMAP-Maryland-Road-Centerlines-Local-and-Other-/c6up-awfw\n"
   ]
  },
  {
   "cell_type": "markdown",
   "metadata": {},
   "source": [
    "# Phase 1: \"Get Data\" (Data Exploration and Prototyping)"
   ]
  },
  {
   "cell_type": "markdown",
   "metadata": {},
   "source": [
    "#### Reason: We want to explore the data in Insights for ArcGIS as well as run spatial statistics data mining tools such as Getis-Ord Gi Hot Spots and Emerging Hot Spots. \n",
    "\n",
    "#### Pseudocode\n",
    "\n",
    "- Create link to folder containing excel files\n",
    "- Helper function to convert excel to feature class"
   ]
  },
  {
   "cell_type": "markdown",
   "metadata": {},
   "source": [
    "## Approach A: Convert the Maryland Crash data into Local GIS formats (Feature Class, FGDB) and Explore Locally"
   ]
  },
  {
   "cell_type": "code",
   "execution_count": 2,
   "metadata": {
    "collapsed": true
   },
   "outputs": [],
   "source": [
    "# Import needed modules\n",
    "import os\n",
    "import glob\n",
    "import arcpy\n",
    "import arcgis"
   ]
  },
  {
   "cell_type": "code",
   "execution_count": 3,
   "metadata": {
    "collapsed": true
   },
   "outputs": [],
   "source": [
    "# Set reference directories\n",
    "inputs_dir = r\"C:\\Users\\albe9057\\Documents\\ANieto_SolutionEngineering\\Projects\\MachineLearning\\MarylandCrashPrediction\\Inputs\\MarylandData\"\n",
    "workspace_dir = r\"C:\\Users\\albe9057\\Documents\\ANieto_SolutionEngineering\\Projects\\MachineLearning\\MarylandCrashPrediction\\Work\"\n",
    "outputs_dir = r\"C:\\Users\\albe9057\\Documents\\ANieto_SolutionEngineering\\Projects\\MachineLearning\\MarylandCrashPrediction\\Outputs\""
   ]
  },
  {
   "cell_type": "code",
   "execution_count": 4,
   "metadata": {
    "collapsed": true
   },
   "outputs": [],
   "source": [
    "# Set arcpy config to overwrite outputs by default\n",
    "arcpy.env.overwriteOutput = True"
   ]
  },
  {
   "cell_type": "code",
   "execution_count": 5,
   "metadata": {},
   "outputs": [
    {
     "name": "stdout",
     "output_type": "stream",
     "text": [
      "Workspace found... Using it.\n"
     ]
    },
    {
     "data": {
      "text/plain": [
       "'C:\\\\Users\\\\albe9057\\\\Documents\\\\ANieto_SolutionEngineering\\\\Projects\\\\MachineLearning\\\\MarylandCrashPrediction\\\\Work\\\\MarylandCrashData.gdb'"
      ]
     },
     "execution_count": 5,
     "metadata": {},
     "output_type": "execute_result"
    }
   ],
   "source": [
    "# Create workspace, checking if one already exists\n",
    "if arcpy.Exists(os.path.join(workspace_dir, \"MarylandCrashData.gdb\")):\n",
    "    print(\"Workspace found... Using it.\")\n",
    "    fgdb = os.path.join(workspace_dir, \"MarylandCrashData.gdb\")\n",
    "else:\n",
    "    print(\"Creating workspace...\")\n",
    "    fgdb = arcpy.CreateFileGDB_management(out_folder_path=workspace_dir, out_name=\"MarylandCrashData\").getOutput(0)\n",
    "fgdb"
   ]
  },
  {
   "cell_type": "code",
   "execution_count": 6,
   "metadata": {},
   "outputs": [
    {
     "data": {
      "text/plain": [
       "['C:\\\\Users\\\\albe9057\\\\Documents\\\\ANieto_SolutionEngineering\\\\Projects\\\\MachineLearning\\\\MarylandCrashPrediction\\\\Inputs\\\\MarylandData\\\\Crash_Qtr01_2016.xlsx',\n",
       " 'C:\\\\Users\\\\albe9057\\\\Documents\\\\ANieto_SolutionEngineering\\\\Projects\\\\MachineLearning\\\\MarylandCrashPrediction\\\\Inputs\\\\MarylandData\\\\Crash_Qtr02_2016.xlsx',\n",
       " 'C:\\\\Users\\\\albe9057\\\\Documents\\\\ANieto_SolutionEngineering\\\\Projects\\\\MachineLearning\\\\MarylandCrashPrediction\\\\Inputs\\\\MarylandData\\\\Crash_Qtr03_2016.xlsx',\n",
       " 'C:\\\\Users\\\\albe9057\\\\Documents\\\\ANieto_SolutionEngineering\\\\Projects\\\\MachineLearning\\\\MarylandCrashPrediction\\\\Inputs\\\\MarylandData\\\\Crash_Qtr04_2016.xlsx']"
      ]
     },
     "execution_count": 6,
     "metadata": {},
     "output_type": "execute_result"
    }
   ],
   "source": [
    "# Retrieve Excels from inputs directory\n",
    "in_excels = glob.glob(inputs_dir+\"\\\\*.xlsx\")\n",
    "in_excels"
   ]
  },
  {
   "cell_type": "code",
   "execution_count": 7,
   "metadata": {
    "collapsed": true
   },
   "outputs": [],
   "source": [
    "# Set reference to the location attributes\n",
    "in_excel_x_field = \"LONGITUDE\"\n",
    "in_excel_y_field = \"LATITUDE\""
   ]
  },
  {
   "cell_type": "code",
   "execution_count": 8,
   "metadata": {},
   "outputs": [
    {
     "name": "stdout",
     "output_type": "stream",
     "text": [
      "Converting Crash_Qtr01_2016...\n",
      "Excel converted.\n",
      "\n",
      "Converting Crash_Qtr02_2016...\n",
      "Excel converted.\n",
      "\n",
      "Converting Crash_Qtr03_2016...\n",
      "Excel converted.\n",
      "\n",
      "Converting Crash_Qtr04_2016...\n",
      "Excel converted.\n",
      "\n"
     ]
    }
   ],
   "source": [
    "# Iterate on each input excel to convert to feature class format, adding them to a python list\n",
    "in_fcs_temp_list = []\n",
    "\n",
    "for in_excel in in_excels:\n",
    "    # Get the excel name\n",
    "    excel_name = in_excel.split(\"\\\\\")[-1].split(\".\")[0]\n",
    "    print(\"Converting {0}...\".format(excel_name))\n",
    "    # Convert excel to FGDB table\n",
    "    fgdb_table = arcpy.ExcelToTable_conversion(Input_Excel_File=in_excel, \n",
    "                                               Output_Table=os.path.join(fgdb, excel_name+\"_table\")).getOutput(0)\n",
    "    temp_layer = arcpy.MakeXYEventLayer_management(table=fgdb_table, in_x_field=in_excel_x_field, in_y_field=in_excel_y_field).getOutput(0)\n",
    "    data_fc = arcpy.FeatureClassToFeatureClass_conversion(in_features=temp_layer, out_path=fgdb, out_name=excel_name).getOutput(0)\n",
    "    print(\"Excel converted.\\n\")\n",
    "    in_fcs_temp_list.append(data_fc)\n",
    "    del temp_layer, data_fc"
   ]
  },
  {
   "cell_type": "code",
   "execution_count": 9,
   "metadata": {},
   "outputs": [
    {
     "data": {
      "text/plain": [
       "['C:\\\\Users\\\\albe9057\\\\Documents\\\\ANieto_SolutionEngineering\\\\Projects\\\\MachineLearning\\\\MarylandCrashPrediction\\\\Work\\\\MarylandCrashData.gdb\\\\Crash_Qtr01_2016',\n",
       " 'C:\\\\Users\\\\albe9057\\\\Documents\\\\ANieto_SolutionEngineering\\\\Projects\\\\MachineLearning\\\\MarylandCrashPrediction\\\\Work\\\\MarylandCrashData.gdb\\\\Crash_Qtr02_2016',\n",
       " 'C:\\\\Users\\\\albe9057\\\\Documents\\\\ANieto_SolutionEngineering\\\\Projects\\\\MachineLearning\\\\MarylandCrashPrediction\\\\Work\\\\MarylandCrashData.gdb\\\\Crash_Qtr03_2016',\n",
       " 'C:\\\\Users\\\\albe9057\\\\Documents\\\\ANieto_SolutionEngineering\\\\Projects\\\\MachineLearning\\\\MarylandCrashPrediction\\\\Work\\\\MarylandCrashData.gdb\\\\Crash_Qtr04_2016']"
      ]
     },
     "execution_count": 9,
     "metadata": {},
     "output_type": "execute_result"
    }
   ],
   "source": [
    "in_fcs_temp_list_temp_list"
   ]
  },
  {
   "cell_type": "code",
   "execution_count": 21,
   "metadata": {},
   "outputs": [
    {
     "data": {
      "text/plain": [
       "'C:\\\\Users\\\\albe9057\\\\Documents\\\\ANieto_SolutionEngineering\\\\Projects\\\\MachineLearning\\\\MarylandCrashPrediction\\\\Work\\\\MarylandCrashData.gdb\\\\MarylandCrashData'"
      ]
     },
     "execution_count": 21,
     "metadata": {},
     "output_type": "execute_result"
    }
   ],
   "source": [
    "# Merge the feature classes into a single feature class for exploration via emerging hot spots\n",
    "crashes_fc = arcpy.Merge_management(inputs=in_fcs_temp_list, output=os.path.join(fgdb, \"MarylandCrashData\")).getOutput(0)\n",
    "crashes_fc"
   ]
  },
  {
   "cell_type": "code",
   "execution_count": 23,
   "metadata": {
    "scrolled": true
   },
   "outputs": [
    {
     "data": {
      "text/plain": [
       "<Result 'C:\\\\Users\\\\albe9057\\\\Documents\\\\ANieto_SolutionEngineering\\\\Projects\\\\MachineLearning\\\\MarylandCrashPrediction\\\\Work\\\\MarylandCrashData.gdb\\\\MarylandCrashData'>"
      ]
     },
     "execution_count": 23,
     "metadata": {},
     "output_type": "execute_result"
    }
   ],
   "source": [
    "# Add an incident count field for the crashes_fc to pass as the analysis field in Optimized Hot Spots analysis\n",
    "arcpy.AddField_management(crashes_fc, \"INCIDENT_COUNT\", field_type=\"DOUBLE\")"
   ]
  },
  {
   "cell_type": "code",
   "execution_count": 24,
   "metadata": {
    "collapsed": true
   },
   "outputs": [],
   "source": [
    "# Calculate the single incident value to all records\n",
    "with arcpy.da.UpdateCursor(crashes_fc, \"INCIDENT_COUNT\") as cursor:\n",
    "    for row in cursor:\n",
    "        row[0] = 1\n",
    "        cursor.updateRow(row)"
   ]
  },
  {
   "cell_type": "code",
   "execution_count": 25,
   "metadata": {},
   "outputs": [
    {
     "name": "stdout",
     "output_type": "stream",
     "text": [
      "1.0\n"
     ]
    }
   ],
   "source": [
    "# Quick check\n",
    "with arcpy.da.SearchCursor(crashes_fc, \"INCIDENT_COUNT\") as cursor:\n",
    "    for row in cursor:\n",
    "        print(row[0])\n",
    "        break"
   ]
  },
  {
   "cell_type": "code",
   "execution_count": 26,
   "metadata": {
    "collapsed": true
   },
   "outputs": [],
   "source": [
    "# Use a projected coordinate system for spatial analysis\n",
    "crashes_proj_fc = arcpy.management.Project(crashes_fc, os.path.join(fgdb, \"MarylandCrashData_Projected\"), \"PROJCS['NAD_1983_UTM_Zone_18N',GEOGCS['GCS_North_American_1983',DATUM['D_North_American_1983',SPHEROID['GRS_1980',6378137.0,298.257222101]],PRIMEM['Greenwich',0.0],UNIT['Degree',0.0174532925199433]],PROJECTION['Transverse_Mercator'],PARAMETER['False_Easting',500000.0],PARAMETER['False_Northing',0.0],PARAMETER['Central_Meridian',-75.0],PARAMETER['Scale_Factor',0.9996],PARAMETER['Latitude_Of_Origin',0.0],UNIT['Meter',1.0]]\", \"WGS_1984_(ITRF00)_To_NAD_1983\", \"GEOGCS['GCS_WGS_1984',DATUM['D_WGS_1984',SPHEROID['WGS_1984',6378137.0,298.257223563]],PRIMEM['Greenwich',0.0],UNIT['Degree',0.0174532925199433]]\", \"NO_PRESERVE_SHAPE\", None, \"NO_VERTICAL\")"
   ]
  },
  {
   "cell_type": "markdown",
   "metadata": {},
   "source": [
    "We are now ready to run Spatial Stats tools on this data!"
   ]
  },
  {
   "cell_type": "markdown",
   "metadata": {},
   "source": [
    "<img src=\"doc/img/MarylandCrash_Points.JPG\"></img>"
   ]
  },
  {
   "cell_type": "code",
   "execution_count": 27,
   "metadata": {
    "collapsed": true
   },
   "outputs": [],
   "source": [
    "# Run Optimized Hot Spots analysis\n",
    "ohs_firstrun = arcpy.stats.OptimizedHotSpotAnalysis(crashes_proj_fc, os.path.join(fgdb, \"MarylandCrash_OHS_01\"), None, \"COUNT_INCIDENTS_WITHIN_HEXAGON_POLYGONS\").getOutput(0)"
   ]
  },
  {
   "cell_type": "markdown",
   "metadata": {},
   "source": [
    "Our first run of Optimized Hot Spots analysis does not yield a lot of information...\n",
    "\n",
    "<img src=\"doc/img/OHS_01.JPG\"></img>\n",
    "\n",
    "Let's take a look at the tool messaging to see if we can refine the run using Getis-Ord GI Hot Spots..."
   ]
  },
  {
   "cell_type": "markdown",
   "metadata": {},
   "source": [
    "#### Optimized Hot Spots - Messaging at First Run\n",
    "##### Messages\n",
    "Start Time: Tuesday, October 31, 2017 3:51:20 PM\n",
    "Running script OptimizedHotSpotAnalysis...\n",
    "************************** Initial Data Assessment ***************************\n",
    "Making sure there are enough incidents for analysis....\n",
    "- There are 117977 valid input features.\n",
    "Looking for locational outliers....\n",
    "- There were 663 outlier locations; these will not be used to compute the hexagon size.\n",
    "**************************** Incident Aggregation ****************************\n",
    "Creating hexagon mesh to use for aggregating incidents....\n",
    "- Using a hexagon of width 4763.1397 Meters and height 4125.0000 Meters\n",
    "Counting the number of incidents in each hexagon....\n",
    "- Analysis is performed on all hexagons containing at least one incident.\n",
    "Evaluating incident counts and number of polygons....\n",
    "- The aggregation process resulted in 1726 weighted polygons.\n",
    "- Incident Count Properties:\n",
    "        Min:          1.0000\n",
    "        Max:       5147.0000\n",
    "        Mean:        68.3528\n",
    "        Std. Dev.:  225.6602\n",
    "***************************** Scale of Analysis ******************************\n",
    "Looking for an optimal scale of analysis by assessing the intensity of clustering at increasing distances....\n",
    "- The optimal fixed distance band is based on peak clustering found at 15099.5727 Meters\n",
    "***************************** Hot Spot Analysis ******************************\n",
    "Finding statistically significant clusters of high and low incident counts....\n",
    "- There are 226 output features statistically significant based on an FDR correction for multiple testing and spatial dependence.\n",
    "- 1.9% of features had less than 8 neighbors based on the distance band of 15099.5727 Meters\n",
    "*********************************** Output ***********************************\n",
    "Creating output feature class: C:\\Users\\albe9057\\Documents\\ANieto_SolutionEngineering\\Projects\\MachineLearning\\MarylandCrashPrediction\\Work\\MarylandCrashAnalysis\\MarylandCrashAnalysis.gdb\\MarylandCrashData_OHS\n",
    "- Red output features represent hot spots where high incident counts cluster.\n",
    "- Blue output features represent cold spots where low incident counts cluster.\n",
    "Completed script OptimizedHotSpotAnalysis...\n",
    "Succeeded at Tuesday, October 31, 2017 3:51:41 PM (Elapsed Time: 21.36 seconds)\n"
   ]
  },
  {
   "cell_type": "markdown",
   "metadata": {},
   "source": [
    "The item that stands out to me (visually and through the tool messaging) is the size of the hexagonal bins. \n",
    "\n",
    "Let's test with different ."
   ]
  },
  {
   "cell_type": "markdown",
   "metadata": {},
   "source": [
    "<img src=\"doc/img/OHS_02.JPG\"></img>\n",
    "\n",
    "<img src=\"doc/img/OHS_03.JPG\"></img>"
   ]
  },
  {
   "cell_type": "markdown",
   "metadata": {},
   "source": [
    "Let's refine this "
   ]
  },
  {
   "cell_type": "markdown",
   "metadata": {},
   "source": [
    "#### Baltimore Tests"
   ]
  },
  {
   "cell_type": "markdown",
   "metadata": {},
   "source": [
    "##### Messages\n",
    "Start Time: Tuesday, October 31, 2017 4:18:00 PM\n",
    "Running script OptimizedHotSpotAnalysis...\n",
    "************************** Initial Data Assessment ***************************\n",
    "Making sure there are enough incidents for analysis....\n",
    "- There are 25763 valid input features.\n",
    "Looking for locational outliers....\n",
    "- There were 27 outlier locations; these will not be used to compute the hexagon size.\n",
    "**************************** Incident Aggregation ****************************\n",
    "Creating hexagon mesh to use for aggregating incidents....\n",
    "- Using a hexagon of width 3922.5177 Meters and height 3397.0000 Meters\n",
    "Counting the number of incidents in each hexagon....\n",
    "- Analysis is performed on all hexagons containing at least one incident.\n",
    "Evaluating incident counts and number of polygons....\n",
    "- The aggregation process resulted in 78 weighted polygons.\n",
    "- Incident Count Properties:\n",
    "        Min:          1.0000\n",
    "        Max:       3424.0000\n",
    "        Mean:       330.2949\n",
    "        Std. Dev.:  670.8273\n",
    "***************************** Scale of Analysis ******************************\n",
    "Looking for an optimal scale of analysis by assessing the intensity of clustering at increasing distances....\n",
    "- No optimal distance was found using this method.\n",
    "Determining an optimal distance using the spatial distribution of features....\n",
    "- The optimal fixed distance band is based on the average distance to 3 nearest neighbors: 13834.0000 Meters\n",
    "***************************** Hot Spot Analysis ******************************\n",
    "Finding statistically significant clusters of high and low incident counts....\n",
    "- There are 48 output features statistically significant based on an FDR correction for multiple testing and spatial dependence.\n",
    "- 23.1% of features had less than 8 neighbors based on the distance band of 13834.0000 Meters\n",
    "*********************************** Output ***********************************\n",
    "Creating output feature class: C:\\Users\\albe9057\\Documents\\ANieto_SolutionEngineering\\Projects\\MachineLearning\\MarylandCrashPrediction\\Work\\MarylandCrashAnalysis\\MarylandCrashAnalysis.gdb\\BaltimoreCrashData_Projected_OHS_01\n",
    "- Red output features represent hot spots where high incident counts cluster.\n",
    "- Blue output features represent cold spots where low incident counts cluster.\n",
    "Completed script OptimizedHotSpotAnalysis...\n",
    "Succeeded at Tuesday, October 31, 2017 4:18:15 PM (Elapsed Time: 15.19 seconds)"
   ]
  },
  {
   "cell_type": "markdown",
   "metadata": {},
   "source": [
    "<img src=\"doc/img/Baltimore_OHS01.jpg\"></img>\n",
    "\n",
    "<img src=\"doc/img/Baltimore_OHS02.jpg\"></img>\n",
    "\n",
    "<img src=\"doc/img/Baltimore_OHS03.jpg\"></img>"
   ]
  },
  {
   "cell_type": "markdown",
   "metadata": {},
   "source": [
    "## Spatiotemporal Trend Exploration with Emerging Hot Spots"
   ]
  },
  {
   "cell_type": "markdown",
   "metadata": {},
   "source": [
    "#### Run 01: Maryland\n",
    "\n",
    "##### Parameters\n",
    "Input Features\tMaryland Analysis\\MarylandCrashData_Projected\n",
    "Output Space Time Cube\tC:\\Users\\albe9057\\Documents\\ANieto_SolutionEngineering\\Projects\\MachineLearning\\MarylandCrashPrediction\\Work\\STCs\\Maryland_STC_01.nc\n",
    "Time Field\tACCIDENT_DATE\n",
    "Template Cube\t\n",
    "Time Step Interval\t\n",
    "Time Step Alignment\tEND_TIME\n",
    "Reference Time\t\n",
    "Distance Interval\t\n",
    "Summary Fields\t\n",
    "Aggregation Shape Type\tHEXAGON_GRID\n",
    "Defined Polygon Locations\t\n",
    "Location ID\t\n",
    " \n",
    "##### Messages\n",
    "Start Time: Tuesday, October 31, 2017 4:33:28 PM\n",
    "Running script CreateSpaceTimeCube...\n",
    " WARNING 110035: The default Distance Interval is 4125 meters.\n",
    " WARNING 110013: The default Time Step Interval is 4 days.\n",
    "The space time cube has aggregated 117977 points into 7371 hexagon grid locations over 92 time step intervals.  Each location has a height of 4125 meters, a width of 4763.14 meters, sides of 2381.57 meters, and an area of 14735963.51 square meters.  The entire space time cube spans an area 419156.3 meters west to east and 259875 meters north to south.  Each of the time step intervals is 4 days in duration so the entire time period covered by the space time cube is 368 days.  Of the 7371 total locations, 1726 (23.42%) contain at least one point for at least one time step interval.  These 1726 locations comprise 158792 space time bins of which 37613 (23.69%) have point counts greater than zero.  There is a statistically significant increase in point counts over time.\n",
    "\n",
    "---------- Space Time Cube Characteristics -----------\n",
    "Input feature time extent          2016-01-01 00:00:00\n",
    "                                to 2016-12-31 00:00:00\n",
    "                                                      \n",
    "Number of time steps                                92\n",
    "Time step interval                              4 days\n",
    "Time step alignment                                End\n",
    "                                                      \n",
    "First time step temporal bias                   75.00%\n",
    "First time step interval                         after\n",
    "                                   2015-12-29 00:00:00\n",
    "                                       to on or before\n",
    "                                   2016-01-02 00:00:00\n",
    "                                                      \n",
    "Last time step temporal bias                     0.00%\n",
    "Last time step interval                          after\n",
    "                                   2016-12-27 00:00:00\n",
    "                                       to on or before\n",
    "                                   2016-12-31 00:00:00\n",
    "                                                      \n",
    "Cube extent across space       (coordinates in meters)\n",
    "Min X                                       83206.5504\n",
    "Min Y                                     4171536.3384\n",
    "Max X                                      502362.8459\n",
    "Max Y                                     4433473.8384\n",
    "Rows                                                63\n",
    "Columns                                            117\n",
    "Total bins                                      678132\n",
    "\n",
    "------------- Overall Data Trend - COUNT -------------\n",
    "Trend direction                             Increasing\n",
    "Trend statistic                                 3.7341\n",
    "Trend p-value                                   0.0002\n",
    "Completed script CreateSpaceTimeCube...\n",
    "Succeeded at Tuesday, October 31, 2017 4:33:35 PM (Elapsed Time: 6.69 seconds)\n"
   ]
  },
  {
   "cell_type": "markdown",
   "metadata": {},
   "source": [
    "## Approach B: Convert the Maryland Crash data into Distributed GIS Formats (Feature Service, Hosted Layer)"
   ]
  },
  {
   "cell_type": "code",
   "execution_count": null,
   "metadata": {
    "collapsed": true
   },
   "outputs": [],
   "source": []
  },
  {
   "cell_type": "code",
   "execution_count": null,
   "metadata": {
    "collapsed": true
   },
   "outputs": [],
   "source": []
  },
  {
   "cell_type": "code",
   "execution_count": null,
   "metadata": {
    "collapsed": true
   },
   "outputs": [],
   "source": []
  },
  {
   "cell_type": "markdown",
   "metadata": {},
   "source": [
    "# Phase 2: Feature Engineering (Clean, Prepare, & Manipulate Data)"
   ]
  },
  {
   "cell_type": "markdown",
   "metadata": {},
   "source": []
  },
  {
   "cell_type": "code",
   "execution_count": null,
   "metadata": {
    "collapsed": true
   },
   "outputs": [],
   "source": []
  },
  {
   "cell_type": "markdown",
   "metadata": {},
   "source": [
    "# Phase 3: Train Model"
   ]
  },
  {
   "cell_type": "code",
   "execution_count": null,
   "metadata": {
    "collapsed": true
   },
   "outputs": [],
   "source": []
  },
  {
   "cell_type": "markdown",
   "metadata": {},
   "source": [
    "# Phase 4: Test Model Performance"
   ]
  },
  {
   "cell_type": "code",
   "execution_count": null,
   "metadata": {
    "collapsed": true
   },
   "outputs": [],
   "source": []
  },
  {
   "cell_type": "markdown",
   "metadata": {},
   "source": [
    "# Phase 5: Document, Iterate, and Improve"
   ]
  },
  {
   "cell_type": "code",
   "execution_count": null,
   "metadata": {
    "collapsed": true
   },
   "outputs": [],
   "source": []
  }
 ],
 "metadata": {
  "kernelspec": {
   "display_name": "Python 3",
   "language": "python",
   "name": "python3"
  },
  "language_info": {
   "codemirror_mode": {
    "name": "ipython",
    "version": 3
   },
   "file_extension": ".py",
   "mimetype": "text/x-python",
   "name": "python",
   "nbconvert_exporter": "python",
   "pygments_lexer": "ipython3",
   "version": "3.6.1"
  }
 },
 "nbformat": 4,
 "nbformat_minor": 2
}
